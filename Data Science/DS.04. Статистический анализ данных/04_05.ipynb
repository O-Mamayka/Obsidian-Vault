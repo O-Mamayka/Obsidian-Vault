{
 "cells": [
  {
   "cell_type": "code",
   "execution_count": 62,
   "metadata": {
    "deletable": false
   },
   "outputs": [],
   "source": [
    "import pandas as pd"
   ]
  },
  {
   "cell_type": "markdown",
   "metadata": {
    "deletable": false,
    "editable": false
   },
   "source": [
    "### Откройте файл с данными и изучите общую информацию"
   ]
  },
  {
   "cell_type": "markdown",
   "metadata": {
    "deletable": false,
    "editable": false,
    "tags": [
     "start_task"
    ]
   },
   "source": [
    "**Задание 1.** Откройте файл `/datasets/calls.csv`, сохраните датафрейм в переменную `calls`."
   ]
  },
  {
   "cell_type": "code",
   "execution_count": 63,
   "metadata": {
    "deletable": false
   },
   "outputs": [],
   "source": [
    "calls=pd.read_csv('/datasets/calls.csv')"
   ]
  },
  {
   "cell_type": "markdown",
   "metadata": {
    "deletable": false,
    "editable": false,
    "tags": [
     "start_task"
    ]
   },
   "source": [
    "**Задание 2.** Выведите первые 5 строк датафрейма `calls`."
   ]
  },
  {
   "cell_type": "code",
   "execution_count": 64,
   "metadata": {
    "deletable": false
   },
   "outputs": [
    {
     "data": {
      "text/html": [
       "<div>\n",
       "<style scoped>\n",
       "    .dataframe tbody tr th:only-of-type {\n",
       "        vertical-align: middle;\n",
       "    }\n",
       "\n",
       "    .dataframe tbody tr th {\n",
       "        vertical-align: top;\n",
       "    }\n",
       "\n",
       "    .dataframe thead th {\n",
       "        text-align: right;\n",
       "    }\n",
       "</style>\n",
       "<table border=\"1\" class=\"dataframe\">\n",
       "  <thead>\n",
       "    <tr style=\"text-align: right;\">\n",
       "      <th></th>\n",
       "      <th>id</th>\n",
       "      <th>call_date</th>\n",
       "      <th>duration</th>\n",
       "      <th>user_id</th>\n",
       "    </tr>\n",
       "  </thead>\n",
       "  <tbody>\n",
       "    <tr>\n",
       "      <th>0</th>\n",
       "      <td>1000_0</td>\n",
       "      <td>2018-07-25</td>\n",
       "      <td>0.00</td>\n",
       "      <td>1000</td>\n",
       "    </tr>\n",
       "    <tr>\n",
       "      <th>1</th>\n",
       "      <td>1000_1</td>\n",
       "      <td>2018-08-17</td>\n",
       "      <td>0.00</td>\n",
       "      <td>1000</td>\n",
       "    </tr>\n",
       "    <tr>\n",
       "      <th>2</th>\n",
       "      <td>1000_2</td>\n",
       "      <td>2018-06-11</td>\n",
       "      <td>2.85</td>\n",
       "      <td>1000</td>\n",
       "    </tr>\n",
       "    <tr>\n",
       "      <th>3</th>\n",
       "      <td>1000_3</td>\n",
       "      <td>2018-09-21</td>\n",
       "      <td>13.80</td>\n",
       "      <td>1000</td>\n",
       "    </tr>\n",
       "    <tr>\n",
       "      <th>4</th>\n",
       "      <td>1000_4</td>\n",
       "      <td>2018-12-15</td>\n",
       "      <td>5.18</td>\n",
       "      <td>1000</td>\n",
       "    </tr>\n",
       "  </tbody>\n",
       "</table>\n",
       "</div>"
      ],
      "text/plain": [
       "       id   call_date  duration  user_id\n",
       "0  1000_0  2018-07-25      0.00     1000\n",
       "1  1000_1  2018-08-17      0.00     1000\n",
       "2  1000_2  2018-06-11      2.85     1000\n",
       "3  1000_3  2018-09-21     13.80     1000\n",
       "4  1000_4  2018-12-15      5.18     1000"
      ]
     },
     "execution_count": 64,
     "metadata": {},
     "output_type": "execute_result"
    }
   ],
   "source": [
    "calls.head()"
   ]
  },
  {
   "cell_type": "markdown",
   "metadata": {
    "deletable": false,
    "editable": false,
    "tags": [
     "start_task"
    ]
   },
   "source": [
    "**Задание 3.** Выведите основную информацию для датафрейма `calls` с помощью метода `info()`."
   ]
  },
  {
   "cell_type": "code",
   "execution_count": 65,
   "metadata": {
    "deletable": false
   },
   "outputs": [
    {
     "name": "stdout",
     "output_type": "stream",
     "text": [
      "<class 'pandas.core.frame.DataFrame'>\n",
      "RangeIndex: 202607 entries, 0 to 202606\n",
      "Data columns (total 4 columns):\n",
      " #   Column     Non-Null Count   Dtype  \n",
      "---  ------     --------------   -----  \n",
      " 0   id         202607 non-null  object \n",
      " 1   call_date  202607 non-null  object \n",
      " 2   duration   202607 non-null  float64\n",
      " 3   user_id    202607 non-null  int64  \n",
      "dtypes: float64(1), int64(1), object(2)\n",
      "memory usage: 6.2+ MB\n"
     ]
    }
   ],
   "source": [
    "calls.info()"
   ]
  },
  {
   "cell_type": "markdown",
   "metadata": {
    "deletable": false,
    "editable": false,
    "tags": [
     "start_task"
    ]
   },
   "source": [
    "**Задание 4.** С помощью метода `hist()` выведите гистограмму для столбца с продолжительностью звонков. Подумайте о том, как распределены данные."
   ]
  },
  {
   "cell_type": "code",
   "execution_count": 66,
   "metadata": {
    "deletable": false
   },
   "outputs": [
    {
     "data": {
      "text/plain": [
       "<AxesSubplot:>"
      ]
     },
     "execution_count": 66,
     "metadata": {},
     "output_type": "execute_result"
    },
    {
     "data": {
      "image/png": "[encoded data removed]",
      "text/plain": [
       "<Figure size 432x288 with 1 Axes>"
      ]
     },
     "metadata": {
      "needs_background": "light"
     },
     "output_type": "display_data"
    }
   ],
   "source": [
    "calls.duration.hist(bins=100)"
   ]
  },
  {
   "cell_type": "markdown",
   "metadata": {
    "deletable": false,
    "editable": false,
    "tags": [
     "start_task"
    ]
   },
   "source": [
    "**Задание 5.** Откройте файл `/datasets/internet.csv`, сохраните датафрейм в переменную `sessions`."
   ]
  },
  {
   "cell_type": "code",
   "execution_count": 67,
   "metadata": {
    "deletable": false
   },
   "outputs": [],
   "source": [
    "sessions=pd.read_csv('/datasets/internet.csv')"
   ]
  },
  {
   "cell_type": "markdown",
   "metadata": {
    "deletable": false,
    "editable": false,
    "tags": [
     "start_task"
    ]
   },
   "source": [
    "**Задание 6.** Выведите первые 5 строк датафрейма `sessions`."
   ]
  },
  {
   "cell_type": "code",
   "execution_count": 68,
   "metadata": {
    "deletable": false
   },
   "outputs": [
    {
     "data": {
      "text/html": [
       "<div>\n",
       "<style scoped>\n",
       "    .dataframe tbody tr th:only-of-type {\n",
       "        vertical-align: middle;\n",
       "    }\n",
       "\n",
       "    .dataframe tbody tr th {\n",
       "        vertical-align: top;\n",
       "    }\n",
       "\n",
       "    .dataframe thead th {\n",
       "        text-align: right;\n",
       "    }\n",
       "</style>\n",
       "<table border=\"1\" class=\"dataframe\">\n",
       "  <thead>\n",
       "    <tr style=\"text-align: right;\">\n",
       "      <th></th>\n",
       "      <th>Unnamed: 0</th>\n",
       "      <th>id</th>\n",
       "      <th>mb_used</th>\n",
       "      <th>session_date</th>\n",
       "      <th>user_id</th>\n",
       "    </tr>\n",
       "  </thead>\n",
       "  <tbody>\n",
       "    <tr>\n",
       "      <th>0</th>\n",
       "      <td>0</td>\n",
       "      <td>1000_0</td>\n",
       "      <td>112.95</td>\n",
       "      <td>2018-11-25</td>\n",
       "      <td>1000</td>\n",
       "    </tr>\n",
       "    <tr>\n",
       "      <th>1</th>\n",
       "      <td>1</td>\n",
       "      <td>1000_1</td>\n",
       "      <td>1052.81</td>\n",
       "      <td>2018-09-07</td>\n",
       "      <td>1000</td>\n",
       "    </tr>\n",
       "    <tr>\n",
       "      <th>2</th>\n",
       "      <td>2</td>\n",
       "      <td>1000_2</td>\n",
       "      <td>1197.26</td>\n",
       "      <td>2018-06-25</td>\n",
       "      <td>1000</td>\n",
       "    </tr>\n",
       "    <tr>\n",
       "      <th>3</th>\n",
       "      <td>3</td>\n",
       "      <td>1000_3</td>\n",
       "      <td>550.27</td>\n",
       "      <td>2018-08-22</td>\n",
       "      <td>1000</td>\n",
       "    </tr>\n",
       "    <tr>\n",
       "      <th>4</th>\n",
       "      <td>4</td>\n",
       "      <td>1000_4</td>\n",
       "      <td>302.56</td>\n",
       "      <td>2018-09-24</td>\n",
       "      <td>1000</td>\n",
       "    </tr>\n",
       "  </tbody>\n",
       "</table>\n",
       "</div>"
      ],
      "text/plain": [
       "   Unnamed: 0      id  mb_used session_date  user_id\n",
       "0           0  1000_0   112.95   2018-11-25     1000\n",
       "1           1  1000_1  1052.81   2018-09-07     1000\n",
       "2           2  1000_2  1197.26   2018-06-25     1000\n",
       "3           3  1000_3   550.27   2018-08-22     1000\n",
       "4           4  1000_4   302.56   2018-09-24     1000"
      ]
     },
     "execution_count": 68,
     "metadata": {},
     "output_type": "execute_result"
    }
   ],
   "source": [
    "sessions.head()"
   ]
  },
  {
   "cell_type": "markdown",
   "metadata": {
    "deletable": false,
    "editable": false,
    "tags": [
     "start_task"
    ]
   },
   "source": [
    "**Задание 7.** Выведите основную информацию для датафрейма sessions с помощью метода `info()`. "
   ]
  },
  {
   "cell_type": "code",
   "execution_count": 69,
   "metadata": {
    "deletable": false
   },
   "outputs": [
    {
     "name": "stdout",
     "output_type": "stream",
     "text": [
      "<class 'pandas.core.frame.DataFrame'>\n",
      "RangeIndex: 149396 entries, 0 to 149395\n",
      "Data columns (total 5 columns):\n",
      " #   Column        Non-Null Count   Dtype  \n",
      "---  ------        --------------   -----  \n",
      " 0   Unnamed: 0    149396 non-null  int64  \n",
      " 1   id            149396 non-null  object \n",
      " 2   mb_used       149396 non-null  float64\n",
      " 3   session_date  149396 non-null  object \n",
      " 4   user_id       149396 non-null  int64  \n",
      "dtypes: float64(1), int64(2), object(2)\n",
      "memory usage: 5.7+ MB\n"
     ]
    }
   ],
   "source": [
    "sessions.info()"
   ]
  },
  {
   "cell_type": "markdown",
   "metadata": {
    "deletable": false,
    "editable": false,
    "tags": [
     "start_task"
    ]
   },
   "source": [
    "**Задание 8.** С помощью метода `hist()` выведите гистограмму для столбца с количеством потраченных мегабайт."
   ]
  },
  {
   "cell_type": "code",
   "execution_count": 70,
   "metadata": {
    "deletable": false
   },
   "outputs": [
    {
     "data": {
      "text/plain": [
       "<AxesSubplot:>"
      ]
     },
     "execution_count": 70,
     "metadata": {},
     "output_type": "execute_result"
    },
    {
     "data": {
      "image/png": "[encoded data removed]",
      "text/plain": [
       "<Figure size 432x288 with 1 Axes>"
      ]
     },
     "metadata": {
      "needs_background": "light"
     },
     "output_type": "display_data"
    }
   ],
   "source": [
    "sessions.mb_used.hist(bins=50)"
   ]
  },
  {
   "cell_type": "markdown",
   "metadata": {
    "deletable": false,
    "editable": false,
    "tags": [
     "start_task"
    ]
   },
   "source": [
    "**Задание 9.** Откройте файл `/datasets/messages.csv`, сохраните датафрейм в переменную `messages`."
   ]
  },
  {
   "cell_type": "code",
   "execution_count": 71,
   "metadata": {
    "deletable": false
   },
   "outputs": [],
   "source": [
    "messages=pd.read_csv('/datasets/messages.csv')"
   ]
  },
  {
   "cell_type": "markdown",
   "metadata": {
    "deletable": false,
    "editable": false,
    "tags": [
     "start_task"
    ]
   },
   "source": [
    "**Задание 10.** Выведите первые 5 строк датафрейма `messages`."
   ]
  },
  {
   "cell_type": "code",
   "execution_count": 72,
   "metadata": {
    "deletable": false
   },
   "outputs": [
    {
     "data": {
      "text/html": [
       "<div>\n",
       "<style scoped>\n",
       "    .dataframe tbody tr th:only-of-type {\n",
       "        vertical-align: middle;\n",
       "    }\n",
       "\n",
       "    .dataframe tbody tr th {\n",
       "        vertical-align: top;\n",
       "    }\n",
       "\n",
       "    .dataframe thead th {\n",
       "        text-align: right;\n",
       "    }\n",
       "</style>\n",
       "<table border=\"1\" class=\"dataframe\">\n",
       "  <thead>\n",
       "    <tr style=\"text-align: right;\">\n",
       "      <th></th>\n",
       "      <th>id</th>\n",
       "      <th>message_date</th>\n",
       "      <th>user_id</th>\n",
       "    </tr>\n",
       "  </thead>\n",
       "  <tbody>\n",
       "    <tr>\n",
       "      <th>0</th>\n",
       "      <td>1000_0</td>\n",
       "      <td>2018-06-27</td>\n",
       "      <td>1000</td>\n",
       "    </tr>\n",
       "    <tr>\n",
       "      <th>1</th>\n",
       "      <td>1000_1</td>\n",
       "      <td>2018-10-08</td>\n",
       "      <td>1000</td>\n",
       "    </tr>\n",
       "    <tr>\n",
       "      <th>2</th>\n",
       "      <td>1000_2</td>\n",
       "      <td>2018-08-04</td>\n",
       "      <td>1000</td>\n",
       "    </tr>\n",
       "    <tr>\n",
       "      <th>3</th>\n",
       "      <td>1000_3</td>\n",
       "      <td>2018-06-16</td>\n",
       "      <td>1000</td>\n",
       "    </tr>\n",
       "    <tr>\n",
       "      <th>4</th>\n",
       "      <td>1000_4</td>\n",
       "      <td>2018-12-05</td>\n",
       "      <td>1000</td>\n",
       "    </tr>\n",
       "  </tbody>\n",
       "</table>\n",
       "</div>"
      ],
      "text/plain": [
       "       id message_date  user_id\n",
       "0  1000_0   2018-06-27     1000\n",
       "1  1000_1   2018-10-08     1000\n",
       "2  1000_2   2018-08-04     1000\n",
       "3  1000_3   2018-06-16     1000\n",
       "4  1000_4   2018-12-05     1000"
      ]
     },
     "execution_count": 72,
     "metadata": {},
     "output_type": "execute_result"
    }
   ],
   "source": [
    "messages.head()"
   ]
  },
  {
   "cell_type": "markdown",
   "metadata": {
    "deletable": false,
    "editable": false,
    "tags": [
     "start_task"
    ]
   },
   "source": [
    "**Задание 11.** Выведите основную информацию для датафрейма `messages` с помощью метода `info()`. "
   ]
  },
  {
   "cell_type": "code",
   "execution_count": 73,
   "metadata": {
    "deletable": false
   },
   "outputs": [
    {
     "name": "stdout",
     "output_type": "stream",
     "text": [
      "<class 'pandas.core.frame.DataFrame'>\n",
      "RangeIndex: 123036 entries, 0 to 123035\n",
      "Data columns (total 3 columns):\n",
      " #   Column        Non-Null Count   Dtype \n",
      "---  ------        --------------   ----- \n",
      " 0   id            123036 non-null  object\n",
      " 1   message_date  123036 non-null  object\n",
      " 2   user_id       123036 non-null  int64 \n",
      "dtypes: int64(1), object(2)\n",
      "memory usage: 2.8+ MB\n"
     ]
    }
   ],
   "source": [
    "messages.info()"
   ]
  },
  {
   "cell_type": "markdown",
   "metadata": {
    "deletable": false,
    "editable": false,
    "tags": [
     "start_task"
    ]
   },
   "source": [
    "**Задание 12.** Откройте файл `/datasets/tariffs.csv`, сохраните датафрейм в переменную `tariffs`."
   ]
  },
  {
   "cell_type": "code",
   "execution_count": 74,
   "metadata": {
    "deletable": false
   },
   "outputs": [],
   "source": [
    "tariffs=pd.read_csv('/datasets/tariffs.csv')"
   ]
  },
  {
   "cell_type": "markdown",
   "metadata": {
    "deletable": false,
    "editable": false,
    "tags": [
     "start_task"
    ]
   },
   "source": [
    "**Задание 13.** Выведите весь датафрейм `tariffs`."
   ]
  },
  {
   "cell_type": "code",
   "execution_count": 75,
   "metadata": {
    "deletable": false
   },
   "outputs": [
    {
     "data": {
      "text/html": [
       "<div>\n",
       "<style scoped>\n",
       "    .dataframe tbody tr th:only-of-type {\n",
       "        vertical-align: middle;\n",
       "    }\n",
       "\n",
       "    .dataframe tbody tr th {\n",
       "        vertical-align: top;\n",
       "    }\n",
       "\n",
       "    .dataframe thead th {\n",
       "        text-align: right;\n",
       "    }\n",
       "</style>\n",
       "<table border=\"1\" class=\"dataframe\">\n",
       "  <thead>\n",
       "    <tr style=\"text-align: right;\">\n",
       "      <th></th>\n",
       "      <th>messages_included</th>\n",
       "      <th>mb_per_month_included</th>\n",
       "      <th>minutes_included</th>\n",
       "      <th>rub_monthly_fee</th>\n",
       "      <th>rub_per_gb</th>\n",
       "      <th>rub_per_message</th>\n",
       "      <th>rub_per_minute</th>\n",
       "      <th>tariff_name</th>\n",
       "    </tr>\n",
       "  </thead>\n",
       "  <tbody>\n",
       "    <tr>\n",
       "      <th>0</th>\n",
       "      <td>50</td>\n",
       "      <td>15360</td>\n",
       "      <td>500</td>\n",
       "      <td>550</td>\n",
       "      <td>200</td>\n",
       "      <td>3</td>\n",
       "      <td>3</td>\n",
       "      <td>smart</td>\n",
       "    </tr>\n",
       "    <tr>\n",
       "      <th>1</th>\n",
       "      <td>1000</td>\n",
       "      <td>30720</td>\n",
       "      <td>3000</td>\n",
       "      <td>1950</td>\n",
       "      <td>150</td>\n",
       "      <td>1</td>\n",
       "      <td>1</td>\n",
       "      <td>ultra</td>\n",
       "    </tr>\n",
       "  </tbody>\n",
       "</table>\n",
       "</div>"
      ],
      "text/plain": [
       "   messages_included  mb_per_month_included  minutes_included  \\\n",
       "0                 50                  15360               500   \n",
       "1               1000                  30720              3000   \n",
       "\n",
       "   rub_monthly_fee  rub_per_gb  rub_per_message  rub_per_minute tariff_name  \n",
       "0              550         200                3               3       smart  \n",
       "1             1950         150                1               1       ultra  "
      ]
     },
     "execution_count": 75,
     "metadata": {},
     "output_type": "execute_result"
    }
   ],
   "source": [
    "tariffs.head()"
   ]
  },
  {
   "cell_type": "markdown",
   "metadata": {
    "deletable": false,
    "editable": false,
    "tags": [
     "start_task"
    ]
   },
   "source": [
    "**Задание 14.** Выведите основную информацию для датафрейма `tariffs` с помощью метода `info()`."
   ]
  },
  {
   "cell_type": "code",
   "execution_count": 76,
   "metadata": {
    "deletable": false
   },
   "outputs": [
    {
     "name": "stdout",
     "output_type": "stream",
     "text": [
      "<class 'pandas.core.frame.DataFrame'>\n",
      "RangeIndex: 2 entries, 0 to 1\n",
      "Data columns (total 8 columns):\n",
      " #   Column                 Non-Null Count  Dtype \n",
      "---  ------                 --------------  ----- \n",
      " 0   messages_included      2 non-null      int64 \n",
      " 1   mb_per_month_included  2 non-null      int64 \n",
      " 2   minutes_included       2 non-null      int64 \n",
      " 3   rub_monthly_fee        2 non-null      int64 \n",
      " 4   rub_per_gb             2 non-null      int64 \n",
      " 5   rub_per_message        2 non-null      int64 \n",
      " 6   rub_per_minute         2 non-null      int64 \n",
      " 7   tariff_name            2 non-null      object\n",
      "dtypes: int64(7), object(1)\n",
      "memory usage: 256.0+ bytes\n"
     ]
    }
   ],
   "source": [
    "tariffs.info()"
   ]
  },
  {
   "cell_type": "markdown",
   "metadata": {
    "deletable": false,
    "editable": false,
    "tags": [
     "start_task"
    ]
   },
   "source": [
    "**Задание 15.** Откройте файл `/datasets/users.csv`, сохраните датафрейм в переменную `users`."
   ]
  },
  {
   "cell_type": "code",
   "execution_count": 77,
   "metadata": {
    "deletable": false
   },
   "outputs": [],
   "source": [
    "users=pd.read_csv('/datasets/users.csv')"
   ]
  },
  {
   "cell_type": "markdown",
   "metadata": {
    "deletable": false,
    "editable": false,
    "tags": [
     "start_task"
    ]
   },
   "source": [
    "**Задание 16.** Выведите первые 5 строк датафрейма `users`."
   ]
  },
  {
   "cell_type": "code",
   "execution_count": 78,
   "metadata": {
    "deletable": false
   },
   "outputs": [
    {
     "data": {
      "text/html": [
       "<div>\n",
       "<style scoped>\n",
       "    .dataframe tbody tr th:only-of-type {\n",
       "        vertical-align: middle;\n",
       "    }\n",
       "\n",
       "    .dataframe tbody tr th {\n",
       "        vertical-align: top;\n",
       "    }\n",
       "\n",
       "    .dataframe thead th {\n",
       "        text-align: right;\n",
       "    }\n",
       "</style>\n",
       "<table border=\"1\" class=\"dataframe\">\n",
       "  <thead>\n",
       "    <tr style=\"text-align: right;\">\n",
       "      <th></th>\n",
       "      <th>user_id</th>\n",
       "      <th>age</th>\n",
       "      <th>churn_date</th>\n",
       "      <th>city</th>\n",
       "      <th>first_name</th>\n",
       "      <th>last_name</th>\n",
       "      <th>reg_date</th>\n",
       "      <th>tariff</th>\n",
       "    </tr>\n",
       "  </thead>\n",
       "  <tbody>\n",
       "    <tr>\n",
       "      <th>0</th>\n",
       "      <td>1000</td>\n",
       "      <td>52</td>\n",
       "      <td>NaN</td>\n",
       "      <td>Краснодар</td>\n",
       "      <td>Рафаил</td>\n",
       "      <td>Верещагин</td>\n",
       "      <td>2018-05-25</td>\n",
       "      <td>ultra</td>\n",
       "    </tr>\n",
       "    <tr>\n",
       "      <th>1</th>\n",
       "      <td>1001</td>\n",
       "      <td>41</td>\n",
       "      <td>NaN</td>\n",
       "      <td>Москва</td>\n",
       "      <td>Иван</td>\n",
       "      <td>Ежов</td>\n",
       "      <td>2018-11-01</td>\n",
       "      <td>smart</td>\n",
       "    </tr>\n",
       "    <tr>\n",
       "      <th>2</th>\n",
       "      <td>1002</td>\n",
       "      <td>59</td>\n",
       "      <td>NaN</td>\n",
       "      <td>Стерлитамак</td>\n",
       "      <td>Евгений</td>\n",
       "      <td>Абрамович</td>\n",
       "      <td>2018-06-17</td>\n",
       "      <td>smart</td>\n",
       "    </tr>\n",
       "    <tr>\n",
       "      <th>3</th>\n",
       "      <td>1003</td>\n",
       "      <td>23</td>\n",
       "      <td>NaN</td>\n",
       "      <td>Москва</td>\n",
       "      <td>Белла</td>\n",
       "      <td>Белякова</td>\n",
       "      <td>2018-08-17</td>\n",
       "      <td>ultra</td>\n",
       "    </tr>\n",
       "    <tr>\n",
       "      <th>4</th>\n",
       "      <td>1004</td>\n",
       "      <td>68</td>\n",
       "      <td>NaN</td>\n",
       "      <td>Новокузнецк</td>\n",
       "      <td>Татьяна</td>\n",
       "      <td>Авдеенко</td>\n",
       "      <td>2018-05-14</td>\n",
       "      <td>ultra</td>\n",
       "    </tr>\n",
       "  </tbody>\n",
       "</table>\n",
       "</div>"
      ],
      "text/plain": [
       "   user_id  age churn_date         city first_name  last_name    reg_date  \\\n",
       "0     1000   52        NaN    Краснодар     Рафаил  Верещагин  2018-05-25   \n",
       "1     1001   41        NaN       Москва       Иван       Ежов  2018-11-01   \n",
       "2     1002   59        NaN  Стерлитамак    Евгений  Абрамович  2018-06-17   \n",
       "3     1003   23        NaN       Москва      Белла   Белякова  2018-08-17   \n",
       "4     1004   68        NaN  Новокузнецк    Татьяна   Авдеенко  2018-05-14   \n",
       "\n",
       "  tariff  \n",
       "0  ultra  \n",
       "1  smart  \n",
       "2  smart  \n",
       "3  ultra  \n",
       "4  ultra  "
      ]
     },
     "execution_count": 78,
     "metadata": {},
     "output_type": "execute_result"
    }
   ],
   "source": [
    "users.head()"
   ]
  },
  {
   "cell_type": "markdown",
   "metadata": {
    "deletable": false,
    "editable": false,
    "tags": [
     "start_task"
    ]
   },
   "source": [
    "**Задание 17.** Выведите основную информацию для датафрейма `users` с помощью метода `info()`."
   ]
  },
  {
   "cell_type": "code",
   "execution_count": 79,
   "metadata": {
    "deletable": false
   },
   "outputs": [
    {
     "name": "stdout",
     "output_type": "stream",
     "text": [
      "<class 'pandas.core.frame.DataFrame'>\n",
      "RangeIndex: 500 entries, 0 to 499\n",
      "Data columns (total 8 columns):\n",
      " #   Column      Non-Null Count  Dtype \n",
      "---  ------      --------------  ----- \n",
      " 0   user_id     500 non-null    int64 \n",
      " 1   age         500 non-null    int64 \n",
      " 2   churn_date  38 non-null     object\n",
      " 3   city        500 non-null    object\n",
      " 4   first_name  500 non-null    object\n",
      " 5   last_name   500 non-null    object\n",
      " 6   reg_date    500 non-null    object\n",
      " 7   tariff      500 non-null    object\n",
      "dtypes: int64(2), object(6)\n",
      "memory usage: 31.4+ KB\n"
     ]
    }
   ],
   "source": [
    "users.info()"
   ]
  },
  {
   "cell_type": "markdown",
   "metadata": {
    "deletable": false,
    "editable": false
   },
   "source": [
    "### Подготовьте данные"
   ]
  },
  {
   "cell_type": "markdown",
   "metadata": {
    "deletable": false,
    "editable": false,
    "tags": [
     "start_task"
    ]
   },
   "source": [
    "**Задание 18.**  Приведите столбцы\n",
    "\n",
    "- `reg_date` из таблицы `users`\n",
    "- `churn_date` из таблицы `users`\n",
    "- `call_date` из таблицы `calls`\n",
    "- `message_date` из таблицы `messages`\n",
    "- `session_date` из таблицы `sessions`\n",
    "\n",
    "к новому типу с помощью метода `to_datetime()`."
   ]
  },
  {
   "cell_type": "code",
   "execution_count": 80,
   "metadata": {},
   "outputs": [],
   "source": [
    "#users['churn_date'] = users['churn_date'].fillna('2050-01-01')"
   ]
  },
  {
   "cell_type": "code",
   "execution_count": 81,
   "metadata": {
    "deletable": false
   },
   "outputs": [],
   "source": [
    "users['reg_date'] = pd.to_datetime(users['reg_date'], format='%Y-%m-%d')# обработка столбца reg_date\n",
    "users['churn_date'] = pd.to_datetime(users['churn_date'], format='%Y-%m-%d')# обработка столбца churn_date\n",
    "calls['call_date'] = pd.to_datetime(calls['call_date'], format='%Y-%m-%d') # обработка столбца call_date\n",
    "messages['message_date'] = pd.to_datetime(messages['message_date'], format='%Y-%m-%d')  # обработка столбца message_date\n",
    "sessions['session_date'] = pd.to_datetime(sessions['session_date'], format='%Y-%m-%d') # обработка столбца session_date"
   ]
  },
  {
   "cell_type": "markdown",
   "metadata": {
    "deletable": false,
    "editable": false,
    "tags": [
     "start_task"
    ]
   },
   "source": [
    "**Задание 19.** В данных вы найдёте звонки с нулевой продолжительностью. Это не ошибка: нулями обозначены пропущенные звонки, поэтому их не нужно удалять.\n",
    "\n",
    "Однако в столбце `duration` датафрейма `calls` значения дробные. Округлите значения столбца `duration` вверх с помощью метода `numpy.ceil()` и приведите столбец `duration` к типу `int`."
   ]
  },
  {
   "cell_type": "code",
   "execution_count": 82,
   "metadata": {
    "deletable": false
   },
   "outputs": [],
   "source": [
    "import numpy as np\n",
    "\n",
    "calls['duration']=(np.ceil(calls['duration'])).astype('int') # округление значений столбца duration с помощью np.ceil() и приведение типа к in"
   ]
  },
  {
   "cell_type": "markdown",
   "metadata": {
    "deletable": false,
    "editable": false,
    "tags": [
     "start_task"
    ]
   },
   "source": [
    "**Задание 20.** Удалите столбец `Unnamed: 0` из датафрейма `sessions`. Столбец с таким названием возникает, когда данные сохраняют с указанием индекса (`df.to_csv(..., index=column)`). Он сейчас не понадобится."
   ]
  },
  {
   "cell_type": "code",
   "execution_count": 83,
   "metadata": {},
   "outputs": [],
   "source": [
    "del(sessions['Unnamed: 0'])"
   ]
  },
  {
   "cell_type": "markdown",
   "metadata": {
    "deletable": false,
    "editable": false,
    "tags": [
     "start_task"
    ]
   },
   "source": [
    "**Задание 21.** Создайте столбец `month` в датафрейме `calls` с номером месяца из столбца `call_date`."
   ]
  },
  {
   "cell_type": "code",
   "execution_count": 84,
   "metadata": {
    "deletable": false
   },
   "outputs": [],
   "source": [
    "calls['month']=pd.DatetimeIndex(calls['call_date']).month"
   ]
  },
  {
   "cell_type": "markdown",
   "metadata": {
    "deletable": false,
    "editable": false,
    "tags": [
     "start_task"
    ]
   },
   "source": [
    "**Задание 22.** Создайте столбец `month` в датафрейме `messages` с номером месяца из столбца `message_date`."
   ]
  },
  {
   "cell_type": "code",
   "execution_count": 85,
   "metadata": {
    "deletable": false
   },
   "outputs": [],
   "source": [
    "messages['month']=pd.DatetimeIndex(messages['message_date']).month"
   ]
  },
  {
   "cell_type": "markdown",
   "metadata": {
    "deletable": false,
    "editable": false,
    "tags": [
     "start_task"
    ]
   },
   "source": [
    "**Задание 23.** Создайте столбец `month` в датафрейме `sessions` с номером месяца из столбца `session_date`."
   ]
  },
  {
   "cell_type": "code",
   "execution_count": 86,
   "metadata": {
    "deletable": false
   },
   "outputs": [],
   "source": [
    "sessions['month']=pd.DatetimeIndex(sessions['session_date']).month"
   ]
  },
  {
   "cell_type": "markdown",
   "metadata": {
    "deletable": false,
    "editable": false,
    "tags": [
     "start_task"
    ]
   },
   "source": [
    "**Задание 24.** Посчитайте количество сделанных звонков разговора для каждого пользователя по месяцам."
   ]
  },
  {
   "cell_type": "code",
   "execution_count": 91,
   "metadata": {
    "deletable": false
   },
   "outputs": [],
   "source": [
    "# подсчёт количества звонков для каждого пользователя по месяцам\n",
    "calls_per_month = calls.groupby(by=['user_id','month']).agg(calls=('duration', 'count'))#.reset_index()\n"
   ]
  },
  {
   "cell_type": "code",
   "execution_count": 27,
   "metadata": {
    "deletable": false
   },
   "outputs": [],
   "source": [
    "#calls_per_month.index=calls_per_month['user_id']\n",
    "#del(calls_per_month['user_id'])\n",
    "#calls_per_month=calls.pivot_table(index=['user_id'], columns='month', values='id', aggfunc='count')"
   ]
  },
  {
   "cell_type": "code",
   "execution_count": 92,
   "metadata": {
    "deletable": false
   },
   "outputs": [
    {
     "data": {
      "text/html": [
       "<div>\n",
       "<style scoped>\n",
       "    .dataframe tbody tr th:only-of-type {\n",
       "        vertical-align: middle;\n",
       "    }\n",
       "\n",
       "    .dataframe tbody tr th {\n",
       "        vertical-align: top;\n",
       "    }\n",
       "\n",
       "    .dataframe thead th {\n",
       "        text-align: right;\n",
       "    }\n",
       "</style>\n",
       "<table border=\"1\" class=\"dataframe\">\n",
       "  <thead>\n",
       "    <tr style=\"text-align: right;\">\n",
       "      <th></th>\n",
       "      <th></th>\n",
       "      <th>calls</th>\n",
       "    </tr>\n",
       "    <tr>\n",
       "      <th>user_id</th>\n",
       "      <th>month</th>\n",
       "      <th></th>\n",
       "    </tr>\n",
       "  </thead>\n",
       "  <tbody>\n",
       "    <tr>\n",
       "      <th rowspan=\"8\" valign=\"top\">1000</th>\n",
       "      <th>5</th>\n",
       "      <td>22</td>\n",
       "    </tr>\n",
       "    <tr>\n",
       "      <th>6</th>\n",
       "      <td>43</td>\n",
       "    </tr>\n",
       "    <tr>\n",
       "      <th>7</th>\n",
       "      <td>47</td>\n",
       "    </tr>\n",
       "    <tr>\n",
       "      <th>8</th>\n",
       "      <td>52</td>\n",
       "    </tr>\n",
       "    <tr>\n",
       "      <th>9</th>\n",
       "      <td>58</td>\n",
       "    </tr>\n",
       "    <tr>\n",
       "      <th>10</th>\n",
       "      <td>57</td>\n",
       "    </tr>\n",
       "    <tr>\n",
       "      <th>11</th>\n",
       "      <td>43</td>\n",
       "    </tr>\n",
       "    <tr>\n",
       "      <th>12</th>\n",
       "      <td>46</td>\n",
       "    </tr>\n",
       "    <tr>\n",
       "      <th rowspan=\"2\" valign=\"top\">1001</th>\n",
       "      <th>11</th>\n",
       "      <td>59</td>\n",
       "    </tr>\n",
       "    <tr>\n",
       "      <th>12</th>\n",
       "      <td>63</td>\n",
       "    </tr>\n",
       "    <tr>\n",
       "      <th rowspan=\"7\" valign=\"top\">1002</th>\n",
       "      <th>6</th>\n",
       "      <td>15</td>\n",
       "    </tr>\n",
       "    <tr>\n",
       "      <th>7</th>\n",
       "      <td>26</td>\n",
       "    </tr>\n",
       "    <tr>\n",
       "      <th>8</th>\n",
       "      <td>42</td>\n",
       "    </tr>\n",
       "    <tr>\n",
       "      <th>9</th>\n",
       "      <td>36</td>\n",
       "    </tr>\n",
       "    <tr>\n",
       "      <th>10</th>\n",
       "      <td>33</td>\n",
       "    </tr>\n",
       "    <tr>\n",
       "      <th>11</th>\n",
       "      <td>32</td>\n",
       "    </tr>\n",
       "    <tr>\n",
       "      <th>12</th>\n",
       "      <td>33</td>\n",
       "    </tr>\n",
       "    <tr>\n",
       "      <th rowspan=\"5\" valign=\"top\">1003</th>\n",
       "      <th>8</th>\n",
       "      <td>55</td>\n",
       "    </tr>\n",
       "    <tr>\n",
       "      <th>9</th>\n",
       "      <td>134</td>\n",
       "    </tr>\n",
       "    <tr>\n",
       "      <th>10</th>\n",
       "      <td>108</td>\n",
       "    </tr>\n",
       "    <tr>\n",
       "      <th>11</th>\n",
       "      <td>115</td>\n",
       "    </tr>\n",
       "    <tr>\n",
       "      <th>12</th>\n",
       "      <td>108</td>\n",
       "    </tr>\n",
       "    <tr>\n",
       "      <th rowspan=\"8\" valign=\"top\">1004</th>\n",
       "      <th>5</th>\n",
       "      <td>9</td>\n",
       "    </tr>\n",
       "    <tr>\n",
       "      <th>6</th>\n",
       "      <td>31</td>\n",
       "    </tr>\n",
       "    <tr>\n",
       "      <th>7</th>\n",
       "      <td>22</td>\n",
       "    </tr>\n",
       "    <tr>\n",
       "      <th>8</th>\n",
       "      <td>19</td>\n",
       "    </tr>\n",
       "    <tr>\n",
       "      <th>9</th>\n",
       "      <td>26</td>\n",
       "    </tr>\n",
       "    <tr>\n",
       "      <th>10</th>\n",
       "      <td>29</td>\n",
       "    </tr>\n",
       "    <tr>\n",
       "      <th>11</th>\n",
       "      <td>19</td>\n",
       "    </tr>\n",
       "    <tr>\n",
       "      <th>12</th>\n",
       "      <td>21</td>\n",
       "    </tr>\n",
       "  </tbody>\n",
       "</table>\n",
       "</div>"
      ],
      "text/plain": [
       "               calls\n",
       "user_id month       \n",
       "1000    5         22\n",
       "        6         43\n",
       "        7         47\n",
       "        8         52\n",
       "        9         58\n",
       "        10        57\n",
       "        11        43\n",
       "        12        46\n",
       "1001    11        59\n",
       "        12        63\n",
       "1002    6         15\n",
       "        7         26\n",
       "        8         42\n",
       "        9         36\n",
       "        10        33\n",
       "        11        32\n",
       "        12        33\n",
       "1003    8         55\n",
       "        9        134\n",
       "        10       108\n",
       "        11       115\n",
       "        12       108\n",
       "1004    5          9\n",
       "        6         31\n",
       "        7         22\n",
       "        8         19\n",
       "        9         26\n",
       "        10        29\n",
       "        11        19\n",
       "        12        21"
      ]
     },
     "execution_count": 92,
     "metadata": {},
     "output_type": "execute_result"
    }
   ],
   "source": [
    "calls_per_month.head(30)# вывод 30 первых строк на экран"
   ]
  },
  {
   "cell_type": "markdown",
   "metadata": {
    "deletable": false,
    "editable": false,
    "tags": [
     "start_task"
    ]
   },
   "source": [
    "**Задание 25.** Посчитайте количество израсходованных минут разговора для каждого пользователя по месяцам и сохраните в переменную `minutes_per_month`. Вам понадобится\n",
    "\n",
    "- сгруппировать датафрейм с информацией о звонках по двум столбцам — с идентификаторами пользователей и номерами месяцев;\n",
    "- после группировки выбрать столбец `duration`\n",
    "- затем применить метод для подсчёта суммы.\n",
    "\n",
    "Выведите первые 30 строчек `minutes_per_month`."
   ]
  },
  {
   "cell_type": "code",
   "execution_count": 96,
   "metadata": {
    "deletable": false
   },
   "outputs": [],
   "source": [
    "# подсчёт израсходованных минут для каждого пользователя по месяцам\n",
    "minutes_per_month=calls.groupby(['user_id','month']).agg(minutes=('duration','sum'))"
   ]
  },
  {
   "cell_type": "code",
   "execution_count": 97,
   "metadata": {},
   "outputs": [],
   "source": [
    "# minutes_per_month=calls.pivot_table(index=['user_id','month'], values='duration', aggfunc='sum')"
   ]
  },
  {
   "cell_type": "code",
   "execution_count": 98,
   "metadata": {
    "deletable": false
   },
   "outputs": [
    {
     "data": {
      "text/html": [
       "<div>\n",
       "<style scoped>\n",
       "    .dataframe tbody tr th:only-of-type {\n",
       "        vertical-align: middle;\n",
       "    }\n",
       "\n",
       "    .dataframe tbody tr th {\n",
       "        vertical-align: top;\n",
       "    }\n",
       "\n",
       "    .dataframe thead th {\n",
       "        text-align: right;\n",
       "    }\n",
       "</style>\n",
       "<table border=\"1\" class=\"dataframe\">\n",
       "  <thead>\n",
       "    <tr style=\"text-align: right;\">\n",
       "      <th></th>\n",
       "      <th></th>\n",
       "      <th>minutes</th>\n",
       "    </tr>\n",
       "    <tr>\n",
       "      <th>user_id</th>\n",
       "      <th>month</th>\n",
       "      <th></th>\n",
       "    </tr>\n",
       "  </thead>\n",
       "  <tbody>\n",
       "    <tr>\n",
       "      <th rowspan=\"8\" valign=\"top\">1000</th>\n",
       "      <th>5</th>\n",
       "      <td>159</td>\n",
       "    </tr>\n",
       "    <tr>\n",
       "      <th>6</th>\n",
       "      <td>172</td>\n",
       "    </tr>\n",
       "    <tr>\n",
       "      <th>7</th>\n",
       "      <td>340</td>\n",
       "    </tr>\n",
       "    <tr>\n",
       "      <th>8</th>\n",
       "      <td>408</td>\n",
       "    </tr>\n",
       "    <tr>\n",
       "      <th>9</th>\n",
       "      <td>466</td>\n",
       "    </tr>\n",
       "    <tr>\n",
       "      <th>10</th>\n",
       "      <td>350</td>\n",
       "    </tr>\n",
       "    <tr>\n",
       "      <th>11</th>\n",
       "      <td>338</td>\n",
       "    </tr>\n",
       "    <tr>\n",
       "      <th>12</th>\n",
       "      <td>333</td>\n",
       "    </tr>\n",
       "    <tr>\n",
       "      <th rowspan=\"2\" valign=\"top\">1001</th>\n",
       "      <th>11</th>\n",
       "      <td>430</td>\n",
       "    </tr>\n",
       "    <tr>\n",
       "      <th>12</th>\n",
       "      <td>414</td>\n",
       "    </tr>\n",
       "    <tr>\n",
       "      <th rowspan=\"7\" valign=\"top\">1002</th>\n",
       "      <th>6</th>\n",
       "      <td>117</td>\n",
       "    </tr>\n",
       "    <tr>\n",
       "      <th>7</th>\n",
       "      <td>214</td>\n",
       "    </tr>\n",
       "    <tr>\n",
       "      <th>8</th>\n",
       "      <td>289</td>\n",
       "    </tr>\n",
       "    <tr>\n",
       "      <th>9</th>\n",
       "      <td>206</td>\n",
       "    </tr>\n",
       "    <tr>\n",
       "      <th>10</th>\n",
       "      <td>212</td>\n",
       "    </tr>\n",
       "    <tr>\n",
       "      <th>11</th>\n",
       "      <td>243</td>\n",
       "    </tr>\n",
       "    <tr>\n",
       "      <th>12</th>\n",
       "      <td>236</td>\n",
       "    </tr>\n",
       "    <tr>\n",
       "      <th rowspan=\"5\" valign=\"top\">1003</th>\n",
       "      <th>8</th>\n",
       "      <td>380</td>\n",
       "    </tr>\n",
       "    <tr>\n",
       "      <th>9</th>\n",
       "      <td>961</td>\n",
       "    </tr>\n",
       "    <tr>\n",
       "      <th>10</th>\n",
       "      <td>855</td>\n",
       "    </tr>\n",
       "    <tr>\n",
       "      <th>11</th>\n",
       "      <td>824</td>\n",
       "    </tr>\n",
       "    <tr>\n",
       "      <th>12</th>\n",
       "      <td>802</td>\n",
       "    </tr>\n",
       "    <tr>\n",
       "      <th rowspan=\"8\" valign=\"top\">1004</th>\n",
       "      <th>5</th>\n",
       "      <td>35</td>\n",
       "    </tr>\n",
       "    <tr>\n",
       "      <th>6</th>\n",
       "      <td>171</td>\n",
       "    </tr>\n",
       "    <tr>\n",
       "      <th>7</th>\n",
       "      <td>135</td>\n",
       "    </tr>\n",
       "    <tr>\n",
       "      <th>8</th>\n",
       "      <td>137</td>\n",
       "    </tr>\n",
       "    <tr>\n",
       "      <th>9</th>\n",
       "      <td>117</td>\n",
       "    </tr>\n",
       "    <tr>\n",
       "      <th>10</th>\n",
       "      <td>145</td>\n",
       "    </tr>\n",
       "    <tr>\n",
       "      <th>11</th>\n",
       "      <td>117</td>\n",
       "    </tr>\n",
       "    <tr>\n",
       "      <th>12</th>\n",
       "      <td>130</td>\n",
       "    </tr>\n",
       "  </tbody>\n",
       "</table>\n",
       "</div>"
      ],
      "text/plain": [
       "               minutes\n",
       "user_id month         \n",
       "1000    5          159\n",
       "        6          172\n",
       "        7          340\n",
       "        8          408\n",
       "        9          466\n",
       "        10         350\n",
       "        11         338\n",
       "        12         333\n",
       "1001    11         430\n",
       "        12         414\n",
       "1002    6          117\n",
       "        7          214\n",
       "        8          289\n",
       "        9          206\n",
       "        10         212\n",
       "        11         243\n",
       "        12         236\n",
       "1003    8          380\n",
       "        9          961\n",
       "        10         855\n",
       "        11         824\n",
       "        12         802\n",
       "1004    5           35\n",
       "        6          171\n",
       "        7          135\n",
       "        8          137\n",
       "        9          117\n",
       "        10         145\n",
       "        11         117\n",
       "        12         130"
      ]
     },
     "execution_count": 98,
     "metadata": {},
     "output_type": "execute_result"
    }
   ],
   "source": [
    "minutes_per_month.head(30)# вывод первых 30 строк на экран"
   ]
  },
  {
   "cell_type": "markdown",
   "metadata": {
    "deletable": false,
    "editable": false,
    "tags": [
     "start_task"
    ]
   },
   "source": [
    "**Задание 26.** Посчитайте количество отправленных сообщений по месяцам для каждого пользователя и сохраните в переменную `messages_per_month`. Вам понадобится\n",
    "\n",
    "- сгруппировать датафрейм с информацией о сообщениях по двум столбцам — с идентификаторами пользователей и номерами месяцев;\n",
    "- после группировки выбрать столбец `message_date`;\n",
    "- затем применить метод для подсчёта количества.\n",
    "\n",
    "Выведите первые 30 строчек `messages_per_month`."
   ]
  },
  {
   "cell_type": "code",
   "execution_count": 107,
   "metadata": {
    "deletable": false
   },
   "outputs": [],
   "source": [
    "# подсчёт количества отправленных сообщений для каждого пользователя по месяцам\n",
    "messages_per_month=messages.groupby(['user_id','month']).agg(messages=('message_date','count'))"
   ]
  },
  {
   "cell_type": "code",
   "execution_count": 108,
   "metadata": {
    "deletable": false
   },
   "outputs": [
    {
     "data": {
      "text/html": [
       "<div>\n",
       "<style scoped>\n",
       "    .dataframe tbody tr th:only-of-type {\n",
       "        vertical-align: middle;\n",
       "    }\n",
       "\n",
       "    .dataframe tbody tr th {\n",
       "        vertical-align: top;\n",
       "    }\n",
       "\n",
       "    .dataframe thead th {\n",
       "        text-align: right;\n",
       "    }\n",
       "</style>\n",
       "<table border=\"1\" class=\"dataframe\">\n",
       "  <thead>\n",
       "    <tr style=\"text-align: right;\">\n",
       "      <th></th>\n",
       "      <th></th>\n",
       "      <th>messages</th>\n",
       "    </tr>\n",
       "    <tr>\n",
       "      <th>user_id</th>\n",
       "      <th>month</th>\n",
       "      <th></th>\n",
       "    </tr>\n",
       "  </thead>\n",
       "  <tbody>\n",
       "    <tr>\n",
       "      <th rowspan=\"8\" valign=\"top\">1000</th>\n",
       "      <th>5</th>\n",
       "      <td>22</td>\n",
       "    </tr>\n",
       "    <tr>\n",
       "      <th>6</th>\n",
       "      <td>60</td>\n",
       "    </tr>\n",
       "    <tr>\n",
       "      <th>7</th>\n",
       "      <td>75</td>\n",
       "    </tr>\n",
       "    <tr>\n",
       "      <th>8</th>\n",
       "      <td>81</td>\n",
       "    </tr>\n",
       "    <tr>\n",
       "      <th>9</th>\n",
       "      <td>57</td>\n",
       "    </tr>\n",
       "    <tr>\n",
       "      <th>10</th>\n",
       "      <td>73</td>\n",
       "    </tr>\n",
       "    <tr>\n",
       "      <th>11</th>\n",
       "      <td>58</td>\n",
       "    </tr>\n",
       "    <tr>\n",
       "      <th>12</th>\n",
       "      <td>70</td>\n",
       "    </tr>\n",
       "    <tr>\n",
       "      <th rowspan=\"7\" valign=\"top\">1002</th>\n",
       "      <th>6</th>\n",
       "      <td>4</td>\n",
       "    </tr>\n",
       "    <tr>\n",
       "      <th>7</th>\n",
       "      <td>11</td>\n",
       "    </tr>\n",
       "    <tr>\n",
       "      <th>8</th>\n",
       "      <td>13</td>\n",
       "    </tr>\n",
       "    <tr>\n",
       "      <th>9</th>\n",
       "      <td>4</td>\n",
       "    </tr>\n",
       "    <tr>\n",
       "      <th>10</th>\n",
       "      <td>10</td>\n",
       "    </tr>\n",
       "    <tr>\n",
       "      <th>11</th>\n",
       "      <td>16</td>\n",
       "    </tr>\n",
       "    <tr>\n",
       "      <th>12</th>\n",
       "      <td>12</td>\n",
       "    </tr>\n",
       "    <tr>\n",
       "      <th rowspan=\"5\" valign=\"top\">1003</th>\n",
       "      <th>8</th>\n",
       "      <td>37</td>\n",
       "    </tr>\n",
       "    <tr>\n",
       "      <th>9</th>\n",
       "      <td>91</td>\n",
       "    </tr>\n",
       "    <tr>\n",
       "      <th>10</th>\n",
       "      <td>83</td>\n",
       "    </tr>\n",
       "    <tr>\n",
       "      <th>11</th>\n",
       "      <td>94</td>\n",
       "    </tr>\n",
       "    <tr>\n",
       "      <th>12</th>\n",
       "      <td>75</td>\n",
       "    </tr>\n",
       "    <tr>\n",
       "      <th rowspan=\"8\" valign=\"top\">1004</th>\n",
       "      <th>5</th>\n",
       "      <td>95</td>\n",
       "    </tr>\n",
       "    <tr>\n",
       "      <th>6</th>\n",
       "      <td>134</td>\n",
       "    </tr>\n",
       "    <tr>\n",
       "      <th>7</th>\n",
       "      <td>181</td>\n",
       "    </tr>\n",
       "    <tr>\n",
       "      <th>8</th>\n",
       "      <td>151</td>\n",
       "    </tr>\n",
       "    <tr>\n",
       "      <th>9</th>\n",
       "      <td>146</td>\n",
       "    </tr>\n",
       "    <tr>\n",
       "      <th>10</th>\n",
       "      <td>165</td>\n",
       "    </tr>\n",
       "    <tr>\n",
       "      <th>11</th>\n",
       "      <td>158</td>\n",
       "    </tr>\n",
       "    <tr>\n",
       "      <th>12</th>\n",
       "      <td>162</td>\n",
       "    </tr>\n",
       "    <tr>\n",
       "      <th rowspan=\"2\" valign=\"top\">1005</th>\n",
       "      <th>1</th>\n",
       "      <td>7</td>\n",
       "    </tr>\n",
       "    <tr>\n",
       "      <th>2</th>\n",
       "      <td>38</td>\n",
       "    </tr>\n",
       "  </tbody>\n",
       "</table>\n",
       "</div>"
      ],
      "text/plain": [
       "               messages\n",
       "user_id month          \n",
       "1000    5            22\n",
       "        6            60\n",
       "        7            75\n",
       "        8            81\n",
       "        9            57\n",
       "        10           73\n",
       "        11           58\n",
       "        12           70\n",
       "1002    6             4\n",
       "        7            11\n",
       "        8            13\n",
       "        9             4\n",
       "        10           10\n",
       "        11           16\n",
       "        12           12\n",
       "1003    8            37\n",
       "        9            91\n",
       "        10           83\n",
       "        11           94\n",
       "        12           75\n",
       "1004    5            95\n",
       "        6           134\n",
       "        7           181\n",
       "        8           151\n",
       "        9           146\n",
       "        10          165\n",
       "        11          158\n",
       "        12          162\n",
       "1005    1             7\n",
       "        2            38"
      ]
     },
     "execution_count": 108,
     "metadata": {},
     "output_type": "execute_result"
    }
   ],
   "source": [
    "messages_per_month.head(30)# вывод первых 30 строк на экран"
   ]
  },
  {
   "cell_type": "markdown",
   "metadata": {
    "deletable": false,
    "editable": false,
    "tags": [
     "start_task"
    ]
   },
   "source": [
    "**Задание 27.** Посчитайте количество потраченных мегабайт по месяцам для каждого пользователя и сохраните в переменную `sessions_per_month`. Вам понадобится\n",
    "\n",
    "- сгруппировать датафрейм с информацией о сообщениях по двум столбцам — с идентификаторами пользователей и номерами месяцев;\n",
    "- затем применить метод для подсчёта суммы: `.agg({'mb_used': 'sum'})`"
   ]
  },
  {
   "cell_type": "code",
   "execution_count": 34,
   "metadata": {
    "deletable": false
   },
   "outputs": [],
   "source": [
    "# подсчёт потраченных мегабайт для каждого пользователя по месяцам\n",
    "sessions_per_month=sessions.groupby(['user_id','month']).agg({'mb_used': 'sum'})"
   ]
  },
  {
   "cell_type": "code",
   "execution_count": 35,
   "metadata": {
    "deletable": false
   },
   "outputs": [
    {
     "data": {
      "text/html": [
       "<div>\n",
       "<style scoped>\n",
       "    .dataframe tbody tr th:only-of-type {\n",
       "        vertical-align: middle;\n",
       "    }\n",
       "\n",
       "    .dataframe tbody tr th {\n",
       "        vertical-align: top;\n",
       "    }\n",
       "\n",
       "    .dataframe thead th {\n",
       "        text-align: right;\n",
       "    }\n",
       "</style>\n",
       "<table border=\"1\" class=\"dataframe\">\n",
       "  <thead>\n",
       "    <tr style=\"text-align: right;\">\n",
       "      <th></th>\n",
       "      <th></th>\n",
       "      <th>mb_used</th>\n",
       "    </tr>\n",
       "    <tr>\n",
       "      <th>user_id</th>\n",
       "      <th>month</th>\n",
       "      <th></th>\n",
       "    </tr>\n",
       "  </thead>\n",
       "  <tbody>\n",
       "    <tr>\n",
       "      <th rowspan=\"8\" valign=\"top\">1000</th>\n",
       "      <th>5</th>\n",
       "      <td>2253.49</td>\n",
       "    </tr>\n",
       "    <tr>\n",
       "      <th>6</th>\n",
       "      <td>23233.77</td>\n",
       "    </tr>\n",
       "    <tr>\n",
       "      <th>7</th>\n",
       "      <td>14003.64</td>\n",
       "    </tr>\n",
       "    <tr>\n",
       "      <th>8</th>\n",
       "      <td>14055.93</td>\n",
       "    </tr>\n",
       "    <tr>\n",
       "      <th>9</th>\n",
       "      <td>14568.91</td>\n",
       "    </tr>\n",
       "    <tr>\n",
       "      <th>10</th>\n",
       "      <td>14702.49</td>\n",
       "    </tr>\n",
       "    <tr>\n",
       "      <th>11</th>\n",
       "      <td>14756.47</td>\n",
       "    </tr>\n",
       "    <tr>\n",
       "      <th>12</th>\n",
       "      <td>9817.61</td>\n",
       "    </tr>\n",
       "    <tr>\n",
       "      <th rowspan=\"2\" valign=\"top\">1001</th>\n",
       "      <th>11</th>\n",
       "      <td>18429.34</td>\n",
       "    </tr>\n",
       "    <tr>\n",
       "      <th>12</th>\n",
       "      <td>14036.66</td>\n",
       "    </tr>\n",
       "    <tr>\n",
       "      <th rowspan=\"7\" valign=\"top\">1002</th>\n",
       "      <th>6</th>\n",
       "      <td>10856.82</td>\n",
       "    </tr>\n",
       "    <tr>\n",
       "      <th>7</th>\n",
       "      <td>17580.10</td>\n",
       "    </tr>\n",
       "    <tr>\n",
       "      <th>8</th>\n",
       "      <td>20319.26</td>\n",
       "    </tr>\n",
       "    <tr>\n",
       "      <th>9</th>\n",
       "      <td>16691.08</td>\n",
       "    </tr>\n",
       "    <tr>\n",
       "      <th>10</th>\n",
       "      <td>13888.25</td>\n",
       "    </tr>\n",
       "    <tr>\n",
       "      <th>11</th>\n",
       "      <td>18587.28</td>\n",
       "    </tr>\n",
       "    <tr>\n",
       "      <th>12</th>\n",
       "      <td>18113.73</td>\n",
       "    </tr>\n",
       "    <tr>\n",
       "      <th rowspan=\"5\" valign=\"top\">1003</th>\n",
       "      <th>8</th>\n",
       "      <td>8565.21</td>\n",
       "    </tr>\n",
       "    <tr>\n",
       "      <th>9</th>\n",
       "      <td>12468.87</td>\n",
       "    </tr>\n",
       "    <tr>\n",
       "      <th>10</th>\n",
       "      <td>14768.14</td>\n",
       "    </tr>\n",
       "    <tr>\n",
       "      <th>11</th>\n",
       "      <td>11356.89</td>\n",
       "    </tr>\n",
       "    <tr>\n",
       "      <th>12</th>\n",
       "      <td>10121.53</td>\n",
       "    </tr>\n",
       "    <tr>\n",
       "      <th rowspan=\"8\" valign=\"top\">1004</th>\n",
       "      <th>5</th>\n",
       "      <td>13403.98</td>\n",
       "    </tr>\n",
       "    <tr>\n",
       "      <th>6</th>\n",
       "      <td>17600.02</td>\n",
       "    </tr>\n",
       "    <tr>\n",
       "      <th>7</th>\n",
       "      <td>22229.58</td>\n",
       "    </tr>\n",
       "    <tr>\n",
       "      <th>8</th>\n",
       "      <td>28584.37</td>\n",
       "    </tr>\n",
       "    <tr>\n",
       "      <th>9</th>\n",
       "      <td>15109.03</td>\n",
       "    </tr>\n",
       "    <tr>\n",
       "      <th>10</th>\n",
       "      <td>18475.44</td>\n",
       "    </tr>\n",
       "    <tr>\n",
       "      <th>11</th>\n",
       "      <td>15616.02</td>\n",
       "    </tr>\n",
       "    <tr>\n",
       "      <th>12</th>\n",
       "      <td>18021.04</td>\n",
       "    </tr>\n",
       "  </tbody>\n",
       "</table>\n",
       "</div>"
      ],
      "text/plain": [
       "                mb_used\n",
       "user_id month          \n",
       "1000    5       2253.49\n",
       "        6      23233.77\n",
       "        7      14003.64\n",
       "        8      14055.93\n",
       "        9      14568.91\n",
       "        10     14702.49\n",
       "        11     14756.47\n",
       "        12      9817.61\n",
       "1001    11     18429.34\n",
       "        12     14036.66\n",
       "1002    6      10856.82\n",
       "        7      17580.10\n",
       "        8      20319.26\n",
       "        9      16691.08\n",
       "        10     13888.25\n",
       "        11     18587.28\n",
       "        12     18113.73\n",
       "1003    8       8565.21\n",
       "        9      12468.87\n",
       "        10     14768.14\n",
       "        11     11356.89\n",
       "        12     10121.53\n",
       "1004    5      13403.98\n",
       "        6      17600.02\n",
       "        7      22229.58\n",
       "        8      28584.37\n",
       "        9      15109.03\n",
       "        10     18475.44\n",
       "        11     15616.02\n",
       "        12     18021.04"
      ]
     },
     "execution_count": 35,
     "metadata": {},
     "output_type": "execute_result"
    }
   ],
   "source": [
    "# вывод первых 30 строк на экран\n",
    "sessions_per_month.head(30)"
   ]
  },
  {
   "cell_type": "markdown",
   "metadata": {
    "deletable": false,
    "editable": false
   },
   "source": [
    "### Анализ данных и подсчёт выручки"
   ]
  },
  {
   "cell_type": "markdown",
   "metadata": {
    "deletable": false,
    "editable": false
   },
   "source": [
    "Объединяем все посчитанные выше значения в один датафрейм `user_behavior`.\n",
    "Для каждой пары \"пользователь - месяц\" будут доступны информация о тарифе, количестве звонков, сообщений и потраченных мегабайтах."
   ]
  },
  {
   "cell_type": "code",
   "execution_count": 36,
   "metadata": {
    "deletable": false
   },
   "outputs": [
    {
     "data": {
      "text/plain": [
       "7.6"
      ]
     },
     "execution_count": 36,
     "metadata": {},
     "output_type": "execute_result"
    }
   ],
   "source": [
    "users['churn_date'].count() / users['churn_date'].shape[0] * 100"
   ]
  },
  {
   "cell_type": "markdown",
   "metadata": {
    "deletable": false,
    "editable": false
   },
   "source": [
    "Расторгли договор 7.6% клиентов из датасета"
   ]
  },
  {
   "cell_type": "code",
   "execution_count": 37,
   "metadata": {
    "deletable": false
   },
   "outputs": [
    {
     "data": {
      "text/html": [
       "<div>\n",
       "<style scoped>\n",
       "    .dataframe tbody tr th:only-of-type {\n",
       "        vertical-align: middle;\n",
       "    }\n",
       "\n",
       "    .dataframe tbody tr th {\n",
       "        vertical-align: top;\n",
       "    }\n",
       "\n",
       "    .dataframe thead th {\n",
       "        text-align: right;\n",
       "    }\n",
       "</style>\n",
       "<table border=\"1\" class=\"dataframe\">\n",
       "  <thead>\n",
       "    <tr style=\"text-align: right;\">\n",
       "      <th></th>\n",
       "      <th>user_id</th>\n",
       "      <th>month</th>\n",
       "      <th>calls</th>\n",
       "      <th>message_date</th>\n",
       "      <th>mb_used</th>\n",
       "      <th>duration</th>\n",
       "      <th>age</th>\n",
       "      <th>churn_date</th>\n",
       "      <th>city</th>\n",
       "      <th>first_name</th>\n",
       "      <th>last_name</th>\n",
       "      <th>reg_date</th>\n",
       "      <th>tariff</th>\n",
       "    </tr>\n",
       "  </thead>\n",
       "  <tbody>\n",
       "    <tr>\n",
       "      <th>0</th>\n",
       "      <td>1000</td>\n",
       "      <td>5</td>\n",
       "      <td>22.0</td>\n",
       "      <td>22.0</td>\n",
       "      <td>2253.49</td>\n",
       "      <td>159.0</td>\n",
       "      <td>52</td>\n",
       "      <td>NaT</td>\n",
       "      <td>Краснодар</td>\n",
       "      <td>Рафаил</td>\n",
       "      <td>Верещагин</td>\n",
       "      <td>2018-05-25</td>\n",
       "      <td>ultra</td>\n",
       "    </tr>\n",
       "    <tr>\n",
       "      <th>1</th>\n",
       "      <td>1000</td>\n",
       "      <td>6</td>\n",
       "      <td>43.0</td>\n",
       "      <td>60.0</td>\n",
       "      <td>23233.77</td>\n",
       "      <td>172.0</td>\n",
       "      <td>52</td>\n",
       "      <td>NaT</td>\n",
       "      <td>Краснодар</td>\n",
       "      <td>Рафаил</td>\n",
       "      <td>Верещагин</td>\n",
       "      <td>2018-05-25</td>\n",
       "      <td>ultra</td>\n",
       "    </tr>\n",
       "    <tr>\n",
       "      <th>2</th>\n",
       "      <td>1000</td>\n",
       "      <td>7</td>\n",
       "      <td>47.0</td>\n",
       "      <td>75.0</td>\n",
       "      <td>14003.64</td>\n",
       "      <td>340.0</td>\n",
       "      <td>52</td>\n",
       "      <td>NaT</td>\n",
       "      <td>Краснодар</td>\n",
       "      <td>Рафаил</td>\n",
       "      <td>Верещагин</td>\n",
       "      <td>2018-05-25</td>\n",
       "      <td>ultra</td>\n",
       "    </tr>\n",
       "    <tr>\n",
       "      <th>3</th>\n",
       "      <td>1000</td>\n",
       "      <td>8</td>\n",
       "      <td>52.0</td>\n",
       "      <td>81.0</td>\n",
       "      <td>14055.93</td>\n",
       "      <td>408.0</td>\n",
       "      <td>52</td>\n",
       "      <td>NaT</td>\n",
       "      <td>Краснодар</td>\n",
       "      <td>Рафаил</td>\n",
       "      <td>Верещагин</td>\n",
       "      <td>2018-05-25</td>\n",
       "      <td>ultra</td>\n",
       "    </tr>\n",
       "    <tr>\n",
       "      <th>4</th>\n",
       "      <td>1000</td>\n",
       "      <td>9</td>\n",
       "      <td>58.0</td>\n",
       "      <td>57.0</td>\n",
       "      <td>14568.91</td>\n",
       "      <td>466.0</td>\n",
       "      <td>52</td>\n",
       "      <td>NaT</td>\n",
       "      <td>Краснодар</td>\n",
       "      <td>Рафаил</td>\n",
       "      <td>Верещагин</td>\n",
       "      <td>2018-05-25</td>\n",
       "      <td>ultra</td>\n",
       "    </tr>\n",
       "  </tbody>\n",
       "</table>\n",
       "</div>"
      ],
      "text/plain": [
       "   user_id  month  calls  message_date   mb_used  duration  age churn_date  \\\n",
       "0     1000      5   22.0          22.0   2253.49     159.0   52        NaT   \n",
       "1     1000      6   43.0          60.0  23233.77     172.0   52        NaT   \n",
       "2     1000      7   47.0          75.0  14003.64     340.0   52        NaT   \n",
       "3     1000      8   52.0          81.0  14055.93     408.0   52        NaT   \n",
       "4     1000      9   58.0          57.0  14568.91     466.0   52        NaT   \n",
       "\n",
       "        city first_name  last_name   reg_date tariff  \n",
       "0  Краснодар     Рафаил  Верещагин 2018-05-25  ultra  \n",
       "1  Краснодар     Рафаил  Верещагин 2018-05-25  ultra  \n",
       "2  Краснодар     Рафаил  Верещагин 2018-05-25  ultra  \n",
       "3  Краснодар     Рафаил  Верещагин 2018-05-25  ultra  \n",
       "4  Краснодар     Рафаил  Верещагин 2018-05-25  ultra  "
      ]
     },
     "execution_count": 37,
     "metadata": {},
     "output_type": "execute_result"
    }
   ],
   "source": [
    "user_behavior = calls_per_month\\\n",
    "    .merge(messages_per_month, left_index=True, right_index=True, how='outer')\\\n",
    "    .merge(sessions_per_month, left_index=True, right_index=True, how='outer')\\\n",
    "    .merge(minutes_per_month, left_index=True, right_index=True, how='outer')\\\n",
    "    .reset_index()\\\n",
    "    .merge(users, how='left', left_on='user_id', right_on='user_id')\\\n",
    "\n",
    "user_behavior.head()"
   ]
  },
  {
   "cell_type": "code",
   "execution_count": 38,
   "metadata": {},
   "outputs": [],
   "source": [
    "user_behavior.rename(columns={'id':'calls','message_date':'messages', 'duration':'minutes'},inplace=True)"
   ]
  },
  {
   "cell_type": "markdown",
   "metadata": {
    "deletable": false,
    "editable": false
   },
   "source": [
    "Проверим пропуски в таблице `user_behavior` после объединения:"
   ]
  },
  {
   "cell_type": "code",
   "execution_count": 39,
   "metadata": {
    "deletable": false
   },
   "outputs": [
    {
     "data": {
      "text/plain": [
       "user_id          0\n",
       "month            0\n",
       "calls           40\n",
       "messages       497\n",
       "mb_used         11\n",
       "minutes         40\n",
       "age              0\n",
       "churn_date    3027\n",
       "city             0\n",
       "first_name       0\n",
       "last_name        0\n",
       "reg_date         0\n",
       "tariff           0\n",
       "dtype: int64"
      ]
     },
     "execution_count": 39,
     "metadata": {},
     "output_type": "execute_result"
    }
   ],
   "source": [
    "user_behavior.isna().sum()"
   ]
  },
  {
   "cell_type": "markdown",
   "metadata": {
    "deletable": false,
    "editable": false
   },
   "source": [
    "Заполним образовавшиеся пропуски в данных:"
   ]
  },
  {
   "cell_type": "code",
   "execution_count": 40,
   "metadata": {
    "deletable": false
   },
   "outputs": [],
   "source": [
    "user_behavior['calls'] = user_behavior['calls'].fillna(0)\n",
    "user_behavior['minutes'] = user_behavior['minutes'].fillna(0)\n",
    "user_behavior['messages'] = user_behavior['messages'].fillna(0)\n",
    "user_behavior['mb_used'] = user_behavior['mb_used'].fillna(0)"
   ]
  },
  {
   "cell_type": "markdown",
   "metadata": {
    "deletable": false,
    "editable": false
   },
   "source": [
    "Присоединяем информацию о тарифах"
   ]
  },
  {
   "cell_type": "code",
   "execution_count": 41,
   "metadata": {
    "deletable": false
   },
   "outputs": [],
   "source": [
    "# переименование столбца tariff_name на более простое tariff\n",
    "\n",
    "tariffs = tariffs.rename(\n",
    "    columns={\n",
    "        'tariff_name': 'tariff'\n",
    "    }\n",
    ")"
   ]
  },
  {
   "cell_type": "code",
   "execution_count": 42,
   "metadata": {
    "deletable": false
   },
   "outputs": [],
   "source": [
    "user_behavior = user_behavior.merge(tariffs, on='tariff')"
   ]
  },
  {
   "cell_type": "code",
   "execution_count": 43,
   "metadata": {},
   "outputs": [
    {
     "data": {
      "text/html": [
       "<div>\n",
       "<style scoped>\n",
       "    .dataframe tbody tr th:only-of-type {\n",
       "        vertical-align: middle;\n",
       "    }\n",
       "\n",
       "    .dataframe tbody tr th {\n",
       "        vertical-align: top;\n",
       "    }\n",
       "\n",
       "    .dataframe thead th {\n",
       "        text-align: right;\n",
       "    }\n",
       "</style>\n",
       "<table border=\"1\" class=\"dataframe\">\n",
       "  <thead>\n",
       "    <tr style=\"text-align: right;\">\n",
       "      <th></th>\n",
       "      <th>user_id</th>\n",
       "      <th>month</th>\n",
       "      <th>calls</th>\n",
       "      <th>messages</th>\n",
       "      <th>mb_used</th>\n",
       "      <th>minutes</th>\n",
       "      <th>age</th>\n",
       "      <th>churn_date</th>\n",
       "      <th>city</th>\n",
       "      <th>first_name</th>\n",
       "      <th>last_name</th>\n",
       "      <th>reg_date</th>\n",
       "      <th>tariff</th>\n",
       "      <th>messages_included</th>\n",
       "      <th>mb_per_month_included</th>\n",
       "      <th>minutes_included</th>\n",
       "      <th>rub_monthly_fee</th>\n",
       "      <th>rub_per_gb</th>\n",
       "      <th>rub_per_message</th>\n",
       "      <th>rub_per_minute</th>\n",
       "    </tr>\n",
       "  </thead>\n",
       "  <tbody>\n",
       "    <tr>\n",
       "      <th>0</th>\n",
       "      <td>1000</td>\n",
       "      <td>5</td>\n",
       "      <td>22.0</td>\n",
       "      <td>22.0</td>\n",
       "      <td>2253.49</td>\n",
       "      <td>159.0</td>\n",
       "      <td>52</td>\n",
       "      <td>NaT</td>\n",
       "      <td>Краснодар</td>\n",
       "      <td>Рафаил</td>\n",
       "      <td>Верещагин</td>\n",
       "      <td>2018-05-25</td>\n",
       "      <td>ultra</td>\n",
       "      <td>1000</td>\n",
       "      <td>30720</td>\n",
       "      <td>3000</td>\n",
       "      <td>1950</td>\n",
       "      <td>150</td>\n",
       "      <td>1</td>\n",
       "      <td>1</td>\n",
       "    </tr>\n",
       "    <tr>\n",
       "      <th>1</th>\n",
       "      <td>1000</td>\n",
       "      <td>6</td>\n",
       "      <td>43.0</td>\n",
       "      <td>60.0</td>\n",
       "      <td>23233.77</td>\n",
       "      <td>172.0</td>\n",
       "      <td>52</td>\n",
       "      <td>NaT</td>\n",
       "      <td>Краснодар</td>\n",
       "      <td>Рафаил</td>\n",
       "      <td>Верещагин</td>\n",
       "      <td>2018-05-25</td>\n",
       "      <td>ultra</td>\n",
       "      <td>1000</td>\n",
       "      <td>30720</td>\n",
       "      <td>3000</td>\n",
       "      <td>1950</td>\n",
       "      <td>150</td>\n",
       "      <td>1</td>\n",
       "      <td>1</td>\n",
       "    </tr>\n",
       "    <tr>\n",
       "      <th>2</th>\n",
       "      <td>1000</td>\n",
       "      <td>7</td>\n",
       "      <td>47.0</td>\n",
       "      <td>75.0</td>\n",
       "      <td>14003.64</td>\n",
       "      <td>340.0</td>\n",
       "      <td>52</td>\n",
       "      <td>NaT</td>\n",
       "      <td>Краснодар</td>\n",
       "      <td>Рафаил</td>\n",
       "      <td>Верещагин</td>\n",
       "      <td>2018-05-25</td>\n",
       "      <td>ultra</td>\n",
       "      <td>1000</td>\n",
       "      <td>30720</td>\n",
       "      <td>3000</td>\n",
       "      <td>1950</td>\n",
       "      <td>150</td>\n",
       "      <td>1</td>\n",
       "      <td>1</td>\n",
       "    </tr>\n",
       "    <tr>\n",
       "      <th>3</th>\n",
       "      <td>1000</td>\n",
       "      <td>8</td>\n",
       "      <td>52.0</td>\n",
       "      <td>81.0</td>\n",
       "      <td>14055.93</td>\n",
       "      <td>408.0</td>\n",
       "      <td>52</td>\n",
       "      <td>NaT</td>\n",
       "      <td>Краснодар</td>\n",
       "      <td>Рафаил</td>\n",
       "      <td>Верещагин</td>\n",
       "      <td>2018-05-25</td>\n",
       "      <td>ultra</td>\n",
       "      <td>1000</td>\n",
       "      <td>30720</td>\n",
       "      <td>3000</td>\n",
       "      <td>1950</td>\n",
       "      <td>150</td>\n",
       "      <td>1</td>\n",
       "      <td>1</td>\n",
       "    </tr>\n",
       "    <tr>\n",
       "      <th>4</th>\n",
       "      <td>1000</td>\n",
       "      <td>9</td>\n",
       "      <td>58.0</td>\n",
       "      <td>57.0</td>\n",
       "      <td>14568.91</td>\n",
       "      <td>466.0</td>\n",
       "      <td>52</td>\n",
       "      <td>NaT</td>\n",
       "      <td>Краснодар</td>\n",
       "      <td>Рафаил</td>\n",
       "      <td>Верещагин</td>\n",
       "      <td>2018-05-25</td>\n",
       "      <td>ultra</td>\n",
       "      <td>1000</td>\n",
       "      <td>30720</td>\n",
       "      <td>3000</td>\n",
       "      <td>1950</td>\n",
       "      <td>150</td>\n",
       "      <td>1</td>\n",
       "      <td>1</td>\n",
       "    </tr>\n",
       "    <tr>\n",
       "      <th>...</th>\n",
       "      <td>...</td>\n",
       "      <td>...</td>\n",
       "      <td>...</td>\n",
       "      <td>...</td>\n",
       "      <td>...</td>\n",
       "      <td>...</td>\n",
       "      <td>...</td>\n",
       "      <td>...</td>\n",
       "      <td>...</td>\n",
       "      <td>...</td>\n",
       "      <td>...</td>\n",
       "      <td>...</td>\n",
       "      <td>...</td>\n",
       "      <td>...</td>\n",
       "      <td>...</td>\n",
       "      <td>...</td>\n",
       "      <td>...</td>\n",
       "      <td>...</td>\n",
       "      <td>...</td>\n",
       "      <td>...</td>\n",
       "    </tr>\n",
       "    <tr>\n",
       "      <th>3209</th>\n",
       "      <td>1498</td>\n",
       "      <td>10</td>\n",
       "      <td>41.0</td>\n",
       "      <td>42.0</td>\n",
       "      <td>20579.36</td>\n",
       "      <td>247.0</td>\n",
       "      <td>68</td>\n",
       "      <td>2018-10-25</td>\n",
       "      <td>Владикавказ</td>\n",
       "      <td>Всеволод</td>\n",
       "      <td>Акимчин</td>\n",
       "      <td>2018-07-19</td>\n",
       "      <td>smart</td>\n",
       "      <td>50</td>\n",
       "      <td>15360</td>\n",
       "      <td>500</td>\n",
       "      <td>550</td>\n",
       "      <td>200</td>\n",
       "      <td>3</td>\n",
       "      <td>3</td>\n",
       "    </tr>\n",
       "    <tr>\n",
       "      <th>3210</th>\n",
       "      <td>1499</td>\n",
       "      <td>9</td>\n",
       "      <td>9.0</td>\n",
       "      <td>11.0</td>\n",
       "      <td>1845.75</td>\n",
       "      <td>70.0</td>\n",
       "      <td>35</td>\n",
       "      <td>NaT</td>\n",
       "      <td>Пермь</td>\n",
       "      <td>Гектор</td>\n",
       "      <td>Корнилов</td>\n",
       "      <td>2018-09-27</td>\n",
       "      <td>smart</td>\n",
       "      <td>50</td>\n",
       "      <td>15360</td>\n",
       "      <td>500</td>\n",
       "      <td>550</td>\n",
       "      <td>200</td>\n",
       "      <td>3</td>\n",
       "      <td>3</td>\n",
       "    </tr>\n",
       "    <tr>\n",
       "      <th>3211</th>\n",
       "      <td>1499</td>\n",
       "      <td>10</td>\n",
       "      <td>68.0</td>\n",
       "      <td>48.0</td>\n",
       "      <td>17788.51</td>\n",
       "      <td>449.0</td>\n",
       "      <td>35</td>\n",
       "      <td>NaT</td>\n",
       "      <td>Пермь</td>\n",
       "      <td>Гектор</td>\n",
       "      <td>Корнилов</td>\n",
       "      <td>2018-09-27</td>\n",
       "      <td>smart</td>\n",
       "      <td>50</td>\n",
       "      <td>15360</td>\n",
       "      <td>500</td>\n",
       "      <td>550</td>\n",
       "      <td>200</td>\n",
       "      <td>3</td>\n",
       "      <td>3</td>\n",
       "    </tr>\n",
       "    <tr>\n",
       "      <th>3212</th>\n",
       "      <td>1499</td>\n",
       "      <td>11</td>\n",
       "      <td>74.0</td>\n",
       "      <td>59.0</td>\n",
       "      <td>17963.31</td>\n",
       "      <td>612.0</td>\n",
       "      <td>35</td>\n",
       "      <td>NaT</td>\n",
       "      <td>Пермь</td>\n",
       "      <td>Гектор</td>\n",
       "      <td>Корнилов</td>\n",
       "      <td>2018-09-27</td>\n",
       "      <td>smart</td>\n",
       "      <td>50</td>\n",
       "      <td>15360</td>\n",
       "      <td>500</td>\n",
       "      <td>550</td>\n",
       "      <td>200</td>\n",
       "      <td>3</td>\n",
       "      <td>3</td>\n",
       "    </tr>\n",
       "    <tr>\n",
       "      <th>3213</th>\n",
       "      <td>1499</td>\n",
       "      <td>12</td>\n",
       "      <td>69.0</td>\n",
       "      <td>66.0</td>\n",
       "      <td>13055.58</td>\n",
       "      <td>492.0</td>\n",
       "      <td>35</td>\n",
       "      <td>NaT</td>\n",
       "      <td>Пермь</td>\n",
       "      <td>Гектор</td>\n",
       "      <td>Корнилов</td>\n",
       "      <td>2018-09-27</td>\n",
       "      <td>smart</td>\n",
       "      <td>50</td>\n",
       "      <td>15360</td>\n",
       "      <td>500</td>\n",
       "      <td>550</td>\n",
       "      <td>200</td>\n",
       "      <td>3</td>\n",
       "      <td>3</td>\n",
       "    </tr>\n",
       "  </tbody>\n",
       "</table>\n",
       "<p>3214 rows × 20 columns</p>\n",
       "</div>"
      ],
      "text/plain": [
       "      user_id  month  calls  messages   mb_used  minutes  age churn_date  \\\n",
       "0        1000      5   22.0      22.0   2253.49    159.0   52        NaT   \n",
       "1        1000      6   43.0      60.0  23233.77    172.0   52        NaT   \n",
       "2        1000      7   47.0      75.0  14003.64    340.0   52        NaT   \n",
       "3        1000      8   52.0      81.0  14055.93    408.0   52        NaT   \n",
       "4        1000      9   58.0      57.0  14568.91    466.0   52        NaT   \n",
       "...       ...    ...    ...       ...       ...      ...  ...        ...   \n",
       "3209     1498     10   41.0      42.0  20579.36    247.0   68 2018-10-25   \n",
       "3210     1499      9    9.0      11.0   1845.75     70.0   35        NaT   \n",
       "3211     1499     10   68.0      48.0  17788.51    449.0   35        NaT   \n",
       "3212     1499     11   74.0      59.0  17963.31    612.0   35        NaT   \n",
       "3213     1499     12   69.0      66.0  13055.58    492.0   35        NaT   \n",
       "\n",
       "             city first_name  last_name   reg_date tariff  messages_included  \\\n",
       "0       Краснодар     Рафаил  Верещагин 2018-05-25  ultra               1000   \n",
       "1       Краснодар     Рафаил  Верещагин 2018-05-25  ultra               1000   \n",
       "2       Краснодар     Рафаил  Верещагин 2018-05-25  ultra               1000   \n",
       "3       Краснодар     Рафаил  Верещагин 2018-05-25  ultra               1000   \n",
       "4       Краснодар     Рафаил  Верещагин 2018-05-25  ultra               1000   \n",
       "...           ...        ...        ...        ...    ...                ...   \n",
       "3209  Владикавказ   Всеволод    Акимчин 2018-07-19  smart                 50   \n",
       "3210        Пермь     Гектор   Корнилов 2018-09-27  smart                 50   \n",
       "3211        Пермь     Гектор   Корнилов 2018-09-27  smart                 50   \n",
       "3212        Пермь     Гектор   Корнилов 2018-09-27  smart                 50   \n",
       "3213        Пермь     Гектор   Корнилов 2018-09-27  smart                 50   \n",
       "\n",
       "      mb_per_month_included  minutes_included  rub_monthly_fee  rub_per_gb  \\\n",
       "0                     30720              3000             1950         150   \n",
       "1                     30720              3000             1950         150   \n",
       "2                     30720              3000             1950         150   \n",
       "3                     30720              3000             1950         150   \n",
       "4                     30720              3000             1950         150   \n",
       "...                     ...               ...              ...         ...   \n",
       "3209                  15360               500              550         200   \n",
       "3210                  15360               500              550         200   \n",
       "3211                  15360               500              550         200   \n",
       "3212                  15360               500              550         200   \n",
       "3213                  15360               500              550         200   \n",
       "\n",
       "      rub_per_message  rub_per_minute  \n",
       "0                   1               1  \n",
       "1                   1               1  \n",
       "2                   1               1  \n",
       "3                   1               1  \n",
       "4                   1               1  \n",
       "...               ...             ...  \n",
       "3209                3               3  \n",
       "3210                3               3  \n",
       "3211                3               3  \n",
       "3212                3               3  \n",
       "3213                3               3  \n",
       "\n",
       "[3214 rows x 20 columns]"
      ]
     },
     "execution_count": 43,
     "metadata": {},
     "output_type": "execute_result"
    }
   ],
   "source": [
    "user_behavior"
   ]
  },
  {
   "cell_type": "markdown",
   "metadata": {
    "deletable": false,
    "editable": false
   },
   "source": [
    "Считаем количество минут разговора, сообщений и мегабайт, превышающих включенные в тариф\n"
   ]
  },
  {
   "cell_type": "code",
   "execution_count": 44,
   "metadata": {
    "deletable": false
   },
   "outputs": [],
   "source": [
    "user_behavior['paid_minutes'] = user_behavior['minutes'] - user_behavior['minutes_included']\n",
    "user_behavior['paid_messages'] = user_behavior['messages'] - user_behavior['messages_included']\n",
    "user_behavior['paid_mb'] = user_behavior['mb_used'] - user_behavior['mb_per_month_included']\n",
    "\n",
    "for col in ['paid_messages', 'paid_minutes', 'paid_mb']:\n",
    "    user_behavior.loc[user_behavior[col] < 0, col] = 0"
   ]
  },
  {
   "cell_type": "markdown",
   "metadata": {
    "deletable": false,
    "editable": false
   },
   "source": [
    "Переводим превышающие тариф мегабайты в гигабайты и сохраняем в столбец `paid_gb`"
   ]
  },
  {
   "cell_type": "code",
   "execution_count": 45,
   "metadata": {
    "deletable": false
   },
   "outputs": [],
   "source": [
    "user_behavior['paid_gb'] = np.ceil(user_behavior['paid_mb'] / 1024).astype(int)"
   ]
  },
  {
   "cell_type": "markdown",
   "metadata": {
    "deletable": false,
    "editable": false
   },
   "source": [
    "Считаем выручку за минуты разговора, сообщения и интернет"
   ]
  },
  {
   "cell_type": "code",
   "execution_count": 46,
   "metadata": {
    "deletable": false
   },
   "outputs": [],
   "source": [
    "user_behavior['cost_minutes'] = user_behavior['paid_minutes'] * user_behavior['rub_per_minute']\n",
    "user_behavior['cost_messages'] = user_behavior['paid_messages'] * user_behavior['rub_per_message']\n",
    "user_behavior['cost_gb'] = user_behavior['paid_gb'] * user_behavior['rub_per_gb']"
   ]
  },
  {
   "cell_type": "markdown",
   "metadata": {
    "deletable": false,
    "editable": false
   },
   "source": [
    "Считаем помесячную выручку с каждого пользователя, она будет храниться в столбец `total_cost`"
   ]
  },
  {
   "cell_type": "code",
   "execution_count": 47,
   "metadata": {
    "deletable": false
   },
   "outputs": [],
   "source": [
    "user_behavior['total_cost'] = \\\n",
    "      user_behavior['rub_monthly_fee']\\\n",
    "    + user_behavior['cost_minutes']\\\n",
    "    + user_behavior['cost_messages']\\\n",
    "    + user_behavior['cost_gb']"
   ]
  },
  {
   "cell_type": "markdown",
   "metadata": {
    "deletable": false,
    "editable": false
   },
   "source": [
    "Датафрейм `stats_df` для каждой пары \"месяц-тариф\" будет хранить основные характеристики"
   ]
  },
  {
   "cell_type": "code",
   "execution_count": 48,
   "metadata": {
    "deletable": false
   },
   "outputs": [
    {
     "data": {
      "text/html": [
       "<div>\n",
       "<style scoped>\n",
       "    .dataframe tbody tr th:only-of-type {\n",
       "        vertical-align: middle;\n",
       "    }\n",
       "\n",
       "    .dataframe tbody tr th {\n",
       "        vertical-align: top;\n",
       "    }\n",
       "\n",
       "    .dataframe thead th {\n",
       "        text-align: right;\n",
       "    }\n",
       "</style>\n",
       "<table border=\"1\" class=\"dataframe\">\n",
       "  <thead>\n",
       "    <tr style=\"text-align: right;\">\n",
       "      <th></th>\n",
       "      <th>month</th>\n",
       "      <th>tariff</th>\n",
       "      <th>calls_mean</th>\n",
       "      <th>sessions_mean</th>\n",
       "      <th>messages_mean</th>\n",
       "      <th>minutes_mean</th>\n",
       "      <th>calls_std</th>\n",
       "      <th>sessions_std</th>\n",
       "      <th>messages_std</th>\n",
       "      <th>minutes_std</th>\n",
       "      <th>calls_median</th>\n",
       "      <th>sessions_median</th>\n",
       "      <th>messages_median</th>\n",
       "      <th>minutes_median</th>\n",
       "    </tr>\n",
       "  </thead>\n",
       "  <tbody>\n",
       "    <tr>\n",
       "      <th>0</th>\n",
       "      <td>1</td>\n",
       "      <td>smart</td>\n",
       "      <td>27.68</td>\n",
       "      <td>8513.72</td>\n",
       "      <td>18.24</td>\n",
       "      <td>203.85</td>\n",
       "      <td>20.81</td>\n",
       "      <td>6444.68</td>\n",
       "      <td>16.20</td>\n",
       "      <td>154.23</td>\n",
       "      <td>20.5</td>\n",
       "      <td>7096.18</td>\n",
       "      <td>15.0</td>\n",
       "      <td>162.5</td>\n",
       "    </tr>\n",
       "    <tr>\n",
       "      <th>1</th>\n",
       "      <td>1</td>\n",
       "      <td>ultra</td>\n",
       "      <td>59.44</td>\n",
       "      <td>13140.68</td>\n",
       "      <td>33.78</td>\n",
       "      <td>428.11</td>\n",
       "      <td>41.64</td>\n",
       "      <td>6865.35</td>\n",
       "      <td>30.67</td>\n",
       "      <td>269.76</td>\n",
       "      <td>51.0</td>\n",
       "      <td>14791.37</td>\n",
       "      <td>32.0</td>\n",
       "      <td>382.0</td>\n",
       "    </tr>\n",
       "    <tr>\n",
       "      <th>2</th>\n",
       "      <td>2</td>\n",
       "      <td>smart</td>\n",
       "      <td>40.19</td>\n",
       "      <td>11597.05</td>\n",
       "      <td>24.09</td>\n",
       "      <td>298.69</td>\n",
       "      <td>25.39</td>\n",
       "      <td>6247.35</td>\n",
       "      <td>21.75</td>\n",
       "      <td>190.82</td>\n",
       "      <td>38.5</td>\n",
       "      <td>12553.71</td>\n",
       "      <td>20.0</td>\n",
       "      <td>258.0</td>\n",
       "    </tr>\n",
       "    <tr>\n",
       "      <th>3</th>\n",
       "      <td>2</td>\n",
       "      <td>ultra</td>\n",
       "      <td>41.54</td>\n",
       "      <td>11775.94</td>\n",
       "      <td>21.96</td>\n",
       "      <td>297.12</td>\n",
       "      <td>40.97</td>\n",
       "      <td>10644.64</td>\n",
       "      <td>26.77</td>\n",
       "      <td>296.51</td>\n",
       "      <td>25.0</td>\n",
       "      <td>7327.12</td>\n",
       "      <td>5.5</td>\n",
       "      <td>168.0</td>\n",
       "    </tr>\n",
       "    <tr>\n",
       "      <th>4</th>\n",
       "      <td>3</td>\n",
       "      <td>smart</td>\n",
       "      <td>54.32</td>\n",
       "      <td>15104.16</td>\n",
       "      <td>31.86</td>\n",
       "      <td>390.05</td>\n",
       "      <td>25.54</td>\n",
       "      <td>5828.24</td>\n",
       "      <td>26.80</td>\n",
       "      <td>191.89</td>\n",
       "      <td>59.0</td>\n",
       "      <td>15670.25</td>\n",
       "      <td>23.0</td>\n",
       "      <td>409.0</td>\n",
       "    </tr>\n",
       "    <tr>\n",
       "      <th>5</th>\n",
       "      <td>3</td>\n",
       "      <td>ultra</td>\n",
       "      <td>67.68</td>\n",
       "      <td>17535.55</td>\n",
       "      <td>32.30</td>\n",
       "      <td>489.65</td>\n",
       "      <td>44.84</td>\n",
       "      <td>10951.79</td>\n",
       "      <td>41.62</td>\n",
       "      <td>333.74</td>\n",
       "      <td>57.0</td>\n",
       "      <td>17495.18</td>\n",
       "      <td>20.0</td>\n",
       "      <td>403.0</td>\n",
       "    </tr>\n",
       "    <tr>\n",
       "      <th>6</th>\n",
       "      <td>4</td>\n",
       "      <td>smart</td>\n",
       "      <td>51.31</td>\n",
       "      <td>13462.18</td>\n",
       "      <td>30.74</td>\n",
       "      <td>367.13</td>\n",
       "      <td>25.70</td>\n",
       "      <td>5698.25</td>\n",
       "      <td>24.54</td>\n",
       "      <td>186.49</td>\n",
       "      <td>52.0</td>\n",
       "      <td>14087.65</td>\n",
       "      <td>28.0</td>\n",
       "      <td>368.5</td>\n",
       "    </tr>\n",
       "    <tr>\n",
       "      <th>7</th>\n",
       "      <td>4</td>\n",
       "      <td>ultra</td>\n",
       "      <td>64.09</td>\n",
       "      <td>16828.13</td>\n",
       "      <td>31.56</td>\n",
       "      <td>458.02</td>\n",
       "      <td>36.27</td>\n",
       "      <td>9718.65</td>\n",
       "      <td>37.51</td>\n",
       "      <td>267.68</td>\n",
       "      <td>61.0</td>\n",
       "      <td>16645.78</td>\n",
       "      <td>17.0</td>\n",
       "      <td>453.0</td>\n",
       "    </tr>\n",
       "    <tr>\n",
       "      <th>8</th>\n",
       "      <td>5</td>\n",
       "      <td>smart</td>\n",
       "      <td>55.24</td>\n",
       "      <td>15805.18</td>\n",
       "      <td>33.77</td>\n",
       "      <td>387.36</td>\n",
       "      <td>25.38</td>\n",
       "      <td>5978.23</td>\n",
       "      <td>27.04</td>\n",
       "      <td>186.60</td>\n",
       "      <td>59.0</td>\n",
       "      <td>16323.94</td>\n",
       "      <td>30.0</td>\n",
       "      <td>433.0</td>\n",
       "    </tr>\n",
       "    <tr>\n",
       "      <th>9</th>\n",
       "      <td>5</td>\n",
       "      <td>ultra</td>\n",
       "      <td>72.51</td>\n",
       "      <td>19363.15</td>\n",
       "      <td>37.85</td>\n",
       "      <td>510.33</td>\n",
       "      <td>41.08</td>\n",
       "      <td>10046.11</td>\n",
       "      <td>40.31</td>\n",
       "      <td>289.60</td>\n",
       "      <td>75.0</td>\n",
       "      <td>18696.43</td>\n",
       "      <td>25.0</td>\n",
       "      <td>519.0</td>\n",
       "    </tr>\n",
       "  </tbody>\n",
       "</table>\n",
       "</div>"
      ],
      "text/plain": [
       "   month tariff  calls_mean  sessions_mean  messages_mean  minutes_mean  \\\n",
       "0      1  smart       27.68        8513.72          18.24        203.85   \n",
       "1      1  ultra       59.44       13140.68          33.78        428.11   \n",
       "2      2  smart       40.19       11597.05          24.09        298.69   \n",
       "3      2  ultra       41.54       11775.94          21.96        297.12   \n",
       "4      3  smart       54.32       15104.16          31.86        390.05   \n",
       "5      3  ultra       67.68       17535.55          32.30        489.65   \n",
       "6      4  smart       51.31       13462.18          30.74        367.13   \n",
       "7      4  ultra       64.09       16828.13          31.56        458.02   \n",
       "8      5  smart       55.24       15805.18          33.77        387.36   \n",
       "9      5  ultra       72.51       19363.15          37.85        510.33   \n",
       "\n",
       "   calls_std  sessions_std  messages_std  minutes_std  calls_median  \\\n",
       "0      20.81       6444.68         16.20       154.23          20.5   \n",
       "1      41.64       6865.35         30.67       269.76          51.0   \n",
       "2      25.39       6247.35         21.75       190.82          38.5   \n",
       "3      40.97      10644.64         26.77       296.51          25.0   \n",
       "4      25.54       5828.24         26.80       191.89          59.0   \n",
       "5      44.84      10951.79         41.62       333.74          57.0   \n",
       "6      25.70       5698.25         24.54       186.49          52.0   \n",
       "7      36.27       9718.65         37.51       267.68          61.0   \n",
       "8      25.38       5978.23         27.04       186.60          59.0   \n",
       "9      41.08      10046.11         40.31       289.60          75.0   \n",
       "\n",
       "   sessions_median  messages_median  minutes_median  \n",
       "0          7096.18             15.0           162.5  \n",
       "1         14791.37             32.0           382.0  \n",
       "2         12553.71             20.0           258.0  \n",
       "3          7327.12              5.5           168.0  \n",
       "4         15670.25             23.0           409.0  \n",
       "5         17495.18             20.0           403.0  \n",
       "6         14087.65             28.0           368.5  \n",
       "7         16645.78             17.0           453.0  \n",
       "8         16323.94             30.0           433.0  \n",
       "9         18696.43             25.0           519.0  "
      ]
     },
     "execution_count": 48,
     "metadata": {},
     "output_type": "execute_result"
    }
   ],
   "source": [
    "# сохранение статистических метрик для каждой пары месяц-тариф\n",
    "# в одной таблице stats_df (среднее значение, стандартное отклонение, медиана)\n",
    "\n",
    "stats_df = user_behavior.pivot_table(\n",
    "            index=['month', 'tariff'],\\\n",
    "            values=['calls', 'minutes', 'messages', 'mb_used'],\\\n",
    "            aggfunc=['mean', 'std', 'median']\\\n",
    ").round(2).reset_index()\n",
    "\n",
    "stats_df.columns=['month', 'tariff', 'calls_mean', 'sessions_mean', 'messages_mean', 'minutes_mean',\n",
    "                                     'calls_std',  'sessions_std', 'messages_std', 'minutes_std', \n",
    "                                     'calls_median', 'sessions_median', 'messages_median',  'minutes_median']\n",
    "\n",
    "stats_df.head(10)"
   ]
  },
  {
   "cell_type": "markdown",
   "metadata": {
    "deletable": false,
    "editable": false
   },
   "source": [
    "Распределение среднего количества звонков по видам тарифов и месяцам"
   ]
  },
  {
   "cell_type": "code",
   "execution_count": 49,
   "metadata": {
    "deletable": false
   },
   "outputs": [
    {
     "data": {
      "image/png": "[encoded data removed]",
      "text/plain": [
       "<Figure size 432x288 with 1 Axes>"
      ]
     },
     "metadata": {
      "needs_background": "light"
     },
     "output_type": "display_data"
    }
   ],
   "source": [
    "import seaborn as sns\n",
    "\n",
    "ax = sns.barplot(x='month',\n",
    "            y='calls_mean',\n",
    "            hue=\"tariff\",\n",
    "            data=stats_df,\n",
    "            palette=['lightblue', 'blue'])\n",
    "\n",
    "ax.set_title('Распределение количества звонков по видам тарифов и месяцам')\n",
    "ax.set(xlabel='Номер месяца', ylabel='Среднее количество звонков');"
   ]
  },
  {
   "cell_type": "code",
   "execution_count": 50,
   "metadata": {
    "deletable": false
   },
   "outputs": [
    {
     "data": {
      "image/png": "[encoded data removed]",
      "text/plain": [
       "<Figure size 432x288 with 1 Axes>"
      ]
     },
     "metadata": {
      "needs_background": "light"
     },
     "output_type": "display_data"
    }
   ],
   "source": [
    "import matplotlib.pyplot as plt\n",
    "\n",
    "user_behavior.groupby('tariff')['calls'].plot(kind='hist', bins=35, alpha=0.5)\n",
    "plt.legend(['Smart', 'Ultra'])\n",
    "plt.xlabel('Количество звонков')\n",
    "plt.ylabel('Количество клиентов')\n",
    "plt.show()"
   ]
  },
  {
   "cell_type": "markdown",
   "metadata": {
    "deletable": false,
    "editable": false
   },
   "source": [
    "Распределение средней продолжительности звонков по видам тарифов и месяцам"
   ]
  },
  {
   "cell_type": "code",
   "execution_count": 51,
   "metadata": {
    "deletable": false
   },
   "outputs": [
    {
     "data": {
      "image/png": "[encoded data removed]",
      "text/plain": [
       "<Figure size 432x288 with 1 Axes>"
      ]
     },
     "metadata": {
      "needs_background": "light"
     },
     "output_type": "display_data"
    }
   ],
   "source": [
    "ax = sns.barplot(x='month',\n",
    "            y='minutes_mean',\n",
    "            hue=\"tariff\",\n",
    "            data=stats_df,\n",
    "            palette=['lightblue', 'blue'])\n",
    "\n",
    "ax.set_title('Распределение продолжительности звонков по видам тарифов и месяцам')\n",
    "ax.set(xlabel='Номер месяца', ylabel='Средняя продолжительность звонков');"
   ]
  },
  {
   "cell_type": "code",
   "execution_count": 52,
   "metadata": {
    "deletable": false
   },
   "outputs": [
    {
     "data": {
      "image/png": "[encoded data removed]",
      "text/plain": [
       "<Figure size 432x288 with 1 Axes>"
      ]
     },
     "metadata": {
      "needs_background": "light"
     },
     "output_type": "display_data"
    }
   ],
   "source": [
    "user_behavior[user_behavior['tariff'] =='smart']['minutes'].hist(bins=35, alpha=0.5, color='green')\n",
    "user_behavior[user_behavior['tariff'] =='ultra']['minutes'].hist(bins=35, alpha=0.5, color='blue');"
   ]
  },
  {
   "cell_type": "code",
   "execution_count": 53,
   "metadata": {},
   "outputs": [
    {
     "data": {
      "image/png": "[encoded data removed]",
      "text/plain": [
       "<Figure size 432x288 with 1 Axes>"
      ]
     },
     "metadata": {
      "needs_background": "light"
     },
     "output_type": "display_data"
    }
   ],
   "source": [
    "user_behavior.groupby('tariff')['minutes'].plot(kind='hist', bins=35, alpha=0.5)\n",
    "plt.legend(['Smart', 'Ultra'])\n",
    "plt.xlabel('Время разговора')\n",
    "plt.ylabel('Количество клиентов')\n",
    "plt.show()"
   ]
  },
  {
   "cell_type": "markdown",
   "metadata": {
    "deletable": false,
    "editable": false
   },
   "source": [
    "Средняя длительность разговоров у абонентов тарифа Ultra больше, чем у абонентов тарифа Smart. В течение года пользователи обоих тарифов увеличивают среднюю продолжительность своих разговоров. Рост средней длительности разговоров у абонентов тарифа Smart равномерный в течение года. Пользователи тарифа Ultra не проявляют подобной линейной стабильности. Стоит отметить, что феврале у абонентов обоих тарифных планов наблюдались самые низкие показатели."
   ]
  },
  {
   "cell_type": "markdown",
   "metadata": {
    "deletable": false,
    "editable": false
   },
   "source": [
    "Распределение среднего количества сообщений по видам тарифов и месяцам"
   ]
  },
  {
   "cell_type": "code",
   "execution_count": 54,
   "metadata": {
    "deletable": false
   },
   "outputs": [
    {
     "data": {
      "image/png": "[encoded data removed]",
      "text/plain": [
       "<Figure size 432x288 with 1 Axes>"
      ]
     },
     "metadata": {
      "needs_background": "light"
     },
     "output_type": "display_data"
    }
   ],
   "source": [
    "ax = sns.barplot(x='month',\n",
    "            y='messages_mean',\n",
    "            hue=\"tariff\",\n",
    "            data=stats_df,\n",
    "            palette=['lightblue', 'blue']\n",
    ")\n",
    "\n",
    "ax.set_title('Распределение количества сообщений по видам тарифов и месяцам')\n",
    "ax.set(xlabel='Номер месяца', ylabel='Среднее количество сообщений');"
   ]
  },
  {
   "cell_type": "code",
   "execution_count": 55,
   "metadata": {
    "deletable": false
   },
   "outputs": [
    {
     "data": {
      "image/png": "[encoded data removed]",
      "text/plain": [
       "<Figure size 432x288 with 1 Axes>"
      ]
     },
     "metadata": {
      "needs_background": "light"
     },
     "output_type": "display_data"
    }
   ],
   "source": [
    "user_behavior[user_behavior['tariff'] =='smart']['messages'].hist(bins=35, alpha=0.5, color='green')\n",
    "user_behavior[user_behavior['tariff'] =='ultra']['messages'].hist(bins=35, alpha=0.5, color='blue');"
   ]
  },
  {
   "cell_type": "markdown",
   "metadata": {},
   "source": [
    "В среднем количество сообщений пользователи тарифа Ultra отправляют больше - почти на 20 сообщений больше, чем пользователи тарифа Smart. Количество сообщений в течение года на обоих тарифак растет. Динамика по отправке сообщений схожа с тенденциями по длительности разговоров: в феврале отмечено наименьшее количество сообщений за год и пользователи тарифа Ultra также проявляют нелинейную положительную динамику."
   ]
  },
  {
   "cell_type": "code",
   "execution_count": 56,
   "metadata": {
    "deletable": false
   },
   "outputs": [
    {
     "data": {
      "image/png": "[encoded data removed]",
      "text/plain": [
       "<Figure size 432x288 with 1 Axes>"
      ]
     },
     "metadata": {
      "needs_background": "light"
     },
     "output_type": "display_data"
    }
   ],
   "source": [
    "ax = sns.barplot(x='month',\n",
    "            y='sessions_mean',\n",
    "            hue=\"tariff\",\n",
    "            data=stats_df,\n",
    "            palette=['lightblue', 'blue']\n",
    ")\n",
    "\n",
    "ax.set_title('Распределение количества потраченного трафика (Мб) по видам тарифов и месяцам')\n",
    "ax.set(xlabel='Номер месяца', ylabel='Среднее количество мегабайт');"
   ]
  },
  {
   "cell_type": "markdown",
   "metadata": {
    "deletable": false,
    "editable": false
   },
   "source": [
    "Сравнение потраченных мегабайт среди пользователей тарифов Smart и Ultra"
   ]
  },
  {
   "cell_type": "code",
   "execution_count": 57,
   "metadata": {
    "deletable": false
   },
   "outputs": [
    {
     "data": {
      "image/png": "[encoded data removed]",
      "text/plain": [
       "<Figure size 432x288 with 1 Axes>"
      ]
     },
     "metadata": {
      "needs_background": "light"
     },
     "output_type": "display_data"
    }
   ],
   "source": [
    "user_behavior[user_behavior['tariff'] =='smart']['mb_used'].hist(bins=35, alpha=0.5, color='green')\n",
    "user_behavior[user_behavior['tariff'] =='ultra']['mb_used'].hist(bins=35, alpha=0.5, color='blue');"
   ]
  },
  {
   "cell_type": "markdown",
   "metadata": {
    "deletable": false,
    "editable": false
   },
   "source": [
    "Меньше всего пользователи использовали интернет в январе, феврале и апреле. Чаще всего абоненты тарифа Smart тратят 15-17 Гб, а абоненты тарифного плана Ultra - 19-21 ГБ."
   ]
  },
  {
   "cell_type": "markdown",
   "metadata": {
    "deletable": false,
    "editable": false
   },
   "source": [
    "### Проверка гипотез"
   ]
  },
  {
   "cell_type": "markdown",
   "metadata": {
    "deletable": false,
    "editable": false,
    "tags": [
     "start_task"
    ]
   },
   "source": [
    "**Задание 28.** Проверка гипотезы: средняя выручка пользователей тарифов «Ультра» и «Смарт» различаются;\n",
    "\n",
    "```\n",
    "H_0: Выручка (total_cost) пользователей \"Ультра\" = выручка (total_cost) пользователей \"Смарт\"`\n",
    "H_a: Выручка (total_cost) пользователей \"Ультра\" ≠ выручка (total_cost) пользователей \"Смарт\"`\n",
    "alpha = 0.05\n",
    "```"
   ]
  },
  {
   "cell_type": "code",
   "execution_count": 58,
   "metadata": {
    "deletable": false
   },
   "outputs": [],
   "source": [
    "from scipy import stats as st"
   ]
  },
  {
   "cell_type": "code",
   "execution_count": 112,
   "metadata": {
    "deletable": false
   },
   "outputs": [
    {
     "name": "stdout",
     "output_type": "stream",
     "text": [
      "4.2606313931076085e-250\n",
      "Отвергаем нулевую гипотезу\n"
     ]
    }
   ],
   "source": [
    "results = st.ttest_ind(user_behavior[user_behavior['tariff'] =='ultra']['total_cost'],user_behavior[user_behavior['tariff'] =='smart']['total_cost'],equal_var=False) # вызов метода для проверки гипотезы\n",
    "\n",
    "alpha = 0.05 # задайте значение уровня значимости\n",
    "print(results.pvalue)\n",
    "# вывод значения p-value на экран \n",
    "# условный оператор с выводом строки с ответом\n",
    "if results.pvalue<alpha:\n",
    "    print('Отвергаем нулевую гипотезу')\n",
    "else:\n",
    "    print(\"Не получилось отвергнуть нулевую гипотезу\")     "
   ]
  },
  {
   "cell_type": "markdown",
   "metadata": {
    "deletable": false,
    "editable": false,
    "tags": [
     "start_task"
    ]
   },
   "source": [
    "**Задание 29.** Проверка гипотезы: пользователи из Москвы приносят больше выручки, чем пользователи из других городов;\n",
    "\n",
    "```\n",
    "H_0: Выручка (total_cost) пользователей из Москвы = выручка (total_cost) пользователей не из Москвы`\n",
    "H_1: Выручка (total_cost) пользователей из Москвы ≠ выручка (total_cost) пользователей не из Москвы`\n",
    "alpha = 0.05\n",
    "```"
   ]
  },
  {
   "cell_type": "code",
   "execution_count": 60,
   "metadata": {},
   "outputs": [
    {
     "data": {
      "text/plain": [
       "8       1950.0\n",
       "9       1950.0\n",
       "10      1950.0\n",
       "11      1950.0\n",
       "12      1950.0\n",
       "         ...  \n",
       "3174     950.0\n",
       "3175     550.0\n",
       "3176    1750.0\n",
       "3177    1350.0\n",
       "3178     750.0\n",
       "Name: total_cost, Length: 611, dtype: float64"
      ]
     },
     "execution_count": 60,
     "metadata": {},
     "output_type": "execute_result"
    }
   ],
   "source": [
    "user_behavior[user_behavior['city'] =='Москва']['total_cost']"
   ]
  },
  {
   "cell_type": "code",
   "execution_count": 113,
   "metadata": {
    "deletable": false
   },
   "outputs": [
    {
     "name": "stdout",
     "output_type": "stream",
     "text": [
      "0.5257376663729298\n",
      "Не получилось отвергнуть нулевую гипотезу\n"
     ]
    }
   ],
   "source": [
    "results = st.ttest_ind(user_behavior[user_behavior['city'] =='Москва']['total_cost'],user_behavior[user_behavior['city'] !='Москва']['total_cost'],equal_var=False) # вызов метода для проверки гипотезы\n",
    "\n",
    "alpha = 0.05 # задайте значение уровня значимости\n",
    "print(results.pvalue)\n",
    "# вывод значения p-value на экран \n",
    "# условный оператор с выводом строки с ответом\n",
    "if results.pvalue<alpha:\n",
    "    print('Отвергаем нулевую гипотезу')\n",
    "else:\n",
    "    print(\"Не получилось отвергнуть нулевую гипотезу\")     "
   ]
  },
  {
   "cell_type": "code",
   "execution_count": null,
   "metadata": {},
   "outputs": [],
   "source": []
  }
 ],
 "metadata": {
  "ExecuteTimeLog": [
   {
    "duration": 47,
    "start_time": "2022-09-30T19:45:43.296Z"
   },
   {
    "duration": 5,
    "start_time": "2022-09-30T20:17:47.508Z"
   },
   {
    "duration": 5,
    "start_time": "2022-09-30T20:23:38.301Z"
   },
   {
    "duration": 396,
    "start_time": "2022-09-30T20:23:56.124Z"
   },
   {
    "duration": 215,
    "start_time": "2022-09-30T20:23:58.165Z"
   },
   {
    "duration": 403,
    "start_time": "2022-09-30T20:24:06.276Z"
   },
   {
    "duration": 148,
    "start_time": "2022-09-30T20:24:09.836Z"
   },
   {
    "duration": 14,
    "start_time": "2022-09-30T20:24:24.806Z"
   },
   {
    "duration": 24,
    "start_time": "2022-09-30T20:25:03.018Z"
   },
   {
    "duration": 66,
    "start_time": "2022-09-30T20:27:44.060Z"
   },
   {
    "duration": 634,
    "start_time": "2022-09-30T20:31:16.257Z"
   },
   {
    "duration": 1087,
    "start_time": "2022-09-30T20:31:29.449Z"
   },
   {
    "duration": 138,
    "start_time": "2022-09-30T20:31:35.794Z"
   },
   {
    "duration": 196,
    "start_time": "2022-09-30T20:33:04.975Z"
   },
   {
    "duration": 131,
    "start_time": "2022-09-30T20:33:20.545Z"
   },
   {
    "duration": 149,
    "start_time": "2022-09-30T20:33:32.302Z"
   },
   {
    "duration": 16,
    "start_time": "2022-09-30T20:34:28.925Z"
   },
   {
    "duration": 301,
    "start_time": "2022-09-30T20:34:34.061Z"
   },
   {
    "duration": 9,
    "start_time": "2022-09-30T20:34:48.458Z"
   },
   {
    "duration": 213,
    "start_time": "2022-09-30T20:35:23.870Z"
   },
   {
    "duration": 18,
    "start_time": "2022-09-30T20:35:43.477Z"
   },
   {
    "duration": 129,
    "start_time": "2022-09-30T20:46:25.090Z"
   },
   {
    "duration": 149,
    "start_time": "2022-09-30T20:46:36.988Z"
   },
   {
    "duration": 329,
    "start_time": "2022-09-30T20:47:15.565Z"
   },
   {
    "duration": 11,
    "start_time": "2022-09-30T20:47:27.493Z"
   },
   {
    "duration": 7,
    "start_time": "2022-09-30T20:47:33.602Z"
   },
   {
    "duration": 17,
    "start_time": "2022-09-30T20:47:46.142Z"
   },
   {
    "duration": 6,
    "start_time": "2022-09-30T20:49:08.472Z"
   },
   {
    "duration": 72,
    "start_time": "2022-09-30T20:49:32.661Z"
   },
   {
    "duration": 8,
    "start_time": "2022-09-30T20:49:50.188Z"
   },
   {
    "duration": 5,
    "start_time": "2022-09-30T20:50:13.638Z"
   },
   {
    "duration": 7,
    "start_time": "2022-09-30T20:50:22.965Z"
   },
   {
    "duration": 6,
    "start_time": "2022-09-30T20:50:39.598Z"
   },
   {
    "duration": 10,
    "start_time": "2022-09-30T20:50:42.920Z"
   },
   {
    "duration": 77,
    "start_time": "2022-09-30T20:51:28.587Z"
   },
   {
    "duration": 9,
    "start_time": "2022-09-30T20:51:45.394Z"
   },
   {
    "duration": 7,
    "start_time": "2022-09-30T20:52:14.183Z"
   },
   {
    "duration": 9,
    "start_time": "2022-09-30T20:52:18.749Z"
   },
   {
    "duration": 11,
    "start_time": "2022-09-30T20:52:27.833Z"
   },
   {
    "duration": 3,
    "start_time": "2022-10-01T17:50:52.446Z"
   },
   {
    "duration": 385,
    "start_time": "2022-10-01T17:51:13.817Z"
   },
   {
    "duration": 148,
    "start_time": "2022-10-01T17:51:51.319Z"
   },
   {
    "duration": 14,
    "start_time": "2022-10-01T17:51:51.700Z"
   },
   {
    "duration": 23,
    "start_time": "2022-10-01T17:51:52.087Z"
   },
   {
    "duration": 444,
    "start_time": "2022-10-01T17:51:53.231Z"
   },
   {
    "duration": 127,
    "start_time": "2022-10-01T17:51:53.677Z"
   },
   {
    "duration": 8,
    "start_time": "2022-10-01T17:51:54.089Z"
   },
   {
    "duration": 19,
    "start_time": "2022-10-01T17:51:55.447Z"
   },
   {
    "duration": 154,
    "start_time": "2022-10-01T17:51:56.690Z"
   },
   {
    "duration": 100,
    "start_time": "2022-10-01T17:51:59.786Z"
   },
   {
    "duration": 74,
    "start_time": "2022-10-01T17:54:20.435Z"
   },
   {
    "duration": 8,
    "start_time": "2022-10-01T17:54:27.905Z"
   },
   {
    "duration": 8,
    "start_time": "2022-10-01T17:55:09.535Z"
   },
   {
    "duration": 17,
    "start_time": "2022-10-01T17:55:16.537Z"
   },
   {
    "duration": 7,
    "start_time": "2022-10-01T17:58:07.003Z"
   },
   {
    "duration": 16,
    "start_time": "2022-10-01T17:58:08.351Z"
   },
   {
    "duration": 27,
    "start_time": "2022-10-01T17:58:09.116Z"
   },
   {
    "duration": 27,
    "start_time": "2022-10-01T17:58:34.500Z"
   },
   {
    "duration": 7,
    "start_time": "2022-10-01T17:58:35.679Z"
   },
   {
    "duration": 10,
    "start_time": "2022-10-01T17:58:36.616Z"
   },
   {
    "duration": 38,
    "start_time": "2022-10-01T17:58:37.291Z"
   },
   {
    "duration": 9,
    "start_time": "2022-10-01T17:58:37.938Z"
   },
   {
    "duration": 9,
    "start_time": "2022-10-01T17:58:38.619Z"
   },
   {
    "duration": 63,
    "start_time": "2022-10-01T18:12:32.238Z"
   },
   {
    "duration": 52,
    "start_time": "2022-10-01T18:15:28.877Z"
   },
   {
    "duration": 81,
    "start_time": "2022-10-01T18:16:49.834Z"
   },
   {
    "duration": 53,
    "start_time": "2022-10-01T18:17:51.038Z"
   },
   {
    "duration": 48,
    "start_time": "2022-10-01T18:18:10.188Z"
   },
   {
    "duration": 63,
    "start_time": "2022-10-01T18:20:31.458Z"
   },
   {
    "duration": 52,
    "start_time": "2022-10-01T18:20:48.849Z"
   },
   {
    "duration": 65,
    "start_time": "2022-10-01T18:21:53.819Z"
   },
   {
    "duration": 10,
    "start_time": "2022-10-01T18:22:30.319Z"
   },
   {
    "duration": 8,
    "start_time": "2022-10-01T18:23:31.148Z"
   },
   {
    "duration": 22,
    "start_time": "2022-10-01T18:23:36.188Z"
   },
   {
    "duration": 255,
    "start_time": "2022-10-01T18:23:38.912Z"
   },
   {
    "duration": 132,
    "start_time": "2022-10-01T18:23:40.689Z"
   },
   {
    "duration": 7,
    "start_time": "2022-10-01T18:23:43.791Z"
   },
   {
    "duration": 19,
    "start_time": "2022-10-01T18:23:45.308Z"
   },
   {
    "duration": 149,
    "start_time": "2022-10-01T18:23:46.631Z"
   },
   {
    "duration": 91,
    "start_time": "2022-10-01T18:23:49.197Z"
   },
   {
    "duration": 7,
    "start_time": "2022-10-01T18:23:50.477Z"
   },
   {
    "duration": 17,
    "start_time": "2022-10-01T18:23:52.848Z"
   },
   {
    "duration": 27,
    "start_time": "2022-10-01T18:23:56.051Z"
   },
   {
    "duration": 8,
    "start_time": "2022-10-01T18:23:58.018Z"
   },
   {
    "duration": 9,
    "start_time": "2022-10-01T18:23:59.018Z"
   },
   {
    "duration": 39,
    "start_time": "2022-10-01T18:24:01.093Z"
   },
   {
    "duration": 9,
    "start_time": "2022-10-01T18:24:02.177Z"
   },
   {
    "duration": 11,
    "start_time": "2022-10-01T18:24:03.498Z"
   },
   {
    "duration": 9,
    "start_time": "2022-10-01T18:24:32.728Z"
   },
   {
    "duration": 15,
    "start_time": "2022-10-01T18:24:35.962Z"
   },
   {
    "duration": 8,
    "start_time": "2022-10-01T18:25:13.119Z"
   },
   {
    "duration": 9,
    "start_time": "2022-10-01T18:25:28.603Z"
   },
   {
    "duration": 9,
    "start_time": "2022-10-01T18:26:35.314Z"
   },
   {
    "duration": 9,
    "start_time": "2022-10-01T18:26:45.282Z"
   },
   {
    "duration": 8,
    "start_time": "2022-10-01T18:26:54.026Z"
   },
   {
    "duration": 10,
    "start_time": "2022-10-01T18:27:49.434Z"
   },
   {
    "duration": 9,
    "start_time": "2022-10-01T18:27:55.625Z"
   },
   {
    "duration": 9,
    "start_time": "2022-10-01T18:28:01.518Z"
   },
   {
    "duration": 4,
    "start_time": "2022-10-01T18:28:06.191Z"
   },
   {
    "duration": 6,
    "start_time": "2022-10-01T18:28:16.295Z"
   },
   {
    "duration": 6,
    "start_time": "2022-10-01T18:28:27.992Z"
   },
   {
    "duration": 8,
    "start_time": "2022-10-01T18:28:33.249Z"
   },
   {
    "duration": 7,
    "start_time": "2022-10-01T18:28:41.176Z"
   },
   {
    "duration": 9,
    "start_time": "2022-10-01T18:29:06.058Z"
   },
   {
    "duration": 7,
    "start_time": "2022-10-01T18:29:23.238Z"
   },
   {
    "duration": 7,
    "start_time": "2022-10-01T18:29:32.746Z"
   },
   {
    "duration": 7,
    "start_time": "2022-10-01T18:29:44.029Z"
   },
   {
    "duration": 7,
    "start_time": "2022-10-01T18:30:04.090Z"
   },
   {
    "duration": 4,
    "start_time": "2022-10-01T18:30:23.697Z"
   },
   {
    "duration": 6,
    "start_time": "2022-10-01T18:30:33.649Z"
   },
   {
    "duration": 4,
    "start_time": "2022-10-01T18:31:02.542Z"
   },
   {
    "duration": 8,
    "start_time": "2022-10-01T18:31:14.406Z"
   },
   {
    "duration": 5,
    "start_time": "2022-10-01T18:31:23.883Z"
   },
   {
    "duration": 5,
    "start_time": "2022-10-01T18:32:49.917Z"
   },
   {
    "duration": 9,
    "start_time": "2022-10-01T18:33:15.715Z"
   },
   {
    "duration": 8,
    "start_time": "2022-10-01T18:33:27.939Z"
   },
   {
    "duration": 5,
    "start_time": "2022-10-01T18:33:41.717Z"
   },
   {
    "duration": 8,
    "start_time": "2022-10-01T18:33:42.869Z"
   },
   {
    "duration": 6,
    "start_time": "2022-10-01T18:34:01.430Z"
   },
   {
    "duration": 4,
    "start_time": "2022-10-01T18:34:12.065Z"
   },
   {
    "duration": 5,
    "start_time": "2022-10-01T18:34:24.644Z"
   },
   {
    "duration": 9,
    "start_time": "2022-10-01T18:34:25.546Z"
   },
   {
    "duration": 5,
    "start_time": "2022-10-01T18:35:31.881Z"
   },
   {
    "duration": 394,
    "start_time": "2022-10-01T18:36:52.796Z"
   },
   {
    "duration": 147,
    "start_time": "2022-10-01T18:36:53.261Z"
   },
   {
    "duration": 13,
    "start_time": "2022-10-01T18:36:53.527Z"
   },
   {
    "duration": 21,
    "start_time": "2022-10-01T18:36:53.877Z"
   },
   {
    "duration": 451,
    "start_time": "2022-10-01T18:36:54.198Z"
   },
   {
    "duration": 133,
    "start_time": "2022-10-01T18:36:54.650Z"
   },
   {
    "duration": 8,
    "start_time": "2022-10-01T18:36:56.063Z"
   },
   {
    "duration": 20,
    "start_time": "2022-10-01T18:36:56.440Z"
   },
   {
    "duration": 147,
    "start_time": "2022-10-01T18:36:56.818Z"
   },
   {
    "duration": 95,
    "start_time": "2022-10-01T18:36:57.788Z"
   },
   {
    "duration": 6,
    "start_time": "2022-10-01T18:36:58.129Z"
   },
   {
    "duration": 16,
    "start_time": "2022-10-01T18:37:00.424Z"
   },
   {
    "duration": 27,
    "start_time": "2022-10-01T18:37:03.733Z"
   },
   {
    "duration": 8,
    "start_time": "2022-10-01T18:37:04.176Z"
   },
   {
    "duration": 9,
    "start_time": "2022-10-01T18:37:05.090Z"
   },
   {
    "duration": 40,
    "start_time": "2022-10-01T18:37:05.418Z"
   },
   {
    "duration": 11,
    "start_time": "2022-10-01T18:37:06.212Z"
   },
   {
    "duration": 10,
    "start_time": "2022-10-01T18:37:06.572Z"
   },
   {
    "duration": 4,
    "start_time": "2022-10-01T18:37:24.276Z"
   },
   {
    "duration": 73,
    "start_time": "2022-10-01T18:38:29.753Z"
   },
   {
    "duration": 7,
    "start_time": "2022-10-01T18:38:41.240Z"
   },
   {
    "duration": 6,
    "start_time": "2022-10-01T18:38:59.096Z"
   },
   {
    "duration": 4,
    "start_time": "2022-10-01T18:40:08.528Z"
   },
   {
    "duration": 6,
    "start_time": "2022-10-01T18:40:10.288Z"
   },
   {
    "duration": 4,
    "start_time": "2022-10-01T18:40:19.200Z"
   },
   {
    "duration": 5,
    "start_time": "2022-10-01T18:40:26.407Z"
   },
   {
    "duration": 4,
    "start_time": "2022-10-01T18:40:35.455Z"
   },
   {
    "duration": 7,
    "start_time": "2022-10-01T18:45:47.379Z"
   },
   {
    "duration": 15,
    "start_time": "2022-10-01T18:46:05.197Z"
   },
   {
    "duration": 44,
    "start_time": "2022-10-01T18:47:39.639Z"
   },
   {
    "duration": 5,
    "start_time": "2022-10-01T18:47:46.450Z"
   },
   {
    "duration": 6,
    "start_time": "2022-10-01T18:48:03.833Z"
   },
   {
    "duration": 5,
    "start_time": "2022-10-01T18:48:43.808Z"
   },
   {
    "duration": 7,
    "start_time": "2022-10-01T18:48:57.019Z"
   },
   {
    "duration": 5,
    "start_time": "2022-10-01T18:49:23.789Z"
   },
   {
    "duration": 10,
    "start_time": "2022-10-01T18:49:30.298Z"
   },
   {
    "duration": 4,
    "start_time": "2022-10-01T18:50:08.709Z"
   },
   {
    "duration": 16,
    "start_time": "2022-10-01T18:50:22.619Z"
   },
   {
    "duration": 4,
    "start_time": "2022-10-01T18:50:29.699Z"
   },
   {
    "duration": 16,
    "start_time": "2022-10-01T18:50:44.990Z"
   },
   {
    "duration": 3,
    "start_time": "2022-10-01T18:50:51.994Z"
   },
   {
    "duration": 8,
    "start_time": "2022-10-01T18:51:54.634Z"
   },
   {
    "duration": 4,
    "start_time": "2022-10-01T18:51:58.760Z"
   },
   {
    "duration": 5,
    "start_time": "2022-10-01T18:52:05.076Z"
   },
   {
    "duration": 362,
    "start_time": "2022-10-01T18:52:35.351Z"
   },
   {
    "duration": 149,
    "start_time": "2022-10-01T18:52:35.715Z"
   },
   {
    "duration": 14,
    "start_time": "2022-10-01T18:52:35.865Z"
   },
   {
    "duration": 28,
    "start_time": "2022-10-01T18:52:35.881Z"
   },
   {
    "duration": 436,
    "start_time": "2022-10-01T18:52:35.911Z"
   },
   {
    "duration": 123,
    "start_time": "2022-10-01T18:52:36.348Z"
   },
   {
    "duration": 8,
    "start_time": "2022-10-01T18:52:36.473Z"
   },
   {
    "duration": 31,
    "start_time": "2022-10-01T18:52:36.483Z"
   },
   {
    "duration": 164,
    "start_time": "2022-10-01T18:52:36.516Z"
   },
   {
    "duration": 93,
    "start_time": "2022-10-01T18:52:36.681Z"
   },
   {
    "duration": 6,
    "start_time": "2022-10-01T18:52:36.776Z"
   },
   {
    "duration": 25,
    "start_time": "2022-10-01T18:52:36.784Z"
   },
   {
    "duration": 28,
    "start_time": "2022-10-01T18:52:36.811Z"
   },
   {
    "duration": 7,
    "start_time": "2022-10-01T18:52:36.841Z"
   },
   {
    "duration": 9,
    "start_time": "2022-10-01T18:52:36.850Z"
   },
   {
    "duration": 30,
    "start_time": "2022-10-01T18:52:36.861Z"
   },
   {
    "duration": 8,
    "start_time": "2022-10-01T18:52:36.893Z"
   },
   {
    "duration": 10,
    "start_time": "2022-10-01T18:52:36.903Z"
   },
   {
    "duration": 8,
    "start_time": "2022-10-01T18:52:36.914Z"
   },
   {
    "duration": 8,
    "start_time": "2022-10-01T18:53:18.789Z"
   },
   {
    "duration": 4,
    "start_time": "2022-10-01T18:53:21.155Z"
   },
   {
    "duration": 6,
    "start_time": "2022-10-01T18:54:09.307Z"
   },
   {
    "duration": 6,
    "start_time": "2022-10-01T18:54:26.619Z"
   },
   {
    "duration": 7,
    "start_time": "2022-10-01T18:54:41.578Z"
   },
   {
    "duration": 6,
    "start_time": "2022-10-01T18:54:52.539Z"
   },
   {
    "duration": 341,
    "start_time": "2022-10-01T18:55:12.456Z"
   },
   {
    "duration": 145,
    "start_time": "2022-10-01T18:55:12.799Z"
   },
   {
    "duration": 13,
    "start_time": "2022-10-01T18:55:12.946Z"
   },
   {
    "duration": 20,
    "start_time": "2022-10-01T18:55:12.961Z"
   },
   {
    "duration": 420,
    "start_time": "2022-10-01T18:55:12.983Z"
   },
   {
    "duration": 116,
    "start_time": "2022-10-01T18:55:13.404Z"
   },
   {
    "duration": 9,
    "start_time": "2022-10-01T18:55:13.521Z"
   },
   {
    "duration": 20,
    "start_time": "2022-10-01T18:55:13.532Z"
   },
   {
    "duration": 160,
    "start_time": "2022-10-01T18:55:13.554Z"
   },
   {
    "duration": 88,
    "start_time": "2022-10-01T18:55:13.716Z"
   },
   {
    "duration": 7,
    "start_time": "2022-10-01T18:55:13.806Z"
   },
   {
    "duration": 16,
    "start_time": "2022-10-01T18:55:13.814Z"
   },
   {
    "duration": 26,
    "start_time": "2022-10-01T18:55:13.832Z"
   },
   {
    "duration": 7,
    "start_time": "2022-10-01T18:55:13.860Z"
   },
   {
    "duration": 11,
    "start_time": "2022-10-01T18:55:13.868Z"
   },
   {
    "duration": 29,
    "start_time": "2022-10-01T18:55:13.880Z"
   },
   {
    "duration": 8,
    "start_time": "2022-10-01T18:55:13.911Z"
   },
   {
    "duration": 11,
    "start_time": "2022-10-01T18:55:13.921Z"
   },
   {
    "duration": 4,
    "start_time": "2022-10-01T18:55:33.032Z"
   },
   {
    "duration": 5,
    "start_time": "2022-10-01T18:55:52.615Z"
   },
   {
    "duration": 4,
    "start_time": "2022-10-01T18:57:21.499Z"
   },
   {
    "duration": 6,
    "start_time": "2022-10-01T18:57:25.500Z"
   },
   {
    "duration": 6,
    "start_time": "2022-10-01T18:57:37.129Z"
   },
   {
    "duration": 4,
    "start_time": "2022-10-01T18:57:51.989Z"
   },
   {
    "duration": 10,
    "start_time": "2022-10-01T18:58:29.860Z"
   },
   {
    "duration": 72,
    "start_time": "2022-10-01T18:58:50.678Z"
   },
   {
    "duration": 35,
    "start_time": "2022-10-01T18:59:58.772Z"
   },
   {
    "duration": 69,
    "start_time": "2022-10-01T19:00:11.864Z"
   },
   {
    "duration": 48,
    "start_time": "2022-10-01T19:00:29.641Z"
   },
   {
    "duration": 38,
    "start_time": "2022-10-01T19:00:36.782Z"
   },
   {
    "duration": 376,
    "start_time": "2022-10-01T19:00:59.938Z"
   },
   {
    "duration": 153,
    "start_time": "2022-10-01T19:01:00.316Z"
   },
   {
    "duration": 14,
    "start_time": "2022-10-01T19:01:00.471Z"
   },
   {
    "duration": 29,
    "start_time": "2022-10-01T19:01:00.487Z"
   },
   {
    "duration": 459,
    "start_time": "2022-10-01T19:01:00.519Z"
   },
   {
    "duration": 123,
    "start_time": "2022-10-01T19:01:00.980Z"
   },
   {
    "duration": 10,
    "start_time": "2022-10-01T19:01:01.105Z"
   },
   {
    "duration": 30,
    "start_time": "2022-10-01T19:01:01.116Z"
   },
   {
    "duration": 169,
    "start_time": "2022-10-01T19:01:01.147Z"
   },
   {
    "duration": 88,
    "start_time": "2022-10-01T19:01:01.318Z"
   },
   {
    "duration": 8,
    "start_time": "2022-10-01T19:01:01.408Z"
   },
   {
    "duration": 42,
    "start_time": "2022-10-01T19:01:01.418Z"
   },
   {
    "duration": 30,
    "start_time": "2022-10-01T19:01:01.462Z"
   },
   {
    "duration": 8,
    "start_time": "2022-10-01T19:01:01.494Z"
   },
   {
    "duration": 14,
    "start_time": "2022-10-01T19:01:01.504Z"
   },
   {
    "duration": 32,
    "start_time": "2022-10-01T19:01:01.520Z"
   },
   {
    "duration": 10,
    "start_time": "2022-10-01T19:01:01.553Z"
   },
   {
    "duration": 20,
    "start_time": "2022-10-01T19:01:01.565Z"
   },
   {
    "duration": 75,
    "start_time": "2022-10-01T19:01:16.308Z"
   },
   {
    "duration": 6,
    "start_time": "2022-10-01T19:01:54.124Z"
   },
   {
    "duration": 7,
    "start_time": "2022-10-01T19:02:19.208Z"
   },
   {
    "duration": 5,
    "start_time": "2022-10-01T19:02:35.093Z"
   },
   {
    "duration": 11,
    "start_time": "2022-10-01T19:02:48.402Z"
   },
   {
    "duration": 6,
    "start_time": "2022-10-01T19:03:46.709Z"
   },
   {
    "duration": 10,
    "start_time": "2022-10-01T19:08:24.752Z"
   },
   {
    "duration": 7,
    "start_time": "2022-10-01T19:08:40.889Z"
   },
   {
    "duration": 353,
    "start_time": "2022-10-01T19:09:56.753Z"
   },
   {
    "duration": 148,
    "start_time": "2022-10-01T19:09:57.108Z"
   },
   {
    "duration": 14,
    "start_time": "2022-10-01T19:09:57.257Z"
   },
   {
    "duration": 24,
    "start_time": "2022-10-01T19:09:57.273Z"
   },
   {
    "duration": 420,
    "start_time": "2022-10-01T19:09:57.298Z"
   },
   {
    "duration": 115,
    "start_time": "2022-10-01T19:09:57.720Z"
   },
   {
    "duration": 8,
    "start_time": "2022-10-01T19:09:57.836Z"
   },
   {
    "duration": 21,
    "start_time": "2022-10-01T19:09:57.845Z"
   },
   {
    "duration": 161,
    "start_time": "2022-10-01T19:09:57.868Z"
   },
   {
    "duration": 84,
    "start_time": "2022-10-01T19:09:58.037Z"
   },
   {
    "duration": 7,
    "start_time": "2022-10-01T19:09:58.123Z"
   },
   {
    "duration": 17,
    "start_time": "2022-10-01T19:09:58.131Z"
   },
   {
    "duration": 27,
    "start_time": "2022-10-01T19:09:58.149Z"
   },
   {
    "duration": 7,
    "start_time": "2022-10-01T19:09:58.177Z"
   },
   {
    "duration": 10,
    "start_time": "2022-10-01T19:09:58.185Z"
   },
   {
    "duration": 31,
    "start_time": "2022-10-01T19:09:58.197Z"
   },
   {
    "duration": 8,
    "start_time": "2022-10-01T19:09:58.230Z"
   },
   {
    "duration": 11,
    "start_time": "2022-10-01T19:09:58.239Z"
   },
   {
    "duration": 351,
    "start_time": "2022-10-01T19:11:02.244Z"
   },
   {
    "duration": 144,
    "start_time": "2022-10-01T19:11:02.597Z"
   },
   {
    "duration": 13,
    "start_time": "2022-10-01T19:11:02.742Z"
   },
   {
    "duration": 29,
    "start_time": "2022-10-01T19:11:02.757Z"
   },
   {
    "duration": 415,
    "start_time": "2022-10-01T19:11:02.787Z"
   },
   {
    "duration": 118,
    "start_time": "2022-10-01T19:11:03.204Z"
   },
   {
    "duration": 8,
    "start_time": "2022-10-01T19:11:03.324Z"
   },
   {
    "duration": 21,
    "start_time": "2022-10-01T19:11:03.333Z"
   },
   {
    "duration": 154,
    "start_time": "2022-10-01T19:11:03.356Z"
   },
   {
    "duration": 87,
    "start_time": "2022-10-01T19:11:03.512Z"
   },
   {
    "duration": 6,
    "start_time": "2022-10-01T19:11:03.600Z"
   },
   {
    "duration": 17,
    "start_time": "2022-10-01T19:11:03.609Z"
   },
   {
    "duration": 27,
    "start_time": "2022-10-01T19:11:03.627Z"
   },
   {
    "duration": 6,
    "start_time": "2022-10-01T19:11:03.657Z"
   },
   {
    "duration": 11,
    "start_time": "2022-10-01T19:11:03.665Z"
   },
   {
    "duration": 31,
    "start_time": "2022-10-01T19:11:03.678Z"
   },
   {
    "duration": 9,
    "start_time": "2022-10-01T19:11:03.710Z"
   },
   {
    "duration": 12,
    "start_time": "2022-10-01T19:11:03.720Z"
   },
   {
    "duration": 4,
    "start_time": "2022-10-01T19:11:15.209Z"
   },
   {
    "duration": 395,
    "start_time": "2022-10-01T19:11:42.602Z"
   },
   {
    "duration": 147,
    "start_time": "2022-10-01T19:11:42.999Z"
   },
   {
    "duration": 15,
    "start_time": "2022-10-01T19:11:43.147Z"
   },
   {
    "duration": 24,
    "start_time": "2022-10-01T19:11:43.164Z"
   },
   {
    "duration": 433,
    "start_time": "2022-10-01T19:11:43.190Z"
   },
   {
    "duration": 123,
    "start_time": "2022-10-01T19:11:43.624Z"
   },
   {
    "duration": 8,
    "start_time": "2022-10-01T19:11:43.748Z"
   },
   {
    "duration": 18,
    "start_time": "2022-10-01T19:11:43.757Z"
   },
   {
    "duration": 155,
    "start_time": "2022-10-01T19:11:43.776Z"
   },
   {
    "duration": 86,
    "start_time": "2022-10-01T19:11:43.932Z"
   },
   {
    "duration": 7,
    "start_time": "2022-10-01T19:11:44.019Z"
   },
   {
    "duration": 17,
    "start_time": "2022-10-01T19:11:44.028Z"
   },
   {
    "duration": 26,
    "start_time": "2022-10-01T19:11:44.046Z"
   },
   {
    "duration": 7,
    "start_time": "2022-10-01T19:11:44.074Z"
   },
   {
    "duration": 10,
    "start_time": "2022-10-01T19:11:44.082Z"
   },
   {
    "duration": 30,
    "start_time": "2022-10-01T19:11:44.093Z"
   },
   {
    "duration": 9,
    "start_time": "2022-10-01T19:11:44.124Z"
   },
   {
    "duration": 10,
    "start_time": "2022-10-01T19:11:44.134Z"
   },
   {
    "duration": 4,
    "start_time": "2022-10-01T19:11:47.949Z"
   },
   {
    "duration": 5,
    "start_time": "2022-10-01T19:12:01.292Z"
   },
   {
    "duration": 11,
    "start_time": "2022-10-01T19:12:05.285Z"
   },
   {
    "duration": 7,
    "start_time": "2022-10-01T19:15:21.344Z"
   },
   {
    "duration": 13,
    "start_time": "2022-10-01T19:15:38.115Z"
   },
   {
    "duration": 7,
    "start_time": "2022-10-01T19:16:49.057Z"
   },
   {
    "duration": 13,
    "start_time": "2022-10-01T19:16:56.848Z"
   },
   {
    "duration": 7,
    "start_time": "2022-10-01T19:17:44.988Z"
   },
   {
    "duration": 364,
    "start_time": "2022-10-01T19:18:14.155Z"
   },
   {
    "duration": 151,
    "start_time": "2022-10-01T19:18:14.521Z"
   },
   {
    "duration": 14,
    "start_time": "2022-10-01T19:18:14.673Z"
   },
   {
    "duration": 27,
    "start_time": "2022-10-01T19:18:14.689Z"
   },
   {
    "duration": 431,
    "start_time": "2022-10-01T19:18:14.718Z"
   },
   {
    "duration": 124,
    "start_time": "2022-10-01T19:18:15.150Z"
   },
   {
    "duration": 9,
    "start_time": "2022-10-01T19:18:15.276Z"
   },
   {
    "duration": 23,
    "start_time": "2022-10-01T19:18:15.286Z"
   },
   {
    "duration": 163,
    "start_time": "2022-10-01T19:18:15.310Z"
   },
   {
    "duration": 85,
    "start_time": "2022-10-01T19:18:15.475Z"
   },
   {
    "duration": 7,
    "start_time": "2022-10-01T19:18:15.561Z"
   },
   {
    "duration": 18,
    "start_time": "2022-10-01T19:18:15.569Z"
   },
   {
    "duration": 28,
    "start_time": "2022-10-01T19:18:15.588Z"
   },
   {
    "duration": 7,
    "start_time": "2022-10-01T19:18:15.619Z"
   },
   {
    "duration": 9,
    "start_time": "2022-10-01T19:18:15.628Z"
   },
   {
    "duration": 33,
    "start_time": "2022-10-01T19:18:15.639Z"
   },
   {
    "duration": 10,
    "start_time": "2022-10-01T19:18:15.674Z"
   },
   {
    "duration": 9,
    "start_time": "2022-10-01T19:18:15.685Z"
   },
   {
    "duration": 4,
    "start_time": "2022-10-01T19:18:19.141Z"
   },
   {
    "duration": 6,
    "start_time": "2022-10-01T19:18:20.341Z"
   },
   {
    "duration": 7,
    "start_time": "2022-10-01T19:18:46.737Z"
   },
   {
    "duration": 13,
    "start_time": "2022-10-01T19:19:12.715Z"
   },
   {
    "duration": 6,
    "start_time": "2022-10-01T19:19:32.437Z"
   },
   {
    "duration": 11,
    "start_time": "2022-10-01T19:19:44.107Z"
   },
   {
    "duration": 7,
    "start_time": "2022-10-01T19:19:58.509Z"
   },
   {
    "duration": 12,
    "start_time": "2022-10-01T19:20:06.745Z"
   },
   {
    "duration": 6,
    "start_time": "2022-10-01T19:20:19.936Z"
   },
   {
    "duration": 11,
    "start_time": "2022-10-01T19:20:21.777Z"
   },
   {
    "duration": 80,
    "start_time": "2022-10-01T19:20:35.736Z"
   },
   {
    "duration": 12,
    "start_time": "2022-10-01T19:21:00.080Z"
   },
   {
    "duration": 10,
    "start_time": "2022-10-01T19:21:34.377Z"
   },
   {
    "duration": 14,
    "start_time": "2022-10-01T19:21:36.035Z"
   },
   {
    "duration": 6,
    "start_time": "2022-10-01T19:21:47.077Z"
   },
   {
    "duration": 11,
    "start_time": "2022-10-01T19:21:51.284Z"
   },
   {
    "duration": 391,
    "start_time": "2022-10-01T19:22:10.598Z"
   },
   {
    "duration": 146,
    "start_time": "2022-10-01T19:22:10.991Z"
   },
   {
    "duration": 13,
    "start_time": "2022-10-01T19:22:11.138Z"
   },
   {
    "duration": 21,
    "start_time": "2022-10-01T19:22:11.153Z"
   },
   {
    "duration": 425,
    "start_time": "2022-10-01T19:22:11.176Z"
   },
   {
    "duration": 114,
    "start_time": "2022-10-01T19:22:11.602Z"
   },
   {
    "duration": 7,
    "start_time": "2022-10-01T19:22:11.718Z"
   },
   {
    "duration": 21,
    "start_time": "2022-10-01T19:22:11.726Z"
   },
   {
    "duration": 155,
    "start_time": "2022-10-01T19:22:11.748Z"
   },
   {
    "duration": 83,
    "start_time": "2022-10-01T19:22:11.905Z"
   },
   {
    "duration": 7,
    "start_time": "2022-10-01T19:22:11.989Z"
   },
   {
    "duration": 19,
    "start_time": "2022-10-01T19:22:11.997Z"
   },
   {
    "duration": 27,
    "start_time": "2022-10-01T19:22:12.017Z"
   },
   {
    "duration": 7,
    "start_time": "2022-10-01T19:22:12.045Z"
   },
   {
    "duration": 14,
    "start_time": "2022-10-01T19:22:12.053Z"
   },
   {
    "duration": 30,
    "start_time": "2022-10-01T19:22:12.068Z"
   },
   {
    "duration": 9,
    "start_time": "2022-10-01T19:22:12.099Z"
   },
   {
    "duration": 10,
    "start_time": "2022-10-01T19:22:12.109Z"
   },
   {
    "duration": 6,
    "start_time": "2022-10-01T19:22:12.120Z"
   },
   {
    "duration": 6,
    "start_time": "2022-10-01T19:22:17.116Z"
   },
   {
    "duration": 6,
    "start_time": "2022-10-01T19:22:18.045Z"
   },
   {
    "duration": 12,
    "start_time": "2022-10-01T19:22:26.623Z"
   },
   {
    "duration": 4,
    "start_time": "2022-10-01T19:22:53.735Z"
   },
   {
    "duration": 12,
    "start_time": "2022-10-01T19:23:05.135Z"
   },
   {
    "duration": 389,
    "start_time": "2022-10-01T19:26:20.610Z"
   },
   {
    "duration": 143,
    "start_time": "2022-10-01T19:26:21.001Z"
   },
   {
    "duration": 14,
    "start_time": "2022-10-01T19:26:21.146Z"
   },
   {
    "duration": 21,
    "start_time": "2022-10-01T19:26:21.163Z"
   },
   {
    "duration": 430,
    "start_time": "2022-10-01T19:26:21.185Z"
   },
   {
    "duration": 116,
    "start_time": "2022-10-01T19:26:21.617Z"
   },
   {
    "duration": 8,
    "start_time": "2022-10-01T19:26:21.734Z"
   },
   {
    "duration": 22,
    "start_time": "2022-10-01T19:26:21.743Z"
   },
   {
    "duration": 154,
    "start_time": "2022-10-01T19:26:21.766Z"
   },
   {
    "duration": 84,
    "start_time": "2022-10-01T19:26:21.923Z"
   },
   {
    "duration": 6,
    "start_time": "2022-10-01T19:26:22.009Z"
   },
   {
    "duration": 24,
    "start_time": "2022-10-01T19:26:22.017Z"
   },
   {
    "duration": 32,
    "start_time": "2022-10-01T19:26:22.043Z"
   },
   {
    "duration": 7,
    "start_time": "2022-10-01T19:26:22.077Z"
   },
   {
    "duration": 10,
    "start_time": "2022-10-01T19:26:22.085Z"
   },
   {
    "duration": 40,
    "start_time": "2022-10-01T19:26:22.096Z"
   },
   {
    "duration": 8,
    "start_time": "2022-10-01T19:26:22.138Z"
   },
   {
    "duration": 11,
    "start_time": "2022-10-01T19:26:22.147Z"
   },
   {
    "duration": 4,
    "start_time": "2022-10-01T19:26:22.159Z"
   },
   {
    "duration": 5,
    "start_time": "2022-10-01T19:26:41.245Z"
   },
   {
    "duration": 6,
    "start_time": "2022-10-01T19:26:45.381Z"
   },
   {
    "duration": 12,
    "start_time": "2022-10-01T19:27:41.723Z"
   },
   {
    "duration": 75,
    "start_time": "2022-10-01T19:27:53.105Z"
   },
   {
    "duration": 11,
    "start_time": "2022-10-01T19:27:58.473Z"
   },
   {
    "duration": 4,
    "start_time": "2022-10-01T19:28:43.568Z"
   },
   {
    "duration": 3,
    "start_time": "2022-10-01T19:28:46.941Z"
   },
   {
    "duration": 10,
    "start_time": "2022-10-01T19:28:49.231Z"
   },
   {
    "duration": 8,
    "start_time": "2022-10-01T19:31:47.175Z"
   },
   {
    "duration": 2,
    "start_time": "2022-10-01T19:34:02.566Z"
   },
   {
    "duration": 75,
    "start_time": "2022-10-01T19:35:37.245Z"
   },
   {
    "duration": 7,
    "start_time": "2022-10-01T19:35:55.145Z"
   },
   {
    "duration": 6,
    "start_time": "2022-10-01T19:39:32.986Z"
   },
   {
    "duration": 7,
    "start_time": "2022-10-01T19:40:56.534Z"
   },
   {
    "duration": 9,
    "start_time": "2022-10-01T19:41:10.616Z"
   },
   {
    "duration": 6,
    "start_time": "2022-10-01T19:47:20.749Z"
   },
   {
    "duration": 8,
    "start_time": "2022-10-01T19:47:35.243Z"
   },
   {
    "duration": 19,
    "start_time": "2022-10-01T19:47:48.693Z"
   },
   {
    "duration": 18,
    "start_time": "2022-10-01T19:47:54.574Z"
   },
   {
    "duration": 9,
    "start_time": "2022-10-01T19:47:58.767Z"
   },
   {
    "duration": 18,
    "start_time": "2022-10-01T19:48:13.982Z"
   },
   {
    "duration": 5,
    "start_time": "2022-10-01T19:48:32.085Z"
   },
   {
    "duration": 4,
    "start_time": "2022-10-01T19:59:58.131Z"
   },
   {
    "duration": 8,
    "start_time": "2022-10-01T20:00:20.987Z"
   },
   {
    "duration": 6,
    "start_time": "2022-10-01T20:00:37.088Z"
   },
   {
    "duration": 8,
    "start_time": "2022-10-01T20:01:01.993Z"
   },
   {
    "duration": 7,
    "start_time": "2022-10-01T20:02:24.535Z"
   },
   {
    "duration": 7,
    "start_time": "2022-10-01T20:02:33.119Z"
   },
   {
    "duration": 9,
    "start_time": "2022-10-01T20:02:52.884Z"
   },
   {
    "duration": 988,
    "start_time": "2022-10-01T20:09:22.913Z"
   },
   {
    "duration": 399,
    "start_time": "2022-10-01T20:09:41.605Z"
   },
   {
    "duration": 149,
    "start_time": "2022-10-01T20:09:42.006Z"
   },
   {
    "duration": 15,
    "start_time": "2022-10-01T20:09:42.157Z"
   },
   {
    "duration": 21,
    "start_time": "2022-10-01T20:09:42.173Z"
   },
   {
    "duration": 431,
    "start_time": "2022-10-01T20:09:42.197Z"
   },
   {
    "duration": 117,
    "start_time": "2022-10-01T20:09:42.629Z"
   },
   {
    "duration": 8,
    "start_time": "2022-10-01T20:09:42.748Z"
   },
   {
    "duration": 20,
    "start_time": "2022-10-01T20:09:42.757Z"
   },
   {
    "duration": 162,
    "start_time": "2022-10-01T20:09:42.778Z"
   },
   {
    "duration": 91,
    "start_time": "2022-10-01T20:09:42.942Z"
   },
   {
    "duration": 8,
    "start_time": "2022-10-01T20:09:43.035Z"
   },
   {
    "duration": 18,
    "start_time": "2022-10-01T20:09:43.044Z"
   },
   {
    "duration": 27,
    "start_time": "2022-10-01T20:09:43.063Z"
   },
   {
    "duration": 7,
    "start_time": "2022-10-01T20:09:43.092Z"
   },
   {
    "duration": 9,
    "start_time": "2022-10-01T20:09:43.101Z"
   },
   {
    "duration": 36,
    "start_time": "2022-10-01T20:09:43.111Z"
   },
   {
    "duration": 8,
    "start_time": "2022-10-01T20:09:43.149Z"
   },
   {
    "duration": 10,
    "start_time": "2022-10-01T20:09:43.158Z"
   },
   {
    "duration": 5,
    "start_time": "2022-10-01T20:09:43.169Z"
   },
   {
    "duration": 12,
    "start_time": "2022-10-01T20:09:43.175Z"
   },
   {
    "duration": 73,
    "start_time": "2022-10-01T20:09:43.188Z"
   },
   {
    "duration": 6,
    "start_time": "2022-10-01T20:09:47.326Z"
   },
   {
    "duration": 3,
    "start_time": "2022-10-01T20:09:49.366Z"
   },
   {
    "duration": 5,
    "start_time": "2022-10-01T20:11:22.523Z"
   },
   {
    "duration": 7,
    "start_time": "2022-10-01T20:12:27.895Z"
   },
   {
    "duration": 71,
    "start_time": "2022-10-01T20:14:19.285Z"
   },
   {
    "duration": 16,
    "start_time": "2022-10-01T20:15:00.838Z"
   },
   {
    "duration": 13,
    "start_time": "2022-10-01T20:15:39.503Z"
   },
   {
    "duration": 17,
    "start_time": "2022-10-01T20:15:46.115Z"
   },
   {
    "duration": 11,
    "start_time": "2022-10-01T20:16:16.982Z"
   },
   {
    "duration": 7,
    "start_time": "2022-10-01T20:18:04.086Z"
   },
   {
    "duration": 7,
    "start_time": "2022-10-01T20:18:29.705Z"
   },
   {
    "duration": 10,
    "start_time": "2022-10-01T20:18:43.113Z"
   },
   {
    "duration": 883,
    "start_time": "2022-10-01T20:19:23.282Z"
   },
   {
    "duration": 12,
    "start_time": "2022-10-01T20:20:00.795Z"
   },
   {
    "duration": 7,
    "start_time": "2022-10-01T20:21:23.136Z"
   },
   {
    "duration": 7,
    "start_time": "2022-10-01T20:23:56.764Z"
   },
   {
    "duration": 7,
    "start_time": "2022-10-01T20:24:06.556Z"
   },
   {
    "duration": 6,
    "start_time": "2022-10-01T20:24:15.494Z"
   },
   {
    "duration": 7,
    "start_time": "2022-10-01T20:24:20.455Z"
   },
   {
    "duration": 20,
    "start_time": "2022-10-01T20:24:28.634Z"
   },
   {
    "duration": 6,
    "start_time": "2022-10-01T20:24:37.256Z"
   },
   {
    "duration": 10,
    "start_time": "2022-10-01T20:25:20.936Z"
   },
   {
    "duration": 7,
    "start_time": "2022-10-01T20:25:22.280Z"
   },
   {
    "duration": 53,
    "start_time": "2022-10-01T20:26:24.235Z"
   },
   {
    "duration": 35,
    "start_time": "2022-10-01T20:26:41.446Z"
   },
   {
    "duration": 18,
    "start_time": "2022-10-01T20:26:44.265Z"
   },
   {
    "duration": 28,
    "start_time": "2022-10-01T20:27:21.618Z"
   },
   {
    "duration": 38,
    "start_time": "2022-10-01T20:27:55.645Z"
   },
   {
    "duration": 31,
    "start_time": "2022-10-01T20:27:56.996Z"
   },
   {
    "duration": 2,
    "start_time": "2022-10-01T20:28:38.256Z"
   },
   {
    "duration": 2,
    "start_time": "2022-10-01T20:28:38.684Z"
   },
   {
    "duration": 64,
    "start_time": "2022-10-01T20:34:35.565Z"
   },
   {
    "duration": 10,
    "start_time": "2022-10-01T20:34:42.286Z"
   },
   {
    "duration": 8,
    "start_time": "2022-10-01T20:35:20.696Z"
   },
   {
    "duration": 15,
    "start_time": "2022-10-01T20:37:33.745Z"
   },
   {
    "duration": 6,
    "start_time": "2022-10-01T20:37:38.915Z"
   },
   {
    "duration": 32,
    "start_time": "2022-10-01T20:39:07.895Z"
   },
   {
    "duration": 26,
    "start_time": "2022-10-01T20:39:42.576Z"
   },
   {
    "duration": 14,
    "start_time": "2022-10-01T20:40:44.385Z"
   },
   {
    "duration": 11,
    "start_time": "2022-10-01T20:42:30.646Z"
   },
   {
    "duration": 5,
    "start_time": "2022-10-01T20:43:01.799Z"
   },
   {
    "duration": 13,
    "start_time": "2022-10-01T20:44:12.646Z"
   },
   {
    "duration": 13,
    "start_time": "2022-10-01T20:46:17.902Z"
   },
   {
    "duration": 7,
    "start_time": "2022-10-01T20:46:19.375Z"
   },
   {
    "duration": 9,
    "start_time": "2022-10-01T20:46:29.175Z"
   },
   {
    "duration": 14,
    "start_time": "2022-10-01T20:47:34.065Z"
   },
   {
    "duration": 3,
    "start_time": "2022-10-01T20:48:14.807Z"
   },
   {
    "duration": 18,
    "start_time": "2022-10-01T21:27:44.376Z"
   },
   {
    "duration": 4,
    "start_time": "2022-10-01T21:28:39.895Z"
   },
   {
    "duration": 4,
    "start_time": "2022-10-01T21:29:31.635Z"
   },
   {
    "duration": 341,
    "start_time": "2022-10-01T21:30:52.059Z"
   },
   {
    "duration": 152,
    "start_time": "2022-10-01T21:30:52.798Z"
   },
   {
    "duration": 14,
    "start_time": "2022-10-01T21:30:53.189Z"
   },
   {
    "duration": 22,
    "start_time": "2022-10-01T21:30:53.579Z"
   },
   {
    "duration": 456,
    "start_time": "2022-10-01T21:30:54.289Z"
   },
   {
    "duration": 137,
    "start_time": "2022-10-01T21:30:55.459Z"
   },
   {
    "duration": 8,
    "start_time": "2022-10-01T21:30:55.859Z"
   },
   {
    "duration": 21,
    "start_time": "2022-10-01T21:30:56.209Z"
   },
   {
    "duration": 148,
    "start_time": "2022-10-01T21:30:56.719Z"
   },
   {
    "duration": 96,
    "start_time": "2022-10-01T21:30:57.099Z"
   },
   {
    "duration": 6,
    "start_time": "2022-10-01T21:30:57.476Z"
   },
   {
    "duration": 15,
    "start_time": "2022-10-01T21:30:57.883Z"
   },
   {
    "duration": 26,
    "start_time": "2022-10-01T21:30:58.229Z"
   },
   {
    "duration": 8,
    "start_time": "2022-10-01T21:30:58.638Z"
   },
   {
    "duration": 10,
    "start_time": "2022-10-01T21:30:58.999Z"
   },
   {
    "duration": 39,
    "start_time": "2022-10-01T21:30:59.450Z"
   },
   {
    "duration": 9,
    "start_time": "2022-10-01T21:30:59.886Z"
   },
   {
    "duration": 11,
    "start_time": "2022-10-01T21:31:00.268Z"
   },
   {
    "duration": 75,
    "start_time": "2022-10-01T21:31:27.468Z"
   },
   {
    "duration": 5,
    "start_time": "2022-10-01T21:31:32.191Z"
   },
   {
    "duration": 3,
    "start_time": "2022-10-01T21:31:33.009Z"
   },
   {
    "duration": 14,
    "start_time": "2022-10-01T21:31:33.395Z"
   },
   {
    "duration": 10,
    "start_time": "2022-10-01T21:31:33.837Z"
   },
   {
    "duration": 12,
    "start_time": "2022-10-01T21:31:34.208Z"
   },
   {
    "duration": 8,
    "start_time": "2022-10-01T21:31:34.609Z"
   },
   {
    "duration": 44,
    "start_time": "2022-10-01T21:31:34.837Z"
   },
   {
    "duration": 29,
    "start_time": "2022-10-01T21:31:34.999Z"
   },
   {
    "duration": 17,
    "start_time": "2022-10-01T21:31:35.419Z"
   },
   {
    "duration": 2,
    "start_time": "2022-10-01T21:31:35.649Z"
   },
   {
    "duration": 6,
    "start_time": "2022-10-01T21:31:35.889Z"
   },
   {
    "duration": 12,
    "start_time": "2022-10-01T21:31:36.309Z"
   },
   {
    "duration": 5,
    "start_time": "2022-10-01T21:31:36.549Z"
   },
   {
    "duration": 12,
    "start_time": "2022-10-01T21:31:36.959Z"
   },
   {
    "duration": 9,
    "start_time": "2022-10-01T21:31:37.192Z"
   },
   {
    "duration": 15,
    "start_time": "2022-10-01T21:31:38.618Z"
   },
   {
    "duration": 4,
    "start_time": "2022-10-01T21:31:40.168Z"
   },
   {
    "duration": 72,
    "start_time": "2022-10-01T21:34:21.939Z"
   },
   {
    "duration": 34,
    "start_time": "2022-10-01T21:34:39.789Z"
   },
   {
    "duration": 28,
    "start_time": "2022-10-01T21:34:47.970Z"
   },
   {
    "duration": 75,
    "start_time": "2022-10-01T21:35:12.369Z"
   },
   {
    "duration": 28,
    "start_time": "2022-10-01T21:38:30.368Z"
   },
   {
    "duration": 9,
    "start_time": "2022-10-01T21:38:33.219Z"
   },
   {
    "duration": 30,
    "start_time": "2022-10-01T21:39:10.652Z"
   },
   {
    "duration": 19,
    "start_time": "2022-10-01T21:42:32.249Z"
   },
   {
    "duration": 6,
    "start_time": "2022-10-01T21:42:36.778Z"
   },
   {
    "duration": 11,
    "start_time": "2022-10-01T21:42:48.359Z"
   },
   {
    "duration": 22,
    "start_time": "2022-10-01T21:43:21.319Z"
   },
   {
    "duration": 8,
    "start_time": "2022-10-01T21:43:21.842Z"
   },
   {
    "duration": 22,
    "start_time": "2022-10-01T21:43:42.069Z"
   },
   {
    "duration": 8,
    "start_time": "2022-10-01T21:43:43.248Z"
   },
   {
    "duration": 28,
    "start_time": "2022-10-01T21:43:52.699Z"
   },
   {
    "duration": 28,
    "start_time": "2022-10-01T21:48:40.489Z"
   },
   {
    "duration": 8,
    "start_time": "2022-10-01T21:48:41.108Z"
   },
   {
    "duration": 29,
    "start_time": "2022-10-01T21:49:49.038Z"
   },
   {
    "duration": 23,
    "start_time": "2022-10-01T21:50:06.049Z"
   },
   {
    "duration": 7,
    "start_time": "2022-10-01T21:50:40.729Z"
   },
   {
    "duration": 7,
    "start_time": "2022-10-01T21:53:13.469Z"
   },
   {
    "duration": 928,
    "start_time": "2022-10-01T21:53:47.667Z"
   },
   {
    "duration": 821,
    "start_time": "2022-10-01T21:53:53.150Z"
   },
   {
    "duration": 12,
    "start_time": "2022-10-01T22:01:37.609Z"
   },
   {
    "duration": 38,
    "start_time": "2022-10-01T22:03:03.011Z"
   },
   {
    "duration": 7,
    "start_time": "2022-10-01T22:03:12.009Z"
   },
   {
    "duration": 9,
    "start_time": "2022-10-01T22:04:05.179Z"
   },
   {
    "duration": 7,
    "start_time": "2022-10-01T22:04:12.929Z"
   },
   {
    "duration": 21,
    "start_time": "2022-10-01T22:04:55.599Z"
   },
   {
    "duration": 894,
    "start_time": "2022-10-01T22:05:34.446Z"
   },
   {
    "duration": 975,
    "start_time": "2022-10-01T22:06:01.169Z"
   },
   {
    "duration": 7,
    "start_time": "2022-10-01T22:06:22.849Z"
   },
   {
    "duration": 3,
    "start_time": "2022-10-01T22:07:41.598Z"
   },
   {
    "duration": 3,
    "start_time": "2022-10-01T22:07:49.045Z"
   },
   {
    "duration": 8,
    "start_time": "2022-10-01T22:07:50.849Z"
   },
   {
    "duration": 5,
    "start_time": "2022-10-01T22:07:55.430Z"
   },
   {
    "duration": 8,
    "start_time": "2022-10-01T22:08:39.453Z"
   },
   {
    "duration": 3,
    "start_time": "2022-10-01T22:08:45.009Z"
   },
   {
    "duration": 8,
    "start_time": "2022-10-01T22:08:52.608Z"
   },
   {
    "duration": 3,
    "start_time": "2022-10-01T22:09:53.849Z"
   },
   {
    "duration": 9,
    "start_time": "2022-10-01T22:09:54.715Z"
   },
   {
    "duration": 25,
    "start_time": "2022-10-01T22:10:26.619Z"
   },
   {
    "duration": 9,
    "start_time": "2022-10-01T22:12:03.618Z"
   },
   {
    "duration": 4,
    "start_time": "2022-10-01T22:13:06.879Z"
   },
   {
    "duration": 7,
    "start_time": "2022-10-01T22:14:10.659Z"
   },
   {
    "duration": 4,
    "start_time": "2022-10-01T22:14:17.980Z"
   },
   {
    "duration": 44,
    "start_time": "2022-10-01T22:18:16.769Z"
   },
   {
    "duration": 705,
    "start_time": "2022-10-01T22:18:41.098Z"
   },
   {
    "duration": 272,
    "start_time": "2022-10-01T22:20:35.169Z"
   },
   {
    "duration": 265,
    "start_time": "2022-10-01T22:21:59.178Z"
   },
   {
    "duration": 177,
    "start_time": "2022-10-01T22:22:31.769Z"
   },
   {
    "duration": 227,
    "start_time": "2022-10-01T22:24:04.969Z"
   },
   {
    "duration": 166,
    "start_time": "2022-10-01T22:24:13.058Z"
   },
   {
    "duration": 299,
    "start_time": "2022-10-01T22:25:51.009Z"
   },
   {
    "duration": 221,
    "start_time": "2022-10-01T22:26:38.189Z"
   },
   {
    "duration": 246,
    "start_time": "2022-10-01T22:27:16.059Z"
   },
   {
    "duration": 255,
    "start_time": "2022-10-01T22:29:19.868Z"
   },
   {
    "duration": 174,
    "start_time": "2022-10-01T22:29:28.376Z"
   },
   {
    "duration": 2,
    "start_time": "2022-10-01T22:30:47.729Z"
   },
   {
    "duration": 37,
    "start_time": "2022-10-01T22:33:12.208Z"
   },
   {
    "duration": 6,
    "start_time": "2022-10-01T22:34:00.308Z"
   },
   {
    "duration": 29,
    "start_time": "2022-10-01T22:34:33.313Z"
   },
   {
    "duration": 7,
    "start_time": "2022-10-01T22:35:33.258Z"
   },
   {
    "duration": 8,
    "start_time": "2022-10-01T22:36:31.248Z"
   },
   {
    "duration": 8,
    "start_time": "2022-10-01T22:39:53.891Z"
   },
   {
    "duration": 7,
    "start_time": "2022-10-01T22:44:56.429Z"
   },
   {
    "duration": 32,
    "start_time": "2022-10-01T22:46:15.098Z"
   },
   {
    "duration": 7,
    "start_time": "2022-10-01T22:47:00.359Z"
   },
   {
    "duration": 10,
    "start_time": "2022-10-01T22:47:34.386Z"
   },
   {
    "duration": 7,
    "start_time": "2022-10-01T22:51:10.564Z"
   },
   {
    "duration": 24,
    "start_time": "2022-10-01T22:54:47.964Z"
   },
   {
    "duration": 25,
    "start_time": "2022-10-01T22:54:52.967Z"
   },
   {
    "duration": 9,
    "start_time": "2022-10-01T22:54:53.724Z"
   },
   {
    "duration": 22,
    "start_time": "2022-10-01T22:58:07.684Z"
   },
   {
    "duration": 9,
    "start_time": "2022-10-01T22:58:08.444Z"
   },
   {
    "duration": 21,
    "start_time": "2022-10-01T23:00:00.735Z"
   },
   {
    "duration": 8,
    "start_time": "2022-10-01T23:00:01.481Z"
   },
   {
    "duration": 24,
    "start_time": "2022-10-01T23:01:12.614Z"
   },
   {
    "duration": 8,
    "start_time": "2022-10-01T23:01:14.765Z"
   },
   {
    "duration": 23,
    "start_time": "2022-10-01T23:01:27.895Z"
   },
   {
    "duration": 8,
    "start_time": "2022-10-01T23:01:29.115Z"
   },
   {
    "duration": 23,
    "start_time": "2022-10-01T23:03:43.168Z"
   },
   {
    "duration": 10,
    "start_time": "2022-10-01T23:03:44.856Z"
   },
   {
    "duration": 28,
    "start_time": "2022-10-01T23:11:21.859Z"
   },
   {
    "duration": 7,
    "start_time": "2022-10-01T23:11:23.528Z"
   },
   {
    "duration": 217,
    "start_time": "2022-10-01T23:11:31.840Z"
   },
   {
    "duration": 24,
    "start_time": "2022-10-01T23:11:50.758Z"
   },
   {
    "duration": 8,
    "start_time": "2022-10-01T23:11:54.322Z"
   },
   {
    "duration": 22,
    "start_time": "2022-10-01T23:12:30.098Z"
   },
   {
    "duration": 7,
    "start_time": "2022-10-01T23:12:33.308Z"
   },
   {
    "duration": 22,
    "start_time": "2022-10-01T23:13:46.358Z"
   },
   {
    "duration": 8,
    "start_time": "2022-10-01T23:13:47.068Z"
   },
   {
    "duration": 21,
    "start_time": "2022-10-01T23:14:45.628Z"
   },
   {
    "duration": 7,
    "start_time": "2022-10-01T23:14:47.448Z"
   },
   {
    "duration": 23,
    "start_time": "2022-10-01T23:15:30.710Z"
   },
   {
    "duration": 8,
    "start_time": "2022-10-01T23:15:31.328Z"
   },
   {
    "duration": 20,
    "start_time": "2022-10-01T23:15:57.648Z"
   },
   {
    "duration": 8,
    "start_time": "2022-10-01T23:15:58.199Z"
   },
   {
    "duration": 21,
    "start_time": "2022-10-01T23:23:19.506Z"
   },
   {
    "duration": 8,
    "start_time": "2022-10-01T23:23:22.236Z"
   },
   {
    "duration": 22,
    "start_time": "2022-10-01T23:23:49.178Z"
   },
   {
    "duration": 9,
    "start_time": "2022-10-01T23:23:50.849Z"
   },
   {
    "duration": 24,
    "start_time": "2022-10-01T23:23:56.454Z"
   },
   {
    "duration": 7,
    "start_time": "2022-10-01T23:23:56.938Z"
   },
   {
    "duration": 22,
    "start_time": "2022-10-01T23:24:01.109Z"
   },
   {
    "duration": 8,
    "start_time": "2022-10-01T23:24:01.534Z"
   },
   {
    "duration": 8,
    "start_time": "2022-10-01T23:31:13.118Z"
   },
   {
    "duration": 21,
    "start_time": "2022-10-01T23:31:14.029Z"
   },
   {
    "duration": 8,
    "start_time": "2022-10-01T23:31:15.109Z"
   },
   {
    "duration": 360,
    "start_time": "2022-10-01T23:39:18.641Z"
   },
   {
    "duration": 147,
    "start_time": "2022-10-01T23:39:19.002Z"
   },
   {
    "duration": 13,
    "start_time": "2022-10-01T23:39:19.150Z"
   },
   {
    "duration": 31,
    "start_time": "2022-10-01T23:39:19.165Z"
   },
   {
    "duration": 426,
    "start_time": "2022-10-01T23:39:19.198Z"
   },
   {
    "duration": 116,
    "start_time": "2022-10-01T23:39:19.625Z"
   },
   {
    "duration": 8,
    "start_time": "2022-10-01T23:39:19.743Z"
   },
   {
    "duration": 17,
    "start_time": "2022-10-01T23:39:19.753Z"
   },
   {
    "duration": 157,
    "start_time": "2022-10-01T23:39:19.772Z"
   },
   {
    "duration": 86,
    "start_time": "2022-10-01T23:39:19.930Z"
   },
   {
    "duration": 7,
    "start_time": "2022-10-01T23:39:20.017Z"
   },
   {
    "duration": 19,
    "start_time": "2022-10-01T23:39:20.025Z"
   },
   {
    "duration": 26,
    "start_time": "2022-10-01T23:39:20.045Z"
   },
   {
    "duration": 7,
    "start_time": "2022-10-01T23:39:20.074Z"
   },
   {
    "duration": 13,
    "start_time": "2022-10-01T23:39:20.082Z"
   },
   {
    "duration": 33,
    "start_time": "2022-10-01T23:39:20.097Z"
   },
   {
    "duration": 8,
    "start_time": "2022-10-01T23:39:20.131Z"
   },
   {
    "duration": 15,
    "start_time": "2022-10-01T23:39:20.141Z"
   },
   {
    "duration": 4,
    "start_time": "2022-10-01T23:39:20.157Z"
   },
   {
    "duration": 73,
    "start_time": "2022-10-01T23:39:20.162Z"
   },
   {
    "duration": 5,
    "start_time": "2022-10-01T23:39:20.237Z"
   },
   {
    "duration": 3,
    "start_time": "2022-10-01T23:39:20.243Z"
   },
   {
    "duration": 16,
    "start_time": "2022-10-01T23:39:20.248Z"
   },
   {
    "duration": 9,
    "start_time": "2022-10-01T23:39:20.265Z"
   },
   {
    "duration": 13,
    "start_time": "2022-10-01T23:39:20.276Z"
   },
   {
    "duration": 21,
    "start_time": "2022-10-01T23:39:20.291Z"
   },
   {
    "duration": 23,
    "start_time": "2022-10-01T23:39:20.313Z"
   },
   {
    "duration": 7,
    "start_time": "2022-10-01T23:39:20.337Z"
   },
   {
    "duration": 18,
    "start_time": "2022-10-01T23:39:20.346Z"
   },
   {
    "duration": 2,
    "start_time": "2022-10-01T23:39:20.366Z"
   },
   {
    "duration": 13,
    "start_time": "2022-10-01T23:39:20.369Z"
   },
   {
    "duration": 27,
    "start_time": "2022-10-01T23:39:20.384Z"
   },
   {
    "duration": 4,
    "start_time": "2022-10-01T23:39:20.413Z"
   },
   {
    "duration": 18,
    "start_time": "2022-10-01T23:39:20.419Z"
   },
   {
    "duration": 9,
    "start_time": "2022-10-01T23:39:20.439Z"
   },
   {
    "duration": 5,
    "start_time": "2022-10-01T23:39:20.449Z"
   },
   {
    "duration": 95,
    "start_time": "2022-10-01T23:39:20.455Z"
   },
   {
    "duration": 2,
    "start_time": "2022-10-01T23:39:20.552Z"
   },
   {
    "duration": 8,
    "start_time": "2022-10-01T23:39:20.556Z"
   },
   {
    "duration": 4,
    "start_time": "2022-10-01T23:39:20.565Z"
   },
   {
    "duration": 5,
    "start_time": "2022-10-01T23:39:20.573Z"
   },
   {
    "duration": 8,
    "start_time": "2022-10-01T23:39:20.580Z"
   },
   {
    "duration": 38,
    "start_time": "2022-10-01T23:39:20.589Z"
   },
   {
    "duration": 8,
    "start_time": "2022-10-01T23:39:20.628Z"
   },
   {
    "duration": 4,
    "start_time": "2022-10-01T23:39:20.637Z"
   },
   {
    "duration": 10,
    "start_time": "2022-10-01T23:39:20.642Z"
   },
   {
    "duration": 5,
    "start_time": "2022-10-01T23:39:20.653Z"
   },
   {
    "duration": 65,
    "start_time": "2022-10-01T23:39:20.659Z"
   },
   {
    "duration": 676,
    "start_time": "2022-10-01T23:39:20.726Z"
   },
   {
    "duration": 264,
    "start_time": "2022-10-01T23:39:21.404Z"
   },
   {
    "duration": 268,
    "start_time": "2022-10-01T23:39:21.669Z"
   },
   {
    "duration": 191,
    "start_time": "2022-10-01T23:39:21.938Z"
   },
   {
    "duration": 230,
    "start_time": "2022-10-01T23:39:22.131Z"
   },
   {
    "duration": 225,
    "start_time": "2022-10-01T23:39:22.363Z"
   },
   {
    "duration": 174,
    "start_time": "2022-10-01T23:39:22.589Z"
   },
   {
    "duration": 327,
    "start_time": "2022-10-01T23:39:22.765Z"
   },
   {
    "duration": 176,
    "start_time": "2022-10-01T23:39:23.093Z"
   },
   {
    "duration": 3,
    "start_time": "2022-10-01T23:39:23.270Z"
   },
   {
    "duration": 11,
    "start_time": "2022-10-01T23:39:23.274Z"
   },
   {
    "duration": 15,
    "start_time": "2022-10-01T23:39:23.286Z"
   },
   {
    "duration": 12,
    "start_time": "2022-10-01T23:39:23.302Z"
   },
   {
    "duration": 3,
    "start_time": "2022-10-02T05:11:11.028Z"
   },
   {
    "duration": 149,
    "start_time": "2022-10-02T05:11:11.032Z"
   },
   {
    "duration": 7,
    "start_time": "2022-10-02T05:11:11.183Z"
   },
   {
    "duration": 33,
    "start_time": "2022-10-02T05:11:11.191Z"
   },
   {
    "duration": 216,
    "start_time": "2022-10-02T05:11:11.225Z"
   },
   {
    "duration": 118,
    "start_time": "2022-10-02T05:11:11.443Z"
   },
   {
    "duration": 8,
    "start_time": "2022-10-02T05:11:11.563Z"
   },
   {
    "duration": 20,
    "start_time": "2022-10-02T05:11:11.572Z"
   },
   {
    "duration": 153,
    "start_time": "2022-10-02T05:11:11.593Z"
   },
   {
    "duration": 78,
    "start_time": "2022-10-02T05:11:11.748Z"
   },
   {
    "duration": 7,
    "start_time": "2022-10-02T05:11:11.828Z"
   },
   {
    "duration": 18,
    "start_time": "2022-10-02T05:11:11.836Z"
   },
   {
    "duration": 15,
    "start_time": "2022-10-02T05:11:11.856Z"
   },
   {
    "duration": 7,
    "start_time": "2022-10-02T05:11:11.872Z"
   },
   {
    "duration": 9,
    "start_time": "2022-10-02T05:11:11.881Z"
   },
   {
    "duration": 29,
    "start_time": "2022-10-02T05:11:11.891Z"
   },
   {
    "duration": 8,
    "start_time": "2022-10-02T05:11:11.921Z"
   },
   {
    "duration": 10,
    "start_time": "2022-10-02T05:11:11.930Z"
   },
   {
    "duration": 3,
    "start_time": "2022-10-02T05:11:11.941Z"
   },
   {
    "duration": 69,
    "start_time": "2022-10-02T05:11:11.945Z"
   },
   {
    "duration": 3,
    "start_time": "2022-10-02T05:11:12.016Z"
   },
   {
    "duration": 5,
    "start_time": "2022-10-02T05:11:12.021Z"
   },
   {
    "duration": 15,
    "start_time": "2022-10-02T05:11:12.027Z"
   },
   {
    "duration": 9,
    "start_time": "2022-10-02T05:11:12.043Z"
   },
   {
    "duration": 11,
    "start_time": "2022-10-02T05:11:12.054Z"
   },
   {
    "duration": 29,
    "start_time": "2022-10-02T05:13:23.242Z"
   },
   {
    "duration": 25,
    "start_time": "2022-10-02T05:13:45.794Z"
   },
   {
    "duration": 24,
    "start_time": "2022-10-02T05:15:25.425Z"
   },
   {
    "duration": 32,
    "start_time": "2022-10-02T05:15:54.843Z"
   },
   {
    "duration": 24,
    "start_time": "2022-10-02T05:16:06.435Z"
   },
   {
    "duration": 8,
    "start_time": "2022-10-02T05:16:13.114Z"
   },
   {
    "duration": 21,
    "start_time": "2022-10-02T05:21:48.400Z"
   },
   {
    "duration": 106,
    "start_time": "2022-10-02T05:22:34.543Z"
   },
   {
    "duration": 20,
    "start_time": "2022-10-02T05:22:41.356Z"
   },
   {
    "duration": 25,
    "start_time": "2022-10-02T05:23:41.055Z"
   },
   {
    "duration": 2,
    "start_time": "2022-10-02T05:23:42.246Z"
   },
   {
    "duration": 7,
    "start_time": "2022-10-02T05:23:43.417Z"
   },
   {
    "duration": 3,
    "start_time": "2022-10-02T05:26:59.485Z"
   },
   {
    "duration": 13,
    "start_time": "2022-10-02T05:27:19.324Z"
   },
   {
    "duration": 12,
    "start_time": "2022-10-02T05:28:23.812Z"
   },
   {
    "duration": 12,
    "start_time": "2022-10-02T05:29:15.197Z"
   },
   {
    "duration": 12,
    "start_time": "2022-10-02T05:29:37.788Z"
   },
   {
    "duration": 8,
    "start_time": "2022-10-03T10:47:45.244Z"
   },
   {
    "duration": 14,
    "start_time": "2022-10-03T10:49:54.321Z"
   },
   {
    "duration": 8,
    "start_time": "2022-10-03T10:49:55.297Z"
   },
   {
    "duration": 24,
    "start_time": "2022-10-03T10:52:23.641Z"
   },
   {
    "duration": 12,
    "start_time": "2022-10-03T10:52:24.383Z"
   },
   {
    "duration": 74,
    "start_time": "2022-10-03T11:00:59.658Z"
   },
   {
    "duration": 10,
    "start_time": "2022-10-03T11:01:14.534Z"
   },
   {
    "duration": 8,
    "start_time": "2022-10-03T11:01:30.022Z"
   },
   {
    "duration": 8,
    "start_time": "2022-10-03T11:02:16.825Z"
   },
   {
    "duration": 8,
    "start_time": "2022-10-03T11:02:47.346Z"
   }
  ],
  "kernelspec": {
   "display_name": "Python 3 (ipykernel)",
   "language": "python",
   "name": "python3"
  },
  "language_info": {
   "codemirror_mode": {
    "name": "ipython",
    "version": 3
   },
   "file_extension": ".py",
   "mimetype": "text/x-python",
   "name": "python",
   "nbconvert_exporter": "python",
   "pygments_lexer": "ipython3",
   "version": "3.9.5"
  },
  "toc": {
   "base_numbering": 1,
   "nav_menu": {},
   "number_sections": true,
   "sideBar": true,
   "skip_h1_title": true,
   "title_cell": "Table of Contents",
   "title_sidebar": "Contents",
   "toc_cell": false,
   "toc_position": {},
   "toc_section_display": true,
   "toc_window_display": false
  }
 },
 "nbformat": 4,
 "nbformat_minor": 2
}

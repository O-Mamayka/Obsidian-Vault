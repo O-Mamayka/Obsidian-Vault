{
 "cells": [
  {
   "cell_type": "markdown",
   "id": "205f07a9",
   "metadata": {},
   "source": [
    "Привет! Меня зовут Александр Арасланов, я провожу ревью твоей работы. Предалагю общаться на «ты», если не против.\n",
    "\n",
    "В работе ты увидишь комментарии, помеченные разным цветом.\n",
    "\n",
    "<div class=\"alert alert-danger\"> ❌\n",
    "Красным цветом помечены моменты, которые необходимо доработать, чтобы проект был принят. Уверен, что у тебя все получится. Буду ждать твою работу на повторное ревью. \n",
    "</div>\n",
    "\n",
    "<div class=\"alert alert-success\"> ✅\n",
    "Зеленым цветом помечены оброзцовые решения. Которые можно использовать в дальнейшем.\n",
    "</div>\n",
    "\n",
    "<div class=\"alert alert-warning\"> ⚠️\n",
    "Желтым цветом отмечено то, что ты можешь улучшить или доработать. Можешь учесть это при выполнении следующих работ или доработать проект сейчас, но это не обязательно.\n",
    "</div>\n",
    "\n",
    "\n",
    "Будет комфортнее работать над проектом вместе, если ты будешь **писать об изменениях** в проекте по моим рекомендациям. Для этого выбери для своих комментариев \n",
    "\n",
    "<div class=\"alert alert-block alert-info\">заметный цвет</div>\n",
    "\n",
    "Пожалуйста, **не перемещай, не изменяй и не удаляй мои комментарии**. Всё это поможет выполнить повторную проверку твоего проекта оперативнее.\n"
   ]
  },
  {
   "cell_type": "markdown",
   "id": "4a9044d3",
   "metadata": {
    "deletable": false,
    "editable": false,
    "id": "c81daeeb"
   },
   "source": [
    "# Исследование надежности заемщиков\n"
   ]
  },
  {
   "cell_type": "markdown",
   "id": "19d94b63",
   "metadata": {
    "deletable": false,
    "editable": false,
    "id": "827c20bf"
   },
   "source": [
    "Во второй части проекта вы выполните шаги 3 и 4. Их вручную проверит ревьюер.\n",
    "Чтобы вам не пришлось писать код заново для шагов 1 и 2, мы добавили авторские решения в ячейки с кодом. \n",
    "\n"
   ]
  },
  {
   "cell_type": "markdown",
   "id": "fd8c915f",
   "metadata": {
    "deletable": false,
    "editable": false,
    "id": "744d7639"
   },
   "source": [
    "## Откройте таблицу и изучите общую информацию о данных"
   ]
  },
  {
   "cell_type": "markdown",
   "id": "c4a3d2ae",
   "metadata": {
    "deletable": false,
    "editable": false,
    "id": "e7a14c31"
   },
   "source": [
    "**Задание 1. Импортируйте библиотеку pandas. Считайте данные из csv-файла в датафрейм и сохраните в переменную `data`. Путь к файлу:**\n",
    "\n",
    "`/datasets/data.csv`"
   ]
  },
  {
   "cell_type": "code",
   "execution_count": 90,
   "id": "8bb69c14",
   "metadata": {},
   "outputs": [],
   "source": [
    "import pandas as pd\n",
    "import numpy as np\n",
    "import matplotlib.pyplot as plt"
   ]
  },
  {
   "cell_type": "code",
   "execution_count": 91,
   "id": "ff2e6249",
   "metadata": {
    "deletable": false,
    "id": "7bcf75c9"
   },
   "outputs": [],
   "source": [
    "\n",
    "try:\n",
    "    data = pd.read_csv('/datasets/data.csv')\n",
    "except:\n",
    "    data = pd.read_csv('https://code.s3.yandex.net/datasets/data.csv')"
   ]
  },
  {
   "cell_type": "markdown",
   "id": "c03146fa",
   "metadata": {
    "deletable": false,
    "editable": false,
    "id": "b8038fe3"
   },
   "source": [
    "**Задание 2. Выведите первые 20 строчек датафрейма `data` на экран.**"
   ]
  },
  {
   "cell_type": "code",
   "execution_count": 92,
   "id": "3df6e191",
   "metadata": {
    "deletable": false,
    "id": "2a7cab99",
    "outputId": "1a8f3ef2-d323-4ec2-ddf7-89670b5944c4"
   },
   "outputs": [
    {
     "data": {
      "text/html": [
       "<div>\n",
       "<style scoped>\n",
       "    .dataframe tbody tr th:only-of-type {\n",
       "        vertical-align: middle;\n",
       "    }\n",
       "\n",
       "    .dataframe tbody tr th {\n",
       "        vertical-align: top;\n",
       "    }\n",
       "\n",
       "    .dataframe thead th {\n",
       "        text-align: right;\n",
       "    }\n",
       "</style>\n",
       "<table border=\"1\" class=\"dataframe\">\n",
       "  <thead>\n",
       "    <tr style=\"text-align: right;\">\n",
       "      <th></th>\n",
       "      <th>children</th>\n",
       "      <th>days_employed</th>\n",
       "      <th>dob_years</th>\n",
       "      <th>education</th>\n",
       "      <th>education_id</th>\n",
       "      <th>family_status</th>\n",
       "      <th>family_status_id</th>\n",
       "      <th>gender</th>\n",
       "      <th>income_type</th>\n",
       "      <th>debt</th>\n",
       "      <th>total_income</th>\n",
       "      <th>purpose</th>\n",
       "    </tr>\n",
       "  </thead>\n",
       "  <tbody>\n",
       "    <tr>\n",
       "      <th>0</th>\n",
       "      <td>1</td>\n",
       "      <td>-8437.673028</td>\n",
       "      <td>42</td>\n",
       "      <td>высшее</td>\n",
       "      <td>0</td>\n",
       "      <td>женат / замужем</td>\n",
       "      <td>0</td>\n",
       "      <td>F</td>\n",
       "      <td>сотрудник</td>\n",
       "      <td>0</td>\n",
       "      <td>253875.639453</td>\n",
       "      <td>покупка жилья</td>\n",
       "    </tr>\n",
       "    <tr>\n",
       "      <th>1</th>\n",
       "      <td>1</td>\n",
       "      <td>-4024.803754</td>\n",
       "      <td>36</td>\n",
       "      <td>среднее</td>\n",
       "      <td>1</td>\n",
       "      <td>женат / замужем</td>\n",
       "      <td>0</td>\n",
       "      <td>F</td>\n",
       "      <td>сотрудник</td>\n",
       "      <td>0</td>\n",
       "      <td>112080.014102</td>\n",
       "      <td>приобретение автомобиля</td>\n",
       "    </tr>\n",
       "    <tr>\n",
       "      <th>2</th>\n",
       "      <td>0</td>\n",
       "      <td>-5623.422610</td>\n",
       "      <td>33</td>\n",
       "      <td>Среднее</td>\n",
       "      <td>1</td>\n",
       "      <td>женат / замужем</td>\n",
       "      <td>0</td>\n",
       "      <td>M</td>\n",
       "      <td>сотрудник</td>\n",
       "      <td>0</td>\n",
       "      <td>145885.952297</td>\n",
       "      <td>покупка жилья</td>\n",
       "    </tr>\n",
       "    <tr>\n",
       "      <th>3</th>\n",
       "      <td>3</td>\n",
       "      <td>-4124.747207</td>\n",
       "      <td>32</td>\n",
       "      <td>среднее</td>\n",
       "      <td>1</td>\n",
       "      <td>женат / замужем</td>\n",
       "      <td>0</td>\n",
       "      <td>M</td>\n",
       "      <td>сотрудник</td>\n",
       "      <td>0</td>\n",
       "      <td>267628.550329</td>\n",
       "      <td>дополнительное образование</td>\n",
       "    </tr>\n",
       "    <tr>\n",
       "      <th>4</th>\n",
       "      <td>0</td>\n",
       "      <td>340266.072047</td>\n",
       "      <td>53</td>\n",
       "      <td>среднее</td>\n",
       "      <td>1</td>\n",
       "      <td>гражданский брак</td>\n",
       "      <td>1</td>\n",
       "      <td>F</td>\n",
       "      <td>пенсионер</td>\n",
       "      <td>0</td>\n",
       "      <td>158616.077870</td>\n",
       "      <td>сыграть свадьбу</td>\n",
       "    </tr>\n",
       "    <tr>\n",
       "      <th>5</th>\n",
       "      <td>0</td>\n",
       "      <td>-926.185831</td>\n",
       "      <td>27</td>\n",
       "      <td>высшее</td>\n",
       "      <td>0</td>\n",
       "      <td>гражданский брак</td>\n",
       "      <td>1</td>\n",
       "      <td>M</td>\n",
       "      <td>компаньон</td>\n",
       "      <td>0</td>\n",
       "      <td>255763.565419</td>\n",
       "      <td>покупка жилья</td>\n",
       "    </tr>\n",
       "    <tr>\n",
       "      <th>6</th>\n",
       "      <td>0</td>\n",
       "      <td>-2879.202052</td>\n",
       "      <td>43</td>\n",
       "      <td>высшее</td>\n",
       "      <td>0</td>\n",
       "      <td>женат / замужем</td>\n",
       "      <td>0</td>\n",
       "      <td>F</td>\n",
       "      <td>компаньон</td>\n",
       "      <td>0</td>\n",
       "      <td>240525.971920</td>\n",
       "      <td>операции с жильем</td>\n",
       "    </tr>\n",
       "    <tr>\n",
       "      <th>7</th>\n",
       "      <td>0</td>\n",
       "      <td>-152.779569</td>\n",
       "      <td>50</td>\n",
       "      <td>СРЕДНЕЕ</td>\n",
       "      <td>1</td>\n",
       "      <td>женат / замужем</td>\n",
       "      <td>0</td>\n",
       "      <td>M</td>\n",
       "      <td>сотрудник</td>\n",
       "      <td>0</td>\n",
       "      <td>135823.934197</td>\n",
       "      <td>образование</td>\n",
       "    </tr>\n",
       "    <tr>\n",
       "      <th>8</th>\n",
       "      <td>2</td>\n",
       "      <td>-6929.865299</td>\n",
       "      <td>35</td>\n",
       "      <td>ВЫСШЕЕ</td>\n",
       "      <td>0</td>\n",
       "      <td>гражданский брак</td>\n",
       "      <td>1</td>\n",
       "      <td>F</td>\n",
       "      <td>сотрудник</td>\n",
       "      <td>0</td>\n",
       "      <td>95856.832424</td>\n",
       "      <td>на проведение свадьбы</td>\n",
       "    </tr>\n",
       "    <tr>\n",
       "      <th>9</th>\n",
       "      <td>0</td>\n",
       "      <td>-2188.756445</td>\n",
       "      <td>41</td>\n",
       "      <td>среднее</td>\n",
       "      <td>1</td>\n",
       "      <td>женат / замужем</td>\n",
       "      <td>0</td>\n",
       "      <td>M</td>\n",
       "      <td>сотрудник</td>\n",
       "      <td>0</td>\n",
       "      <td>144425.938277</td>\n",
       "      <td>покупка жилья для семьи</td>\n",
       "    </tr>\n",
       "    <tr>\n",
       "      <th>10</th>\n",
       "      <td>2</td>\n",
       "      <td>-4171.483647</td>\n",
       "      <td>36</td>\n",
       "      <td>высшее</td>\n",
       "      <td>0</td>\n",
       "      <td>женат / замужем</td>\n",
       "      <td>0</td>\n",
       "      <td>M</td>\n",
       "      <td>компаньон</td>\n",
       "      <td>0</td>\n",
       "      <td>113943.491460</td>\n",
       "      <td>покупка недвижимости</td>\n",
       "    </tr>\n",
       "    <tr>\n",
       "      <th>11</th>\n",
       "      <td>0</td>\n",
       "      <td>-792.701887</td>\n",
       "      <td>40</td>\n",
       "      <td>среднее</td>\n",
       "      <td>1</td>\n",
       "      <td>женат / замужем</td>\n",
       "      <td>0</td>\n",
       "      <td>F</td>\n",
       "      <td>сотрудник</td>\n",
       "      <td>0</td>\n",
       "      <td>77069.234271</td>\n",
       "      <td>покупка коммерческой недвижимости</td>\n",
       "    </tr>\n",
       "    <tr>\n",
       "      <th>12</th>\n",
       "      <td>0</td>\n",
       "      <td>NaN</td>\n",
       "      <td>65</td>\n",
       "      <td>среднее</td>\n",
       "      <td>1</td>\n",
       "      <td>гражданский брак</td>\n",
       "      <td>1</td>\n",
       "      <td>M</td>\n",
       "      <td>пенсионер</td>\n",
       "      <td>0</td>\n",
       "      <td>NaN</td>\n",
       "      <td>сыграть свадьбу</td>\n",
       "    </tr>\n",
       "    <tr>\n",
       "      <th>13</th>\n",
       "      <td>0</td>\n",
       "      <td>-1846.641941</td>\n",
       "      <td>54</td>\n",
       "      <td>неоконченное высшее</td>\n",
       "      <td>2</td>\n",
       "      <td>женат / замужем</td>\n",
       "      <td>0</td>\n",
       "      <td>F</td>\n",
       "      <td>сотрудник</td>\n",
       "      <td>0</td>\n",
       "      <td>130458.228857</td>\n",
       "      <td>приобретение автомобиля</td>\n",
       "    </tr>\n",
       "    <tr>\n",
       "      <th>14</th>\n",
       "      <td>0</td>\n",
       "      <td>-1844.956182</td>\n",
       "      <td>56</td>\n",
       "      <td>высшее</td>\n",
       "      <td>0</td>\n",
       "      <td>гражданский брак</td>\n",
       "      <td>1</td>\n",
       "      <td>F</td>\n",
       "      <td>компаньон</td>\n",
       "      <td>1</td>\n",
       "      <td>165127.911772</td>\n",
       "      <td>покупка жилой недвижимости</td>\n",
       "    </tr>\n",
       "    <tr>\n",
       "      <th>15</th>\n",
       "      <td>1</td>\n",
       "      <td>-972.364419</td>\n",
       "      <td>26</td>\n",
       "      <td>среднее</td>\n",
       "      <td>1</td>\n",
       "      <td>женат / замужем</td>\n",
       "      <td>0</td>\n",
       "      <td>F</td>\n",
       "      <td>сотрудник</td>\n",
       "      <td>0</td>\n",
       "      <td>116820.904450</td>\n",
       "      <td>строительство собственной недвижимости</td>\n",
       "    </tr>\n",
       "    <tr>\n",
       "      <th>16</th>\n",
       "      <td>0</td>\n",
       "      <td>-1719.934226</td>\n",
       "      <td>35</td>\n",
       "      <td>среднее</td>\n",
       "      <td>1</td>\n",
       "      <td>женат / замужем</td>\n",
       "      <td>0</td>\n",
       "      <td>F</td>\n",
       "      <td>сотрудник</td>\n",
       "      <td>0</td>\n",
       "      <td>289202.704229</td>\n",
       "      <td>недвижимость</td>\n",
       "    </tr>\n",
       "    <tr>\n",
       "      <th>17</th>\n",
       "      <td>0</td>\n",
       "      <td>-2369.999720</td>\n",
       "      <td>33</td>\n",
       "      <td>высшее</td>\n",
       "      <td>0</td>\n",
       "      <td>гражданский брак</td>\n",
       "      <td>1</td>\n",
       "      <td>M</td>\n",
       "      <td>сотрудник</td>\n",
       "      <td>0</td>\n",
       "      <td>90410.586745</td>\n",
       "      <td>строительство недвижимости</td>\n",
       "    </tr>\n",
       "    <tr>\n",
       "      <th>18</th>\n",
       "      <td>0</td>\n",
       "      <td>400281.136913</td>\n",
       "      <td>53</td>\n",
       "      <td>среднее</td>\n",
       "      <td>1</td>\n",
       "      <td>вдовец / вдова</td>\n",
       "      <td>2</td>\n",
       "      <td>F</td>\n",
       "      <td>пенсионер</td>\n",
       "      <td>0</td>\n",
       "      <td>56823.777243</td>\n",
       "      <td>на покупку подержанного автомобиля</td>\n",
       "    </tr>\n",
       "    <tr>\n",
       "      <th>19</th>\n",
       "      <td>0</td>\n",
       "      <td>-10038.818549</td>\n",
       "      <td>48</td>\n",
       "      <td>СРЕДНЕЕ</td>\n",
       "      <td>1</td>\n",
       "      <td>в разводе</td>\n",
       "      <td>3</td>\n",
       "      <td>F</td>\n",
       "      <td>сотрудник</td>\n",
       "      <td>0</td>\n",
       "      <td>242831.107982</td>\n",
       "      <td>на покупку своего автомобиля</td>\n",
       "    </tr>\n",
       "  </tbody>\n",
       "</table>\n",
       "</div>"
      ],
      "text/plain": [
       "    children  days_employed  dob_years            education  education_id  \\\n",
       "0          1   -8437.673028         42               высшее             0   \n",
       "1          1   -4024.803754         36              среднее             1   \n",
       "2          0   -5623.422610         33              Среднее             1   \n",
       "3          3   -4124.747207         32              среднее             1   \n",
       "4          0  340266.072047         53              среднее             1   \n",
       "5          0    -926.185831         27               высшее             0   \n",
       "6          0   -2879.202052         43               высшее             0   \n",
       "7          0    -152.779569         50              СРЕДНЕЕ             1   \n",
       "8          2   -6929.865299         35               ВЫСШЕЕ             0   \n",
       "9          0   -2188.756445         41              среднее             1   \n",
       "10         2   -4171.483647         36               высшее             0   \n",
       "11         0    -792.701887         40              среднее             1   \n",
       "12         0            NaN         65              среднее             1   \n",
       "13         0   -1846.641941         54  неоконченное высшее             2   \n",
       "14         0   -1844.956182         56               высшее             0   \n",
       "15         1    -972.364419         26              среднее             1   \n",
       "16         0   -1719.934226         35              среднее             1   \n",
       "17         0   -2369.999720         33               высшее             0   \n",
       "18         0  400281.136913         53              среднее             1   \n",
       "19         0  -10038.818549         48              СРЕДНЕЕ             1   \n",
       "\n",
       "       family_status  family_status_id gender income_type  debt  \\\n",
       "0    женат / замужем                 0      F   сотрудник     0   \n",
       "1    женат / замужем                 0      F   сотрудник     0   \n",
       "2    женат / замужем                 0      M   сотрудник     0   \n",
       "3    женат / замужем                 0      M   сотрудник     0   \n",
       "4   гражданский брак                 1      F   пенсионер     0   \n",
       "5   гражданский брак                 1      M   компаньон     0   \n",
       "6    женат / замужем                 0      F   компаньон     0   \n",
       "7    женат / замужем                 0      M   сотрудник     0   \n",
       "8   гражданский брак                 1      F   сотрудник     0   \n",
       "9    женат / замужем                 0      M   сотрудник     0   \n",
       "10   женат / замужем                 0      M   компаньон     0   \n",
       "11   женат / замужем                 0      F   сотрудник     0   \n",
       "12  гражданский брак                 1      M   пенсионер     0   \n",
       "13   женат / замужем                 0      F   сотрудник     0   \n",
       "14  гражданский брак                 1      F   компаньон     1   \n",
       "15   женат / замужем                 0      F   сотрудник     0   \n",
       "16   женат / замужем                 0      F   сотрудник     0   \n",
       "17  гражданский брак                 1      M   сотрудник     0   \n",
       "18    вдовец / вдова                 2      F   пенсионер     0   \n",
       "19         в разводе                 3      F   сотрудник     0   \n",
       "\n",
       "     total_income                                 purpose  \n",
       "0   253875.639453                           покупка жилья  \n",
       "1   112080.014102                 приобретение автомобиля  \n",
       "2   145885.952297                           покупка жилья  \n",
       "3   267628.550329              дополнительное образование  \n",
       "4   158616.077870                         сыграть свадьбу  \n",
       "5   255763.565419                           покупка жилья  \n",
       "6   240525.971920                       операции с жильем  \n",
       "7   135823.934197                             образование  \n",
       "8    95856.832424                   на проведение свадьбы  \n",
       "9   144425.938277                 покупка жилья для семьи  \n",
       "10  113943.491460                    покупка недвижимости  \n",
       "11   77069.234271       покупка коммерческой недвижимости  \n",
       "12            NaN                         сыграть свадьбу  \n",
       "13  130458.228857                 приобретение автомобиля  \n",
       "14  165127.911772              покупка жилой недвижимости  \n",
       "15  116820.904450  строительство собственной недвижимости  \n",
       "16  289202.704229                            недвижимость  \n",
       "17   90410.586745              строительство недвижимости  \n",
       "18   56823.777243      на покупку подержанного автомобиля  \n",
       "19  242831.107982            на покупку своего автомобиля  "
      ]
     },
     "execution_count": 92,
     "metadata": {},
     "output_type": "execute_result"
    }
   ],
   "source": [
    "data.head(20)"
   ]
  },
  {
   "cell_type": "markdown",
   "id": "1120b7b5",
   "metadata": {
    "deletable": false,
    "editable": false,
    "id": "1c12e233"
   },
   "source": [
    "**Задание 3. Выведите основную информацию о датафрейме с помощью метода `info()`.**"
   ]
  },
  {
   "cell_type": "code",
   "execution_count": 93,
   "id": "0edf57dd",
   "metadata": {
    "deletable": false,
    "id": "2b757bca",
    "outputId": "15376089-8dad-46c9-b520-c05248d43158"
   },
   "outputs": [
    {
     "name": "stdout",
     "output_type": "stream",
     "text": [
      "<class 'pandas.core.frame.DataFrame'>\n",
      "RangeIndex: 21525 entries, 0 to 21524\n",
      "Data columns (total 12 columns):\n",
      " #   Column            Non-Null Count  Dtype  \n",
      "---  ------            --------------  -----  \n",
      " 0   children          21525 non-null  int64  \n",
      " 1   days_employed     19351 non-null  float64\n",
      " 2   dob_years         21525 non-null  int64  \n",
      " 3   education         21525 non-null  object \n",
      " 4   education_id      21525 non-null  int64  \n",
      " 5   family_status     21525 non-null  object \n",
      " 6   family_status_id  21525 non-null  int64  \n",
      " 7   gender            21525 non-null  object \n",
      " 8   income_type       21525 non-null  object \n",
      " 9   debt              21525 non-null  int64  \n",
      " 10  total_income      19351 non-null  float64\n",
      " 11  purpose           21525 non-null  object \n",
      "dtypes: float64(2), int64(5), object(5)\n",
      "memory usage: 2.0+ MB\n"
     ]
    }
   ],
   "source": [
    "data.info()"
   ]
  },
  {
   "cell_type": "markdown",
   "id": "e0a7b8c4",
   "metadata": {},
   "source": [
    "<div class=\"alert alert-success\">\n",
    "\n",
    "**✅Комментарий ревьюера**\n",
    "\n",
    "Отличное начало! Хороший выбор методов для чтения данных. И получения основных сведений  </div>"
   ]
  },
  {
   "cell_type": "markdown",
   "id": "fd886702",
   "metadata": {
    "deletable": false,
    "editable": false,
    "id": "333ec665"
   },
   "source": [
    "## Предобработка данных"
   ]
  },
  {
   "cell_type": "markdown",
   "id": "58c24f54",
   "metadata": {
    "deletable": false,
    "editable": false,
    "id": "02d92d53"
   },
   "source": [
    "### Удаление пропусков"
   ]
  },
  {
   "cell_type": "markdown",
   "id": "1d2a4095",
   "metadata": {
    "deletable": false,
    "editable": false,
    "id": "cd84967c"
   },
   "source": [
    "**Задание 4. Выведите количество пропущенных значений для каждого столбца. Используйте комбинацию двух методов.**"
   ]
  },
  {
   "cell_type": "code",
   "execution_count": 94,
   "id": "a4d7988e",
   "metadata": {
    "deletable": false,
    "id": "7f9b2309",
    "outputId": "81f4d817-781c-465c-ed15-91ce4446810d"
   },
   "outputs": [
    {
     "data": {
      "text/plain": [
       "children               0\n",
       "days_employed       2174\n",
       "dob_years              0\n",
       "education              0\n",
       "education_id           0\n",
       "family_status          0\n",
       "family_status_id       0\n",
       "gender                 0\n",
       "income_type            0\n",
       "debt                   0\n",
       "total_income        2174\n",
       "purpose                0\n",
       "dtype: int64"
      ]
     },
     "execution_count": 94,
     "metadata": {},
     "output_type": "execute_result"
    }
   ],
   "source": [
    "data.isna().sum()"
   ]
  },
  {
   "cell_type": "code",
   "execution_count": 95,
   "id": "eb24a31d",
   "metadata": {},
   "outputs": [
    {
     "data": {
      "text/plain": [
       "children             0.000000\n",
       "days_employed       10.099884\n",
       "dob_years            0.000000\n",
       "education            0.000000\n",
       "education_id         0.000000\n",
       "family_status        0.000000\n",
       "family_status_id     0.000000\n",
       "gender               0.000000\n",
       "income_type          0.000000\n",
       "debt                 0.000000\n",
       "total_income        10.099884\n",
       "purpose              0.000000\n",
       "dtype: float64"
      ]
     },
     "execution_count": 95,
     "metadata": {},
     "output_type": "execute_result"
    }
   ],
   "source": [
    "data.isnull().sum() / data.shape[0] * 100.00"
   ]
  },
  {
   "cell_type": "markdown",
   "id": "2500d8ff",
   "metadata": {
    "deletable": false,
    "editable": false,
    "id": "db86e27b"
   },
   "source": [
    "**Задание 5. В двух столбцах есть пропущенные значения. Один из них — `days_employed`. Пропуски в этом столбце вы обработаете на следующем этапе. Другой столбец с пропущенными значениями — `total_income` — хранит данные о доходах. На сумму дохода сильнее всего влияет тип занятости, поэтому заполнить пропуски в этом столбце нужно медианным значением по каждому типу из столбца `income_type`. Например, у человека с типом занятости `сотрудник` пропуск в столбце `total_income` должен быть заполнен медианным доходом среди всех записей с тем же типом.**"
   ]
  },
  {
   "cell_type": "code",
   "execution_count": 96,
   "id": "a081fb79",
   "metadata": {},
   "outputs": [],
   "source": [
    "data['total_income'] = data['total_income'].fillna(data.groupby('income_type')['total_income'].transform('median'))"
   ]
  },
  {
   "cell_type": "code",
   "execution_count": 97,
   "id": "dbae26d8",
   "metadata": {
    "deletable": false,
    "id": "42006a93"
   },
   "outputs": [],
   "source": [
    "#for t in data['income_type'].unique():\n",
    "#    data.loc[(data['income_type'] == t) & (data['total_income'].isna()), 'total_income'] = \\\n",
    "#    data.loc[(data['income_type'] == t), 'total_income'].median()"
   ]
  },
  {
   "cell_type": "code",
   "execution_count": 98,
   "id": "75159d67",
   "metadata": {},
   "outputs": [
    {
     "data": {
      "text/plain": [
       "children               0\n",
       "days_employed       2174\n",
       "dob_years              0\n",
       "education              0\n",
       "education_id           0\n",
       "family_status          0\n",
       "family_status_id       0\n",
       "gender                 0\n",
       "income_type            0\n",
       "debt                   0\n",
       "total_income           0\n",
       "purpose                0\n",
       "dtype: int64"
      ]
     },
     "execution_count": 98,
     "metadata": {},
     "output_type": "execute_result"
    }
   ],
   "source": [
    "data.isna().sum()"
   ]
  },
  {
   "cell_type": "markdown",
   "id": "de509964",
   "metadata": {},
   "source": [
    "<div class=\"alert alert-success\">\n",
    "<b>Комментарий ревьюера ✔️:</b>\n",
    "Молодец, отлично справилась с пропусками по уровню дохода 👍 Замену на медиану можно было провести с помощью метода `transform`\n",
    "\n",
    "`data['total_income'].fillna(data.groupby('income_type')['total_income'].transform('median'))`\n",
    "\n",
    "https://pandas.pydata.org/docs/reference/api/pandas.DataFrame.transform.html\n",
    "https://pandas.pydata.org/docs/reference/api/pandas.core.groupby.DataFrameGroupBy.transform.html</div>"
   ]
  },
  {
   "cell_type": "markdown",
   "id": "21862003",
   "metadata": {
    "deletable": false,
    "editable": false,
    "id": "89da5ece"
   },
   "source": [
    "### Обработка аномальных значений"
   ]
  },
  {
   "cell_type": "markdown",
   "id": "16e97832",
   "metadata": {
    "deletable": false,
    "editable": false,
    "id": "57964554"
   },
   "source": [
    "**Задание 6. В данных могут встречаться артефакты (аномалии) — значения, которые не отражают действительность и появились по какой-то ошибке. таким артефактом будет отрицательное количество дней трудового стажа в столбце `days_employed`. Для реальных данных это нормально. Обработайте значения в этом столбце: замените все отрицательные значения положительными с помощью метода `abs()`.**"
   ]
  },
  {
   "cell_type": "code",
   "execution_count": 99,
   "id": "a51e0116",
   "metadata": {
    "deletable": false,
    "id": "f6f055bf"
   },
   "outputs": [],
   "source": [
    "data['days_employed'] = data['days_employed'].abs()"
   ]
  },
  {
   "cell_type": "markdown",
   "id": "a7a5786e",
   "metadata": {
    "deletable": false,
    "editable": false,
    "id": "6107dd2f"
   },
   "source": [
    "**Задание 7. Для каждого типа занятости выведите медианное значение трудового стажа `days_employed` в днях.**"
   ]
  },
  {
   "cell_type": "code",
   "execution_count": 100,
   "id": "9baaac48",
   "metadata": {
    "deletable": false,
    "id": "85a5faf6",
    "outputId": "801ef80e-522b-4668-f34e-565af7432bcf"
   },
   "outputs": [
    {
     "data": {
      "text/plain": [
       "income_type\n",
       "безработный        366413.652744\n",
       "в декрете            3296.759962\n",
       "госслужащий          2689.368353\n",
       "компаньон            1547.382223\n",
       "пенсионер          365213.306266\n",
       "предприниматель       520.848083\n",
       "сотрудник            1574.202821\n",
       "студент               578.751554\n",
       "Name: days_employed, dtype: float64"
      ]
     },
     "execution_count": 100,
     "metadata": {},
     "output_type": "execute_result"
    }
   ],
   "source": [
    "data.groupby('income_type')['days_employed'].agg('median')"
   ]
  },
  {
   "cell_type": "markdown",
   "id": "fb11fdc4",
   "metadata": {
    "deletable": false,
    "editable": false,
    "id": "38d1a030"
   },
   "source": [
    "У двух типов (безработные и пенсионеры) получатся аномально большие значения. Исправить такие значения сложно, поэтому оставьте их как есть. Тем более этот столбец не понадобится вам для исследования."
   ]
  },
  {
   "cell_type": "markdown",
   "id": "abfae606",
   "metadata": {
    "deletable": false,
    "editable": false,
    "id": "d8a9f147"
   },
   "source": [
    "**Задание 8. Выведите перечень уникальных значений столбца `children`.**"
   ]
  },
  {
   "cell_type": "code",
   "execution_count": 101,
   "id": "e4538e75",
   "metadata": {
    "deletable": false,
    "id": "ef5056eb",
    "outputId": "6975b15c-7f95-4697-d16d-a0c79b657b03"
   },
   "outputs": [
    {
     "data": {
      "text/plain": [
       "array([ 1,  0,  3,  2, -1,  4, 20,  5])"
      ]
     },
     "execution_count": 101,
     "metadata": {},
     "output_type": "execute_result"
    }
   ],
   "source": [
    "data['children'].unique()"
   ]
  },
  {
   "cell_type": "markdown",
   "id": "e6fb8d9d",
   "metadata": {},
   "source": [
    "<div class=\"alert alert-success\">\n",
    "<b>Комментарий ревьюера ✔️:</b>\n",
    "    \n",
    "Здесь тоже все сделала верно 👍 Как один из вариантов этого кейса, можно было заменить -1 на 1 и 20 на 2, допустив, что это опечатки</div>"
   ]
  },
  {
   "cell_type": "markdown",
   "id": "d8bd4b41",
   "metadata": {
    "deletable": false,
    "editable": false,
    "id": "40b9ebf2"
   },
   "source": [
    "**Задание 9. В столбце `children` есть два аномальных значения. Удалите строки, в которых встречаются такие аномальные значения из датафрейма `data`.**"
   ]
  },
  {
   "cell_type": "code",
   "execution_count": 102,
   "id": "b26d67bd",
   "metadata": {
    "deletable": false,
    "id": "3ff9801d"
   },
   "outputs": [],
   "source": [
    "data = data[(data['children'] != -1) & (data['children'] != 20)]"
   ]
  },
  {
   "cell_type": "markdown",
   "id": "3b145434",
   "metadata": {
    "deletable": false,
    "editable": false,
    "id": "bbc4d0ce"
   },
   "source": [
    "**Задание 10. Ещё раз выведите перечень уникальных значений столбца `children`, чтобы убедиться, что артефакты удалены.**"
   ]
  },
  {
   "cell_type": "code",
   "execution_count": 103,
   "id": "8321c8ca",
   "metadata": {
    "deletable": false,
    "id": "ad4fa8b7",
    "outputId": "b2097101-d49d-44d9-901b-32a65c9463d1"
   },
   "outputs": [
    {
     "data": {
      "text/plain": [
       "array([1, 0, 3, 2, 4, 5])"
      ]
     },
     "execution_count": 103,
     "metadata": {},
     "output_type": "execute_result"
    }
   ],
   "source": [
    "data['children'].unique()"
   ]
  },
  {
   "cell_type": "markdown",
   "id": "2beea8ca",
   "metadata": {
    "deletable": false,
    "editable": false,
    "id": "75440b63"
   },
   "source": [
    "### Удаление пропусков (продолжение)"
   ]
  },
  {
   "cell_type": "markdown",
   "id": "6dc3ad0b",
   "metadata": {
    "deletable": false,
    "editable": false,
    "id": "f4ea573f"
   },
   "source": [
    "**Задание 11. Заполните пропуски в столбце `days_employed` медианными значениями по каждого типа занятости `income_type`.**"
   ]
  },
  {
   "cell_type": "code",
   "execution_count": 79,
   "id": "499f3aa7",
   "metadata": {},
   "outputs": [],
   "source": [
    "# первый вариант решения замены медианой\n",
    "data['days_employed'] = data['days_employed'].fillna(data.groupby('income_type')['days_employed'].transform('median'))"
   ]
  },
  {
   "cell_type": "code",
   "execution_count": 104,
   "id": "074b1641",
   "metadata": {
    "deletable": false,
    "id": "af6b1a7e"
   },
   "outputs": [],
   "source": [
    "# второй вариант решения замены медианой в том же столбце\n",
    "for t in data['income_type'].unique():\n",
    "    data.loc[(data['income_type'] == t) & (data['days_employed'].isna()), 'days_employed'] = \\\n",
    "    data.loc[(data['income_type'] == t), 'days_employed'].median()"
   ]
  },
  {
   "cell_type": "markdown",
   "id": "158cd8d0",
   "metadata": {
    "deletable": false,
    "editable": false,
    "id": "2753f40d"
   },
   "source": [
    "**Задание 12. Убедитесь, что все пропуски заполнены. Проверьте себя и ещё раз выведите количество пропущенных значений для каждого столбца с помощью двух методов.**"
   ]
  },
  {
   "cell_type": "code",
   "execution_count": 81,
   "id": "5e198543",
   "metadata": {
    "deletable": false,
    "id": "55f78bc2",
    "outputId": "8da1e4e1-358e-4e87-98c9-f261bce0a7b2"
   },
   "outputs": [
    {
     "data": {
      "text/plain": [
       "children            0\n",
       "days_employed       0\n",
       "dob_years           0\n",
       "education           0\n",
       "education_id        0\n",
       "family_status       0\n",
       "family_status_id    0\n",
       "gender              0\n",
       "income_type         0\n",
       "debt                0\n",
       "total_income        0\n",
       "purpose             0\n",
       "dtype: int64"
      ]
     },
     "execution_count": 81,
     "metadata": {},
     "output_type": "execute_result"
    }
   ],
   "source": [
    "data.isna().sum()"
   ]
  },
  {
   "cell_type": "markdown",
   "id": "dc789ff4",
   "metadata": {
    "deletable": false,
    "editable": false,
    "id": "ddc81e43"
   },
   "source": [
    "### Изменение типов данных"
   ]
  },
  {
   "cell_type": "markdown",
   "id": "2a26cae9",
   "metadata": {
    "deletable": false,
    "editable": false,
    "id": "42d19d24"
   },
   "source": [
    "**Задание 13. Замените вещественный тип данных в столбце `total_income` на целочисленный с помощью метода `astype()`.**"
   ]
  },
  {
   "cell_type": "code",
   "execution_count": 82,
   "id": "59d45e62",
   "metadata": {
    "deletable": false,
    "id": "920b65ad"
   },
   "outputs": [],
   "source": [
    "data['total_income'] = data['total_income'].astype(int)"
   ]
  },
  {
   "cell_type": "markdown",
   "id": "a2c7dbb2",
   "metadata": {
    "deletable": false,
    "editable": false,
    "id": "80c420ba"
   },
   "source": [
    "### Обработка дубликатов"
   ]
  },
  {
   "cell_type": "markdown",
   "id": "f644fec1",
   "metadata": {
    "deletable": false,
    "editable": false
   },
   "source": [
    "**Задание 14. Обработайте неявные дубликаты в столбце `education`. В этом столбце есть одни и те же значения, но записанные по-разному: с использованием заглавных и строчных букв. Приведите их к нижнему регистру. Проверьте остальные столбцы.**"
   ]
  },
  {
   "cell_type": "code",
   "execution_count": 83,
   "id": "a8d0bd5c",
   "metadata": {
    "deletable": false
   },
   "outputs": [],
   "source": [
    "data['education'] = data['education'].str.lower()"
   ]
  },
  {
   "cell_type": "markdown",
   "id": "d7cfd9e1",
   "metadata": {
    "deletable": false,
    "editable": false,
    "id": "dc587695"
   },
   "source": [
    "**Задание 15. Выведите на экран количество строк-дубликатов в данных. Если такие строки присутствуют, удалите их.**"
   ]
  },
  {
   "cell_type": "code",
   "execution_count": 84,
   "id": "2202b12d",
   "metadata": {
    "deletable": false,
    "id": "3ee445e4",
    "outputId": "9684deba-1934-42d1-99e1-cda61740f822"
   },
   "outputs": [
    {
     "data": {
      "text/plain": [
       "71"
      ]
     },
     "execution_count": 84,
     "metadata": {},
     "output_type": "execute_result"
    }
   ],
   "source": [
    "data.duplicated().sum()"
   ]
  },
  {
   "cell_type": "code",
   "execution_count": 85,
   "id": "152bd072",
   "metadata": {
    "deletable": false,
    "id": "8575fe05"
   },
   "outputs": [],
   "source": [
    "data = data.drop_duplicates()"
   ]
  },
  {
   "cell_type": "markdown",
   "id": "75df7e4a",
   "metadata": {},
   "source": [
    "<div class=\"alert alert-success\">\n",
    "<b>Комментарий ревьюера ✔️:</b>\n",
    "    \n",
    "Все сделала верно 👍</div>"
   ]
  },
  {
   "cell_type": "markdown",
   "id": "2960117d",
   "metadata": {
    "deletable": false,
    "editable": false,
    "id": "9904cf55"
   },
   "source": [
    "### Категоризация данных"
   ]
  },
  {
   "cell_type": "markdown",
   "id": "80339647",
   "metadata": {
    "deletable": false,
    "editable": false,
    "id": "72fcc8a2"
   },
   "source": [
    "**Задание 16. На основании диапазонов, указанных ниже, создайте в датафрейме `data` столбец `total_income_category` с категориями:**\n",
    "\n",
    "- 0–30000 — `'E'`;\n",
    "- 30001–50000 — `'D'`;\n",
    "- 50001–200000 — `'C'`;\n",
    "- 200001–1000000 — `'B'`;\n",
    "- 1000001 и выше — `'A'`.\n",
    "\n",
    "\n",
    "**Например, кредитополучателю с доходом 25000 нужно назначить категорию `'E'`, а клиенту, получающему 235000, — `'B'`. Используйте собственную функцию с именем `categorize_income()` и метод `apply()`.**"
   ]
  },
  {
   "cell_type": "code",
   "execution_count": 86,
   "id": "87c2597e",
   "metadata": {
    "deletable": false,
    "id": "e1771346"
   },
   "outputs": [],
   "source": [
    "def categorize_income(income):\n",
    "    try:\n",
    "        if 0 <= income <= 30000:\n",
    "            return 'E'\n",
    "        elif 30001 <= income <= 50000:\n",
    "            return 'D'\n",
    "        elif 50001 <= income <= 200000:\n",
    "            return 'C'\n",
    "        elif 200001 <= income <= 1000000:\n",
    "            return 'B'\n",
    "        elif income >= 1000001:\n",
    "            return 'A'\n",
    "    except:\n",
    "        pass"
   ]
  },
  {
   "cell_type": "code",
   "execution_count": 106,
   "id": "a54ba512",
   "metadata": {},
   "outputs": [
    {
     "data": {
      "text/html": [
       "<div>\n",
       "<style scoped>\n",
       "    .dataframe tbody tr th:only-of-type {\n",
       "        vertical-align: middle;\n",
       "    }\n",
       "\n",
       "    .dataframe tbody tr th {\n",
       "        vertical-align: top;\n",
       "    }\n",
       "\n",
       "    .dataframe thead th {\n",
       "        text-align: right;\n",
       "    }\n",
       "</style>\n",
       "<table border=\"1\" class=\"dataframe\">\n",
       "  <thead>\n",
       "    <tr style=\"text-align: right;\">\n",
       "      <th></th>\n",
       "      <th>children</th>\n",
       "      <th>days_employed</th>\n",
       "      <th>dob_years</th>\n",
       "      <th>education</th>\n",
       "      <th>education_id</th>\n",
       "      <th>family_status</th>\n",
       "      <th>family_status_id</th>\n",
       "      <th>gender</th>\n",
       "      <th>income_type</th>\n",
       "      <th>debt</th>\n",
       "      <th>total_income</th>\n",
       "      <th>purpose</th>\n",
       "      <th>total_income_category</th>\n",
       "    </tr>\n",
       "  </thead>\n",
       "  <tbody>\n",
       "    <tr>\n",
       "      <th>0</th>\n",
       "      <td>1</td>\n",
       "      <td>8437.673028</td>\n",
       "      <td>42</td>\n",
       "      <td>высшее</td>\n",
       "      <td>0</td>\n",
       "      <td>женат / замужем</td>\n",
       "      <td>0</td>\n",
       "      <td>F</td>\n",
       "      <td>сотрудник</td>\n",
       "      <td>0</td>\n",
       "      <td>253875.639453</td>\n",
       "      <td>покупка жилья</td>\n",
       "      <td>B</td>\n",
       "    </tr>\n",
       "    <tr>\n",
       "      <th>1</th>\n",
       "      <td>1</td>\n",
       "      <td>4024.803754</td>\n",
       "      <td>36</td>\n",
       "      <td>среднее</td>\n",
       "      <td>1</td>\n",
       "      <td>женат / замужем</td>\n",
       "      <td>0</td>\n",
       "      <td>F</td>\n",
       "      <td>сотрудник</td>\n",
       "      <td>0</td>\n",
       "      <td>112080.014102</td>\n",
       "      <td>приобретение автомобиля</td>\n",
       "      <td>C</td>\n",
       "    </tr>\n",
       "    <tr>\n",
       "      <th>2</th>\n",
       "      <td>0</td>\n",
       "      <td>5623.422610</td>\n",
       "      <td>33</td>\n",
       "      <td>Среднее</td>\n",
       "      <td>1</td>\n",
       "      <td>женат / замужем</td>\n",
       "      <td>0</td>\n",
       "      <td>M</td>\n",
       "      <td>сотрудник</td>\n",
       "      <td>0</td>\n",
       "      <td>145885.952297</td>\n",
       "      <td>покупка жилья</td>\n",
       "      <td>C</td>\n",
       "    </tr>\n",
       "  </tbody>\n",
       "</table>\n",
       "</div>"
      ],
      "text/plain": [
       "   children  days_employed  dob_years education  education_id  \\\n",
       "0         1    8437.673028         42    высшее             0   \n",
       "1         1    4024.803754         36   среднее             1   \n",
       "2         0    5623.422610         33   Среднее             1   \n",
       "\n",
       "     family_status  family_status_id gender income_type  debt   total_income  \\\n",
       "0  женат / замужем                 0      F   сотрудник     0  253875.639453   \n",
       "1  женат / замужем                 0      F   сотрудник     0  112080.014102   \n",
       "2  женат / замужем                 0      M   сотрудник     0  145885.952297   \n",
       "\n",
       "                   purpose total_income_category  \n",
       "0            покупка жилья                     B  \n",
       "1  приобретение автомобиля                     C  \n",
       "2            покупка жилья                     C  "
      ]
     },
     "execution_count": 106,
     "metadata": {},
     "output_type": "execute_result"
    }
   ],
   "source": [
    "# вариант нарезки поля фанкцией cut. np.inf = ∞\n",
    "data['total_income_category'] = pd.cut(data['total_income'], [0,30000,50000,200000,1000000, np.inf], labels=['E', 'D', 'C', 'B', 'A'])\n",
    "data.head(3)"
   ]
  },
  {
   "cell_type": "code",
   "execution_count": 18,
   "id": "1b032da1",
   "metadata": {
    "deletable": false,
    "id": "d5f3586d"
   },
   "outputs": [],
   "source": [
    "# другой вариант создания столбца categorize_income\n",
    "#data['total_income_category'] = data['total_income'].apply(categorize_income)"
   ]
  },
  {
   "cell_type": "code",
   "execution_count": 116,
   "id": "fdc5d9c1",
   "metadata": {},
   "outputs": [
    {
     "data": {
      "text/plain": [
       "<AxesSubplot:>"
      ]
     },
     "execution_count": 116,
     "metadata": {},
     "output_type": "execute_result"
    },
    {
     "data": {
      "image/png": "[encoded data removed]",
      "text/plain": [
       "<Figure size 432x288 with 1 Axes>"
      ]
     },
     "metadata": {
      "needs_background": "light"
     },
     "output_type": "display_data"
    }
   ],
   "source": [
    "data.total_income_category.hist()"
   ]
  },
  {
   "cell_type": "markdown",
   "id": "c3229d40",
   "metadata": {
    "deletable": false,
    "editable": false,
    "id": "dde49b5c"
   },
   "source": [
    "**Задание 17. Выведите на экран перечень уникальных целей взятия кредита из столбца `purpose`.**"
   ]
  },
  {
   "cell_type": "code",
   "execution_count": 19,
   "id": "34526bab",
   "metadata": {
    "deletable": false,
    "id": "f67ce9b3",
    "outputId": "673c12d9-7d7e-4ae0-9812-c622c89dd244"
   },
   "outputs": [
    {
     "data": {
      "text/plain": [
       "array(['покупка жилья', 'приобретение автомобиля',\n",
       "       'дополнительное образование', 'сыграть свадьбу',\n",
       "       'операции с жильем', 'образование', 'на проведение свадьбы',\n",
       "       'покупка жилья для семьи', 'покупка недвижимости',\n",
       "       'покупка коммерческой недвижимости', 'покупка жилой недвижимости',\n",
       "       'строительство собственной недвижимости', 'недвижимость',\n",
       "       'строительство недвижимости', 'на покупку подержанного автомобиля',\n",
       "       'на покупку своего автомобиля',\n",
       "       'операции с коммерческой недвижимостью',\n",
       "       'строительство жилой недвижимости', 'жилье',\n",
       "       'операции со своей недвижимостью', 'автомобили',\n",
       "       'заняться образованием', 'сделка с подержанным автомобилем',\n",
       "       'получение образования', 'автомобиль', 'свадьба',\n",
       "       'получение дополнительного образования', 'покупка своего жилья',\n",
       "       'операции с недвижимостью', 'получение высшего образования',\n",
       "       'свой автомобиль', 'сделка с автомобилем',\n",
       "       'профильное образование', 'высшее образование',\n",
       "       'покупка жилья для сдачи', 'на покупку автомобиля', 'ремонт жилью',\n",
       "       'заняться высшим образованием'], dtype=object)"
      ]
     },
     "execution_count": 19,
     "metadata": {},
     "output_type": "execute_result"
    }
   ],
   "source": [
    "data['purpose'].unique()"
   ]
  },
  {
   "cell_type": "markdown",
   "id": "26458632",
   "metadata": {
    "deletable": false,
    "editable": false,
    "id": "85d0aef0"
   },
   "source": [
    "**Задание 18. Создайте функцию, которая на основании данных из столбца `purpose` сформирует новый столбец `purpose_category`, в который войдут следующие категории:**\n",
    "\n",
    "- `'операции с автомобилем'`,\n",
    "- `'операции с недвижимостью'`,\n",
    "- `'проведение свадьбы'`,\n",
    "- `'получение образования'`.\n",
    "\n",
    "**Например, если в столбце `purpose` находится подстрока `'на покупку автомобиля'`, то в столбце `purpose_category` должна появиться строка `'операции с автомобилем'`.**\n",
    "\n",
    "**Используйте собственную функцию с именем `categorize_purpose()` и метод `apply()`. Изучите данные в столбце `purpose` и определите, какие подстроки помогут вам правильно определить категорию.**"
   ]
  },
  {
   "cell_type": "code",
   "execution_count": 20,
   "id": "34755efd",
   "metadata": {
    "deletable": false,
    "id": "e149fab4"
   },
   "outputs": [],
   "source": [
    "def categorize_purpose(row):\n",
    "    try:\n",
    "        if 'автом' in row:\n",
    "            return 'операции с автомобилем'\n",
    "        elif 'жил' in row or 'недвиж' in row:\n",
    "            return 'операции с недвижимостью'\n",
    "        elif 'свад' in row:\n",
    "            return 'проведение свадьбы'\n",
    "        elif 'образов' in row:\n",
    "            return 'получение образования'\n",
    "    except:\n",
    "        return 'нет категории'"
   ]
  },
  {
   "cell_type": "code",
   "execution_count": 21,
   "id": "378b20a4",
   "metadata": {
    "deletable": false,
    "id": "bf36e69b"
   },
   "outputs": [],
   "source": [
    "data['purpose_category'] = data['purpose'].apply(categorize_purpose)"
   ]
  },
  {
   "cell_type": "markdown",
   "id": "2c877ac0",
   "metadata": {},
   "source": [
    "<div class=\"alert alert-success\">\n",
    "<b>Комментарий ревьюера ✔️:</b>\n",
    "    \n",
    "Верно справилась с категоризацией</div>"
   ]
  },
  {
   "cell_type": "markdown",
   "id": "87947be6",
   "metadata": {
    "deletable": false,
    "editable": false,
    "id": "09b242bf"
   },
   "source": [
    "### Шаг 3. Исследуйте данные и ответьте на вопросы"
   ]
  },
  {
   "cell_type": "markdown",
   "id": "6cf98921",
   "metadata": {
    "deletable": false,
    "editable": false,
    "id": "c5d66278"
   },
   "source": [
    "#### 3.1 Есть ли зависимость между количеством детей и возвратом кредита в срок?"
   ]
  },
  {
   "cell_type": "code",
   "execution_count": 22,
   "id": "4eb19021",
   "metadata": {
    "deletable": false,
    "id": "2cacfc4a"
   },
   "outputs": [],
   "source": [
    "def effect(cause):\n",
    "    #посчитаем количество должников по группам\n",
    "    debts = data.groupby(cause)['debt'].sum()\n",
    "    #посчитаем количество заёмщиков по группам\n",
    "    creditors = data.groupby(cause)['debt'].count()\n",
    "    #посчитаем отношение задолжников к заёмщикам\n",
    "    percent = debts / creditors\n",
    "    #склеим группы для удобства \n",
    "    df = pd.concat([debts, creditors, percent], axis=1).reset_index()\n",
    "    #переименуем столбцы\n",
    "    df.columns = [cause, 'debts', 'creditors', 'percent']\n",
    "    return df\n",
    "    "
   ]
  },
  {
   "cell_type": "code",
   "execution_count": 23,
   "id": "f8ccc410",
   "metadata": {},
   "outputs": [
    {
     "data": {
      "text/html": [
       "<div>\n",
       "<style scoped>\n",
       "    .dataframe tbody tr th:only-of-type {\n",
       "        vertical-align: middle;\n",
       "    }\n",
       "\n",
       "    .dataframe tbody tr th {\n",
       "        vertical-align: top;\n",
       "    }\n",
       "\n",
       "    .dataframe thead th {\n",
       "        text-align: right;\n",
       "    }\n",
       "</style>\n",
       "<table border=\"1\" class=\"dataframe\">\n",
       "  <thead>\n",
       "    <tr style=\"text-align: right;\">\n",
       "      <th></th>\n",
       "      <th>children</th>\n",
       "      <th>debts</th>\n",
       "      <th>creditors</th>\n",
       "      <th>percent</th>\n",
       "    </tr>\n",
       "  </thead>\n",
       "  <tbody>\n",
       "    <tr>\n",
       "      <th>0</th>\n",
       "      <td>0</td>\n",
       "      <td>1063</td>\n",
       "      <td>14091</td>\n",
       "      <td>0.075438</td>\n",
       "    </tr>\n",
       "    <tr>\n",
       "      <th>1</th>\n",
       "      <td>1</td>\n",
       "      <td>444</td>\n",
       "      <td>4808</td>\n",
       "      <td>0.092346</td>\n",
       "    </tr>\n",
       "    <tr>\n",
       "      <th>2</th>\n",
       "      <td>2</td>\n",
       "      <td>194</td>\n",
       "      <td>2052</td>\n",
       "      <td>0.094542</td>\n",
       "    </tr>\n",
       "    <tr>\n",
       "      <th>3</th>\n",
       "      <td>3</td>\n",
       "      <td>27</td>\n",
       "      <td>330</td>\n",
       "      <td>0.081818</td>\n",
       "    </tr>\n",
       "    <tr>\n",
       "      <th>4</th>\n",
       "      <td>4</td>\n",
       "      <td>4</td>\n",
       "      <td>41</td>\n",
       "      <td>0.097561</td>\n",
       "    </tr>\n",
       "    <tr>\n",
       "      <th>5</th>\n",
       "      <td>5</td>\n",
       "      <td>0</td>\n",
       "      <td>9</td>\n",
       "      <td>0.000000</td>\n",
       "    </tr>\n",
       "  </tbody>\n",
       "</table>\n",
       "</div>"
      ],
      "text/plain": [
       "   children  debts  creditors   percent\n",
       "0         0   1063      14091  0.075438\n",
       "1         1    444       4808  0.092346\n",
       "2         2    194       2052  0.094542\n",
       "3         3     27        330  0.081818\n",
       "4         4      4         41  0.097561\n",
       "5         5      0          9  0.000000"
      ]
     },
     "execution_count": 23,
     "metadata": {},
     "output_type": "execute_result"
    }
   ],
   "source": [
    "effect('children') # Влияние детей на задолжности"
   ]
  },
  {
   "cell_type": "markdown",
   "id": "9b2267f9",
   "metadata": {},
   "source": [
    "<div class=\"alert alert-success\">\n",
    "<b>Комментарий ревьюера ✔️:</b>\n",
    "\n",
    "Расчетные занчения можно было сделать через построение сводной таблицы\n",
    "\n",
    "`data.pivot_table(index='children',values='debt',aggfunc=['sum','count','mean'])`</div>"
   ]
  },
  {
   "cell_type": "code",
   "execution_count": 115,
   "id": "41ad0959",
   "metadata": {},
   "outputs": [
    {
     "data": {
      "text/html": [
       "<div>\n",
       "<style scoped>\n",
       "    .dataframe tbody tr th:only-of-type {\n",
       "        vertical-align: middle;\n",
       "    }\n",
       "\n",
       "    .dataframe tbody tr th {\n",
       "        vertical-align: top;\n",
       "    }\n",
       "\n",
       "    .dataframe thead tr th {\n",
       "        text-align: left;\n",
       "    }\n",
       "\n",
       "    .dataframe thead tr:last-of-type th {\n",
       "        text-align: right;\n",
       "    }\n",
       "</style>\n",
       "<table border=\"1\" class=\"dataframe\">\n",
       "  <thead>\n",
       "    <tr>\n",
       "      <th></th>\n",
       "      <th>sum</th>\n",
       "      <th>count</th>\n",
       "      <th>mean</th>\n",
       "    </tr>\n",
       "    <tr>\n",
       "      <th></th>\n",
       "      <th>debt</th>\n",
       "      <th>debt</th>\n",
       "      <th>debt</th>\n",
       "    </tr>\n",
       "    <tr>\n",
       "      <th>children</th>\n",
       "      <th></th>\n",
       "      <th></th>\n",
       "      <th></th>\n",
       "    </tr>\n",
       "  </thead>\n",
       "  <tbody>\n",
       "    <tr>\n",
       "      <th>0</th>\n",
       "      <td>1063</td>\n",
       "      <td>14149</td>\n",
       "      <td>0.075129</td>\n",
       "    </tr>\n",
       "    <tr>\n",
       "      <th>1</th>\n",
       "      <td>444</td>\n",
       "      <td>4818</td>\n",
       "      <td>0.092154</td>\n",
       "    </tr>\n",
       "    <tr>\n",
       "      <th>2</th>\n",
       "      <td>194</td>\n",
       "      <td>2055</td>\n",
       "      <td>0.094404</td>\n",
       "    </tr>\n",
       "    <tr>\n",
       "      <th>3</th>\n",
       "      <td>27</td>\n",
       "      <td>330</td>\n",
       "      <td>0.081818</td>\n",
       "    </tr>\n",
       "    <tr>\n",
       "      <th>4</th>\n",
       "      <td>4</td>\n",
       "      <td>41</td>\n",
       "      <td>0.097561</td>\n",
       "    </tr>\n",
       "    <tr>\n",
       "      <th>5</th>\n",
       "      <td>0</td>\n",
       "      <td>9</td>\n",
       "      <td>0.000000</td>\n",
       "    </tr>\n",
       "  </tbody>\n",
       "</table>\n",
       "</div>"
      ],
      "text/plain": [
       "           sum  count      mean\n",
       "          debt   debt      debt\n",
       "children                       \n",
       "0         1063  14149  0.075129\n",
       "1          444   4818  0.092154\n",
       "2          194   2055  0.094404\n",
       "3           27    330  0.081818\n",
       "4            4     41  0.097561\n",
       "5            0      9  0.000000"
      ]
     },
     "execution_count": 115,
     "metadata": {},
     "output_type": "execute_result"
    }
   ],
   "source": [
    "data.pivot_table(index='children',values='debt',aggfunc=['sum','count','mean'])"
   ]
  },
  {
   "cell_type": "markdown",
   "id": "97b1071b",
   "metadata": {
    "deletable": false,
    "id": "3a6b99ec"
   },
   "source": [
    "**Вывод:** "
   ]
  },
  {
   "cell_type": "markdown",
   "id": "cec5f96a",
   "metadata": {},
   "source": [
    "Из данной таблицы можно сделать вывод, что явной зависимости должников от количества детей нет. Процент задолжников в каждой группе варьируется от 7.5 до 9.7 процентов. Только заёмщики с пятью детьми имеют нулевой процент просроченных задолженностей, но это больше похоже на аномалию (выброс) и я считаю эти данные не следует брать для рассмотрения."
   ]
  },
  {
   "cell_type": "markdown",
   "id": "6fa9bac1",
   "metadata": {
    "deletable": false,
    "editable": false,
    "id": "97be82ca"
   },
   "source": [
    "#### 3.2 Есть ли зависимость между семейным положением и возвратом кредита в срок?"
   ]
  },
  {
   "cell_type": "code",
   "execution_count": 24,
   "id": "6b5cf197",
   "metadata": {
    "deletable": false,
    "id": "dc3f7ee8"
   },
   "outputs": [
    {
     "data": {
      "text/html": [
       "<div>\n",
       "<style scoped>\n",
       "    .dataframe tbody tr th:only-of-type {\n",
       "        vertical-align: middle;\n",
       "    }\n",
       "\n",
       "    .dataframe tbody tr th {\n",
       "        vertical-align: top;\n",
       "    }\n",
       "\n",
       "    .dataframe thead th {\n",
       "        text-align: right;\n",
       "    }\n",
       "</style>\n",
       "<table border=\"1\" class=\"dataframe\">\n",
       "  <thead>\n",
       "    <tr style=\"text-align: right;\">\n",
       "      <th></th>\n",
       "      <th>family_status</th>\n",
       "      <th>debts</th>\n",
       "      <th>creditors</th>\n",
       "      <th>percent</th>\n",
       "    </tr>\n",
       "  </thead>\n",
       "  <tbody>\n",
       "    <tr>\n",
       "      <th>2</th>\n",
       "      <td>вдовец / вдова</td>\n",
       "      <td>63</td>\n",
       "      <td>951</td>\n",
       "      <td>0.066246</td>\n",
       "    </tr>\n",
       "    <tr>\n",
       "      <th>1</th>\n",
       "      <td>в разводе</td>\n",
       "      <td>84</td>\n",
       "      <td>1189</td>\n",
       "      <td>0.070648</td>\n",
       "    </tr>\n",
       "    <tr>\n",
       "      <th>4</th>\n",
       "      <td>женат / замужем</td>\n",
       "      <td>927</td>\n",
       "      <td>12261</td>\n",
       "      <td>0.075606</td>\n",
       "    </tr>\n",
       "    <tr>\n",
       "      <th>3</th>\n",
       "      <td>гражданский брак</td>\n",
       "      <td>385</td>\n",
       "      <td>4134</td>\n",
       "      <td>0.093130</td>\n",
       "    </tr>\n",
       "    <tr>\n",
       "      <th>0</th>\n",
       "      <td>Не женат / не замужем</td>\n",
       "      <td>273</td>\n",
       "      <td>2796</td>\n",
       "      <td>0.097639</td>\n",
       "    </tr>\n",
       "  </tbody>\n",
       "</table>\n",
       "</div>"
      ],
      "text/plain": [
       "           family_status  debts  creditors   percent\n",
       "2         вдовец / вдова     63        951  0.066246\n",
       "1              в разводе     84       1189  0.070648\n",
       "4        женат / замужем    927      12261  0.075606\n",
       "3       гражданский брак    385       4134  0.093130\n",
       "0  Не женат / не замужем    273       2796  0.097639"
      ]
     },
     "execution_count": 24,
     "metadata": {},
     "output_type": "execute_result"
    }
   ],
   "source": [
    "\n",
    "effect('family_status').sort_values(by='percent', ascending=True) # Влияние семейного положения на задолжности"
   ]
  },
  {
   "cell_type": "markdown",
   "id": "d0b41ef5",
   "metadata": {
    "deletable": false,
    "id": "1cef7837"
   },
   "source": [
    "**Вывод:** "
   ]
  },
  {
   "cell_type": "markdown",
   "id": "6e2f3630",
   "metadata": {},
   "source": [
    "Процент должников по группам в зависимости от семейного положения от 6,6 до 9,7 процента. Из данных можно сделать выводы, что зависимость не значительная, однако вдовцы или разведенные люди лучше возвращают кредиты, а неженатые или люди живущие гражданским браком чаще попадают в списки должников."
   ]
  },
  {
   "cell_type": "markdown",
   "id": "7175fccc",
   "metadata": {
    "deletable": false,
    "editable": false,
    "id": "1e8b2fca"
   },
   "source": [
    "#### 3.3 Есть ли зависимость между уровнем дохода и возвратом кредита в срок?"
   ]
  },
  {
   "cell_type": "code",
   "execution_count": 25,
   "id": "f7ecdc6a",
   "metadata": {
    "deletable": false,
    "id": "cd7e3720"
   },
   "outputs": [
    {
     "data": {
      "text/html": [
       "<div>\n",
       "<style scoped>\n",
       "    .dataframe tbody tr th:only-of-type {\n",
       "        vertical-align: middle;\n",
       "    }\n",
       "\n",
       "    .dataframe tbody tr th {\n",
       "        vertical-align: top;\n",
       "    }\n",
       "\n",
       "    .dataframe thead th {\n",
       "        text-align: right;\n",
       "    }\n",
       "</style>\n",
       "<table border=\"1\" class=\"dataframe\">\n",
       "  <thead>\n",
       "    <tr style=\"text-align: right;\">\n",
       "      <th></th>\n",
       "      <th>total_income_category</th>\n",
       "      <th>debts</th>\n",
       "      <th>creditors</th>\n",
       "      <th>percent</th>\n",
       "    </tr>\n",
       "  </thead>\n",
       "  <tbody>\n",
       "    <tr>\n",
       "      <th>0</th>\n",
       "      <td>A</td>\n",
       "      <td>2</td>\n",
       "      <td>25</td>\n",
       "      <td>0.080000</td>\n",
       "    </tr>\n",
       "    <tr>\n",
       "      <th>1</th>\n",
       "      <td>B</td>\n",
       "      <td>354</td>\n",
       "      <td>5014</td>\n",
       "      <td>0.070602</td>\n",
       "    </tr>\n",
       "    <tr>\n",
       "      <th>2</th>\n",
       "      <td>C</td>\n",
       "      <td>1353</td>\n",
       "      <td>15921</td>\n",
       "      <td>0.084982</td>\n",
       "    </tr>\n",
       "    <tr>\n",
       "      <th>3</th>\n",
       "      <td>D</td>\n",
       "      <td>21</td>\n",
       "      <td>349</td>\n",
       "      <td>0.060172</td>\n",
       "    </tr>\n",
       "    <tr>\n",
       "      <th>4</th>\n",
       "      <td>E</td>\n",
       "      <td>2</td>\n",
       "      <td>22</td>\n",
       "      <td>0.090909</td>\n",
       "    </tr>\n",
       "  </tbody>\n",
       "</table>\n",
       "</div>"
      ],
      "text/plain": [
       "  total_income_category  debts  creditors   percent\n",
       "0                     A      2         25  0.080000\n",
       "1                     B    354       5014  0.070602\n",
       "2                     C   1353      15921  0.084982\n",
       "3                     D     21        349  0.060172\n",
       "4                     E      2         22  0.090909"
      ]
     },
     "execution_count": 25,
     "metadata": {},
     "output_type": "execute_result"
    }
   ],
   "source": [
    "\n",
    "effect('total_income_category') # Влияние дохода на задолжности"
   ]
  },
  {
   "cell_type": "markdown",
   "id": "a041b4e9",
   "metadata": {
    "deletable": false,
    "id": "e8593def"
   },
   "source": [
    "**Вывод:** "
   ]
  },
  {
   "cell_type": "markdown",
   "id": "09682ca9",
   "metadata": {},
   "source": [
    "Процент должников по группам с разными доходами от 6 до 9 процентов. Явной зависимости не выявлено."
   ]
  },
  {
   "cell_type": "markdown",
   "id": "9f16eff3",
   "metadata": {
    "deletable": false,
    "editable": false,
    "id": "99ecbd1f"
   },
   "source": [
    "#### 3.4 Как разные цели кредита влияют на его возврат в срок?"
   ]
  },
  {
   "cell_type": "code",
   "execution_count": 26,
   "id": "fb685846",
   "metadata": {
    "deletable": false,
    "id": "2b687290"
   },
   "outputs": [
    {
     "data": {
      "text/html": [
       "<div>\n",
       "<style scoped>\n",
       "    .dataframe tbody tr th:only-of-type {\n",
       "        vertical-align: middle;\n",
       "    }\n",
       "\n",
       "    .dataframe tbody tr th {\n",
       "        vertical-align: top;\n",
       "    }\n",
       "\n",
       "    .dataframe thead th {\n",
       "        text-align: right;\n",
       "    }\n",
       "</style>\n",
       "<table border=\"1\" class=\"dataframe\">\n",
       "  <thead>\n",
       "    <tr style=\"text-align: right;\">\n",
       "      <th></th>\n",
       "      <th>purpose_category</th>\n",
       "      <th>debts</th>\n",
       "      <th>creditors</th>\n",
       "      <th>percent</th>\n",
       "    </tr>\n",
       "  </thead>\n",
       "  <tbody>\n",
       "    <tr>\n",
       "      <th>0</th>\n",
       "      <td>операции с автомобилем</td>\n",
       "      <td>400</td>\n",
       "      <td>4279</td>\n",
       "      <td>0.093480</td>\n",
       "    </tr>\n",
       "    <tr>\n",
       "      <th>1</th>\n",
       "      <td>операции с недвижимостью</td>\n",
       "      <td>780</td>\n",
       "      <td>10751</td>\n",
       "      <td>0.072551</td>\n",
       "    </tr>\n",
       "    <tr>\n",
       "      <th>2</th>\n",
       "      <td>получение образования</td>\n",
       "      <td>369</td>\n",
       "      <td>3988</td>\n",
       "      <td>0.092528</td>\n",
       "    </tr>\n",
       "    <tr>\n",
       "      <th>3</th>\n",
       "      <td>проведение свадьбы</td>\n",
       "      <td>183</td>\n",
       "      <td>2313</td>\n",
       "      <td>0.079118</td>\n",
       "    </tr>\n",
       "  </tbody>\n",
       "</table>\n",
       "</div>"
      ],
      "text/plain": [
       "           purpose_category  debts  creditors   percent\n",
       "0    операции с автомобилем    400       4279  0.093480\n",
       "1  операции с недвижимостью    780      10751  0.072551\n",
       "2     получение образования    369       3988  0.092528\n",
       "3        проведение свадьбы    183       2313  0.079118"
      ]
     },
     "execution_count": 26,
     "metadata": {},
     "output_type": "execute_result"
    }
   ],
   "source": [
    "\n",
    "effect('purpose_category') # Влияние цели кредита на задолжности"
   ]
  },
  {
   "cell_type": "markdown",
   "id": "9aa80168",
   "metadata": {},
   "source": [
    "<div class=\"alert alert-success\">\n",
    "<b>Комментарий ревьюера ✔️:</b>\n",
    "\n",
    "Провела верные вычисления, молодец 👍 Согласен с выводами и наблюдениями</div>"
   ]
  },
  {
   "cell_type": "markdown",
   "id": "000c4727",
   "metadata": {
    "deletable": false,
    "id": "b4bb2ce6"
   },
   "source": [
    "**Вывод:** "
   ]
  },
  {
   "cell_type": "markdown",
   "id": "e2147da8",
   "metadata": {},
   "source": [
    "Процент должников по группам в зависимости целей кредита от 7,2 до 9,3 процента. Из данных можно сделать выводы, \n",
    "что зависимость не значительная, однако люди берущие кредит на недвижимость или на свадьбу лучше возвращают кредиты, \n",
    "а кредиты взятые на авто или образование возвращают реже."
   ]
  },
  {
   "cell_type": "markdown",
   "id": "e014412b",
   "metadata": {
    "deletable": false,
    "editable": false,
    "id": "09c3ac4c"
   },
   "source": [
    "#### 3.5 Приведите возможные причины появления пропусков в исходных данных."
   ]
  },
  {
   "cell_type": "markdown",
   "id": "5895664f",
   "metadata": {
    "deletable": false,
    "id": "9da2ceda"
   },
   "source": [
    "*Ответ: \n",
    "Основные ошибки в источниках данных это \n",
    "1) технические, например неточность алгоритмов выгрузки\n",
    "2) \"человеческий фактор\", например опечатки, пропуски, умышленное искажение данных \n",
    "Пропуски в полях days_employed total_income совпадают. Тут маловероятны технические причины.\n",
    "Скорее всего эти поля пустые, потому что их можно было не заполнять. И некоторые люди не хотели раскрывать эту информацию. \n",
    "Я думаю, это люди, которые не работали официально и не имели белую зарплату.\n"
   ]
  },
  {
   "cell_type": "markdown",
   "id": "7fbc3128",
   "metadata": {
    "deletable": false,
    "editable": false,
    "id": "7b0487d6"
   },
   "source": [
    "#### 3.6 Объясните, почему заполнить пропуски медианным значением — лучшее решение для количественных переменных."
   ]
  },
  {
   "cell_type": "markdown",
   "id": "933f9a43",
   "metadata": {
    "deletable": false,
    "id": "7ecf2b8e"
   },
   "source": [
    "*Ответ:* \n",
    "Пропуски в количественных переменных принято заполнять значениями характеризующими состояние набор данных, выбранных для проведения исследования. Обычно это среднее или медианное значение, реже может быть минимум или максимум. Среднее значение часто бывает не показательным если данные не равномерны.\n",
    "В данном наборе данных пропусков около 10% и они не привязаны к какой-то другой категории. Это достаточно много, возможно для такой группы следовало сделать отдельный анализ.\n"
   ]
  },
  {
   "cell_type": "markdown",
   "id": "b5e3f13b",
   "metadata": {
    "deletable": false,
    "editable": false,
    "id": "6db5255a"
   },
   "source": [
    "### Шаг 4: общий вывод."
   ]
  },
  {
   "cell_type": "markdown",
   "id": "53f2226d",
   "metadata": {
    "deletable": false,
    "id": "bad65432"
   },
   "source": [
    "В результате исследования на основании предоставленной выборки не найдена значительная зависимость количества задолжников от других факторов, представленных в выборке. По каждому критерию количество задолжников варьируется примерно от 6 до 10%. Нет таких критериев, где количество задолжников отличалось бы значительно, например в 2 и более раза. Самое большое расхождение в исследовании по семейному положению. Возможно, стоит более внимательно выдавать кредит не женатым или живущим гражданским браком."
   ]
  },
  {
   "cell_type": "markdown",
   "id": "f931d0b3",
   "metadata": {},
   "source": [
    "<div class=\"alert alert-success\">\n",
    "<b>Комментарий ревьюера ✔️:</b>\n",
    "\n",
    "Отлично справилась с работой, молодец. Провела верные вычисления. Сделала отличные выводы. Проект принимаю, удачи тебе в дальнейшей учебе\n",
    "\n",
    "p.s. оставил несколько рекомендаций по коду</div>"
   ]
  },
  {
   "cell_type": "code",
   "execution_count": null,
   "id": "392e2f38",
   "metadata": {},
   "outputs": [],
   "source": []
  }
 ],
 "metadata": {
  "ExecuteTimeLog": [
   {
    "duration": 44,
    "start_time": "2022-08-30T02:47:32.890Z"
   },
   {
    "duration": 629,
    "start_time": "2022-08-30T02:47:44.831Z"
   },
   {
    "duration": 20,
    "start_time": "2022-08-30T02:47:45.462Z"
   },
   {
    "duration": 14,
    "start_time": "2022-08-30T02:47:45.484Z"
   },
   {
    "duration": 9,
    "start_time": "2022-08-30T02:47:45.499Z"
   },
   {
    "duration": 29,
    "start_time": "2022-08-30T02:47:45.509Z"
   },
   {
    "duration": 3,
    "start_time": "2022-08-30T02:47:45.539Z"
   },
   {
    "duration": 11,
    "start_time": "2022-08-30T02:47:45.543Z"
   },
   {
    "duration": 4,
    "start_time": "2022-08-30T02:47:45.555Z"
   },
   {
    "duration": 31,
    "start_time": "2022-08-30T02:47:45.560Z"
   },
   {
    "duration": 8,
    "start_time": "2022-08-30T02:47:45.592Z"
   },
   {
    "duration": 32,
    "start_time": "2022-08-30T02:47:45.601Z"
   },
   {
    "duration": 8,
    "start_time": "2022-08-30T02:47:45.634Z"
   },
   {
    "duration": 5,
    "start_time": "2022-08-30T02:47:45.643Z"
   },
   {
    "duration": 12,
    "start_time": "2022-08-30T02:47:45.650Z"
   },
   {
    "duration": 35,
    "start_time": "2022-08-30T02:47:45.664Z"
   },
   {
    "duration": 14,
    "start_time": "2022-08-30T02:47:45.701Z"
   },
   {
    "duration": 3,
    "start_time": "2022-08-30T02:47:45.716Z"
   },
   {
    "duration": 11,
    "start_time": "2022-08-30T02:47:45.720Z"
   },
   {
    "duration": 5,
    "start_time": "2022-08-30T02:47:45.732Z"
   },
   {
    "duration": 7,
    "start_time": "2022-08-30T02:47:45.738Z"
   },
   {
    "duration": 12,
    "start_time": "2022-08-30T02:47:45.746Z"
   },
   {
    "duration": 6,
    "start_time": "2022-08-30T02:47:57.419Z"
   },
   {
    "duration": 25,
    "start_time": "2022-08-30T02:49:19.716Z"
   },
   {
    "duration": 6,
    "start_time": "2022-08-30T02:57:04.613Z"
   },
   {
    "duration": 5,
    "start_time": "2022-08-30T03:00:04.931Z"
   },
   {
    "duration": 9,
    "start_time": "2022-08-30T03:00:43.159Z"
   },
   {
    "duration": 12,
    "start_time": "2022-08-30T03:02:31.663Z"
   },
   {
    "duration": 8,
    "start_time": "2022-08-30T03:02:42.755Z"
   },
   {
    "duration": 12,
    "start_time": "2022-08-30T03:02:56.936Z"
   },
   {
    "duration": 7,
    "start_time": "2022-08-30T03:03:04.625Z"
   },
   {
    "duration": 11,
    "start_time": "2022-08-30T03:06:18.560Z"
   },
   {
    "duration": 12,
    "start_time": "2022-08-30T03:08:21.901Z"
   },
   {
    "duration": 15,
    "start_time": "2022-08-30T03:08:34.265Z"
   },
   {
    "duration": 7,
    "start_time": "2022-08-30T03:08:42.466Z"
   },
   {
    "duration": 14,
    "start_time": "2022-08-30T03:10:19.373Z"
   },
   {
    "duration": 11,
    "start_time": "2022-08-30T03:11:06.597Z"
   },
   {
    "duration": 11,
    "start_time": "2022-08-30T03:11:35.799Z"
   },
   {
    "duration": 13,
    "start_time": "2022-08-30T03:11:42.441Z"
   },
   {
    "duration": 18,
    "start_time": "2022-08-30T03:12:18.686Z"
   },
   {
    "duration": 17,
    "start_time": "2022-08-30T03:12:44.456Z"
   },
   {
    "duration": 15,
    "start_time": "2022-08-30T03:12:55.428Z"
   },
   {
    "duration": 26,
    "start_time": "2022-08-30T03:13:32.182Z"
   },
   {
    "duration": 18,
    "start_time": "2022-08-30T03:14:37.439Z"
   },
   {
    "duration": 15,
    "start_time": "2022-08-30T03:14:42.183Z"
   },
   {
    "duration": 14,
    "start_time": "2022-08-30T03:14:54.970Z"
   },
   {
    "duration": 13,
    "start_time": "2022-08-30T03:14:59.197Z"
   },
   {
    "duration": 15,
    "start_time": "2022-08-30T03:15:15.271Z"
   },
   {
    "duration": 15,
    "start_time": "2022-08-30T03:16:53.610Z"
   },
   {
    "duration": 14,
    "start_time": "2022-08-30T03:17:25.474Z"
   },
   {
    "duration": 23,
    "start_time": "2022-08-30T03:18:17.757Z"
   },
   {
    "duration": 18,
    "start_time": "2022-08-30T03:19:33.003Z"
   },
   {
    "duration": 11,
    "start_time": "2022-08-30T03:19:55.201Z"
   },
   {
    "duration": 12,
    "start_time": "2022-08-30T03:20:19.019Z"
   },
   {
    "duration": 11,
    "start_time": "2022-08-30T03:20:34.729Z"
   },
   {
    "duration": 14,
    "start_time": "2022-08-30T03:21:05.719Z"
   },
   {
    "duration": 13,
    "start_time": "2022-08-30T03:21:12.504Z"
   },
   {
    "duration": 12,
    "start_time": "2022-08-30T03:21:16.727Z"
   },
   {
    "duration": 15,
    "start_time": "2022-08-30T03:21:29.650Z"
   },
   {
    "duration": 17,
    "start_time": "2022-08-30T03:21:37.959Z"
   },
   {
    "duration": 10,
    "start_time": "2022-08-30T03:21:47.807Z"
   },
   {
    "duration": 12,
    "start_time": "2022-08-30T03:22:21.767Z"
   },
   {
    "duration": 11,
    "start_time": "2022-08-30T03:22:53.703Z"
   },
   {
    "duration": 17,
    "start_time": "2022-08-30T03:23:15.470Z"
   },
   {
    "duration": 11,
    "start_time": "2022-08-30T03:23:24.951Z"
   },
   {
    "duration": 11,
    "start_time": "2022-08-30T03:23:39.700Z"
   },
   {
    "duration": 11,
    "start_time": "2022-08-30T03:23:59.726Z"
   },
   {
    "duration": 11,
    "start_time": "2022-08-30T03:24:05.045Z"
   },
   {
    "duration": 9,
    "start_time": "2022-08-30T03:24:43.607Z"
   },
   {
    "duration": 9,
    "start_time": "2022-08-30T03:25:26.744Z"
   },
   {
    "duration": 11,
    "start_time": "2022-08-30T03:26:11.323Z"
   },
   {
    "duration": 11,
    "start_time": "2022-08-30T03:27:00.579Z"
   },
   {
    "duration": 11,
    "start_time": "2022-08-30T03:27:54.809Z"
   },
   {
    "duration": 12,
    "start_time": "2022-08-30T03:28:25.022Z"
   },
   {
    "duration": 15,
    "start_time": "2022-08-30T03:28:39.005Z"
   },
   {
    "duration": 12,
    "start_time": "2022-08-30T03:28:59.328Z"
   },
   {
    "duration": 622,
    "start_time": "2022-08-30T03:29:06.949Z"
   },
   {
    "duration": 563,
    "start_time": "2022-08-30T03:29:20.934Z"
   },
   {
    "duration": 9,
    "start_time": "2022-08-30T03:31:29.117Z"
   },
   {
    "duration": 13,
    "start_time": "2022-08-30T03:32:35.862Z"
   },
   {
    "duration": 9,
    "start_time": "2022-08-30T03:34:39.026Z"
   },
   {
    "duration": 12,
    "start_time": "2022-08-30T03:35:25.075Z"
   },
   {
    "duration": 11,
    "start_time": "2022-08-30T03:35:43.266Z"
   },
   {
    "duration": 16,
    "start_time": "2022-08-30T03:35:58.257Z"
   },
   {
    "duration": 9,
    "start_time": "2022-08-30T03:36:28.327Z"
   },
   {
    "duration": 13,
    "start_time": "2022-08-30T04:59:47.441Z"
   },
   {
    "duration": 49,
    "start_time": "2022-08-30T05:05:57.908Z"
   },
   {
    "duration": 14,
    "start_time": "2022-08-30T05:06:05.300Z"
   },
   {
    "duration": 14,
    "start_time": "2022-08-30T05:06:15.947Z"
   },
   {
    "duration": 11,
    "start_time": "2022-08-30T05:06:24.504Z"
   },
   {
    "duration": 10,
    "start_time": "2022-08-30T05:06:59.503Z"
   },
   {
    "duration": 9,
    "start_time": "2022-08-30T05:07:14.575Z"
   },
   {
    "duration": 11,
    "start_time": "2022-08-30T05:10:59.552Z"
   },
   {
    "duration": 8,
    "start_time": "2022-08-30T05:13:00.849Z"
   },
   {
    "duration": 11,
    "start_time": "2022-08-30T05:13:22.156Z"
   },
   {
    "duration": 11,
    "start_time": "2022-08-30T05:17:38.546Z"
   },
   {
    "duration": 9,
    "start_time": "2022-08-30T05:17:49.263Z"
   },
   {
    "duration": 12,
    "start_time": "2022-08-30T05:18:09.600Z"
   },
   {
    "duration": 13,
    "start_time": "2022-08-30T05:18:57.960Z"
   },
   {
    "duration": 58,
    "start_time": "2022-08-30T05:20:08.046Z"
   },
   {
    "duration": 13,
    "start_time": "2022-08-30T05:20:12.295Z"
   },
   {
    "duration": 13,
    "start_time": "2022-08-30T05:21:57.232Z"
   },
   {
    "duration": 10,
    "start_time": "2022-08-30T05:23:53.120Z"
   },
   {
    "duration": 15,
    "start_time": "2022-08-30T05:25:41.348Z"
   },
   {
    "duration": 14,
    "start_time": "2022-08-30T05:26:21.112Z"
   },
   {
    "duration": 17,
    "start_time": "2022-08-30T05:27:47.031Z"
   },
   {
    "duration": 21,
    "start_time": "2022-08-30T05:27:53.902Z"
   },
   {
    "duration": 16,
    "start_time": "2022-08-30T05:32:38.228Z"
   },
   {
    "duration": 16,
    "start_time": "2022-08-30T05:32:59.752Z"
   },
   {
    "duration": 53,
    "start_time": "2022-08-30T05:36:31.559Z"
   },
   {
    "duration": 17,
    "start_time": "2022-08-30T05:36:41.225Z"
   },
   {
    "duration": 11,
    "start_time": "2022-08-30T05:36:53.834Z"
   },
   {
    "duration": 16,
    "start_time": "2022-08-30T05:37:10.153Z"
   },
   {
    "duration": 18,
    "start_time": "2022-08-30T05:37:37.396Z"
   },
   {
    "duration": 17,
    "start_time": "2022-08-30T05:40:54.323Z"
   },
   {
    "duration": 15,
    "start_time": "2022-08-30T05:41:06.131Z"
   },
   {
    "duration": 17,
    "start_time": "2022-08-30T05:44:39.153Z"
   },
   {
    "duration": 12,
    "start_time": "2022-08-30T05:48:48.464Z"
   },
   {
    "duration": 12,
    "start_time": "2022-08-30T05:54:42.948Z"
   },
   {
    "duration": 15,
    "start_time": "2022-08-30T06:13:03.896Z"
   },
   {
    "duration": 18,
    "start_time": "2022-08-30T06:14:22.445Z"
   },
   {
    "duration": 14,
    "start_time": "2022-08-30T06:14:43.540Z"
   },
   {
    "duration": 15,
    "start_time": "2022-08-30T06:19:01.931Z"
   },
   {
    "duration": 15,
    "start_time": "2022-08-30T06:19:15.761Z"
   },
   {
    "duration": 15,
    "start_time": "2022-08-30T06:49:25.499Z"
   },
   {
    "duration": 17,
    "start_time": "2022-08-30T06:56:45.660Z"
   },
   {
    "duration": 18,
    "start_time": "2022-08-30T06:58:32.865Z"
   },
   {
    "duration": 11,
    "start_time": "2022-08-30T06:59:19.765Z"
   },
   {
    "duration": 16,
    "start_time": "2022-08-30T06:59:49.009Z"
   },
   {
    "duration": 13,
    "start_time": "2022-08-30T07:00:29.534Z"
   },
   {
    "duration": 13,
    "start_time": "2022-08-30T07:01:10.263Z"
   },
   {
    "duration": 14,
    "start_time": "2022-08-30T07:01:27.592Z"
   },
   {
    "duration": 115,
    "start_time": "2022-08-30T07:12:48.408Z"
   },
   {
    "duration": 11,
    "start_time": "2022-08-30T07:12:58.482Z"
   },
   {
    "duration": 12,
    "start_time": "2022-08-30T07:13:00.964Z"
   },
   {
    "duration": 13,
    "start_time": "2022-08-30T07:13:23.161Z"
   },
   {
    "duration": 17,
    "start_time": "2022-08-30T07:14:00.765Z"
   },
   {
    "duration": 17,
    "start_time": "2022-08-30T07:14:07.409Z"
   },
   {
    "duration": 12,
    "start_time": "2022-08-30T07:14:54.480Z"
   },
   {
    "duration": 4,
    "start_time": "2022-08-30T07:14:58.249Z"
   },
   {
    "duration": 15,
    "start_time": "2022-08-30T07:17:33.260Z"
   },
   {
    "duration": 14,
    "start_time": "2022-08-30T07:18:05.649Z"
   },
   {
    "duration": 19,
    "start_time": "2022-08-30T07:18:50.874Z"
   },
   {
    "duration": 122,
    "start_time": "2022-08-30T07:19:20.600Z"
   },
   {
    "duration": 6,
    "start_time": "2022-08-30T07:28:35.459Z"
   },
   {
    "duration": 5,
    "start_time": "2022-08-30T07:28:39.806Z"
   },
   {
    "duration": 4,
    "start_time": "2022-08-30T07:28:48.500Z"
   },
   {
    "duration": 5,
    "start_time": "2022-08-30T07:29:07.726Z"
   },
   {
    "duration": 407,
    "start_time": "2022-08-30T07:29:27.324Z"
   },
   {
    "duration": 19,
    "start_time": "2022-08-30T07:29:27.733Z"
   },
   {
    "duration": 28,
    "start_time": "2022-08-30T07:29:27.753Z"
   },
   {
    "duration": 8,
    "start_time": "2022-08-30T07:29:27.783Z"
   },
   {
    "duration": 32,
    "start_time": "2022-08-30T07:29:27.792Z"
   },
   {
    "duration": 2,
    "start_time": "2022-08-30T07:29:27.825Z"
   },
   {
    "duration": 8,
    "start_time": "2022-08-30T07:29:27.829Z"
   },
   {
    "duration": 5,
    "start_time": "2022-08-30T07:29:27.839Z"
   },
   {
    "duration": 8,
    "start_time": "2022-08-30T07:29:27.846Z"
   },
   {
    "duration": 5,
    "start_time": "2022-08-30T07:29:27.856Z"
   },
   {
    "duration": 50,
    "start_time": "2022-08-30T07:29:27.862Z"
   },
   {
    "duration": 8,
    "start_time": "2022-08-30T07:29:27.913Z"
   },
   {
    "duration": 6,
    "start_time": "2022-08-30T07:29:27.923Z"
   },
   {
    "duration": 26,
    "start_time": "2022-08-30T07:29:27.930Z"
   },
   {
    "duration": 18,
    "start_time": "2022-08-30T07:29:27.957Z"
   },
   {
    "duration": 15,
    "start_time": "2022-08-30T07:29:27.977Z"
   },
   {
    "duration": 3,
    "start_time": "2022-08-30T07:29:27.993Z"
   },
   {
    "duration": 12,
    "start_time": "2022-08-30T07:29:27.997Z"
   },
   {
    "duration": 4,
    "start_time": "2022-08-30T07:29:28.010Z"
   },
   {
    "duration": 3,
    "start_time": "2022-08-30T07:29:28.016Z"
   },
   {
    "duration": 10,
    "start_time": "2022-08-30T07:29:28.021Z"
   },
   {
    "duration": 5,
    "start_time": "2022-08-30T07:29:32.765Z"
   },
   {
    "duration": 10,
    "start_time": "2022-08-30T07:29:38.312Z"
   },
   {
    "duration": 4,
    "start_time": "2022-08-30T07:30:26.488Z"
   },
   {
    "duration": 4,
    "start_time": "2022-08-30T07:30:30.367Z"
   },
   {
    "duration": 4,
    "start_time": "2022-08-30T07:32:10.312Z"
   },
   {
    "duration": 5,
    "start_time": "2022-08-30T07:32:12.879Z"
   },
   {
    "duration": 4,
    "start_time": "2022-08-30T07:32:30.296Z"
   },
   {
    "duration": 9,
    "start_time": "2022-08-30T07:32:39.032Z"
   },
   {
    "duration": 7,
    "start_time": "2022-08-30T07:32:45.344Z"
   },
   {
    "duration": 14,
    "start_time": "2022-08-30T07:32:50.380Z"
   },
   {
    "duration": 13,
    "start_time": "2022-08-30T07:33:52.149Z"
   },
   {
    "duration": 17,
    "start_time": "2022-08-30T07:34:18.990Z"
   },
   {
    "duration": 65,
    "start_time": "2022-08-30T07:34:39.402Z"
   },
   {
    "duration": 19,
    "start_time": "2022-08-30T07:34:44.079Z"
   },
   {
    "duration": 58,
    "start_time": "2022-08-30T07:39:46.068Z"
   },
   {
    "duration": 20,
    "start_time": "2022-08-30T07:41:20.152Z"
   },
   {
    "duration": 4,
    "start_time": "2022-08-30T09:20:10.012Z"
   },
   {
    "duration": 425,
    "start_time": "2022-08-30T09:45:20.425Z"
   },
   {
    "duration": 23,
    "start_time": "2022-08-30T09:45:20.852Z"
   },
   {
    "duration": 13,
    "start_time": "2022-08-30T09:45:20.877Z"
   },
   {
    "duration": 8,
    "start_time": "2022-08-30T09:45:20.892Z"
   },
   {
    "duration": 29,
    "start_time": "2022-08-30T09:45:20.902Z"
   },
   {
    "duration": 3,
    "start_time": "2022-08-30T09:45:20.933Z"
   },
   {
    "duration": 9,
    "start_time": "2022-08-30T09:45:20.937Z"
   },
   {
    "duration": 4,
    "start_time": "2022-08-30T09:45:20.948Z"
   },
   {
    "duration": 35,
    "start_time": "2022-08-30T09:45:20.953Z"
   },
   {
    "duration": 5,
    "start_time": "2022-08-30T09:45:20.990Z"
   },
   {
    "duration": 39,
    "start_time": "2022-08-30T09:45:20.997Z"
   },
   {
    "duration": 9,
    "start_time": "2022-08-30T09:45:21.037Z"
   },
   {
    "duration": 7,
    "start_time": "2022-08-30T09:45:21.047Z"
   },
   {
    "duration": 12,
    "start_time": "2022-08-30T09:45:21.055Z"
   },
   {
    "duration": 31,
    "start_time": "2022-08-30T09:45:21.068Z"
   },
   {
    "duration": 17,
    "start_time": "2022-08-30T09:45:21.100Z"
   },
   {
    "duration": 3,
    "start_time": "2022-08-30T09:45:21.119Z"
   },
   {
    "duration": 16,
    "start_time": "2022-08-30T09:45:21.123Z"
   },
   {
    "duration": 11,
    "start_time": "2022-08-30T09:45:21.140Z"
   },
   {
    "duration": 3,
    "start_time": "2022-08-30T09:45:21.153Z"
   },
   {
    "duration": 32,
    "start_time": "2022-08-30T09:45:21.157Z"
   },
   {
    "duration": 5,
    "start_time": "2022-08-30T09:45:21.191Z"
   },
   {
    "duration": 17,
    "start_time": "2022-08-30T09:45:21.197Z"
   },
   {
    "duration": 17,
    "start_time": "2022-08-30T09:45:21.216Z"
   },
   {
    "duration": 14,
    "start_time": "2022-08-30T09:45:21.235Z"
   },
   {
    "duration": 35,
    "start_time": "2022-08-30T09:45:21.250Z"
   },
   {
    "duration": 12,
    "start_time": "2022-08-30T09:46:37.827Z"
   },
   {
    "duration": 16,
    "start_time": "2022-08-30T09:46:52.371Z"
   },
   {
    "duration": 14,
    "start_time": "2022-08-30T09:47:02.731Z"
   },
   {
    "duration": 14,
    "start_time": "2022-08-30T09:47:22.548Z"
   },
   {
    "duration": 14,
    "start_time": "2022-08-30T09:47:29.461Z"
   },
   {
    "duration": 442,
    "start_time": "2022-08-30T12:21:14.424Z"
   },
   {
    "duration": 21,
    "start_time": "2022-08-30T12:21:14.868Z"
   },
   {
    "duration": 13,
    "start_time": "2022-08-30T12:21:14.890Z"
   },
   {
    "duration": 14,
    "start_time": "2022-08-30T12:21:14.904Z"
   },
   {
    "duration": 40,
    "start_time": "2022-08-30T12:21:14.920Z"
   },
   {
    "duration": 3,
    "start_time": "2022-08-30T12:21:14.962Z"
   },
   {
    "duration": 14,
    "start_time": "2022-08-30T12:21:14.966Z"
   },
   {
    "duration": 4,
    "start_time": "2022-08-30T12:21:14.981Z"
   },
   {
    "duration": 15,
    "start_time": "2022-08-30T12:21:14.986Z"
   },
   {
    "duration": 17,
    "start_time": "2022-08-30T12:21:15.003Z"
   },
   {
    "duration": 34,
    "start_time": "2022-08-30T12:21:15.021Z"
   },
   {
    "duration": 8,
    "start_time": "2022-08-30T12:21:15.056Z"
   },
   {
    "duration": 6,
    "start_time": "2022-08-30T12:21:15.065Z"
   },
   {
    "duration": 10,
    "start_time": "2022-08-30T12:21:15.073Z"
   },
   {
    "duration": 17,
    "start_time": "2022-08-30T12:21:15.084Z"
   },
   {
    "duration": 34,
    "start_time": "2022-08-30T12:21:15.102Z"
   },
   {
    "duration": 3,
    "start_time": "2022-08-30T12:21:15.138Z"
   },
   {
    "duration": 12,
    "start_time": "2022-08-30T12:21:15.142Z"
   },
   {
    "duration": 5,
    "start_time": "2022-08-30T12:21:15.156Z"
   },
   {
    "duration": 3,
    "start_time": "2022-08-30T12:21:15.162Z"
   },
   {
    "duration": 13,
    "start_time": "2022-08-30T12:21:15.166Z"
   },
   {
    "duration": 3,
    "start_time": "2022-08-30T12:21:15.181Z"
   },
   {
    "duration": 18,
    "start_time": "2022-08-30T12:21:15.185Z"
   },
   {
    "duration": 29,
    "start_time": "2022-08-30T12:21:15.204Z"
   },
   {
    "duration": 12,
    "start_time": "2022-08-30T12:21:15.234Z"
   },
   {
    "duration": 13,
    "start_time": "2022-08-30T12:21:15.247Z"
   },
   {
    "duration": 160,
    "start_time": "2022-08-30T12:23:33.365Z"
   },
   {
    "duration": 519,
    "start_time": "2022-09-04T11:25:39.105Z"
   },
   {
    "duration": 21,
    "start_time": "2022-09-04T11:25:42.774Z"
   },
   {
    "duration": 65,
    "start_time": "2022-09-04T11:37:18.354Z"
   },
   {
    "duration": 13,
    "start_time": "2022-09-04T11:37:18.421Z"
   },
   {
    "duration": 16,
    "start_time": "2022-09-04T11:37:18.436Z"
   },
   {
    "duration": 8,
    "start_time": "2022-09-04T11:37:18.453Z"
   },
   {
    "duration": 10,
    "start_time": "2022-09-04T11:37:22.199Z"
   },
   {
    "duration": 27,
    "start_time": "2022-09-04T11:41:39.898Z"
   },
   {
    "duration": 8,
    "start_time": "2022-09-04T11:41:42.066Z"
   },
   {
    "duration": 65,
    "start_time": "2022-09-04T11:42:28.369Z"
   },
   {
    "duration": 13,
    "start_time": "2022-09-04T11:42:28.435Z"
   },
   {
    "duration": 15,
    "start_time": "2022-09-04T11:42:28.449Z"
   },
   {
    "duration": 8,
    "start_time": "2022-09-04T11:42:28.465Z"
   },
   {
    "duration": 31,
    "start_time": "2022-09-04T11:42:28.475Z"
   },
   {
    "duration": 27,
    "start_time": "2022-09-04T11:42:28.508Z"
   },
   {
    "duration": 2,
    "start_time": "2022-09-04T11:42:28.537Z"
   },
   {
    "duration": 9,
    "start_time": "2022-09-04T11:42:28.541Z"
   },
   {
    "duration": 4,
    "start_time": "2022-09-04T11:42:28.551Z"
   },
   {
    "duration": 5,
    "start_time": "2022-09-04T11:42:28.557Z"
   },
   {
    "duration": 4,
    "start_time": "2022-09-04T11:42:28.563Z"
   },
   {
    "duration": 7,
    "start_time": "2022-09-04T11:42:32.408Z"
   },
   {
    "duration": 400,
    "start_time": "2022-09-04T11:42:46.444Z"
   },
   {
    "duration": 19,
    "start_time": "2022-09-04T11:42:46.846Z"
   },
   {
    "duration": 12,
    "start_time": "2022-09-04T11:42:46.867Z"
   },
   {
    "duration": 26,
    "start_time": "2022-09-04T11:42:46.881Z"
   },
   {
    "duration": 9,
    "start_time": "2022-09-04T11:42:46.909Z"
   },
   {
    "duration": 27,
    "start_time": "2022-09-04T11:42:46.919Z"
   },
   {
    "duration": 3,
    "start_time": "2022-09-04T11:42:46.948Z"
   },
   {
    "duration": 8,
    "start_time": "2022-09-04T11:42:46.952Z"
   },
   {
    "duration": 5,
    "start_time": "2022-09-04T11:42:46.961Z"
   },
   {
    "duration": 39,
    "start_time": "2022-09-04T11:42:46.967Z"
   },
   {
    "duration": 4,
    "start_time": "2022-09-04T11:42:47.007Z"
   },
   {
    "duration": 9,
    "start_time": "2022-09-04T11:42:51.307Z"
   },
   {
    "duration": 6,
    "start_time": "2022-09-04T11:42:54.151Z"
   },
   {
    "duration": 9,
    "start_time": "2022-09-04T11:42:56.679Z"
   },
   {
    "duration": 449,
    "start_time": "2022-09-04T11:43:44.706Z"
   },
   {
    "duration": 20,
    "start_time": "2022-09-04T11:43:45.157Z"
   },
   {
    "duration": 12,
    "start_time": "2022-09-04T11:43:45.178Z"
   },
   {
    "duration": 17,
    "start_time": "2022-09-04T11:43:45.192Z"
   },
   {
    "duration": 10,
    "start_time": "2022-09-04T11:43:45.211Z"
   },
   {
    "duration": 28,
    "start_time": "2022-09-04T11:43:45.223Z"
   },
   {
    "duration": 3,
    "start_time": "2022-09-04T11:43:45.253Z"
   },
   {
    "duration": 10,
    "start_time": "2022-09-04T11:43:45.257Z"
   },
   {
    "duration": 3,
    "start_time": "2022-09-04T11:43:45.269Z"
   },
   {
    "duration": 36,
    "start_time": "2022-09-04T11:43:45.273Z"
   },
   {
    "duration": 4,
    "start_time": "2022-09-04T11:43:45.310Z"
   },
   {
    "duration": 9,
    "start_time": "2022-09-04T11:43:47.155Z"
   },
   {
    "duration": 68,
    "start_time": "2022-09-04T11:44:07.557Z"
   },
   {
    "duration": 15,
    "start_time": "2022-09-04T11:44:07.627Z"
   },
   {
    "duration": 12,
    "start_time": "2022-09-04T11:44:07.644Z"
   },
   {
    "duration": 10,
    "start_time": "2022-09-04T11:44:07.658Z"
   },
   {
    "duration": 39,
    "start_time": "2022-09-04T11:44:07.671Z"
   },
   {
    "duration": 29,
    "start_time": "2022-09-04T11:44:07.712Z"
   },
   {
    "duration": 3,
    "start_time": "2022-09-04T11:44:07.743Z"
   },
   {
    "duration": 10,
    "start_time": "2022-09-04T11:44:07.748Z"
   },
   {
    "duration": 5,
    "start_time": "2022-09-04T11:44:07.759Z"
   },
   {
    "duration": 41,
    "start_time": "2022-09-04T11:44:07.765Z"
   },
   {
    "duration": 5,
    "start_time": "2022-09-04T11:44:07.808Z"
   },
   {
    "duration": 9,
    "start_time": "2022-09-04T11:44:14.767Z"
   },
   {
    "duration": 29,
    "start_time": "2022-09-04T11:44:46.886Z"
   },
   {
    "duration": 8,
    "start_time": "2022-09-04T11:44:50.446Z"
   },
   {
    "duration": 67,
    "start_time": "2022-09-04T11:54:25.386Z"
   },
   {
    "duration": 15,
    "start_time": "2022-09-04T11:54:25.456Z"
   },
   {
    "duration": 14,
    "start_time": "2022-09-04T11:54:25.472Z"
   },
   {
    "duration": 21,
    "start_time": "2022-09-04T11:54:25.488Z"
   },
   {
    "duration": 10,
    "start_time": "2022-09-04T11:54:25.510Z"
   },
   {
    "duration": 30,
    "start_time": "2022-09-04T11:54:25.521Z"
   },
   {
    "duration": 2,
    "start_time": "2022-09-04T11:54:25.553Z"
   },
   {
    "duration": 10,
    "start_time": "2022-09-04T11:54:25.557Z"
   },
   {
    "duration": 4,
    "start_time": "2022-09-04T11:54:25.568Z"
   },
   {
    "duration": 35,
    "start_time": "2022-09-04T11:54:25.573Z"
   },
   {
    "duration": 4,
    "start_time": "2022-09-04T11:54:25.610Z"
   },
   {
    "duration": 6,
    "start_time": "2022-09-04T11:54:28.494Z"
   },
   {
    "duration": 9,
    "start_time": "2022-09-04T11:54:32.985Z"
   },
   {
    "duration": 74,
    "start_time": "2022-09-04T11:56:08.606Z"
   },
   {
    "duration": 15,
    "start_time": "2022-09-04T11:56:08.682Z"
   },
   {
    "duration": 14,
    "start_time": "2022-09-04T11:56:08.699Z"
   },
   {
    "duration": 9,
    "start_time": "2022-09-04T11:56:08.715Z"
   },
   {
    "duration": 14,
    "start_time": "2022-09-04T11:56:08.725Z"
   },
   {
    "duration": 9,
    "start_time": "2022-09-04T11:56:13.155Z"
   },
   {
    "duration": 5,
    "start_time": "2022-09-04T11:56:23.354Z"
   },
   {
    "duration": 9,
    "start_time": "2022-09-04T11:56:27.354Z"
   },
   {
    "duration": 81,
    "start_time": "2022-09-04T11:56:40.821Z"
   },
   {
    "duration": 65,
    "start_time": "2022-09-04T11:58:07.715Z"
   },
   {
    "duration": 14,
    "start_time": "2022-09-04T11:58:07.781Z"
   },
   {
    "duration": 22,
    "start_time": "2022-09-04T11:58:07.796Z"
   },
   {
    "duration": 21,
    "start_time": "2022-09-04T11:58:07.820Z"
   },
   {
    "duration": 19,
    "start_time": "2022-09-04T11:58:07.843Z"
   },
   {
    "duration": 17,
    "start_time": "2022-09-04T11:58:07.863Z"
   },
   {
    "duration": 18,
    "start_time": "2022-09-04T11:58:07.882Z"
   },
   {
    "duration": 15,
    "start_time": "2022-09-04T11:58:07.902Z"
   },
   {
    "duration": 13,
    "start_time": "2022-09-04T11:58:07.918Z"
   },
   {
    "duration": 12,
    "start_time": "2022-09-04T11:58:07.933Z"
   },
   {
    "duration": 4,
    "start_time": "2022-09-04T11:58:07.946Z"
   },
   {
    "duration": 9,
    "start_time": "2022-09-04T11:58:07.951Z"
   },
   {
    "duration": 6,
    "start_time": "2022-09-04T11:58:07.962Z"
   },
   {
    "duration": 10,
    "start_time": "2022-09-04T11:58:12.472Z"
   },
   {
    "duration": 8,
    "start_time": "2022-09-04T11:58:16.000Z"
   },
   {
    "duration": 9,
    "start_time": "2022-09-04T11:58:19.183Z"
   },
   {
    "duration": 65,
    "start_time": "2022-09-04T12:00:37.356Z"
   },
   {
    "duration": 66,
    "start_time": "2022-09-04T12:00:44.342Z"
   },
   {
    "duration": 14,
    "start_time": "2022-09-04T12:00:44.410Z"
   },
   {
    "duration": 13,
    "start_time": "2022-09-04T12:00:44.425Z"
   },
   {
    "duration": 8,
    "start_time": "2022-09-04T12:00:44.440Z"
   },
   {
    "duration": 11,
    "start_time": "2022-09-04T12:00:44.449Z"
   },
   {
    "duration": 5,
    "start_time": "2022-09-04T12:00:44.462Z"
   },
   {
    "duration": 3,
    "start_time": "2022-09-04T12:00:44.468Z"
   },
   {
    "duration": 8,
    "start_time": "2022-09-04T12:00:44.506Z"
   },
   {
    "duration": 4,
    "start_time": "2022-09-04T12:00:44.515Z"
   },
   {
    "duration": 10,
    "start_time": "2022-09-04T12:00:44.521Z"
   },
   {
    "duration": 4,
    "start_time": "2022-09-04T12:00:44.532Z"
   },
   {
    "duration": 6,
    "start_time": "2022-09-04T12:00:44.537Z"
   },
   {
    "duration": 5,
    "start_time": "2022-09-04T12:00:44.545Z"
   },
   {
    "duration": 8,
    "start_time": "2022-09-04T12:00:44.552Z"
   },
   {
    "duration": 9,
    "start_time": "2022-09-04T12:00:44.561Z"
   },
   {
    "duration": 41,
    "start_time": "2022-09-04T12:00:44.571Z"
   },
   {
    "duration": 3,
    "start_time": "2022-09-04T12:00:44.614Z"
   },
   {
    "duration": 12,
    "start_time": "2022-09-04T12:00:44.618Z"
   },
   {
    "duration": 18,
    "start_time": "2022-09-04T12:00:44.631Z"
   },
   {
    "duration": 15,
    "start_time": "2022-09-04T12:00:44.651Z"
   },
   {
    "duration": 3,
    "start_time": "2022-09-04T12:00:44.667Z"
   },
   {
    "duration": 7,
    "start_time": "2022-09-04T12:00:46.781Z"
   },
   {
    "duration": 384,
    "start_time": "2022-09-04T12:02:33.301Z"
   },
   {
    "duration": 73,
    "start_time": "2022-09-04T12:02:37.748Z"
   },
   {
    "duration": 3,
    "start_time": "2022-09-04T12:04:08.941Z"
   },
   {
    "duration": 72,
    "start_time": "2022-09-04T12:04:08.946Z"
   },
   {
    "duration": 14,
    "start_time": "2022-09-04T12:04:09.020Z"
   },
   {
    "duration": 15,
    "start_time": "2022-09-04T12:04:09.035Z"
   },
   {
    "duration": 8,
    "start_time": "2022-09-04T12:04:09.052Z"
   },
   {
    "duration": 15,
    "start_time": "2022-09-04T12:04:09.061Z"
   },
   {
    "duration": 29,
    "start_time": "2022-09-04T12:04:09.077Z"
   },
   {
    "duration": 4,
    "start_time": "2022-09-04T12:04:09.108Z"
   },
   {
    "duration": 11,
    "start_time": "2022-09-04T12:04:09.113Z"
   },
   {
    "duration": 3,
    "start_time": "2022-09-04T12:04:09.125Z"
   },
   {
    "duration": 9,
    "start_time": "2022-09-04T12:04:09.129Z"
   },
   {
    "duration": 4,
    "start_time": "2022-09-04T12:04:09.139Z"
   },
   {
    "duration": 6,
    "start_time": "2022-09-04T12:04:09.144Z"
   },
   {
    "duration": 3,
    "start_time": "2022-09-04T12:04:09.152Z"
   },
   {
    "duration": 29,
    "start_time": "2022-09-04T12:04:39.863Z"
   },
   {
    "duration": 22,
    "start_time": "2022-09-04T12:05:01.467Z"
   },
   {
    "duration": 13,
    "start_time": "2022-09-04T12:05:58.694Z"
   },
   {
    "duration": 24,
    "start_time": "2022-09-04T12:10:16.145Z"
   },
   {
    "duration": 26,
    "start_time": "2022-09-04T12:10:38.081Z"
   },
   {
    "duration": 3,
    "start_time": "2022-09-04T12:10:50.260Z"
   },
   {
    "duration": 23,
    "start_time": "2022-09-04T12:10:57.712Z"
   },
   {
    "duration": 23,
    "start_time": "2022-09-04T12:11:05.091Z"
   },
   {
    "duration": 25,
    "start_time": "2022-09-04T12:11:27.492Z"
   },
   {
    "duration": 23,
    "start_time": "2022-09-04T12:11:42.419Z"
   },
   {
    "duration": 23,
    "start_time": "2022-09-04T12:11:50.384Z"
   },
   {
    "duration": 24,
    "start_time": "2022-09-04T12:12:01.746Z"
   },
   {
    "duration": 157,
    "start_time": "2022-09-04T12:17:11.730Z"
   }
  ],
  "colab": {
   "name": "dpp_template_part2.ipynb",
   "provenance": []
  },
  "kernelspec": {
   "display_name": "Python 3 (ipykernel)",
   "language": "python",
   "name": "python3"
  },
  "language_info": {
   "codemirror_mode": {
    "name": "ipython",
    "version": 3
   },
   "file_extension": ".py",
   "mimetype": "text/x-python",
   "name": "python",
   "nbconvert_exporter": "python",
   "pygments_lexer": "ipython3",
   "version": "3.9.5"
  },
  "toc": {
   "base_numbering": 1,
   "nav_menu": {},
   "number_sections": true,
   "sideBar": true,
   "skip_h1_title": true,
   "title_cell": "Table of Contents",
   "title_sidebar": "Contents",
   "toc_cell": false,
   "toc_position": {},
   "toc_section_display": true,
   "toc_window_display": false
  }
 },
 "nbformat": 4,
 "nbformat_minor": 5
}

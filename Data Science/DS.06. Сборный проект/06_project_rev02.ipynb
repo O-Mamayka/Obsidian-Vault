{
 "cells": [
  {
   "cell_type": "markdown",
   "metadata": {},
   "source": [
    "# Анализ игровых платформ Xbox и PlayStation"
   ]
  },
  {
   "cell_type": "markdown",
   "metadata": {},
   "source": [
    "# Описание проекта\n",
    "К рассмотрению представлен интернет-магазин «Стримчик», который продаёт по всему миру компьютерные игры. Из открытых источников доступны исторические данные до 2016 года о продажах игр, оценки пользователей и экспертов, жанры и платформы (например, Xbox или PlayStation). Необходимо выявить определяющие успешность игры закономерности. Это позволит сделать ставку на потенциально популярный продукт и спланировать рекламные кампании.  \n",
    "В наборе данных попадается аббревиатура ESRB (Entertainment Software Rating Board) — это ассоциация, определяющая возрастной рейтинг компьютерных игр. ESRB оценивает игровой контент и присваивает ему подходящую возрастную категорию, например, «Для взрослых», «Для детей младшего возраста» или «Для подростков».  \n",
    "# Описание данных\n",
    "* Name — название игры  \n",
    "* Platform — платформа  \n",
    "* Year_of_Release — год выпуска  \n",
    "* Genre — жанр игры  \n",
    "* NA_sales — продажи в Северной Америке (миллионы проданных копий)  \n",
    "* EU_sales — продажи в Европе (миллионы проданных копий)  \n",
    "* JP_sales — продажи в Японии (миллионы проданных копий)  \n",
    "* Other_sales — продажи в других странах (миллионы проданных копий)  \n",
    "* Critic_Score — оценка критиков (максимум 100)  \n",
    "* User_Score — оценка пользователей (максимум 10)  \n",
    "* Rating — рейтинг от организации ESRB (англ. Entertainment Software Rating Board). Эта ассоциация определяет рейтинг компьютерных игр и присваивает им подходящую возрастную категорию.  \n",
    "\n",
    "Данные за 2016 год могут быть неполными.    \n",
    "\n",
    "# 1. Открытие файл с данными и изучение общей информации\n",
    "Путь к файлу: /datasets/games.csv. \n",
    "# 2. Подготовка данных\n",
    "* Заменить названия столбцов (привести к нижнему регистру);\n",
    "* Преобразовать данных в нужные типы. Описать, в каких столбцах заменили тип данных и почему;\n",
    "* Обработать пропусков при необходимости: объяснить, почему заполнили пропуски определённым образом или почему не стали это делать; описать причины, которые могли привести к пропускам;\n",
    "* Обратить внимание на аббревиатуру 'tbd' в столбце с оценкой пользователей. Отдельно разобрать это значение и описать, как его обработать;\n",
    "* Посчитать суммарные продажи во всех регионах и записать их в отдельный столбец.  \n",
    "\n",
    "# 3. Провести исследовательский анализ данных\n",
    "* Посмотреть, сколько игр выпускалось в разные годы. Важны ли данные за все периоды?\n",
    "* Посмотреть, как менялись продажи по платформам. Выбрать платформы с наибольшими суммарными продажами и построить распределение по годам.   \n",
    "* За какой характерный срок появляются новые и исчезают старые платформы?\n",
    "* Взять данные за соответствующий актуальный период. Актуальный период определить самостоятельно в результате исследования предыдущих вопросов. Основной фактор — эти данные помогут построить прогноз на 2017 год. Не учитывайте в работе данные за предыдущие годы.  \n",
    "* Какие платформы лидируют по продажам, растут или падают? Выберать несколько потенциально прибыльных платформ.\n",
    "* Построить график «ящик с усами» по глобальным продажам игр в разбивке по платформам. Описать результат.  \n",
    "* Посмотреть, как влияют на продажи внутри одной популярной платформы отзывы пользователей и критиков.  \n",
    "* Построить диаграмму рассеяния и посчитать корреляцию между отзывами и продажами. Сформулировать выводы.  \n",
    "* Соотнести выводы с продажами игр на других платформах.\n",
    "* Посмотреть на общее распределение игр по жанрам. Что можно сказать о самых прибыльных жанрах? Выделяются ли жанры с высокими и низкими продажами?  \n",
    "\n",
    "# 4. Составить портрет пользователя каждого региона\n",
    "Определить для пользователя каждого региона (NA, EU, JP):\n",
    "* Самые популярные платформы (топ-5). Описать различия в долях продаж.  \n",
    "* Самые популярные жанры (топ-5). Пояснить разницу.  \n",
    "* Влияет ли рейтинг ESRB на продажи в отдельном регионе?  \n",
    "\n",
    "# 5. Проверить гипотезы\n",
    "* Средние пользовательские рейтинги платформ Xbox One и PC одинаковые;  \n",
    "* Средние пользовательские рейтинги жанров Action (англ. «действие», экшен-игры) и Sports (англ. «спортивные соревнования») разные.  \n",
    "Задать самостоятельно пороговое значение alpha.  \n",
    "Пояснить:  \n",
    "Как вы сформулировали нулевую и альтернативную гипотезы;  \n",
    "Какой критерий применили для проверки гипотез и почему.  \n",
    "\n",
    "# 6. Написать общий вывод"
   ]
  },
  {
   "cell_type": "markdown",
   "metadata": {},
   "source": [
    "# 1. Открытие файл с данными и изучение общей информации"
   ]
  },
  {
   "cell_type": "code",
   "execution_count": 1,
   "metadata": {},
   "outputs": [],
   "source": [
    "# вызов библиотеки pandas\n",
    "import pandas as pd\n",
    "# импорт библиотеки matplotlib\n",
    "import matplotlib.pyplot as plt\n",
    "# импорт библиотеки numpy\n",
    "import numpy as np\n",
    "# импорт библиотеки seaborn\n",
    "import seaborn as sns\n",
    "# импорт библиотеки scipy\n",
    "import scipy\n",
    "from scipy import stats as st\n",
    "# импорт библиотеки warnings\n",
    "import warnings"
   ]
  },
  {
   "cell_type": "code",
   "execution_count": 2,
   "metadata": {},
   "outputs": [],
   "source": [
    "# чтение файла\n",
    "try:\n",
    "    games = pd.read_csv(r'c:\\\\Users\\\\Юки\\\\AnaliticData\\\\1_СБОРНЫЙ_ПРОЕКТ\\\\games.csv') #, sep='\\t')\n",
    "except:\n",
    "    games = pd.read_csv('https://code.s3.yandex.net/datasets/games.csv')"
   ]
  },
  {
   "cell_type": "code",
   "execution_count": 3,
   "metadata": {},
   "outputs": [
    {
     "data": {
      "text/html": [
       "<div>\n",
       "<style scoped>\n",
       "    .dataframe tbody tr th:only-of-type {\n",
       "        vertical-align: middle;\n",
       "    }\n",
       "\n",
       "    .dataframe tbody tr th {\n",
       "        vertical-align: top;\n",
       "    }\n",
       "\n",
       "    .dataframe thead th {\n",
       "        text-align: right;\n",
       "    }\n",
       "</style>\n",
       "<table border=\"1\" class=\"dataframe\">\n",
       "  <thead>\n",
       "    <tr style=\"text-align: right;\">\n",
       "      <th></th>\n",
       "      <th>Name</th>\n",
       "      <th>Platform</th>\n",
       "      <th>Year_of_Release</th>\n",
       "      <th>Genre</th>\n",
       "      <th>NA_sales</th>\n",
       "      <th>EU_sales</th>\n",
       "      <th>JP_sales</th>\n",
       "      <th>Other_sales</th>\n",
       "      <th>Critic_Score</th>\n",
       "      <th>User_Score</th>\n",
       "      <th>Rating</th>\n",
       "    </tr>\n",
       "  </thead>\n",
       "  <tbody>\n",
       "    <tr>\n",
       "      <th>0</th>\n",
       "      <td>Wii Sports</td>\n",
       "      <td>Wii</td>\n",
       "      <td>2006.0</td>\n",
       "      <td>Sports</td>\n",
       "      <td>41.36</td>\n",
       "      <td>28.96</td>\n",
       "      <td>3.77</td>\n",
       "      <td>8.45</td>\n",
       "      <td>76.0</td>\n",
       "      <td>8</td>\n",
       "      <td>E</td>\n",
       "    </tr>\n",
       "    <tr>\n",
       "      <th>1</th>\n",
       "      <td>Super Mario Bros.</td>\n",
       "      <td>NES</td>\n",
       "      <td>1985.0</td>\n",
       "      <td>Platform</td>\n",
       "      <td>29.08</td>\n",
       "      <td>3.58</td>\n",
       "      <td>6.81</td>\n",
       "      <td>0.77</td>\n",
       "      <td>NaN</td>\n",
       "      <td>NaN</td>\n",
       "      <td>NaN</td>\n",
       "    </tr>\n",
       "    <tr>\n",
       "      <th>2</th>\n",
       "      <td>Mario Kart Wii</td>\n",
       "      <td>Wii</td>\n",
       "      <td>2008.0</td>\n",
       "      <td>Racing</td>\n",
       "      <td>15.68</td>\n",
       "      <td>12.76</td>\n",
       "      <td>3.79</td>\n",
       "      <td>3.29</td>\n",
       "      <td>82.0</td>\n",
       "      <td>8.3</td>\n",
       "      <td>E</td>\n",
       "    </tr>\n",
       "    <tr>\n",
       "      <th>3</th>\n",
       "      <td>Wii Sports Resort</td>\n",
       "      <td>Wii</td>\n",
       "      <td>2009.0</td>\n",
       "      <td>Sports</td>\n",
       "      <td>15.61</td>\n",
       "      <td>10.93</td>\n",
       "      <td>3.28</td>\n",
       "      <td>2.95</td>\n",
       "      <td>80.0</td>\n",
       "      <td>8</td>\n",
       "      <td>E</td>\n",
       "    </tr>\n",
       "    <tr>\n",
       "      <th>4</th>\n",
       "      <td>Pokemon Red/Pokemon Blue</td>\n",
       "      <td>GB</td>\n",
       "      <td>1996.0</td>\n",
       "      <td>Role-Playing</td>\n",
       "      <td>11.27</td>\n",
       "      <td>8.89</td>\n",
       "      <td>10.22</td>\n",
       "      <td>1.00</td>\n",
       "      <td>NaN</td>\n",
       "      <td>NaN</td>\n",
       "      <td>NaN</td>\n",
       "    </tr>\n",
       "    <tr>\n",
       "      <th>...</th>\n",
       "      <td>...</td>\n",
       "      <td>...</td>\n",
       "      <td>...</td>\n",
       "      <td>...</td>\n",
       "      <td>...</td>\n",
       "      <td>...</td>\n",
       "      <td>...</td>\n",
       "      <td>...</td>\n",
       "      <td>...</td>\n",
       "      <td>...</td>\n",
       "      <td>...</td>\n",
       "    </tr>\n",
       "    <tr>\n",
       "      <th>16710</th>\n",
       "      <td>Samurai Warriors: Sanada Maru</td>\n",
       "      <td>PS3</td>\n",
       "      <td>2016.0</td>\n",
       "      <td>Action</td>\n",
       "      <td>0.00</td>\n",
       "      <td>0.00</td>\n",
       "      <td>0.01</td>\n",
       "      <td>0.00</td>\n",
       "      <td>NaN</td>\n",
       "      <td>NaN</td>\n",
       "      <td>NaN</td>\n",
       "    </tr>\n",
       "    <tr>\n",
       "      <th>16711</th>\n",
       "      <td>LMA Manager 2007</td>\n",
       "      <td>X360</td>\n",
       "      <td>2006.0</td>\n",
       "      <td>Sports</td>\n",
       "      <td>0.00</td>\n",
       "      <td>0.01</td>\n",
       "      <td>0.00</td>\n",
       "      <td>0.00</td>\n",
       "      <td>NaN</td>\n",
       "      <td>NaN</td>\n",
       "      <td>NaN</td>\n",
       "    </tr>\n",
       "    <tr>\n",
       "      <th>16712</th>\n",
       "      <td>Haitaka no Psychedelica</td>\n",
       "      <td>PSV</td>\n",
       "      <td>2016.0</td>\n",
       "      <td>Adventure</td>\n",
       "      <td>0.00</td>\n",
       "      <td>0.00</td>\n",
       "      <td>0.01</td>\n",
       "      <td>0.00</td>\n",
       "      <td>NaN</td>\n",
       "      <td>NaN</td>\n",
       "      <td>NaN</td>\n",
       "    </tr>\n",
       "    <tr>\n",
       "      <th>16713</th>\n",
       "      <td>Spirits &amp; Spells</td>\n",
       "      <td>GBA</td>\n",
       "      <td>2003.0</td>\n",
       "      <td>Platform</td>\n",
       "      <td>0.01</td>\n",
       "      <td>0.00</td>\n",
       "      <td>0.00</td>\n",
       "      <td>0.00</td>\n",
       "      <td>NaN</td>\n",
       "      <td>NaN</td>\n",
       "      <td>NaN</td>\n",
       "    </tr>\n",
       "    <tr>\n",
       "      <th>16714</th>\n",
       "      <td>Winning Post 8 2016</td>\n",
       "      <td>PSV</td>\n",
       "      <td>2016.0</td>\n",
       "      <td>Simulation</td>\n",
       "      <td>0.00</td>\n",
       "      <td>0.00</td>\n",
       "      <td>0.01</td>\n",
       "      <td>0.00</td>\n",
       "      <td>NaN</td>\n",
       "      <td>NaN</td>\n",
       "      <td>NaN</td>\n",
       "    </tr>\n",
       "  </tbody>\n",
       "</table>\n",
       "<p>16715 rows × 11 columns</p>\n",
       "</div>"
      ],
      "text/plain": [
       "                                Name Platform  Year_of_Release         Genre  \\\n",
       "0                         Wii Sports      Wii           2006.0        Sports   \n",
       "1                  Super Mario Bros.      NES           1985.0      Platform   \n",
       "2                     Mario Kart Wii      Wii           2008.0        Racing   \n",
       "3                  Wii Sports Resort      Wii           2009.0        Sports   \n",
       "4           Pokemon Red/Pokemon Blue       GB           1996.0  Role-Playing   \n",
       "...                              ...      ...              ...           ...   \n",
       "16710  Samurai Warriors: Sanada Maru      PS3           2016.0        Action   \n",
       "16711               LMA Manager 2007     X360           2006.0        Sports   \n",
       "16712        Haitaka no Psychedelica      PSV           2016.0     Adventure   \n",
       "16713               Spirits & Spells      GBA           2003.0      Platform   \n",
       "16714            Winning Post 8 2016      PSV           2016.0    Simulation   \n",
       "\n",
       "       NA_sales  EU_sales  JP_sales  Other_sales  Critic_Score User_Score  \\\n",
       "0         41.36     28.96      3.77         8.45          76.0          8   \n",
       "1         29.08      3.58      6.81         0.77           NaN        NaN   \n",
       "2         15.68     12.76      3.79         3.29          82.0        8.3   \n",
       "3         15.61     10.93      3.28         2.95          80.0          8   \n",
       "4         11.27      8.89     10.22         1.00           NaN        NaN   \n",
       "...         ...       ...       ...          ...           ...        ...   \n",
       "16710      0.00      0.00      0.01         0.00           NaN        NaN   \n",
       "16711      0.00      0.01      0.00         0.00           NaN        NaN   \n",
       "16712      0.00      0.00      0.01         0.00           NaN        NaN   \n",
       "16713      0.01      0.00      0.00         0.00           NaN        NaN   \n",
       "16714      0.00      0.00      0.01         0.00           NaN        NaN   \n",
       "\n",
       "      Rating  \n",
       "0          E  \n",
       "1        NaN  \n",
       "2          E  \n",
       "3          E  \n",
       "4        NaN  \n",
       "...      ...  \n",
       "16710    NaN  \n",
       "16711    NaN  \n",
       "16712    NaN  \n",
       "16713    NaN  \n",
       "16714    NaN  \n",
       "\n",
       "[16715 rows x 11 columns]"
      ]
     },
     "metadata": {},
     "output_type": "display_data"
    },
    {
     "name": "stdout",
     "output_type": "stream",
     "text": [
      "<class 'pandas.core.frame.DataFrame'>\n",
      "RangeIndex: 16715 entries, 0 to 16714\n",
      "Data columns (total 11 columns):\n",
      " #   Column           Non-Null Count  Dtype  \n",
      "---  ------           --------------  -----  \n",
      " 0   Name             16713 non-null  object \n",
      " 1   Platform         16715 non-null  object \n",
      " 2   Year_of_Release  16446 non-null  float64\n",
      " 3   Genre            16713 non-null  object \n",
      " 4   NA_sales         16715 non-null  float64\n",
      " 5   EU_sales         16715 non-null  float64\n",
      " 6   JP_sales         16715 non-null  float64\n",
      " 7   Other_sales      16715 non-null  float64\n",
      " 8   Critic_Score     8137 non-null   float64\n",
      " 9   User_Score       10014 non-null  object \n",
      " 10  Rating           9949 non-null   object \n",
      "dtypes: float64(6), object(5)\n",
      "memory usage: 1.4+ MB\n"
     ]
    }
   ],
   "source": [
    "# вывод на экран датасета\n",
    "display(games)\n",
    "# просмотр общей информации о датасете\n",
    "games.info()"
   ]
  },
  {
   "cell_type": "code",
   "execution_count": 4,
   "metadata": {},
   "outputs": [
    {
     "data": {
      "text/html": [
       "<div>\n",
       "<style scoped>\n",
       "    .dataframe tbody tr th:only-of-type {\n",
       "        vertical-align: middle;\n",
       "    }\n",
       "\n",
       "    .dataframe tbody tr th {\n",
       "        vertical-align: top;\n",
       "    }\n",
       "\n",
       "    .dataframe thead th {\n",
       "        text-align: right;\n",
       "    }\n",
       "</style>\n",
       "<table border=\"1\" class=\"dataframe\">\n",
       "  <thead>\n",
       "    <tr style=\"text-align: right;\">\n",
       "      <th></th>\n",
       "      <th>Пропущенные значения</th>\n",
       "      <th>Процент</th>\n",
       "    </tr>\n",
       "  </thead>\n",
       "  <tbody>\n",
       "    <tr>\n",
       "      <th>Critic_Score</th>\n",
       "      <td>8578</td>\n",
       "      <td>51.32</td>\n",
       "    </tr>\n",
       "    <tr>\n",
       "      <th>Rating</th>\n",
       "      <td>6766</td>\n",
       "      <td>40.48</td>\n",
       "    </tr>\n",
       "    <tr>\n",
       "      <th>User_Score</th>\n",
       "      <td>6701</td>\n",
       "      <td>40.09</td>\n",
       "    </tr>\n",
       "    <tr>\n",
       "      <th>Year_of_Release</th>\n",
       "      <td>269</td>\n",
       "      <td>1.61</td>\n",
       "    </tr>\n",
       "    <tr>\n",
       "      <th>Name</th>\n",
       "      <td>2</td>\n",
       "      <td>0.01</td>\n",
       "    </tr>\n",
       "    <tr>\n",
       "      <th>Genre</th>\n",
       "      <td>2</td>\n",
       "      <td>0.01</td>\n",
       "    </tr>\n",
       "    <tr>\n",
       "      <th>Platform</th>\n",
       "      <td>0</td>\n",
       "      <td>0.00</td>\n",
       "    </tr>\n",
       "    <tr>\n",
       "      <th>NA_sales</th>\n",
       "      <td>0</td>\n",
       "      <td>0.00</td>\n",
       "    </tr>\n",
       "    <tr>\n",
       "      <th>EU_sales</th>\n",
       "      <td>0</td>\n",
       "      <td>0.00</td>\n",
       "    </tr>\n",
       "    <tr>\n",
       "      <th>JP_sales</th>\n",
       "      <td>0</td>\n",
       "      <td>0.00</td>\n",
       "    </tr>\n",
       "    <tr>\n",
       "      <th>Other_sales</th>\n",
       "      <td>0</td>\n",
       "      <td>0.00</td>\n",
       "    </tr>\n",
       "  </tbody>\n",
       "</table>\n",
       "</div>"
      ],
      "text/plain": [
       "                 Пропущенные значения  Процент\n",
       "Critic_Score                     8578    51.32\n",
       "Rating                           6766    40.48\n",
       "User_Score                       6701    40.09\n",
       "Year_of_Release                   269     1.61\n",
       "Name                                2     0.01\n",
       "Genre                               2     0.01\n",
       "Platform                            0     0.00\n",
       "NA_sales                            0     0.00\n",
       "EU_sales                            0     0.00\n",
       "JP_sales                            0     0.00\n",
       "Other_sales                         0     0.00"
      ]
     },
     "execution_count": 4,
     "metadata": {},
     "output_type": "execute_result"
    }
   ],
   "source": [
    "games_isnull_Value = games.isnull().sum().sort_values(ascending = False)\n",
    "games_isnull_Percent = round(games.isnull().mean().sort_values(ascending = False)*100,2)\n",
    "games_isnull = pd.concat([games_isnull_Value, games_isnull_Percent], axis=1, keys=['Пропущенные значения', 'Процент'])\n",
    "games_isnull"
   ]
  },
  {
   "cell_type": "markdown",
   "metadata": {},
   "source": [
    "**Вывод:**  \n",
    "* Загруженный датафрейм содержит 16715 наблюдений и 11 признаков;  \n",
    "* 6 признака числовые, остальные 5 - категориальные, однако у некоторых признаков необходимо изменить тип: столбец User_Score содержит числовые данные, а столбец Year_of_Release - информацию о дате;  \n",
    "* в таблице почти нет пропусков данных в данных о названиях платформ, игр, жанров и продажах, небольшое количество пропусков в годах выпуска и достаточно много пропусков в столбцах оценок и рейтинга - возможно, эти пропуски не случайны; \n",
    "* названия столбцов кажутся правильными, но требуют приведению к нижнему регистру. "
   ]
  },
  {
   "cell_type": "markdown",
   "metadata": {},
   "source": [
    "# 2. Подготовка данных"
   ]
  },
  {
   "cell_type": "markdown",
   "metadata": {},
   "source": [
    "**Переименование столбцов, перевод названий в нижний регистр**"
   ]
  },
  {
   "cell_type": "code",
   "execution_count": 5,
   "metadata": {},
   "outputs": [
    {
     "data": {
      "text/html": [
       "<div>\n",
       "<style scoped>\n",
       "    .dataframe tbody tr th:only-of-type {\n",
       "        vertical-align: middle;\n",
       "    }\n",
       "\n",
       "    .dataframe tbody tr th {\n",
       "        vertical-align: top;\n",
       "    }\n",
       "\n",
       "    .dataframe thead th {\n",
       "        text-align: right;\n",
       "    }\n",
       "</style>\n",
       "<table border=\"1\" class=\"dataframe\">\n",
       "  <thead>\n",
       "    <tr style=\"text-align: right;\">\n",
       "      <th></th>\n",
       "      <th>name</th>\n",
       "      <th>platform</th>\n",
       "      <th>year_of_release</th>\n",
       "      <th>genre</th>\n",
       "      <th>na_sales</th>\n",
       "      <th>eu_sales</th>\n",
       "      <th>jp_sales</th>\n",
       "      <th>other_sales</th>\n",
       "      <th>critic_score</th>\n",
       "      <th>user_score</th>\n",
       "      <th>rating</th>\n",
       "    </tr>\n",
       "  </thead>\n",
       "  <tbody>\n",
       "    <tr>\n",
       "      <th>0</th>\n",
       "      <td>Wii Sports</td>\n",
       "      <td>Wii</td>\n",
       "      <td>2006.0</td>\n",
       "      <td>Sports</td>\n",
       "      <td>41.36</td>\n",
       "      <td>28.96</td>\n",
       "      <td>3.77</td>\n",
       "      <td>8.45</td>\n",
       "      <td>76.0</td>\n",
       "      <td>8</td>\n",
       "      <td>E</td>\n",
       "    </tr>\n",
       "    <tr>\n",
       "      <th>1</th>\n",
       "      <td>Super Mario Bros.</td>\n",
       "      <td>NES</td>\n",
       "      <td>1985.0</td>\n",
       "      <td>Platform</td>\n",
       "      <td>29.08</td>\n",
       "      <td>3.58</td>\n",
       "      <td>6.81</td>\n",
       "      <td>0.77</td>\n",
       "      <td>NaN</td>\n",
       "      <td>NaN</td>\n",
       "      <td>NaN</td>\n",
       "    </tr>\n",
       "    <tr>\n",
       "      <th>2</th>\n",
       "      <td>Mario Kart Wii</td>\n",
       "      <td>Wii</td>\n",
       "      <td>2008.0</td>\n",
       "      <td>Racing</td>\n",
       "      <td>15.68</td>\n",
       "      <td>12.76</td>\n",
       "      <td>3.79</td>\n",
       "      <td>3.29</td>\n",
       "      <td>82.0</td>\n",
       "      <td>8.3</td>\n",
       "      <td>E</td>\n",
       "    </tr>\n",
       "    <tr>\n",
       "      <th>3</th>\n",
       "      <td>Wii Sports Resort</td>\n",
       "      <td>Wii</td>\n",
       "      <td>2009.0</td>\n",
       "      <td>Sports</td>\n",
       "      <td>15.61</td>\n",
       "      <td>10.93</td>\n",
       "      <td>3.28</td>\n",
       "      <td>2.95</td>\n",
       "      <td>80.0</td>\n",
       "      <td>8</td>\n",
       "      <td>E</td>\n",
       "    </tr>\n",
       "    <tr>\n",
       "      <th>4</th>\n",
       "      <td>Pokemon Red/Pokemon Blue</td>\n",
       "      <td>GB</td>\n",
       "      <td>1996.0</td>\n",
       "      <td>Role-Playing</td>\n",
       "      <td>11.27</td>\n",
       "      <td>8.89</td>\n",
       "      <td>10.22</td>\n",
       "      <td>1.00</td>\n",
       "      <td>NaN</td>\n",
       "      <td>NaN</td>\n",
       "      <td>NaN</td>\n",
       "    </tr>\n",
       "  </tbody>\n",
       "</table>\n",
       "</div>"
      ],
      "text/plain": [
       "                       name platform  year_of_release         genre  na_sales  \\\n",
       "0                Wii Sports      Wii           2006.0        Sports     41.36   \n",
       "1         Super Mario Bros.      NES           1985.0      Platform     29.08   \n",
       "2            Mario Kart Wii      Wii           2008.0        Racing     15.68   \n",
       "3         Wii Sports Resort      Wii           2009.0        Sports     15.61   \n",
       "4  Pokemon Red/Pokemon Blue       GB           1996.0  Role-Playing     11.27   \n",
       "\n",
       "   eu_sales  jp_sales  other_sales  critic_score user_score rating  \n",
       "0     28.96      3.77         8.45          76.0          8      E  \n",
       "1      3.58      6.81         0.77           NaN        NaN    NaN  \n",
       "2     12.76      3.79         3.29          82.0        8.3      E  \n",
       "3     10.93      3.28         2.95          80.0          8      E  \n",
       "4      8.89     10.22         1.00           NaN        NaN    NaN  "
      ]
     },
     "execution_count": 5,
     "metadata": {},
     "output_type": "execute_result"
    }
   ],
   "source": [
    "games.columns = games.columns.str.lower()\n",
    "games.head()"
   ]
  },
  {
   "cell_type": "markdown",
   "metadata": {},
   "source": [
    "**Обработаем пропуски**"
   ]
  },
  {
   "cell_type": "code",
   "execution_count": 6,
   "metadata": {},
   "outputs": [
    {
     "data": {
      "text/html": [
       "<div>\n",
       "<style scoped>\n",
       "    .dataframe tbody tr th:only-of-type {\n",
       "        vertical-align: middle;\n",
       "    }\n",
       "\n",
       "    .dataframe tbody tr th {\n",
       "        vertical-align: top;\n",
       "    }\n",
       "\n",
       "    .dataframe thead th {\n",
       "        text-align: right;\n",
       "    }\n",
       "</style>\n",
       "<table border=\"1\" class=\"dataframe\">\n",
       "  <thead>\n",
       "    <tr style=\"text-align: right;\">\n",
       "      <th></th>\n",
       "      <th>name</th>\n",
       "      <th>platform</th>\n",
       "      <th>year_of_release</th>\n",
       "      <th>genre</th>\n",
       "      <th>na_sales</th>\n",
       "      <th>eu_sales</th>\n",
       "      <th>jp_sales</th>\n",
       "      <th>other_sales</th>\n",
       "      <th>critic_score</th>\n",
       "      <th>user_score</th>\n",
       "      <th>rating</th>\n",
       "    </tr>\n",
       "  </thead>\n",
       "  <tbody>\n",
       "    <tr>\n",
       "      <th>659</th>\n",
       "      <td>NaN</td>\n",
       "      <td>GEN</td>\n",
       "      <td>1993.0</td>\n",
       "      <td>NaN</td>\n",
       "      <td>1.78</td>\n",
       "      <td>0.53</td>\n",
       "      <td>0.00</td>\n",
       "      <td>0.08</td>\n",
       "      <td>NaN</td>\n",
       "      <td>NaN</td>\n",
       "      <td>NaN</td>\n",
       "    </tr>\n",
       "    <tr>\n",
       "      <th>14244</th>\n",
       "      <td>NaN</td>\n",
       "      <td>GEN</td>\n",
       "      <td>1993.0</td>\n",
       "      <td>NaN</td>\n",
       "      <td>0.00</td>\n",
       "      <td>0.00</td>\n",
       "      <td>0.03</td>\n",
       "      <td>0.00</td>\n",
       "      <td>NaN</td>\n",
       "      <td>NaN</td>\n",
       "      <td>NaN</td>\n",
       "    </tr>\n",
       "  </tbody>\n",
       "</table>\n",
       "</div>"
      ],
      "text/plain": [
       "      name platform  year_of_release genre  na_sales  eu_sales  jp_sales  \\\n",
       "659    NaN      GEN           1993.0   NaN      1.78      0.53      0.00   \n",
       "14244  NaN      GEN           1993.0   NaN      0.00      0.00      0.03   \n",
       "\n",
       "       other_sales  critic_score user_score rating  \n",
       "659           0.08           NaN        NaN    NaN  \n",
       "14244         0.00           NaN        NaN    NaN  "
      ]
     },
     "execution_count": 6,
     "metadata": {},
     "output_type": "execute_result"
    }
   ],
   "source": [
    "# посмотрим на строки с пропущенными значениями в именах игр\n",
    "games[games['name'].isna()]"
   ]
  },
  {
   "cell_type": "code",
   "execution_count": 7,
   "metadata": {},
   "outputs": [],
   "source": [
    "games = games.dropna(subset=['name'])"
   ]
  },
  {
   "cell_type": "markdown",
   "metadata": {},
   "source": [
    "Пропуски в столбце **name** соответствуют отсутствующим значениям столбца **genre** - скорее всего связано с техническим сбоем, ввиду малого количества - удалим данные строки."
   ]
  },
  {
   "cell_type": "code",
   "execution_count": 9,
   "metadata": {},
   "outputs": [
    {
     "data": {
      "image/png": "[encoded data removed]",
      "text/plain": [
       "<Figure size 1440x576 with 2 Axes>"
      ]
     },
     "metadata": {},
     "output_type": "display_data"
    }
   ],
   "source": [
    "# c помощью библиотеки seaborn построим тепловую карту для визуализации данных\n",
    "sns.heatmap(games.isnull(), cmap=sns.color_palette(['#000099', '#ffff00']))\n",
    "sns.set(rc={'figure.figsize':(20,8)})\n",
    "# Оформление графика\n",
    "plt.xticks(fontsize=14)\n",
    "plt.yticks(fontsize=14)\n",
    "plt.figtext(0.25, 0.03, \"Рисунок 1. - Матрица пропущенных значений набора данных\", fontsize=20)\n",
    "plt.show()"
   ]
  },
  {
   "cell_type": "markdown",
   "metadata": {},
   "source": [
    "Исходя из визуализации можем метить:  \n",
    "* пропуски значений в столбце **дата выпуска** единичны, удаляя строки с пропущенными значениями по данному признаку - не потеряем ценной информации;\n",
    "* основная часть пропущенных данных содержится  в столбцах оценок и рейтинга;  \n",
    "* пропуски соответствуют отсутствующим значениям почти для всех строк в столбцах оценок и рейтинга - удалять строки с отсутствующими в них значениями не будем.  \n",
    "Видимо выборка содержит неоцененные по определенным причинам игры в связи с чем пропуски  не случайны. "
   ]
  },
  {
   "cell_type": "code",
   "execution_count": 10,
   "metadata": {},
   "outputs": [],
   "source": [
    "# удалим строки с пропущенными значениями по столбцу year_of_release\n",
    "#games[games['year_of_release'].isnull()]\n",
    "games = games.dropna(subset=['year_of_release'])"
   ]
  },
  {
   "cell_type": "code",
   "execution_count": 11,
   "metadata": {},
   "outputs": [
    {
     "name": "stdout",
     "output_type": "stream",
     "text": [
      "['8' nan '8.3' '8.5' '6.6' '8.4' '8.6' '7.7' '6.3' '7.4' '8.2' '9' '7.9'\n",
      " '8.1' '8.7' '7.1' '3.4' '5.3' '4.8' '3.2' '8.9' '6.4' '7.8' '7.5' '2.6'\n",
      " '7.2' '9.2' '7' '7.3' '4.3' '7.6' '5.7' '5' '9.1' '6.5' 'tbd' '8.8' '6.9'\n",
      " '9.4' '6.8' '6.1' '6.7' '5.4' '4' '4.9' '4.5' '9.3' '6.2' '4.2' '6' '3.7'\n",
      " '4.1' '5.8' '5.6' '5.5' '4.4' '4.6' '5.9' '3.9' '3.1' '2.9' '5.2' '3.3'\n",
      " '4.7' '5.1' '3.5' '2.5' '1.9' '3' '2.7' '2.2' '2' '9.5' '2.1' '3.6' '2.8'\n",
      " '1.8' '3.8' '0' '1.6' '9.6' '2.4' '1.7' '1.1' '0.3' '1.5' '0.7' '1.2'\n",
      " '2.3' '0.5' '1.3' '0.2' '0.6' '1.4' '0.9' '1' '9.7']\n"
     ]
    }
   ],
   "source": [
    "# просмотр уникальных значений столбца пользовательских оценок\n",
    "print(games['user_score'].unique())"
   ]
  },
  {
   "cell_type": "code",
   "execution_count": 12,
   "metadata": {},
   "outputs": [
    {
     "name": "stdout",
     "output_type": "stream",
     "text": [
      "[76. nan 82. 80. 89. 58. 87. 91. 61. 97. 95. 77. 88. 83. 94. 93. 85. 86.\n",
      " 98. 96. 90. 84. 73. 74. 78. 92. 71. 72. 68. 62. 49. 67. 81. 66. 56. 79.\n",
      " 70. 59. 64. 75. 60. 63. 69. 50. 25. 42. 44. 55. 48. 57. 29. 47. 65. 54.\n",
      " 20. 53. 37. 38. 33. 52. 30. 32. 43. 45. 51. 40. 46. 39. 34. 41. 36. 31.\n",
      " 27. 35. 26. 19. 28. 23. 24. 21. 17. 13.]\n"
     ]
    }
   ],
   "source": [
    "# просмотр уникальных значений столбца оценок критиков\n",
    "print(games['critic_score'].unique())"
   ]
  },
  {
   "cell_type": "code",
   "execution_count": 13,
   "metadata": {},
   "outputs": [
    {
     "name": "stdout",
     "output_type": "stream",
     "text": [
      "['E' nan 'M' 'T' 'E10+' 'K-A' 'AO' 'EC' 'RP']\n"
     ]
    }
   ],
   "source": [
    "# просмотр уникальных значений столбца рейтинга\n",
    "print(games['rating'].unique())"
   ]
  },
  {
   "cell_type": "code",
   "execution_count": 14,
   "metadata": {},
   "outputs": [],
   "source": [
    "# осуществим замену пропущенных значений в столбцах critic_score, user_score,rating на пустые значения:\n",
    "games['critic_score']=games['critic_score'].fillna('')\n",
    "games['user_score']=games['user_score'].fillna('')\n",
    "games['rating']=games['rating'].fillna('')"
   ]
  },
  {
   "cell_type": "code",
   "execution_count": 15,
   "metadata": {},
   "outputs": [
    {
     "data": {
      "text/plain": [
       "name               0\n",
       "platform           0\n",
       "year_of_release    0\n",
       "genre              0\n",
       "na_sales           0\n",
       "eu_sales           0\n",
       "jp_sales           0\n",
       "other_sales        0\n",
       "critic_score       0\n",
       "user_score         0\n",
       "rating             0\n",
       "dtype: int64"
      ]
     },
     "execution_count": 15,
     "metadata": {},
     "output_type": "execute_result"
    }
   ],
   "source": [
    "games.isnull().sum()"
   ]
  },
  {
   "cell_type": "markdown",
   "metadata": {},
   "source": [
    "После проведенных операций выборка не содержит пропуски."
   ]
  },
  {
   "cell_type": "markdown",
   "metadata": {},
   "source": [
    "**Преобразуем данных в нужные типы:**"
   ]
  },
  {
   "cell_type": "code",
   "execution_count": 16,
   "metadata": {},
   "outputs": [
    {
     "data": {
      "text/html": [
       "<div>\n",
       "<style scoped>\n",
       "    .dataframe tbody tr th:only-of-type {\n",
       "        vertical-align: middle;\n",
       "    }\n",
       "\n",
       "    .dataframe tbody tr th {\n",
       "        vertical-align: top;\n",
       "    }\n",
       "\n",
       "    .dataframe thead th {\n",
       "        text-align: right;\n",
       "    }\n",
       "</style>\n",
       "<table border=\"1\" class=\"dataframe\">\n",
       "  <thead>\n",
       "    <tr style=\"text-align: right;\">\n",
       "      <th></th>\n",
       "      <th>name</th>\n",
       "      <th>platform</th>\n",
       "      <th>year_of_release</th>\n",
       "      <th>genre</th>\n",
       "      <th>na_sales</th>\n",
       "      <th>eu_sales</th>\n",
       "      <th>jp_sales</th>\n",
       "      <th>other_sales</th>\n",
       "      <th>critic_score</th>\n",
       "      <th>user_score</th>\n",
       "      <th>rating</th>\n",
       "    </tr>\n",
       "  </thead>\n",
       "  <tbody>\n",
       "    <tr>\n",
       "      <th>0</th>\n",
       "      <td>Wii Sports</td>\n",
       "      <td>Wii</td>\n",
       "      <td>2006</td>\n",
       "      <td>Sports</td>\n",
       "      <td>41.36</td>\n",
       "      <td>28.96</td>\n",
       "      <td>3.77</td>\n",
       "      <td>8.45</td>\n",
       "      <td>76.0</td>\n",
       "      <td>8</td>\n",
       "      <td>E</td>\n",
       "    </tr>\n",
       "    <tr>\n",
       "      <th>1</th>\n",
       "      <td>Super Mario Bros.</td>\n",
       "      <td>NES</td>\n",
       "      <td>1985</td>\n",
       "      <td>Platform</td>\n",
       "      <td>29.08</td>\n",
       "      <td>3.58</td>\n",
       "      <td>6.81</td>\n",
       "      <td>0.77</td>\n",
       "      <td></td>\n",
       "      <td></td>\n",
       "      <td></td>\n",
       "    </tr>\n",
       "    <tr>\n",
       "      <th>2</th>\n",
       "      <td>Mario Kart Wii</td>\n",
       "      <td>Wii</td>\n",
       "      <td>2008</td>\n",
       "      <td>Racing</td>\n",
       "      <td>15.68</td>\n",
       "      <td>12.76</td>\n",
       "      <td>3.79</td>\n",
       "      <td>3.29</td>\n",
       "      <td>82.0</td>\n",
       "      <td>8.3</td>\n",
       "      <td>E</td>\n",
       "    </tr>\n",
       "    <tr>\n",
       "      <th>3</th>\n",
       "      <td>Wii Sports Resort</td>\n",
       "      <td>Wii</td>\n",
       "      <td>2009</td>\n",
       "      <td>Sports</td>\n",
       "      <td>15.61</td>\n",
       "      <td>10.93</td>\n",
       "      <td>3.28</td>\n",
       "      <td>2.95</td>\n",
       "      <td>80.0</td>\n",
       "      <td>8</td>\n",
       "      <td>E</td>\n",
       "    </tr>\n",
       "    <tr>\n",
       "      <th>4</th>\n",
       "      <td>Pokemon Red/Pokemon Blue</td>\n",
       "      <td>GB</td>\n",
       "      <td>1996</td>\n",
       "      <td>Role-Playing</td>\n",
       "      <td>11.27</td>\n",
       "      <td>8.89</td>\n",
       "      <td>10.22</td>\n",
       "      <td>1.00</td>\n",
       "      <td></td>\n",
       "      <td></td>\n",
       "      <td></td>\n",
       "    </tr>\n",
       "  </tbody>\n",
       "</table>\n",
       "</div>"
      ],
      "text/plain": [
       "                       name platform  year_of_release         genre  na_sales  \\\n",
       "0                Wii Sports      Wii             2006        Sports     41.36   \n",
       "1         Super Mario Bros.      NES             1985      Platform     29.08   \n",
       "2            Mario Kart Wii      Wii             2008        Racing     15.68   \n",
       "3         Wii Sports Resort      Wii             2009        Sports     15.61   \n",
       "4  Pokemon Red/Pokemon Blue       GB             1996  Role-Playing     11.27   \n",
       "\n",
       "   eu_sales  jp_sales  other_sales critic_score user_score rating  \n",
       "0     28.96      3.77         8.45         76.0          8      E  \n",
       "1      3.58      6.81         0.77                                 \n",
       "2     12.76      3.79         3.29         82.0        8.3      E  \n",
       "3     10.93      3.28         2.95         80.0          8      E  \n",
       "4      8.89     10.22         1.00                                 "
      ]
     },
     "execution_count": 16,
     "metadata": {},
     "output_type": "execute_result"
    }
   ],
   "source": [
    "games['year_of_release'] = games['year_of_release'].astype('int')\n",
    "games.head()"
   ]
  },
  {
   "cell_type": "code",
   "execution_count": 17,
   "metadata": {},
   "outputs": [
    {
     "data": {
      "text/html": [
       "<div>\n",
       "<style scoped>\n",
       "    .dataframe tbody tr th:only-of-type {\n",
       "        vertical-align: middle;\n",
       "    }\n",
       "\n",
       "    .dataframe tbody tr th {\n",
       "        vertical-align: top;\n",
       "    }\n",
       "\n",
       "    .dataframe thead th {\n",
       "        text-align: right;\n",
       "    }\n",
       "</style>\n",
       "<table border=\"1\" class=\"dataframe\">\n",
       "  <thead>\n",
       "    <tr style=\"text-align: right;\">\n",
       "      <th></th>\n",
       "      <th>name</th>\n",
       "      <th>platform</th>\n",
       "      <th>year_of_release</th>\n",
       "      <th>genre</th>\n",
       "      <th>na_sales</th>\n",
       "      <th>eu_sales</th>\n",
       "      <th>jp_sales</th>\n",
       "      <th>other_sales</th>\n",
       "      <th>critic_score</th>\n",
       "      <th>user_score</th>\n",
       "      <th>rating</th>\n",
       "    </tr>\n",
       "  </thead>\n",
       "  <tbody>\n",
       "    <tr>\n",
       "      <th>0</th>\n",
       "      <td>Wii Sports</td>\n",
       "      <td>Wii</td>\n",
       "      <td>2006</td>\n",
       "      <td>Sports</td>\n",
       "      <td>41.36</td>\n",
       "      <td>28.96</td>\n",
       "      <td>3.77</td>\n",
       "      <td>8.45</td>\n",
       "      <td>76.0</td>\n",
       "      <td>8</td>\n",
       "      <td>E</td>\n",
       "    </tr>\n",
       "    <tr>\n",
       "      <th>1</th>\n",
       "      <td>Super Mario Bros.</td>\n",
       "      <td>NES</td>\n",
       "      <td>1985</td>\n",
       "      <td>Platform</td>\n",
       "      <td>29.08</td>\n",
       "      <td>3.58</td>\n",
       "      <td>6.81</td>\n",
       "      <td>0.77</td>\n",
       "      <td></td>\n",
       "      <td></td>\n",
       "      <td></td>\n",
       "    </tr>\n",
       "    <tr>\n",
       "      <th>2</th>\n",
       "      <td>Mario Kart Wii</td>\n",
       "      <td>Wii</td>\n",
       "      <td>2008</td>\n",
       "      <td>Racing</td>\n",
       "      <td>15.68</td>\n",
       "      <td>12.76</td>\n",
       "      <td>3.79</td>\n",
       "      <td>3.29</td>\n",
       "      <td>82.0</td>\n",
       "      <td>8.3</td>\n",
       "      <td>E</td>\n",
       "    </tr>\n",
       "    <tr>\n",
       "      <th>3</th>\n",
       "      <td>Wii Sports Resort</td>\n",
       "      <td>Wii</td>\n",
       "      <td>2009</td>\n",
       "      <td>Sports</td>\n",
       "      <td>15.61</td>\n",
       "      <td>10.93</td>\n",
       "      <td>3.28</td>\n",
       "      <td>2.95</td>\n",
       "      <td>80.0</td>\n",
       "      <td>8</td>\n",
       "      <td>E</td>\n",
       "    </tr>\n",
       "    <tr>\n",
       "      <th>4</th>\n",
       "      <td>Pokemon Red/Pokemon Blue</td>\n",
       "      <td>GB</td>\n",
       "      <td>1996</td>\n",
       "      <td>Role-Playing</td>\n",
       "      <td>11.27</td>\n",
       "      <td>8.89</td>\n",
       "      <td>10.22</td>\n",
       "      <td>1.00</td>\n",
       "      <td></td>\n",
       "      <td></td>\n",
       "      <td></td>\n",
       "    </tr>\n",
       "  </tbody>\n",
       "</table>\n",
       "</div>"
      ],
      "text/plain": [
       "                       name platform  year_of_release         genre  na_sales  \\\n",
       "0                Wii Sports      Wii             2006        Sports     41.36   \n",
       "1         Super Mario Bros.      NES             1985      Platform     29.08   \n",
       "2            Mario Kart Wii      Wii             2008        Racing     15.68   \n",
       "3         Wii Sports Resort      Wii             2009        Sports     15.61   \n",
       "4  Pokemon Red/Pokemon Blue       GB             1996  Role-Playing     11.27   \n",
       "\n",
       "   eu_sales  jp_sales  other_sales critic_score user_score rating  \n",
       "0     28.96      3.77         8.45         76.0          8      E  \n",
       "1      3.58      6.81         0.77                                 \n",
       "2     12.76      3.79         3.29         82.0        8.3      E  \n",
       "3     10.93      3.28         2.95         80.0          8      E  \n",
       "4      8.89     10.22         1.00                                 "
      ]
     },
     "execution_count": 17,
     "metadata": {},
     "output_type": "execute_result"
    }
   ],
   "source": [
    "# преобразуем значения столбца \"год выпуска\" в тип datetime\n",
    "games['year_of_release']=pd.to_datetime(games['year_of_release'], format='%Y').dt.year\n",
    "games.head()"
   ]
  },
  {
   "cell_type": "code",
   "execution_count": 18,
   "metadata": {},
   "outputs": [
    {
     "data": {
      "text/plain": [
       "array(['8', '', '8.3', '8.5', '6.6', '8.4', '8.6', '7.7', '6.3', '7.4',\n",
       "       '8.2', '9', '7.9', '8.1', '8.7', '7.1', '3.4', '5.3', '4.8', '3.2',\n",
       "       '8.9', '6.4', '7.8', '7.5', '2.6', '7.2', '9.2', '7', '7.3', '4.3',\n",
       "       '7.6', '5.7', '5', '9.1', '6.5', 'tbd', '8.8', '6.9', '9.4', '6.8',\n",
       "       '6.1', '6.7', '5.4', '4', '4.9', '4.5', '9.3', '6.2', '4.2', '6',\n",
       "       '3.7', '4.1', '5.8', '5.6', '5.5', '4.4', '4.6', '5.9', '3.9',\n",
       "       '3.1', '2.9', '5.2', '3.3', '4.7', '5.1', '3.5', '2.5', '1.9', '3',\n",
       "       '2.7', '2.2', '2', '9.5', '2.1', '3.6', '2.8', '1.8', '3.8', '0',\n",
       "       '1.6', '9.6', '2.4', '1.7', '1.1', '0.3', '1.5', '0.7', '1.2',\n",
       "       '2.3', '0.5', '1.3', '0.2', '0.6', '1.4', '0.9', '1', '9.7'],\n",
       "      dtype=object)"
      ]
     },
     "execution_count": 18,
     "metadata": {},
     "output_type": "execute_result"
    }
   ],
   "source": [
    "games['user_score'].unique()"
   ]
  },
  {
   "cell_type": "markdown",
   "metadata": {},
   "source": [
    "**tbd** - аббревиатура расшифровывается очень просто - To Be Determined, то есть \"Будет определено\". Таким образом строки, содержащие аббревиатуру tbd фактически имеют нулевые/пропущеныые значания. Выполним преобразование признака **user_score** в тип float, при этом зададим условие преобразования некорректного значения в NAN, а далее заменим пропуски на пустые значения."
   ]
  },
  {
   "cell_type": "code",
   "execution_count": 19,
   "metadata": {},
   "outputs": [
    {
     "data": {
      "text/html": [
       "<div>\n",
       "<style scoped>\n",
       "    .dataframe tbody tr th:only-of-type {\n",
       "        vertical-align: middle;\n",
       "    }\n",
       "\n",
       "    .dataframe tbody tr th {\n",
       "        vertical-align: top;\n",
       "    }\n",
       "\n",
       "    .dataframe thead th {\n",
       "        text-align: right;\n",
       "    }\n",
       "</style>\n",
       "<table border=\"1\" class=\"dataframe\">\n",
       "  <thead>\n",
       "    <tr style=\"text-align: right;\">\n",
       "      <th></th>\n",
       "      <th>name</th>\n",
       "      <th>platform</th>\n",
       "      <th>year_of_release</th>\n",
       "      <th>genre</th>\n",
       "      <th>na_sales</th>\n",
       "      <th>eu_sales</th>\n",
       "      <th>jp_sales</th>\n",
       "      <th>other_sales</th>\n",
       "      <th>critic_score</th>\n",
       "      <th>user_score</th>\n",
       "      <th>rating</th>\n",
       "    </tr>\n",
       "  </thead>\n",
       "  <tbody>\n",
       "    <tr>\n",
       "      <th>119</th>\n",
       "      <td>Zumba Fitness</td>\n",
       "      <td>Wii</td>\n",
       "      <td>2010</td>\n",
       "      <td>Sports</td>\n",
       "      <td>3.45</td>\n",
       "      <td>2.59</td>\n",
       "      <td>0.0</td>\n",
       "      <td>0.66</td>\n",
       "      <td></td>\n",
       "      <td>tbd</td>\n",
       "      <td>E</td>\n",
       "    </tr>\n",
       "    <tr>\n",
       "      <th>301</th>\n",
       "      <td>Namco Museum: 50th Anniversary</td>\n",
       "      <td>PS2</td>\n",
       "      <td>2005</td>\n",
       "      <td>Misc</td>\n",
       "      <td>2.08</td>\n",
       "      <td>1.35</td>\n",
       "      <td>0.0</td>\n",
       "      <td>0.54</td>\n",
       "      <td>61.0</td>\n",
       "      <td>tbd</td>\n",
       "      <td>E10+</td>\n",
       "    </tr>\n",
       "    <tr>\n",
       "      <th>520</th>\n",
       "      <td>Zumba Fitness 2</td>\n",
       "      <td>Wii</td>\n",
       "      <td>2011</td>\n",
       "      <td>Sports</td>\n",
       "      <td>1.51</td>\n",
       "      <td>1.03</td>\n",
       "      <td>0.0</td>\n",
       "      <td>0.27</td>\n",
       "      <td></td>\n",
       "      <td>tbd</td>\n",
       "      <td>T</td>\n",
       "    </tr>\n",
       "    <tr>\n",
       "      <th>645</th>\n",
       "      <td>uDraw Studio</td>\n",
       "      <td>Wii</td>\n",
       "      <td>2010</td>\n",
       "      <td>Misc</td>\n",
       "      <td>1.65</td>\n",
       "      <td>0.57</td>\n",
       "      <td>0.0</td>\n",
       "      <td>0.20</td>\n",
       "      <td>71.0</td>\n",
       "      <td>tbd</td>\n",
       "      <td>E</td>\n",
       "    </tr>\n",
       "    <tr>\n",
       "      <th>718</th>\n",
       "      <td>Just Dance Kids</td>\n",
       "      <td>Wii</td>\n",
       "      <td>2010</td>\n",
       "      <td>Misc</td>\n",
       "      <td>1.52</td>\n",
       "      <td>0.54</td>\n",
       "      <td>0.0</td>\n",
       "      <td>0.18</td>\n",
       "      <td></td>\n",
       "      <td>tbd</td>\n",
       "      <td>E</td>\n",
       "    </tr>\n",
       "  </tbody>\n",
       "</table>\n",
       "</div>"
      ],
      "text/plain": [
       "                               name platform  year_of_release   genre  \\\n",
       "119                   Zumba Fitness      Wii             2010  Sports   \n",
       "301  Namco Museum: 50th Anniversary      PS2             2005    Misc   \n",
       "520                 Zumba Fitness 2      Wii             2011  Sports   \n",
       "645                    uDraw Studio      Wii             2010    Misc   \n",
       "718                 Just Dance Kids      Wii             2010    Misc   \n",
       "\n",
       "     na_sales  eu_sales  jp_sales  other_sales critic_score user_score rating  \n",
       "119      3.45      2.59       0.0         0.66                     tbd      E  \n",
       "301      2.08      1.35       0.0         0.54         61.0        tbd   E10+  \n",
       "520      1.51      1.03       0.0         0.27                     tbd      T  \n",
       "645      1.65      0.57       0.0         0.20         71.0        tbd      E  \n",
       "718      1.52      0.54       0.0         0.18                     tbd      E  "
      ]
     },
     "execution_count": 19,
     "metadata": {},
     "output_type": "execute_result"
    }
   ],
   "source": [
    "games[games['user_score']=='tbd'].head()"
   ]
  },
  {
   "cell_type": "code",
   "execution_count": 20,
   "metadata": {},
   "outputs": [],
   "source": [
    "games['user_score']=pd.to_numeric(games['user_score'], errors='coerce').fillna('')"
   ]
  },
  {
   "cell_type": "code",
   "execution_count": 21,
   "metadata": {},
   "outputs": [
    {
     "data": {
      "text/html": [
       "<div>\n",
       "<style scoped>\n",
       "    .dataframe tbody tr th:only-of-type {\n",
       "        vertical-align: middle;\n",
       "    }\n",
       "\n",
       "    .dataframe tbody tr th {\n",
       "        vertical-align: top;\n",
       "    }\n",
       "\n",
       "    .dataframe thead th {\n",
       "        text-align: right;\n",
       "    }\n",
       "</style>\n",
       "<table border=\"1\" class=\"dataframe\">\n",
       "  <thead>\n",
       "    <tr style=\"text-align: right;\">\n",
       "      <th></th>\n",
       "      <th>name</th>\n",
       "      <th>platform</th>\n",
       "      <th>year_of_release</th>\n",
       "      <th>genre</th>\n",
       "      <th>na_sales</th>\n",
       "      <th>eu_sales</th>\n",
       "      <th>jp_sales</th>\n",
       "      <th>other_sales</th>\n",
       "      <th>critic_score</th>\n",
       "      <th>user_score</th>\n",
       "      <th>rating</th>\n",
       "    </tr>\n",
       "  </thead>\n",
       "  <tbody>\n",
       "  </tbody>\n",
       "</table>\n",
       "</div>"
      ],
      "text/plain": [
       "Empty DataFrame\n",
       "Columns: [name, platform, year_of_release, genre, na_sales, eu_sales, jp_sales, other_sales, critic_score, user_score, rating]\n",
       "Index: []"
      ]
     },
     "execution_count": 21,
     "metadata": {},
     "output_type": "execute_result"
    }
   ],
   "source": [
    "#проверим наличие дубликатов\n",
    "games[games.duplicated()]"
   ]
  },
  {
   "cell_type": "markdown",
   "metadata": {},
   "source": [
    "**Посчитаем суммарные продажи во всех регионах и запишем их в отдельный столбец**"
   ]
  },
  {
   "cell_type": "code",
   "execution_count": 22,
   "metadata": {},
   "outputs": [
    {
     "data": {
      "text/html": [
       "<div>\n",
       "<style scoped>\n",
       "    .dataframe tbody tr th:only-of-type {\n",
       "        vertical-align: middle;\n",
       "    }\n",
       "\n",
       "    .dataframe tbody tr th {\n",
       "        vertical-align: top;\n",
       "    }\n",
       "\n",
       "    .dataframe thead th {\n",
       "        text-align: right;\n",
       "    }\n",
       "</style>\n",
       "<table border=\"1\" class=\"dataframe\">\n",
       "  <thead>\n",
       "    <tr style=\"text-align: right;\">\n",
       "      <th></th>\n",
       "      <th>name</th>\n",
       "      <th>platform</th>\n",
       "      <th>year_of_release</th>\n",
       "      <th>genre</th>\n",
       "      <th>na_sales</th>\n",
       "      <th>eu_sales</th>\n",
       "      <th>jp_sales</th>\n",
       "      <th>other_sales</th>\n",
       "      <th>critic_score</th>\n",
       "      <th>user_score</th>\n",
       "      <th>rating</th>\n",
       "      <th>total_sales</th>\n",
       "    </tr>\n",
       "  </thead>\n",
       "  <tbody>\n",
       "    <tr>\n",
       "      <th>0</th>\n",
       "      <td>Wii Sports</td>\n",
       "      <td>Wii</td>\n",
       "      <td>2006</td>\n",
       "      <td>Sports</td>\n",
       "      <td>41.36</td>\n",
       "      <td>28.96</td>\n",
       "      <td>3.77</td>\n",
       "      <td>8.45</td>\n",
       "      <td>76.0</td>\n",
       "      <td>8.0</td>\n",
       "      <td>E</td>\n",
       "      <td>82.54</td>\n",
       "    </tr>\n",
       "    <tr>\n",
       "      <th>1</th>\n",
       "      <td>Super Mario Bros.</td>\n",
       "      <td>NES</td>\n",
       "      <td>1985</td>\n",
       "      <td>Platform</td>\n",
       "      <td>29.08</td>\n",
       "      <td>3.58</td>\n",
       "      <td>6.81</td>\n",
       "      <td>0.77</td>\n",
       "      <td></td>\n",
       "      <td></td>\n",
       "      <td></td>\n",
       "      <td>40.24</td>\n",
       "    </tr>\n",
       "    <tr>\n",
       "      <th>2</th>\n",
       "      <td>Mario Kart Wii</td>\n",
       "      <td>Wii</td>\n",
       "      <td>2008</td>\n",
       "      <td>Racing</td>\n",
       "      <td>15.68</td>\n",
       "      <td>12.76</td>\n",
       "      <td>3.79</td>\n",
       "      <td>3.29</td>\n",
       "      <td>82.0</td>\n",
       "      <td>8.3</td>\n",
       "      <td>E</td>\n",
       "      <td>35.52</td>\n",
       "    </tr>\n",
       "    <tr>\n",
       "      <th>3</th>\n",
       "      <td>Wii Sports Resort</td>\n",
       "      <td>Wii</td>\n",
       "      <td>2009</td>\n",
       "      <td>Sports</td>\n",
       "      <td>15.61</td>\n",
       "      <td>10.93</td>\n",
       "      <td>3.28</td>\n",
       "      <td>2.95</td>\n",
       "      <td>80.0</td>\n",
       "      <td>8.0</td>\n",
       "      <td>E</td>\n",
       "      <td>32.77</td>\n",
       "    </tr>\n",
       "    <tr>\n",
       "      <th>4</th>\n",
       "      <td>Pokemon Red/Pokemon Blue</td>\n",
       "      <td>GB</td>\n",
       "      <td>1996</td>\n",
       "      <td>Role-Playing</td>\n",
       "      <td>11.27</td>\n",
       "      <td>8.89</td>\n",
       "      <td>10.22</td>\n",
       "      <td>1.00</td>\n",
       "      <td></td>\n",
       "      <td></td>\n",
       "      <td></td>\n",
       "      <td>31.38</td>\n",
       "    </tr>\n",
       "    <tr>\n",
       "      <th>...</th>\n",
       "      <td>...</td>\n",
       "      <td>...</td>\n",
       "      <td>...</td>\n",
       "      <td>...</td>\n",
       "      <td>...</td>\n",
       "      <td>...</td>\n",
       "      <td>...</td>\n",
       "      <td>...</td>\n",
       "      <td>...</td>\n",
       "      <td>...</td>\n",
       "      <td>...</td>\n",
       "      <td>...</td>\n",
       "    </tr>\n",
       "    <tr>\n",
       "      <th>16710</th>\n",
       "      <td>Samurai Warriors: Sanada Maru</td>\n",
       "      <td>PS3</td>\n",
       "      <td>2016</td>\n",
       "      <td>Action</td>\n",
       "      <td>0.00</td>\n",
       "      <td>0.00</td>\n",
       "      <td>0.01</td>\n",
       "      <td>0.00</td>\n",
       "      <td></td>\n",
       "      <td></td>\n",
       "      <td></td>\n",
       "      <td>0.01</td>\n",
       "    </tr>\n",
       "    <tr>\n",
       "      <th>16711</th>\n",
       "      <td>LMA Manager 2007</td>\n",
       "      <td>X360</td>\n",
       "      <td>2006</td>\n",
       "      <td>Sports</td>\n",
       "      <td>0.00</td>\n",
       "      <td>0.01</td>\n",
       "      <td>0.00</td>\n",
       "      <td>0.00</td>\n",
       "      <td></td>\n",
       "      <td></td>\n",
       "      <td></td>\n",
       "      <td>0.01</td>\n",
       "    </tr>\n",
       "    <tr>\n",
       "      <th>16712</th>\n",
       "      <td>Haitaka no Psychedelica</td>\n",
       "      <td>PSV</td>\n",
       "      <td>2016</td>\n",
       "      <td>Adventure</td>\n",
       "      <td>0.00</td>\n",
       "      <td>0.00</td>\n",
       "      <td>0.01</td>\n",
       "      <td>0.00</td>\n",
       "      <td></td>\n",
       "      <td></td>\n",
       "      <td></td>\n",
       "      <td>0.01</td>\n",
       "    </tr>\n",
       "    <tr>\n",
       "      <th>16713</th>\n",
       "      <td>Spirits &amp; Spells</td>\n",
       "      <td>GBA</td>\n",
       "      <td>2003</td>\n",
       "      <td>Platform</td>\n",
       "      <td>0.01</td>\n",
       "      <td>0.00</td>\n",
       "      <td>0.00</td>\n",
       "      <td>0.00</td>\n",
       "      <td></td>\n",
       "      <td></td>\n",
       "      <td></td>\n",
       "      <td>0.01</td>\n",
       "    </tr>\n",
       "    <tr>\n",
       "      <th>16714</th>\n",
       "      <td>Winning Post 8 2016</td>\n",
       "      <td>PSV</td>\n",
       "      <td>2016</td>\n",
       "      <td>Simulation</td>\n",
       "      <td>0.00</td>\n",
       "      <td>0.00</td>\n",
       "      <td>0.01</td>\n",
       "      <td>0.00</td>\n",
       "      <td></td>\n",
       "      <td></td>\n",
       "      <td></td>\n",
       "      <td>0.01</td>\n",
       "    </tr>\n",
       "  </tbody>\n",
       "</table>\n",
       "<p>16444 rows × 12 columns</p>\n",
       "</div>"
      ],
      "text/plain": [
       "                                name platform  year_of_release         genre  \\\n",
       "0                         Wii Sports      Wii             2006        Sports   \n",
       "1                  Super Mario Bros.      NES             1985      Platform   \n",
       "2                     Mario Kart Wii      Wii             2008        Racing   \n",
       "3                  Wii Sports Resort      Wii             2009        Sports   \n",
       "4           Pokemon Red/Pokemon Blue       GB             1996  Role-Playing   \n",
       "...                              ...      ...              ...           ...   \n",
       "16710  Samurai Warriors: Sanada Maru      PS3             2016        Action   \n",
       "16711               LMA Manager 2007     X360             2006        Sports   \n",
       "16712        Haitaka no Psychedelica      PSV             2016     Adventure   \n",
       "16713               Spirits & Spells      GBA             2003      Platform   \n",
       "16714            Winning Post 8 2016      PSV             2016    Simulation   \n",
       "\n",
       "       na_sales  eu_sales  jp_sales  other_sales critic_score user_score  \\\n",
       "0         41.36     28.96      3.77         8.45         76.0        8.0   \n",
       "1         29.08      3.58      6.81         0.77                           \n",
       "2         15.68     12.76      3.79         3.29         82.0        8.3   \n",
       "3         15.61     10.93      3.28         2.95         80.0        8.0   \n",
       "4         11.27      8.89     10.22         1.00                           \n",
       "...         ...       ...       ...          ...          ...        ...   \n",
       "16710      0.00      0.00      0.01         0.00                           \n",
       "16711      0.00      0.01      0.00         0.00                           \n",
       "16712      0.00      0.00      0.01         0.00                           \n",
       "16713      0.01      0.00      0.00         0.00                           \n",
       "16714      0.00      0.00      0.01         0.00                           \n",
       "\n",
       "      rating  total_sales  \n",
       "0          E        82.54  \n",
       "1                   40.24  \n",
       "2          E        35.52  \n",
       "3          E        32.77  \n",
       "4                   31.38  \n",
       "...      ...          ...  \n",
       "16710                0.01  \n",
       "16711                0.01  \n",
       "16712                0.01  \n",
       "16713                0.01  \n",
       "16714                0.01  \n",
       "\n",
       "[16444 rows x 12 columns]"
      ]
     },
     "metadata": {},
     "output_type": "display_data"
    }
   ],
   "source": [
    "#games['total_sales']=games[['na_sales','eu_sales','jp_sales','other_sales']].sum(axis=1)\n",
    "games['total_sales'] = games.loc[:, 'na_sales':'other_sales'].sum(axis=1)\n",
    "#games['total_sales']=games['na_sales']+games['eu_sales']+games['jp_sales']+games['other_sales']\n",
    "\n",
    "display(games)"
   ]
  },
  {
   "cell_type": "code",
   "execution_count": 23,
   "metadata": {},
   "outputs": [
    {
     "name": "stdout",
     "output_type": "stream",
     "text": [
      "<class 'pandas.core.frame.DataFrame'>\n",
      "Int64Index: 16444 entries, 0 to 16714\n",
      "Data columns (total 12 columns):\n",
      " #   Column           Non-Null Count  Dtype  \n",
      "---  ------           --------------  -----  \n",
      " 0   name             16444 non-null  object \n",
      " 1   platform         16444 non-null  object \n",
      " 2   year_of_release  16444 non-null  int64  \n",
      " 3   genre            16444 non-null  object \n",
      " 4   na_sales         16444 non-null  float64\n",
      " 5   eu_sales         16444 non-null  float64\n",
      " 6   jp_sales         16444 non-null  float64\n",
      " 7   other_sales      16444 non-null  float64\n",
      " 8   critic_score     16444 non-null  object \n",
      " 9   user_score       16444 non-null  object \n",
      " 10  rating           16444 non-null  object \n",
      " 11  total_sales      16444 non-null  float64\n",
      "dtypes: float64(5), int64(1), object(6)\n",
      "memory usage: 1.6+ MB\n"
     ]
    }
   ],
   "source": [
    "games.info()"
   ]
  },
  {
   "cell_type": "markdown",
   "metadata": {},
   "source": [
    "**Вывод:**  \n",
    "Удаление строк с пропущенными значениями в столбцах рейтинга и оценок пользователей и критиков не было выполнено, т.к. данные пропущенны не случайно - при обработке зависимостей в вышеназванных столбцах данный факт будет учтен."
   ]
  },
  {
   "cell_type": "markdown",
   "metadata": {},
   "source": [
    "# Исследовательский анализ данных"
   ]
  },
  {
   "cell_type": "markdown",
   "metadata": {},
   "source": [
    "1. Посмотрим, сколько игр выпускалось в разные годы."
   ]
  },
  {
   "cell_type": "code",
   "execution_count": 24,
   "metadata": {},
   "outputs": [
    {
     "data": {
      "text/plain": [
       "year_of_release\n",
       "1980       9\n",
       "1981      46\n",
       "1982      36\n",
       "1983      17\n",
       "1984      14\n",
       "1985      14\n",
       "1986      21\n",
       "1987      16\n",
       "1988      15\n",
       "1989      17\n",
       "1990      16\n",
       "1991      41\n",
       "1992      43\n",
       "1993      60\n",
       "1994     121\n",
       "1995     219\n",
       "1996     263\n",
       "1997     289\n",
       "1998     379\n",
       "1999     338\n",
       "2000     350\n",
       "2001     482\n",
       "2002     829\n",
       "2003     775\n",
       "2004     762\n",
       "2005     939\n",
       "2006    1006\n",
       "2007    1197\n",
       "2008    1427\n",
       "2009    1426\n",
       "2010    1255\n",
       "2011    1136\n",
       "2012     653\n",
       "2013     544\n",
       "2014     581\n",
       "2015     606\n",
       "2016     502\n",
       "Name: name, dtype: int64"
      ]
     },
     "execution_count": 24,
     "metadata": {},
     "output_type": "execute_result"
    }
   ],
   "source": [
    "#Подсчет количества выпускаемых игр в разные годы\n",
    "games.groupby('year_of_release')['name'].count()"
   ]
  },
  {
   "cell_type": "markdown",
   "metadata": {},
   "source": [
    "Количество выпускаемых игр с 1980 (9 игр) по 2008 (1427 игр) увеличивалось, с 2009 (1426 игр) - пошло на спад, в 2016 количнство выпускаемых игр составило 502 штуки."
   ]
  },
  {
   "cell_type": "code",
   "execution_count": 25,
   "metadata": {},
   "outputs": [
    {
     "data": {
      "image/png": "[encoded data removed]",
      "text/plain": [
       "<Figure size 864x432 with 1 Axes>"
      ]
     },
     "metadata": {},
     "output_type": "display_data"
    }
   ],
   "source": [
    "games.groupby('year_of_release').name.count().plot(kind='bar',figsize=(12,6))\n",
    "plt.xlabel(\"Год\", fontsize=10)\n",
    "plt.ylabel('Количество игр по каждому году', fontsize=10)\n",
    "plt.xticks(fontsize=10)\n",
    "plt.yticks(fontsize=10)\n",
    "plt.figtext(0.35, -0.02, \"Рисунок 2. - Выпуск игр по годам\", fontsize=14)\n",
    "plt.show()"
   ]
  },
  {
   "cell_type": "markdown",
   "metadata": {},
   "source": [
    "**Вывод:** Диаграмма показывает, что начиная с 1980 г. ростет выпуск игр, максимальный значения по количеству достиглись в 2008-2099 гг (более 1400 игр в год), однако начиая с 2010 г. наблюдается спад в выпуске игр - это можно объяснить популярность игр в мобильных телефонах."
   ]
  },
  {
   "cell_type": "markdown",
   "metadata": {},
   "source": [
    "2. Посмотрим, как менялись продажи по платформам. Выберем платформы с наибольшими суммарными продажами и построим распределение по годам."
   ]
  },
  {
   "cell_type": "code",
   "execution_count": 170,
   "metadata": {
    "scrolled": false
   },
   "outputs": [
    {
     "data": {
      "text/plain": [
       "<AxesSubplot:xlabel='year_of_release', ylabel='total_sales'>"
      ]
     },
     "execution_count": 170,
     "metadata": {},
     "output_type": "execute_result"
    },
    {
     "data": {
      "image/png": "[encoded data removed]",
      "text/plain": [
       "<Figure size 1440x576 with 1 Axes>"
      ]
     },
     "metadata": {},
     "output_type": "display_data"
    }
   ],
   "source": [
    "#pivot_table, где index - год, columns - платформа, values - суммарные продажи (новый столбец). Потом по этой таблице строил sns.lineplot, в котором x и y год и продажи соответственно, а hue = 'platform'\n",
    "games_p = games.pivot_table(index=['year_of_release', 'platform'], values='total_sales',aggfunc='sum').reset_index()\n",
    "\n",
    "sns.lineplot(data=games_p, x='year_of_release', y='total_sales', hue='platform') #, figsize=(10, 6))\n",
    "\n",
    "#plt.show()\n",
    "#games_p"
   ]
  },
  {
   "cell_type": "code",
   "execution_count": 26,
   "metadata": {},
   "outputs": [
    {
     "data": {
      "image/png": "[encoded data removed]",
      "text/plain": [
       "<Figure size 720x288 with 1 Axes>"
      ]
     },
     "metadata": {},
     "output_type": "display_data"
    }
   ],
   "source": [
    "games.groupby('platform')['total_sales'].sum().sort_values(ascending=False)[:10].plot(kind='bar',figsize=(10,4))\n",
    "plt.xlabel(\"Наименование платформы\", fontsize=10)\n",
    "plt.ylabel('Суммарные продажи', fontsize=10)\n",
    "plt.xticks(fontsize=10)\n",
    "plt.yticks(fontsize=10)\n",
    "plt.figtext(0.35, -0.09, \"Рисунок 3. - Изменение продажи по платформам\", fontsize=14)\n",
    "plt.show()\n"
   ]
  },
  {
   "cell_type": "markdown",
   "metadata": {},
   "source": [
    "**Вывод:** Распределение показывает, что лидерами рынка продаж являются платформы: PS2, X360, PS3, Wii, DS, PS. Максимальные суммарные продажи принесла платформа **PS2**"
   ]
  },
  {
   "cell_type": "code",
   "execution_count": 141,
   "metadata": {
    "scrolled": false
   },
   "outputs": [
    {
     "data": {
      "image/png": "[encoded data removed]",
      "text/plain": [
       "<Figure size 720x432 with 1 Axes>"
      ]
     },
     "metadata": {},
     "output_type": "display_data"
    },
    {
     "data": {
      "image/png": "[encoded data removed]",
      "text/plain": [
       "<Figure size 720x432 with 1 Axes>"
      ]
     },
     "metadata": {},
     "output_type": "display_data"
    },
    {
     "data": {
      "image/png": "[encoded data removed]",
      "text/plain": [
       "<Figure size 720x432 with 1 Axes>"
      ]
     },
     "metadata": {},
     "output_type": "display_data"
    },
    {
     "data": {
      "image/png": "[encoded data removed]",
      "text/plain": [
       "<Figure size 720x432 with 1 Axes>"
      ]
     },
     "metadata": {},
     "output_type": "display_data"
    },
    {
     "data": {
      "image/png": "[encoded data removed]",
      "text/plain": [
       "<Figure size 720x432 with 1 Axes>"
      ]
     },
     "metadata": {},
     "output_type": "display_data"
    },
    {
     "data": {
      "image/png": "[encoded data removed]",
      "text/plain": [
       "<Figure size 720x432 with 1 Axes>"
      ]
     },
     "metadata": {},
     "output_type": "display_data"
    }
   ],
   "source": [
    "# рассмотрим жизненный цикл на примере патформ с наибольшими суммарными продажами\n",
    "(games.query('platform==\"PS2\"').groupby('year_of_release')['total_sales'].sum()\n",
    "    .plot(kind='bar', grid=True,figsize=(10,6)))\n",
    "plt.title('PS2') # присвоение заголовка гистограмме\n",
    "plt.xlabel(\"Год выпуска\", fontsize=10)\n",
    "plt.ylabel('Суммарные продажи', fontsize=10)\n",
    "plt.show()\n",
    "(games.query('platform==\"X360\"').groupby('year_of_release')['total_sales'].sum()\n",
    "    .plot(kind='bar', grid=True,figsize=(10,6)))\n",
    "plt.title('X360') # присвоение заголовка гистограмме\n",
    "plt.xlabel(\"Год выпуска\", fontsize=10)\n",
    "plt.ylabel('Суммарные продажи', fontsize=10)\n",
    "plt.show()\n",
    "(games.query('platform==\"PS3\"').groupby('year_of_release')['total_sales'].sum()\n",
    "    .plot(kind='bar', grid=True,figsize=(10,6)))\n",
    "plt.title('PS3') # присвоение заголовка гистограмме\n",
    "plt.xlabel(\"Год выпуска\", fontsize=10)\n",
    "plt.ylabel('Суммарные продажи', fontsize=10)\n",
    "plt.show()\n",
    "(games.query('platform==\"Wii\"').groupby('year_of_release')['total_sales'].sum()\n",
    "    .plot(kind='bar', grid=True,figsize=(10,6)))\n",
    "plt.title('Wii') # присвоение заголовка гистограмме\n",
    "plt.xlabel(\"Год выпуска\", fontsize=10)\n",
    "plt.ylabel('Суммарные продажи', fontsize=10)\n",
    "plt.show()\n",
    "(games.query('platform==\"DS\"').groupby('year_of_release')['total_sales'].sum()\n",
    "    .plot(kind='bar', grid=True,figsize=(10,6)))\n",
    "plt.title('DS') # присвоение заголовка гистограмме\n",
    "plt.xlabel(\"Год выпуска\", fontsize=10)\n",
    "plt.ylabel('Суммарные продажи', fontsize=10)\n",
    "plt.show()\n",
    "(games.query('platform==\"PS\"').groupby('year_of_release')['total_sales'].sum()\n",
    "    .plot(kind='bar', grid=True,figsize=(10,6)))\n",
    "plt.title('PS') # присвоение заголовка гистограмме\n",
    "#plt.xticks(fontsize=10)\n",
    "#plt.yticks(fontsize=10)\n",
    "plt.xlabel(\"Год выпуска\", fontsize=10)\n",
    "plt.ylabel('Суммарные продажи', fontsize=10)\n",
    "plt.figtext(0.2, -0.1, \"Рис.6 - Гистограмм суммарных продаж по годам для 6 самых популярных платформ\")\n",
    "plt.show()\n"
   ]
  },
  {
   "cell_type": "markdown",
   "metadata": {},
   "source": [
    "3. Выявим за какой характерный срок появляются новые и исчезают старые платформы?"
   ]
  },
  {
   "cell_type": "code",
   "execution_count": 38,
   "metadata": {
    "scrolled": false
   },
   "outputs": [
    {
     "name": "stderr",
     "output_type": "stream",
     "text": [
      "*c* argument looks like a single numeric RGB or RGBA sequence, which should be avoided as value-mapping will have precedence in case its length matches with *x* & *y*.  Please use the *color* keyword-argument or provide a 2-D array with a single row if you intend to specify the same RGB or RGBA value for all points.\n"
     ]
    },
    {
     "data": {
      "image/png": "[encoded data removed]",
      "text/plain": [
       "<Figure size 864x432 with 1 Axes>"
      ]
     },
     "metadata": {},
     "output_type": "display_data"
    }
   ],
   "source": [
    "games.plot(x='year_of_release', y='platform', kind='scatter', figsize=(12, 6), grid=True, alpha=0.5)\n",
    "plt.xlabel(\"Год выпуска\", fontsize=10)\n",
    "plt.ylabel('Платформа', fontsize=10)\n",
    "plt.xticks(fontsize=10)\n",
    "plt.yticks(fontsize=10)\n",
    "plt.figtext(0.25, -0.02, \"Рисунок 3. - Выпуск игр по годам с разбивкой по платформам\", fontsize=14)\n",
    "plt.show()"
   ]
  },
  {
   "cell_type": "code",
   "execution_count": 173,
   "metadata": {
    "scrolled": false
   },
   "outputs": [
    {
     "data": {
      "image/png": "[encoded data removed]",
      "text/plain": [
       "<Figure size 2160x1296 with 1 Axes>"
      ]
     },
     "metadata": {},
     "output_type": "display_data"
    }
   ],
   "source": [
    "games.pivot_table(index='year_of_release', columns='platform', values='total_sales',aggfunc='sum').plot(figsize=(30,18), grid=True)\n",
    "plt.figtext(0.4, 0.05, \"Рис.5 - Гистограммs суммарных продаж по годам для платформ\", fontsize=16)\n",
    "plt.xlabel(\"Год выпуска\", fontsize=10)\n",
    "plt.show()"
   ]
  },
  {
   "cell_type": "code",
   "execution_count": 145,
   "metadata": {},
   "outputs": [
    {
     "name": "stdout",
     "output_type": "stream",
     "text": [
      "11\n",
      "11\n",
      "10\n",
      "10\n",
      "28\n",
      "9\n",
      "Среднее время жизни платформы:  13.17 лет.\n"
     ]
    }
   ],
   "source": [
    "# на примере патформ с наибольшими суммарными продажами выявим время жизни платформ\n",
    "#1\n",
    "ps2=games.query('platform==\"PS2\"')\n",
    "ps2_min=ps2['year_of_release'].min()\n",
    "ps2_max=ps2['year_of_release'].max()\n",
    "ps2_diff=ps2_max-ps2_min\n",
    "print(ps2_diff)\n",
    "#2\n",
    "x360=games.query('platform==\"X360\"')\n",
    "x360_min=x360['year_of_release'].min()\n",
    "x360_max=x360['year_of_release'].max()\n",
    "x360_diff=x360_max-x360_min\n",
    "print(x360_diff)\n",
    "#3\n",
    "ps3=games.query('platform==\"PS3\"')\n",
    "ps3_min=ps3['year_of_release'].min()\n",
    "ps3_max=ps3['year_of_release'].max()\n",
    "ps3_diff=ps3_max-ps3_min\n",
    "print(ps3_diff)\n",
    "#4\n",
    "wii=games.query('platform==\"Wii\"')\n",
    "wii_min=wii['year_of_release'].min()\n",
    "wii_max=wii['year_of_release'].max()\n",
    "wii_diff=wii_max-wii_min\n",
    "print(wii_diff)\n",
    "#5\n",
    "ds=games.query('platform==\"DS\"and year_of_release!=2045')\n",
    "ds_min=ds['year_of_release'].min()\n",
    "ds_max=ds['year_of_release'].max()\n",
    "ds_diff=ds_max-ds_min\n",
    "print(ds_diff)\n",
    "#6\n",
    "ps=games.query('platform==\"PS\"')\n",
    "ps_min=ps['year_of_release'].min()\n",
    "ps_max=ps['year_of_release'].max() \n",
    "ps_diff=ps_max-ps_min                \n",
    "print(ps_diff)               \n",
    "\n",
    "mean=round((ps2_diff+x360_diff+ps3_diff+ds_diff+wii_diff+ps_diff)/6,2)\n",
    "print('Среднее время жизни платформы: ',mean, 'лет.')\n"
   ]
  },
  {
   "cell_type": "markdown",
   "metadata": {},
   "source": [
    "**Вывод:** патформы с наибольшими суммарными продажами набрали свою популярность с начала 2000-х., а период от первых продаж до исчезнования в среднем занял 13 лет."
   ]
  },
  {
   "cell_type": "markdown",
   "metadata": {},
   "source": [
    "4. На осовании данных за соответствующий актуальный период определим какие платформы лидируют по продажам, растут или падают? Выберем несколько потенциально прибыльных платформ."
   ]
  },
  {
   "cell_type": "markdown",
   "metadata": {},
   "source": [
    "Исходя из визуализации, представленной на рисуноке 2 (\"Выпуск игр по годам\"), нормальным выглядит распределение продаж с 2001 по 2013, нужно избавиться от выбросов, чтобы убедиться в этом.\n",
    "Данные за 2016 не заполнены до конца, поэтому выберем платформы с ненулевыми продажами за 2016 год, чтобы работать с ними в дальнейшем."
   ]
  },
  {
   "cell_type": "code",
   "execution_count": 54,
   "metadata": {},
   "outputs": [
    {
     "data": {
      "text/plain": [
       "array(['PS4', '3DS', 'XOne', 'WiiU', 'PS3', 'PC', 'X360', 'PSV', 'Wii'],\n",
       "      dtype=object)"
      ]
     },
     "execution_count": 54,
     "metadata": {},
     "output_type": "execute_result"
    }
   ],
   "source": [
    "# посмотрим на актуальные платформы 2016 г\n",
    "games_2016=games[(games['year_of_release']==2016)&(games['total_sales']!=0)]\n",
    "games_2016['platform'].unique()"
   ]
  },
  {
   "cell_type": "markdown",
   "metadata": {},
   "source": [
    "В **2016** существуют платформы: PS4, 3DS, XOne, WiiU, PS3, PC, X360, PSV, Wii."
   ]
  },
  {
   "cell_type": "code",
   "execution_count": 63,
   "metadata": {},
   "outputs": [
    {
     "data": {
      "image/png": "[encoded data removed]",
      "text/plain": [
       "<Figure size 720x360 with 1 Axes>"
      ]
     },
     "metadata": {},
     "output_type": "display_data"
    }
   ],
   "source": [
    "#выявим выбросы:\n",
    "games.boxplot(column=['total_sales'], figsize=(10,5), grid=True)\n",
    "plt.figtext(0.2, 0.03, \"Рис.5 - Диаграмма размаха суммарных продаж \", fontsize=16)\n",
    "plt.show()"
   ]
  },
  {
   "cell_type": "code",
   "execution_count": 256,
   "metadata": {},
   "outputs": [
    {
     "data": {
      "image/png": "[encoded data removed]",
      "text/plain": [
       "<Figure size 1440x576 with 1 Axes>"
      ]
     },
     "metadata": {},
     "output_type": "display_data"
    }
   ],
   "source": [
    "# и посмотрим диаграмму размаха:\n",
    "plt.ylim(0, 0.5)\n",
    "games.boxplot(column=['total_sales'], figsize=(10,5), grid=True)\n",
    "plt.figtext(0.2, 0.03, \"Рис.6 - Диаграмма размаха суммарных продаж \", fontsize=16)\n",
    "plt.show()"
   ]
  },
  {
   "cell_type": "code",
   "execution_count": 65,
   "metadata": {},
   "outputs": [],
   "source": [
    "# за выбросы примем значения продаж выше 40, отбрасываем выбросы \n",
    "games_filter=games[games['total_sales'] < 40]\n",
    "# по гистограмме (рис.2) выбираем актуальный период с 2001 по 2016\n",
    "games_filter=games[(games['year_of_release'] > 2000) & (games['year_of_release'] <= 2016)] "
   ]
  },
  {
   "cell_type": "code",
   "execution_count": 67,
   "metadata": {},
   "outputs": [
    {
     "data": {
      "text/plain": [
       "platform\n",
       "PS2     1194.39\n",
       "X360     959.72\n",
       "PS3      927.74\n",
       "Wii      891.00\n",
       "DS       802.76\n",
       "GBA      312.81\n",
       "PSP      289.53\n",
       "XB       250.58\n",
       "PS4      244.89\n",
       "3DS      242.67\n",
       "GC       196.73\n",
       "PC       195.81\n",
       "XOne     133.17\n",
       "WiiU      77.59\n",
       "PSV       49.56\n",
       "PS        44.33\n",
       "GB         9.24\n",
       "N64        3.33\n",
       "DC         1.42\n",
       "WS         0.28\n",
       "Name: total_sales, dtype: float64"
      ]
     },
     "execution_count": 67,
     "metadata": {},
     "output_type": "execute_result"
    }
   ],
   "source": [
    "games_filter.groupby(['platform']).total_sales.sum().sort_values(ascending=False)"
   ]
  },
  {
   "cell_type": "code",
   "execution_count": 66,
   "metadata": {},
   "outputs": [
    {
     "name": "stdout",
     "output_type": "stream",
     "text": [
      "<class 'pandas.core.frame.DataFrame'>\n",
      "Int64Index: 13618 entries, 0 to 16713\n",
      "Data columns (total 12 columns):\n",
      " #   Column           Non-Null Count  Dtype  \n",
      "---  ------           --------------  -----  \n",
      " 0   name             13618 non-null  object \n",
      " 1   platform         13618 non-null  object \n",
      " 2   year_of_release  13618 non-null  int64  \n",
      " 3   genre            13618 non-null  object \n",
      " 4   na_sales         13618 non-null  float64\n",
      " 5   eu_sales         13618 non-null  float64\n",
      " 6   jp_sales         13618 non-null  float64\n",
      " 7   other_sales      13618 non-null  float64\n",
      " 8   critic_score     13618 non-null  object \n",
      " 9   user_score       13618 non-null  object \n",
      " 10  rating           13618 non-null  object \n",
      " 11  total_sales      13618 non-null  float64\n",
      "dtypes: float64(5), int64(1), object(6)\n",
      "memory usage: 1.4+ MB\n"
     ]
    }
   ],
   "source": [
    "games_filter.info()"
   ]
  },
  {
   "cell_type": "code",
   "execution_count": null,
   "metadata": {},
   "outputs": [],
   "source": [
    "# посмотрим самые популярные платформы с 1980 до 2000 года\n",
    "games.query('year_of_release<2000').pivot_table(index='platform', values='sum_sales', aggfunc=sum).plot(grid=True, kind='bar',figsize=(10, 5))"
   ]
  },
  {
   "cell_type": "code",
   "execution_count": null,
   "metadata": {},
   "outputs": [],
   "source": []
  },
  {
   "cell_type": "code",
   "execution_count": null,
   "metadata": {},
   "outputs": [],
   "source": [
    "scatterplot = sns.scatterplot(\n",
    "    data=data.query('platform == @platform_fav'), x=\"critic_score\", y=\"user_score\", hue=\"all_sales\", size=\"all_sales\",\n",
    "    sizes=(20, 500), legend=False\n",
    ");\n",
    "scatterplot.axes.set_title(\"Диаграмма рассеяния оценок для 'PS4'\", fontsize=16)\n",
    "scatterplot.set(xlim=(50, 100), ylim=(2, 10))\n",
    "scatterplot.set_xlabel(\"Оценка критиков\", fontsize=14)\n",
    "scatterplot.set_ylabel(\"Оценка пользователей \", fontsize=14);"
   ]
  },
  {
   "cell_type": "code",
   "execution_count": null,
   "metadata": {},
   "outputs": [],
   "source": []
  },
  {
   "cell_type": "code",
   "execution_count": 74,
   "metadata": {},
   "outputs": [
    {
     "data": {
      "text/plain": [
       "<AxesSubplot:xlabel='year_of_release'>"
      ]
     },
     "execution_count": 74,
     "metadata": {},
     "output_type": "execute_result"
    },
    {
     "data": {
      "image/png": "[encoded data removed]",
      "text/plain": [
       "<Figure size 720x360 with 1 Axes>"
      ]
     },
     "metadata": {},
     "output_type": "display_data"
    }
   ],
   "source": [
    "games.query('platform==\"PS2\"').pivot_table(index='year_of_release', values='total_sales', aggfunc='sum').plot(grid=True, kind='bar',figsize=(10, 5))\n"
   ]
  },
  {
   "cell_type": "code",
   "execution_count": 106,
   "metadata": {},
   "outputs": [
    {
     "data": {
      "text/plain": [
       "year_of_release\n",
       "2000    39.17\n",
       "Name: total_sales, dtype: float64"
      ]
     },
     "execution_count": 106,
     "metadata": {},
     "output_type": "execute_result"
    }
   ],
   "source": [
    "games.query('platform==\"PS2\" and year_of_release==2000').groupby('year_of_release')['total_sales'].sum()"
   ]
  },
  {
   "cell_type": "code",
   "execution_count": 257,
   "metadata": {},
   "outputs": [
    {
     "ename": "KeyError",
     "evalue": "'sum_sales'",
     "output_type": "error",
     "traceback": [
      "\u001b[0;31m---------------------------------------------------------------------------\u001b[0m",
      "\u001b[0;31mKeyError\u001b[0m                                  Traceback (most recent call last)",
      "\u001b[0;32m/tmp/ipykernel_31/3129087945.py\u001b[0m in \u001b[0;36m<module>\u001b[0;34m\u001b[0m\n\u001b[1;32m      1\u001b[0m \u001b[0;31m# посмотрим самые популярные платформы с 1980 до 2000 года\u001b[0m\u001b[0;34m\u001b[0m\u001b[0;34m\u001b[0m\u001b[0;34m\u001b[0m\u001b[0m\n\u001b[0;32m----> 2\u001b[0;31m games.query('year_of_release<2000').pivot_table(\n\u001b[0m\u001b[1;32m      3\u001b[0m     index='platform', values='sum_sales', aggfunc=sum).plot(grid=True, kind='bar',figsize=(10, 5))\n",
      "\u001b[0;32m/opt/conda/lib/python3.9/site-packages/pandas/core/frame.py\u001b[0m in \u001b[0;36mpivot_table\u001b[0;34m(self, values, index, columns, aggfunc, fill_value, margins, dropna, margins_name, observed)\u001b[0m\n\u001b[1;32m   7029\u001b[0m         \u001b[0;32mfrom\u001b[0m \u001b[0mpandas\u001b[0m\u001b[0;34m.\u001b[0m\u001b[0mcore\u001b[0m\u001b[0;34m.\u001b[0m\u001b[0mreshape\u001b[0m\u001b[0;34m.\u001b[0m\u001b[0mpivot\u001b[0m \u001b[0;32mimport\u001b[0m \u001b[0mpivot_table\u001b[0m\u001b[0;34m\u001b[0m\u001b[0;34m\u001b[0m\u001b[0m\n\u001b[1;32m   7030\u001b[0m \u001b[0;34m\u001b[0m\u001b[0m\n\u001b[0;32m-> 7031\u001b[0;31m         return pivot_table(\n\u001b[0m\u001b[1;32m   7032\u001b[0m             \u001b[0mself\u001b[0m\u001b[0;34m,\u001b[0m\u001b[0;34m\u001b[0m\u001b[0;34m\u001b[0m\u001b[0m\n\u001b[1;32m   7033\u001b[0m             \u001b[0mvalues\u001b[0m\u001b[0;34m=\u001b[0m\u001b[0mvalues\u001b[0m\u001b[0;34m,\u001b[0m\u001b[0;34m\u001b[0m\u001b[0;34m\u001b[0m\u001b[0m\n",
      "\u001b[0;32m/opt/conda/lib/python3.9/site-packages/pandas/core/reshape/pivot.py\u001b[0m in \u001b[0;36mpivot_table\u001b[0;34m(data, values, index, columns, aggfunc, fill_value, margins, dropna, margins_name, observed)\u001b[0m\n\u001b[1;32m     87\u001b[0m         \u001b[0;32mfor\u001b[0m \u001b[0mi\u001b[0m \u001b[0;32min\u001b[0m \u001b[0mvalues\u001b[0m\u001b[0;34m:\u001b[0m\u001b[0;34m\u001b[0m\u001b[0;34m\u001b[0m\u001b[0m\n\u001b[1;32m     88\u001b[0m             \u001b[0;32mif\u001b[0m \u001b[0mi\u001b[0m \u001b[0;32mnot\u001b[0m \u001b[0;32min\u001b[0m \u001b[0mdata\u001b[0m\u001b[0;34m:\u001b[0m\u001b[0;34m\u001b[0m\u001b[0;34m\u001b[0m\u001b[0m\n\u001b[0;32m---> 89\u001b[0;31m                 \u001b[0;32mraise\u001b[0m \u001b[0mKeyError\u001b[0m\u001b[0;34m(\u001b[0m\u001b[0mi\u001b[0m\u001b[0;34m)\u001b[0m\u001b[0;34m\u001b[0m\u001b[0;34m\u001b[0m\u001b[0m\n\u001b[0m\u001b[1;32m     90\u001b[0m \u001b[0;34m\u001b[0m\u001b[0m\n\u001b[1;32m     91\u001b[0m         \u001b[0mto_filter\u001b[0m \u001b[0;34m=\u001b[0m \u001b[0;34m[\u001b[0m\u001b[0;34m]\u001b[0m\u001b[0;34m\u001b[0m\u001b[0;34m\u001b[0m\u001b[0m\n",
      "\u001b[0;31mKeyError\u001b[0m: 'sum_sales'"
     ]
    }
   ],
   "source": [
    "# посмотрим самые популярные платформы с 1980 до 2000 года\n",
    "games.query('year_of_release<2000').pivot_table(index='platform', values='sum_sales', aggfunc=sum).plot(grid=True, kind='bar',figsize=(10, 5))"
   ]
  },
  {
   "cell_type": "markdown",
   "metadata": {},
   "source": [
    "Вывод: самые популярные платформы в период с 1980 до 2000: PS, NES, GB, SNES, N64."
   ]
  },
  {
   "cell_type": "code",
   "execution_count": null,
   "metadata": {},
   "outputs": [],
   "source": []
  },
  {
   "cell_type": "markdown",
   "metadata": {},
   "source": [
    "\n",
    "Построить график «ящик с усами» по глобальным продажам игр в разбивке по платформам. Описать результат.\n",
    "Посмотреть, как влияют на продажи внутри одной популярной платформы отзывы пользователей и критиков.\n",
    "Построить диаграмму рассеяния и посчитать корреляцию между отзывами и продажами. Сформулировать выводы.\n",
    "Соотнести выводы с продажами игр на других платформах.\n",
    "Посмотреть на общее распределение игр по жанрам. Что можно сказать о самых прибыльных жанрах? Выделяются ли жанры с высокими и низкими продажами?\n",
    "4. Составить портрет пользователя каждого региона\n",
    "Определить для пользователя каждого региона (NA, EU, JP):\n",
    "\n",
    "Самые популярные платформы (топ-5). Описать различия в долях продаж.\n",
    "Самые популярные жанры (топ-5). Пояснить разницу.\n",
    "Влияет ли рейтинг ESRB на продажи в отдельном регионе?\n",
    "5. Проверить гипотезы\n",
    "Средние пользовательские рейтинги платформ Xbox One и PC одинаковые;\n",
    "Средние пользовательские рейтинги жанров Action (англ. «действие», экшен-игры) и Sports (англ. «спортивные соревнования») разные.\n",
    "Задать самостоятельно пороговое значение alpha.\n",
    "Пояснить:\n",
    "Как вы сформулировали нулевую и альтернативную гипотезы;\n",
    "Какой критерий применили для проверки гипотез и почему.\n",
    "6. Написать общий вывод"
   ]
  },
  {
   "cell_type": "code",
   "execution_count": null,
   "metadata": {},
   "outputs": [],
   "source": []
  }
 ],
 "metadata": {
  "ExecuteTimeLog": [
   {
    "duration": 4,
    "start_time": "2022-10-05T12:35:47.274Z"
   },
   {
    "duration": 1388,
    "start_time": "2022-10-05T12:36:10.146Z"
   },
   {
    "duration": 3,
    "start_time": "2022-10-05T12:47:39.471Z"
   },
   {
    "duration": 15,
    "start_time": "2022-10-05T12:48:52.205Z"
   },
   {
    "duration": 343,
    "start_time": "2022-10-05T12:51:29.771Z"
   },
   {
    "duration": 310,
    "start_time": "2022-10-05T12:52:13.434Z"
   },
   {
    "duration": 38,
    "start_time": "2022-10-05T12:52:23.096Z"
   },
   {
    "duration": 83,
    "start_time": "2022-10-05T12:52:28.036Z"
   },
   {
    "duration": 41,
    "start_time": "2022-10-05T12:53:04.468Z"
   },
   {
    "duration": 54,
    "start_time": "2022-10-05T12:58:53.448Z"
   },
   {
    "duration": 45,
    "start_time": "2022-10-05T13:00:59.947Z"
   },
   {
    "duration": 187,
    "start_time": "2022-10-05T13:01:02.232Z"
   },
   {
    "duration": 58,
    "start_time": "2022-10-05T13:01:23.082Z"
   },
   {
    "duration": 54,
    "start_time": "2022-10-05T13:01:29.825Z"
   },
   {
    "duration": 45,
    "start_time": "2022-10-05T13:01:38.454Z"
   },
   {
    "duration": 85,
    "start_time": "2022-10-05T13:02:53.148Z"
   },
   {
    "duration": 113,
    "start_time": "2022-10-05T13:03:04.226Z"
   },
   {
    "duration": 93,
    "start_time": "2022-10-05T13:03:19.344Z"
   },
   {
    "duration": 87,
    "start_time": "2022-10-05T13:03:31.175Z"
   },
   {
    "duration": 180,
    "start_time": "2022-10-05T13:04:11.099Z"
   },
   {
    "duration": 102,
    "start_time": "2022-10-05T13:06:12.352Z"
   },
   {
    "duration": 65,
    "start_time": "2022-10-05T13:07:23.866Z"
   },
   {
    "duration": 46,
    "start_time": "2022-10-05T13:07:32.619Z"
   },
   {
    "duration": 121,
    "start_time": "2022-10-05T13:11:17.594Z"
   },
   {
    "duration": 280,
    "start_time": "2022-10-05T13:12:34.388Z"
   },
   {
    "duration": 9,
    "start_time": "2022-10-05T13:12:35.180Z"
   },
   {
    "duration": 120,
    "start_time": "2022-10-05T13:12:51.222Z"
   },
   {
    "duration": 36,
    "start_time": "2022-10-05T13:13:06.820Z"
   },
   {
    "duration": 15,
    "start_time": "2022-10-05T13:16:01.004Z"
   },
   {
    "duration": 1395,
    "start_time": "2022-10-05T18:34:15.155Z"
   },
   {
    "duration": 102,
    "start_time": "2022-10-05T18:34:19.665Z"
   },
   {
    "duration": 117,
    "start_time": "2022-10-05T18:34:31.870Z"
   },
   {
    "duration": 178,
    "start_time": "2022-10-05T18:35:01.234Z"
   },
   {
    "duration": 40,
    "start_time": "2022-10-05T18:35:03.394Z"
   },
   {
    "duration": 15,
    "start_time": "2022-10-05T18:48:23.841Z"
   },
   {
    "duration": 32,
    "start_time": "2022-10-05T18:49:02.706Z"
   },
   {
    "duration": 21,
    "start_time": "2022-10-05T18:49:55.293Z"
   },
   {
    "duration": 10,
    "start_time": "2022-10-05T18:50:10.314Z"
   },
   {
    "duration": 10,
    "start_time": "2022-10-05T18:52:27.898Z"
   },
   {
    "duration": 8,
    "start_time": "2022-10-05T18:55:27.299Z"
   },
   {
    "duration": 7,
    "start_time": "2022-10-05T18:55:46.465Z"
   },
   {
    "duration": 14,
    "start_time": "2022-10-05T19:00:41.943Z"
   },
   {
    "duration": 8,
    "start_time": "2022-10-05T19:03:47.177Z"
   },
   {
    "duration": 15,
    "start_time": "2022-10-05T19:04:05.365Z"
   },
   {
    "duration": 10,
    "start_time": "2022-10-05T19:08:22.429Z"
   },
   {
    "duration": 4,
    "start_time": "2022-10-05T19:33:32.523Z"
   },
   {
    "duration": 18,
    "start_time": "2022-10-05T19:33:41.434Z"
   },
   {
    "duration": 20,
    "start_time": "2022-10-05T19:33:58.101Z"
   },
   {
    "duration": 20,
    "start_time": "2022-10-05T19:34:09.768Z"
   },
   {
    "duration": 9,
    "start_time": "2022-10-05T20:03:03.439Z"
   },
   {
    "duration": 6,
    "start_time": "2022-10-05T20:03:11.558Z"
   },
   {
    "duration": 20,
    "start_time": "2022-10-05T20:03:26.308Z"
   },
   {
    "duration": 3,
    "start_time": "2022-10-05T20:03:34.573Z"
   },
   {
    "duration": 5,
    "start_time": "2022-10-05T20:03:36.187Z"
   },
   {
    "duration": 1301,
    "start_time": "2022-10-05T20:04:05.157Z"
   },
   {
    "duration": 202,
    "start_time": "2022-10-05T20:04:06.460Z"
   },
   {
    "duration": 36,
    "start_time": "2022-10-05T20:04:06.664Z"
   },
   {
    "duration": 22,
    "start_time": "2022-10-05T20:04:06.702Z"
   },
   {
    "duration": 4,
    "start_time": "2022-10-05T20:04:14.897Z"
   },
   {
    "duration": 1120,
    "start_time": "2022-10-05T20:04:36.341Z"
   },
   {
    "duration": 136,
    "start_time": "2022-10-05T20:04:37.462Z"
   },
   {
    "duration": 34,
    "start_time": "2022-10-05T20:04:37.600Z"
   },
   {
    "duration": 20,
    "start_time": "2022-10-05T20:04:37.636Z"
   },
   {
    "duration": 3,
    "start_time": "2022-10-05T20:04:42.231Z"
   },
   {
    "duration": 23,
    "start_time": "2022-10-05T20:04:42.740Z"
   },
   {
    "duration": 17,
    "start_time": "2022-10-05T20:06:09.259Z"
   },
   {
    "duration": 117,
    "start_time": "2022-10-05T20:09:20.083Z"
   },
   {
    "duration": 6,
    "start_time": "2022-10-05T20:11:04.860Z"
   },
   {
    "duration": 20,
    "start_time": "2022-10-05T20:11:12.850Z"
   },
   {
    "duration": 14,
    "start_time": "2022-10-05T20:11:27.598Z"
   },
   {
    "duration": 119,
    "start_time": "2022-10-05T20:14:21.763Z"
   },
   {
    "duration": 18,
    "start_time": "2022-10-05T20:15:02.167Z"
   },
   {
    "duration": 11,
    "start_time": "2022-10-05T20:16:42.214Z"
   },
   {
    "duration": 5,
    "start_time": "2022-10-05T20:17:24.985Z"
   },
   {
    "duration": 24,
    "start_time": "2022-10-05T20:18:12.479Z"
   },
   {
    "duration": 18,
    "start_time": "2022-10-05T20:22:20.774Z"
   },
   {
    "duration": 15,
    "start_time": "2022-10-05T20:22:33.758Z"
   },
   {
    "duration": 22,
    "start_time": "2022-10-05T20:22:53.190Z"
   },
   {
    "duration": 24,
    "start_time": "2022-10-05T20:23:13.589Z"
   },
   {
    "duration": 14,
    "start_time": "2022-10-05T20:25:38.605Z"
   },
   {
    "duration": 47,
    "start_time": "2022-10-06T06:57:43.401Z"
   },
   {
    "duration": 1254,
    "start_time": "2022-10-06T06:58:28.337Z"
   },
   {
    "duration": 67,
    "start_time": "2022-10-06T06:58:34.482Z"
   },
   {
    "duration": 158,
    "start_time": "2022-10-06T06:58:53.247Z"
   },
   {
    "duration": 36,
    "start_time": "2022-10-06T06:58:53.943Z"
   },
   {
    "duration": 20,
    "start_time": "2022-10-06T06:58:54.511Z"
   },
   {
    "duration": 14,
    "start_time": "2022-10-06T06:58:56.359Z"
   },
   {
    "duration": 13,
    "start_time": "2022-10-06T06:58:57.982Z"
   },
   {
    "duration": 689,
    "start_time": "2022-10-06T06:59:40.102Z"
   },
   {
    "duration": 131,
    "start_time": "2022-10-06T07:00:18.624Z"
   },
   {
    "duration": 627,
    "start_time": "2022-10-06T07:05:06.637Z"
   },
   {
    "duration": 960,
    "start_time": "2022-10-06T07:05:13.316Z"
   },
   {
    "duration": 936,
    "start_time": "2022-10-06T07:05:48.912Z"
   },
   {
    "duration": 1081,
    "start_time": "2022-10-06T07:06:51.493Z"
   },
   {
    "duration": 1006,
    "start_time": "2022-10-06T07:07:06.770Z"
   },
   {
    "duration": 943,
    "start_time": "2022-10-06T07:20:22.222Z"
   },
   {
    "duration": 213,
    "start_time": "2022-10-06T07:21:04.605Z"
   },
   {
    "duration": 75,
    "start_time": "2022-10-06T07:21:39.831Z"
   },
   {
    "duration": 134,
    "start_time": "2022-10-06T07:21:44.705Z"
   },
   {
    "duration": 194,
    "start_time": "2022-10-06T07:22:08.309Z"
   },
   {
    "duration": 227,
    "start_time": "2022-10-06T07:22:38.719Z"
   },
   {
    "duration": 987,
    "start_time": "2022-10-06T07:23:04.745Z"
   },
   {
    "duration": 9,
    "start_time": "2022-10-06T07:24:05.293Z"
   },
   {
    "duration": 15,
    "start_time": "2022-10-06T07:24:14.988Z"
   },
   {
    "duration": 23,
    "start_time": "2022-10-06T07:24:43.485Z"
   },
   {
    "duration": 23,
    "start_time": "2022-10-06T07:24:47.851Z"
   },
   {
    "duration": 7,
    "start_time": "2022-10-06T07:25:34.325Z"
   },
   {
    "duration": 7,
    "start_time": "2022-10-06T07:26:15.461Z"
   },
   {
    "duration": 21,
    "start_time": "2022-10-06T07:26:43.208Z"
   },
   {
    "duration": 15,
    "start_time": "2022-10-06T07:26:50.019Z"
   },
   {
    "duration": 83,
    "start_time": "2022-10-06T07:27:39.333Z"
   },
   {
    "duration": 22,
    "start_time": "2022-10-06T07:27:43.158Z"
   },
   {
    "duration": 12,
    "start_time": "2022-10-06T07:28:32.413Z"
   },
   {
    "duration": 16,
    "start_time": "2022-10-06T07:28:52.042Z"
   },
   {
    "duration": 14,
    "start_time": "2022-10-06T07:29:20.257Z"
   },
   {
    "duration": 22,
    "start_time": "2022-10-06T07:29:24.354Z"
   },
   {
    "duration": 914,
    "start_time": "2022-10-06T07:31:53.122Z"
   },
   {
    "duration": 924,
    "start_time": "2022-10-06T07:32:02.768Z"
   },
   {
    "duration": 964,
    "start_time": "2022-10-06T07:32:09.029Z"
   },
   {
    "duration": 939,
    "start_time": "2022-10-06T07:32:36.035Z"
   },
   {
    "duration": 950,
    "start_time": "2022-10-06T07:32:42.218Z"
   },
   {
    "duration": 946,
    "start_time": "2022-10-06T07:33:13.407Z"
   },
   {
    "duration": 961,
    "start_time": "2022-10-06T07:33:21.716Z"
   },
   {
    "duration": 909,
    "start_time": "2022-10-06T07:33:42.386Z"
   },
   {
    "duration": 895,
    "start_time": "2022-10-06T07:33:51.995Z"
   },
   {
    "duration": 8,
    "start_time": "2022-10-06T07:48:49.314Z"
   },
   {
    "duration": 23,
    "start_time": "2022-10-06T07:48:59.140Z"
   },
   {
    "duration": 14,
    "start_time": "2022-10-06T07:49:22.313Z"
   },
   {
    "duration": 8,
    "start_time": "2022-10-06T07:49:49.787Z"
   },
   {
    "duration": 9,
    "start_time": "2022-10-06T07:49:55.268Z"
   },
   {
    "duration": 22,
    "start_time": "2022-10-06T07:50:10.075Z"
   },
   {
    "duration": 12,
    "start_time": "2022-10-06T07:53:55.706Z"
   },
   {
    "duration": 8,
    "start_time": "2022-10-06T08:01:01.859Z"
   },
   {
    "duration": 18,
    "start_time": "2022-10-06T08:01:26.453Z"
   },
   {
    "duration": 7,
    "start_time": "2022-10-06T08:02:31.070Z"
   },
   {
    "duration": 6,
    "start_time": "2022-10-06T08:05:28.063Z"
   },
   {
    "duration": 17,
    "start_time": "2022-10-06T08:05:34.706Z"
   },
   {
    "duration": 10,
    "start_time": "2022-10-06T08:06:36.333Z"
   },
   {
    "duration": 19,
    "start_time": "2022-10-06T08:06:39.318Z"
   },
   {
    "duration": 7,
    "start_time": "2022-10-06T08:08:17.699Z"
   },
   {
    "duration": 16,
    "start_time": "2022-10-06T08:08:28.524Z"
   },
   {
    "duration": 15,
    "start_time": "2022-10-06T08:09:24.892Z"
   },
   {
    "duration": 56,
    "start_time": "2022-10-06T08:12:49.590Z"
   },
   {
    "duration": 956,
    "start_time": "2022-10-06T08:14:31.346Z"
   },
   {
    "duration": 1193,
    "start_time": "2022-10-06T08:14:51.984Z"
   },
   {
    "duration": 131,
    "start_time": "2022-10-06T08:14:53.179Z"
   },
   {
    "duration": 36,
    "start_time": "2022-10-06T08:14:53.312Z"
   },
   {
    "duration": 34,
    "start_time": "2022-10-06T08:14:53.350Z"
   },
   {
    "duration": 14,
    "start_time": "2022-10-06T08:14:53.386Z"
   },
   {
    "duration": 21,
    "start_time": "2022-10-06T08:14:53.402Z"
   },
   {
    "duration": 659,
    "start_time": "2022-10-06T08:14:53.425Z"
   },
   {
    "duration": 1030,
    "start_time": "2022-10-06T08:14:59.711Z"
   },
   {
    "duration": 7,
    "start_time": "2022-10-06T08:16:09.237Z"
   },
   {
    "duration": 12,
    "start_time": "2022-10-06T08:16:15.233Z"
   },
   {
    "duration": 8,
    "start_time": "2022-10-06T08:17:03.188Z"
   },
   {
    "duration": 129,
    "start_time": "2022-10-06T08:17:13.688Z"
   },
   {
    "duration": 14,
    "start_time": "2022-10-06T08:17:32.721Z"
   },
   {
    "duration": 6,
    "start_time": "2022-10-06T08:17:52.461Z"
   },
   {
    "duration": 49,
    "start_time": "2022-10-06T10:01:25.631Z"
   },
   {
    "duration": 1259,
    "start_time": "2022-10-06T10:01:34.397Z"
   },
   {
    "duration": 326,
    "start_time": "2022-10-06T10:01:35.658Z"
   },
   {
    "duration": 37,
    "start_time": "2022-10-06T10:01:35.985Z"
   },
   {
    "duration": 20,
    "start_time": "2022-10-06T10:01:36.024Z"
   },
   {
    "duration": 16,
    "start_time": "2022-10-06T10:01:36.045Z"
   },
   {
    "duration": 14,
    "start_time": "2022-10-06T10:01:36.364Z"
   },
   {
    "duration": 7,
    "start_time": "2022-10-06T10:01:37.007Z"
   },
   {
    "duration": 702,
    "start_time": "2022-10-06T10:01:38.262Z"
   },
   {
    "duration": 896,
    "start_time": "2022-10-06T10:01:41.348Z"
   },
   {
    "duration": 5,
    "start_time": "2022-10-06T10:01:45.981Z"
   },
   {
    "duration": 66,
    "start_time": "2022-10-06T10:02:01.425Z"
   },
   {
    "duration": 21,
    "start_time": "2022-10-06T10:02:32.262Z"
   },
   {
    "duration": 7,
    "start_time": "2022-10-06T11:32:52.943Z"
   },
   {
    "duration": 9,
    "start_time": "2022-10-06T11:33:01.400Z"
   },
   {
    "duration": 14,
    "start_time": "2022-10-06T11:33:04.468Z"
   },
   {
    "duration": 3,
    "start_time": "2022-10-06T11:33:22.899Z"
   },
   {
    "duration": 19,
    "start_time": "2022-10-06T11:33:26.876Z"
   },
   {
    "duration": 12,
    "start_time": "2022-10-06T11:33:34.132Z"
   },
   {
    "duration": 14,
    "start_time": "2022-10-06T11:37:10.562Z"
   },
   {
    "duration": 10,
    "start_time": "2022-10-06T11:37:18.595Z"
   },
   {
    "duration": 22,
    "start_time": "2022-10-06T11:37:35.462Z"
   },
   {
    "duration": 21,
    "start_time": "2022-10-06T11:38:02.305Z"
   },
   {
    "duration": 25,
    "start_time": "2022-10-06T11:38:17.150Z"
   },
   {
    "duration": 15,
    "start_time": "2022-10-06T11:38:30.698Z"
   },
   {
    "duration": 15,
    "start_time": "2022-10-06T11:38:43.066Z"
   },
   {
    "duration": 16,
    "start_time": "2022-10-06T11:38:46.817Z"
   },
   {
    "duration": 25,
    "start_time": "2022-10-06T11:38:54.393Z"
   },
   {
    "duration": 14,
    "start_time": "2022-10-06T11:38:54.883Z"
   },
   {
    "duration": 5,
    "start_time": "2022-10-06T11:41:25.056Z"
   },
   {
    "duration": 23,
    "start_time": "2022-10-06T11:41:25.063Z"
   },
   {
    "duration": 16,
    "start_time": "2022-10-06T11:41:25.088Z"
   },
   {
    "duration": 8,
    "start_time": "2022-10-06T11:50:56.459Z"
   },
   {
    "duration": 16,
    "start_time": "2022-10-06T11:51:00.511Z"
   },
   {
    "duration": 0,
    "start_time": "2022-10-06T11:53:15.726Z"
   },
   {
    "duration": 0,
    "start_time": "2022-10-06T11:53:15.727Z"
   },
   {
    "duration": 0,
    "start_time": "2022-10-06T11:53:15.727Z"
   },
   {
    "duration": 0,
    "start_time": "2022-10-06T11:53:15.728Z"
   },
   {
    "duration": 0,
    "start_time": "2022-10-06T11:53:15.729Z"
   },
   {
    "duration": 0,
    "start_time": "2022-10-06T11:53:15.730Z"
   },
   {
    "duration": 0,
    "start_time": "2022-10-06T11:53:15.731Z"
   },
   {
    "duration": 0,
    "start_time": "2022-10-06T11:53:15.738Z"
   },
   {
    "duration": 0,
    "start_time": "2022-10-06T11:53:15.739Z"
   },
   {
    "duration": 0,
    "start_time": "2022-10-06T11:53:15.740Z"
   },
   {
    "duration": 0,
    "start_time": "2022-10-06T11:53:15.740Z"
   },
   {
    "duration": 0,
    "start_time": "2022-10-06T11:53:15.741Z"
   },
   {
    "duration": 0,
    "start_time": "2022-10-06T11:53:15.742Z"
   },
   {
    "duration": 0,
    "start_time": "2022-10-06T11:53:15.743Z"
   },
   {
    "duration": 0,
    "start_time": "2022-10-06T11:53:15.744Z"
   },
   {
    "duration": 0,
    "start_time": "2022-10-06T11:53:15.745Z"
   },
   {
    "duration": 0,
    "start_time": "2022-10-06T11:53:15.746Z"
   },
   {
    "duration": 0,
    "start_time": "2022-10-06T11:53:15.747Z"
   },
   {
    "duration": 0,
    "start_time": "2022-10-06T11:53:15.748Z"
   },
   {
    "duration": 0,
    "start_time": "2022-10-06T11:53:15.749Z"
   },
   {
    "duration": 0,
    "start_time": "2022-10-06T11:53:15.749Z"
   },
   {
    "duration": 0,
    "start_time": "2022-10-06T11:53:15.750Z"
   },
   {
    "duration": 1247,
    "start_time": "2022-10-06T11:53:57.906Z"
   },
   {
    "duration": 199,
    "start_time": "2022-10-06T11:53:59.155Z"
   },
   {
    "duration": 34,
    "start_time": "2022-10-06T11:53:59.356Z"
   },
   {
    "duration": 20,
    "start_time": "2022-10-06T11:53:59.392Z"
   },
   {
    "duration": 35,
    "start_time": "2022-10-06T11:53:59.413Z"
   },
   {
    "duration": 18,
    "start_time": "2022-10-06T11:53:59.450Z"
   },
   {
    "duration": 9,
    "start_time": "2022-10-06T11:53:59.469Z"
   },
   {
    "duration": 658,
    "start_time": "2022-10-06T11:53:59.480Z"
   },
   {
    "duration": 6,
    "start_time": "2022-10-06T11:54:00.140Z"
   },
   {
    "duration": 45,
    "start_time": "2022-10-06T11:54:00.149Z"
   },
   {
    "duration": 19,
    "start_time": "2022-10-06T11:54:00.196Z"
   },
   {
    "duration": 18,
    "start_time": "2022-10-06T11:54:00.217Z"
   },
   {
    "duration": 26,
    "start_time": "2022-10-06T11:54:00.237Z"
   },
   {
    "duration": 6,
    "start_time": "2022-10-06T11:54:00.265Z"
   },
   {
    "duration": 41,
    "start_time": "2022-10-06T11:54:00.273Z"
   },
   {
    "duration": 11,
    "start_time": "2022-10-06T11:54:00.316Z"
   },
   {
    "duration": 31,
    "start_time": "2022-10-06T11:54:00.339Z"
   },
   {
    "duration": 12,
    "start_time": "2022-10-06T11:54:00.372Z"
   },
   {
    "duration": 30,
    "start_time": "2022-10-06T11:54:00.386Z"
   },
   {
    "duration": 19,
    "start_time": "2022-10-06T11:54:00.418Z"
   },
   {
    "duration": 40,
    "start_time": "2022-10-06T11:54:00.439Z"
   },
   {
    "duration": 88,
    "start_time": "2022-10-06T11:54:00.481Z"
   },
   {
    "duration": 931,
    "start_time": "2022-10-06T11:54:05.935Z"
   },
   {
    "duration": 71,
    "start_time": "2022-10-06T11:59:00.579Z"
   },
   {
    "duration": 9,
    "start_time": "2022-10-06T11:59:04.816Z"
   },
   {
    "duration": 8,
    "start_time": "2022-10-06T11:59:10.173Z"
   },
   {
    "duration": 15,
    "start_time": "2022-10-06T11:59:16.190Z"
   },
   {
    "duration": 9,
    "start_time": "2022-10-06T12:00:54.201Z"
   },
   {
    "duration": 21,
    "start_time": "2022-10-06T12:01:18.914Z"
   },
   {
    "duration": 1092,
    "start_time": "2022-10-06T12:01:45.462Z"
   },
   {
    "duration": 150,
    "start_time": "2022-10-06T12:01:46.556Z"
   },
   {
    "duration": 39,
    "start_time": "2022-10-06T12:01:46.708Z"
   },
   {
    "duration": 21,
    "start_time": "2022-10-06T12:01:52.127Z"
   },
   {
    "duration": 21,
    "start_time": "2022-10-06T12:01:57.795Z"
   },
   {
    "duration": 16,
    "start_time": "2022-10-06T12:03:08.332Z"
   },
   {
    "duration": 13,
    "start_time": "2022-10-06T12:03:08.740Z"
   },
   {
    "duration": 9,
    "start_time": "2022-10-06T12:03:08.959Z"
   },
   {
    "duration": 601,
    "start_time": "2022-10-06T12:03:09.341Z"
   },
   {
    "duration": 8,
    "start_time": "2022-10-06T12:03:09.945Z"
   },
   {
    "duration": 10,
    "start_time": "2022-10-06T12:03:10.100Z"
   },
   {
    "duration": 11,
    "start_time": "2022-10-06T12:03:10.308Z"
   },
   {
    "duration": 15,
    "start_time": "2022-10-06T12:03:10.852Z"
   },
   {
    "duration": 18,
    "start_time": "2022-10-06T12:03:11.037Z"
   },
   {
    "duration": 5,
    "start_time": "2022-10-06T12:03:11.220Z"
   },
   {
    "duration": 21,
    "start_time": "2022-10-06T12:03:11.611Z"
   },
   {
    "duration": 12,
    "start_time": "2022-10-06T12:03:11.806Z"
   },
   {
    "duration": 20,
    "start_time": "2022-10-06T12:03:12.252Z"
   },
   {
    "duration": 961,
    "start_time": "2022-10-06T12:03:19.364Z"
   },
   {
    "duration": 5,
    "start_time": "2022-10-06T12:06:15.618Z"
   },
   {
    "duration": 5,
    "start_time": "2022-10-06T12:07:53.941Z"
   },
   {
    "duration": 5,
    "start_time": "2022-10-06T12:07:54.841Z"
   },
   {
    "duration": 5,
    "start_time": "2022-10-06T12:11:30.032Z"
   },
   {
    "duration": 15,
    "start_time": "2022-10-06T12:11:32.954Z"
   },
   {
    "duration": 22,
    "start_time": "2022-10-06T12:13:18.288Z"
   },
   {
    "duration": 127,
    "start_time": "2022-10-06T12:21:47.067Z"
   },
   {
    "duration": 9,
    "start_time": "2022-10-06T12:21:53.976Z"
   },
   {
    "duration": 7,
    "start_time": "2022-10-06T12:22:15.596Z"
   },
   {
    "duration": 12,
    "start_time": "2022-10-06T12:22:48.268Z"
   },
   {
    "duration": 16,
    "start_time": "2022-10-06T12:23:07.311Z"
   },
   {
    "duration": 17,
    "start_time": "2022-10-06T12:23:19.728Z"
   },
   {
    "duration": 460,
    "start_time": "2022-10-06T12:24:45.708Z"
   },
   {
    "duration": 439,
    "start_time": "2022-10-06T12:25:28.963Z"
   },
   {
    "duration": 614,
    "start_time": "2022-10-06T12:26:38.291Z"
   },
   {
    "duration": 468,
    "start_time": "2022-10-06T12:28:50.166Z"
   },
   {
    "duration": 505,
    "start_time": "2022-10-06T12:29:41.610Z"
   },
   {
    "duration": 509,
    "start_time": "2022-10-06T12:29:49.506Z"
   },
   {
    "duration": 518,
    "start_time": "2022-10-06T12:29:54.563Z"
   },
   {
    "duration": 481,
    "start_time": "2022-10-06T12:30:00.013Z"
   },
   {
    "duration": 703,
    "start_time": "2022-10-06T12:30:04.268Z"
   },
   {
    "duration": 475,
    "start_time": "2022-10-06T12:30:13.767Z"
   },
   {
    "duration": 433,
    "start_time": "2022-10-06T12:30:45.351Z"
   },
   {
    "duration": 442,
    "start_time": "2022-10-06T12:31:21.024Z"
   },
   {
    "duration": 429,
    "start_time": "2022-10-06T12:31:33.996Z"
   },
   {
    "duration": 570,
    "start_time": "2022-10-06T12:31:40.933Z"
   },
   {
    "duration": 486,
    "start_time": "2022-10-06T12:31:50.118Z"
   },
   {
    "duration": 444,
    "start_time": "2022-10-06T12:32:04.764Z"
   },
   {
    "duration": 44,
    "start_time": "2022-10-06T12:38:59.954Z"
   },
   {
    "duration": 22,
    "start_time": "2022-10-06T12:40:39.941Z"
   },
   {
    "duration": 8,
    "start_time": "2022-10-06T12:41:01.065Z"
   },
   {
    "duration": 9,
    "start_time": "2022-10-06T12:41:15.608Z"
   },
   {
    "duration": 8,
    "start_time": "2022-10-06T12:41:34.252Z"
   },
   {
    "duration": 9,
    "start_time": "2022-10-06T12:41:53.098Z"
   },
   {
    "duration": 9,
    "start_time": "2022-10-06T12:41:59.570Z"
   },
   {
    "duration": 8,
    "start_time": "2022-10-06T12:42:26.041Z"
   },
   {
    "duration": 6,
    "start_time": "2022-10-06T12:42:49.606Z"
   },
   {
    "duration": 8,
    "start_time": "2022-10-06T12:42:55.282Z"
   },
   {
    "duration": 8,
    "start_time": "2022-10-06T12:43:12.885Z"
   },
   {
    "duration": 8,
    "start_time": "2022-10-06T12:43:38.954Z"
   },
   {
    "duration": 8,
    "start_time": "2022-10-06T12:44:56.040Z"
   },
   {
    "duration": 264,
    "start_time": "2022-10-06T12:46:58.457Z"
   },
   {
    "duration": 227,
    "start_time": "2022-10-06T12:47:09.971Z"
   },
   {
    "duration": 381,
    "start_time": "2022-10-06T12:49:43.949Z"
   },
   {
    "duration": 406,
    "start_time": "2022-10-06T12:49:56.707Z"
   },
   {
    "duration": 464,
    "start_time": "2022-10-06T12:50:12.208Z"
   },
   {
    "duration": 376,
    "start_time": "2022-10-06T12:50:23.033Z"
   },
   {
    "duration": 380,
    "start_time": "2022-10-06T12:50:29.290Z"
   },
   {
    "duration": 389,
    "start_time": "2022-10-06T12:50:36.378Z"
   },
   {
    "duration": 405,
    "start_time": "2022-10-06T12:50:44.408Z"
   },
   {
    "duration": 477,
    "start_time": "2022-10-06T12:50:50.093Z"
   },
   {
    "duration": 384,
    "start_time": "2022-10-06T12:50:58.655Z"
   },
   {
    "duration": 221,
    "start_time": "2022-10-06T12:51:23.938Z"
   },
   {
    "duration": 57,
    "start_time": "2022-10-06T12:51:35.622Z"
   },
   {
    "duration": 195,
    "start_time": "2022-10-06T12:51:44.920Z"
   },
   {
    "duration": 192,
    "start_time": "2022-10-06T12:52:00.351Z"
   },
   {
    "duration": 172,
    "start_time": "2022-10-06T12:52:06.629Z"
   },
   {
    "duration": 234,
    "start_time": "2022-10-06T12:52:12.597Z"
   },
   {
    "duration": 170,
    "start_time": "2022-10-06T12:52:19.127Z"
   },
   {
    "duration": 177,
    "start_time": "2022-10-06T12:52:23.760Z"
   },
   {
    "duration": 10,
    "start_time": "2022-10-06T12:52:44.350Z"
   },
   {
    "duration": 8,
    "start_time": "2022-10-06T12:52:54.510Z"
   },
   {
    "duration": 50,
    "start_time": "2022-10-07T08:12:59.498Z"
   },
   {
    "duration": 1274,
    "start_time": "2022-10-07T08:13:09.227Z"
   },
   {
    "duration": 217,
    "start_time": "2022-10-07T08:13:10.503Z"
   },
   {
    "duration": 33,
    "start_time": "2022-10-07T08:13:10.721Z"
   },
   {
    "duration": 17,
    "start_time": "2022-10-07T08:13:10.756Z"
   },
   {
    "duration": 11,
    "start_time": "2022-10-07T08:13:10.776Z"
   },
   {
    "duration": 28,
    "start_time": "2022-10-07T08:13:10.789Z"
   },
   {
    "duration": 6,
    "start_time": "2022-10-07T08:13:10.819Z"
   },
   {
    "duration": 691,
    "start_time": "2022-10-07T08:13:10.826Z"
   },
   {
    "duration": 7,
    "start_time": "2022-10-07T08:13:11.519Z"
   },
   {
    "duration": 10,
    "start_time": "2022-10-07T08:13:11.528Z"
   },
   {
    "duration": 10,
    "start_time": "2022-10-07T08:13:11.540Z"
   },
   {
    "duration": 10,
    "start_time": "2022-10-07T08:13:11.551Z"
   },
   {
    "duration": 14,
    "start_time": "2022-10-07T08:13:11.563Z"
   },
   {
    "duration": 14,
    "start_time": "2022-10-07T08:13:11.580Z"
   },
   {
    "duration": 23,
    "start_time": "2022-10-07T08:13:11.596Z"
   },
   {
    "duration": 24,
    "start_time": "2022-10-07T08:13:11.620Z"
   },
   {
    "duration": 7,
    "start_time": "2022-10-07T08:13:11.646Z"
   },
   {
    "duration": 18,
    "start_time": "2022-10-07T08:13:11.654Z"
   },
   {
    "duration": 35,
    "start_time": "2022-10-07T08:13:11.674Z"
   },
   {
    "duration": 22,
    "start_time": "2022-10-07T08:13:11.711Z"
   },
   {
    "duration": 22,
    "start_time": "2022-10-07T08:13:11.734Z"
   },
   {
    "duration": 15,
    "start_time": "2022-10-07T08:13:11.758Z"
   },
   {
    "duration": 394,
    "start_time": "2022-10-07T08:13:11.775Z"
   },
   {
    "duration": 183,
    "start_time": "2022-10-07T08:13:12.171Z"
   },
   {
    "duration": 13,
    "start_time": "2022-10-07T08:13:12.356Z"
   },
   {
    "duration": 6,
    "start_time": "2022-10-07T08:13:12.371Z"
   },
   {
    "duration": 84,
    "start_time": "2022-10-07T08:13:12.379Z"
   },
   {
    "duration": 10,
    "start_time": "2022-10-07T08:15:24.592Z"
   },
   {
    "duration": 9,
    "start_time": "2022-10-07T08:15:40.215Z"
   },
   {
    "duration": 145,
    "start_time": "2022-10-07T08:16:17.629Z"
   },
   {
    "duration": 142,
    "start_time": "2022-10-07T08:17:21.370Z"
   },
   {
    "duration": 141,
    "start_time": "2022-10-07T08:17:43.127Z"
   },
   {
    "duration": 207,
    "start_time": "2022-10-07T08:17:58.476Z"
   },
   {
    "duration": 19,
    "start_time": "2022-10-07T08:18:50.846Z"
   },
   {
    "duration": 14,
    "start_time": "2022-10-07T08:24:12.604Z"
   },
   {
    "duration": 24,
    "start_time": "2022-10-07T08:24:42.732Z"
   },
   {
    "duration": 18,
    "start_time": "2022-10-07T08:25:13.663Z"
   },
   {
    "duration": 87,
    "start_time": "2022-10-07T08:25:39.989Z"
   },
   {
    "duration": 65,
    "start_time": "2022-10-07T08:26:00.387Z"
   },
   {
    "duration": 16,
    "start_time": "2022-10-07T08:26:22.275Z"
   },
   {
    "duration": 74,
    "start_time": "2022-10-07T08:27:19.734Z"
   },
   {
    "duration": 20,
    "start_time": "2022-10-07T08:27:35.477Z"
   },
   {
    "duration": 1072,
    "start_time": "2022-10-07T08:28:22.632Z"
   },
   {
    "duration": 159,
    "start_time": "2022-10-07T08:28:23.706Z"
   },
   {
    "duration": 36,
    "start_time": "2022-10-07T08:28:23.867Z"
   },
   {
    "duration": 18,
    "start_time": "2022-10-07T08:28:24.038Z"
   },
   {
    "duration": 959,
    "start_time": "2022-10-07T08:29:15.457Z"
   },
   {
    "duration": 13,
    "start_time": "2022-10-07T08:29:22.251Z"
   },
   {
    "duration": 5,
    "start_time": "2022-10-07T08:29:26.299Z"
   },
   {
    "duration": 18,
    "start_time": "2022-10-07T08:30:03.699Z"
   },
   {
    "duration": 9,
    "start_time": "2022-10-07T08:30:03.898Z"
   },
   {
    "duration": 604,
    "start_time": "2022-10-07T08:30:04.490Z"
   },
   {
    "duration": 12,
    "start_time": "2022-10-07T08:30:05.097Z"
   },
   {
    "duration": 16,
    "start_time": "2022-10-07T08:30:05.110Z"
   },
   {
    "duration": 5,
    "start_time": "2022-10-07T08:30:05.291Z"
   },
   {
    "duration": 4,
    "start_time": "2022-10-07T08:30:05.494Z"
   },
   {
    "duration": 8,
    "start_time": "2022-10-07T08:30:05.730Z"
   },
   {
    "duration": 11,
    "start_time": "2022-10-07T08:30:06.156Z"
   },
   {
    "duration": 14,
    "start_time": "2022-10-07T08:30:06.996Z"
   },
   {
    "duration": 16,
    "start_time": "2022-10-07T08:30:07.453Z"
   },
   {
    "duration": 5,
    "start_time": "2022-10-07T08:30:07.720Z"
   },
   {
    "duration": 16,
    "start_time": "2022-10-07T08:30:08.158Z"
   },
   {
    "duration": 11,
    "start_time": "2022-10-07T08:30:08.587Z"
   },
   {
    "duration": 20,
    "start_time": "2022-10-07T08:30:08.771Z"
   },
   {
    "duration": 22,
    "start_time": "2022-10-07T08:30:09.722Z"
   },
   {
    "duration": 14,
    "start_time": "2022-10-07T08:30:10.091Z"
   },
   {
    "duration": 382,
    "start_time": "2022-10-07T08:30:18.446Z"
   },
   {
    "duration": 171,
    "start_time": "2022-10-07T08:30:19.916Z"
   },
   {
    "duration": 14,
    "start_time": "2022-10-07T08:30:23.969Z"
   },
   {
    "duration": 5,
    "start_time": "2022-10-07T08:30:24.617Z"
   },
   {
    "duration": 19,
    "start_time": "2022-10-07T08:30:31.579Z"
   },
   {
    "duration": 828,
    "start_time": "2022-10-07T08:30:53.789Z"
   },
   {
    "duration": 1284,
    "start_time": "2022-10-07T08:31:18.514Z"
   },
   {
    "duration": 194,
    "start_time": "2022-10-07T08:31:31.335Z"
   },
   {
    "duration": 19,
    "start_time": "2022-10-07T08:37:32.979Z"
   },
   {
    "duration": 163,
    "start_time": "2022-10-07T08:43:40.695Z"
   },
   {
    "duration": 29,
    "start_time": "2022-10-07T08:46:19.272Z"
   },
   {
    "duration": 26,
    "start_time": "2022-10-07T08:47:08.430Z"
   },
   {
    "duration": 27,
    "start_time": "2022-10-07T08:47:43.806Z"
   },
   {
    "duration": 52,
    "start_time": "2022-10-07T08:47:51.109Z"
   },
   {
    "duration": 13,
    "start_time": "2022-10-07T08:48:20.919Z"
   },
   {
    "duration": 13,
    "start_time": "2022-10-07T08:48:24.073Z"
   },
   {
    "duration": 14,
    "start_time": "2022-10-07T08:48:43.050Z"
   },
   {
    "duration": 10,
    "start_time": "2022-10-07T08:48:59.124Z"
   },
   {
    "duration": 147,
    "start_time": "2022-10-07T08:49:17.565Z"
   },
   {
    "duration": 150,
    "start_time": "2022-10-07T08:49:52.384Z"
   },
   {
    "duration": 13,
    "start_time": "2022-10-07T08:50:18.371Z"
   },
   {
    "duration": 14,
    "start_time": "2022-10-07T08:50:41.485Z"
   },
   {
    "duration": 13,
    "start_time": "2022-10-07T08:50:44.435Z"
   },
   {
    "duration": 238,
    "start_time": "2022-10-07T08:50:53.870Z"
   },
   {
    "duration": 177,
    "start_time": "2022-10-07T08:52:03.534Z"
   },
   {
    "duration": 9,
    "start_time": "2022-10-07T08:53:34.211Z"
   },
   {
    "duration": 141,
    "start_time": "2022-10-07T08:53:53.263Z"
   },
   {
    "duration": 178,
    "start_time": "2022-10-07T08:53:58.633Z"
   },
   {
    "duration": 181,
    "start_time": "2022-10-07T08:54:15.332Z"
   },
   {
    "duration": 203,
    "start_time": "2022-10-07T08:54:21.812Z"
   },
   {
    "duration": 211,
    "start_time": "2022-10-07T08:54:29.503Z"
   },
   {
    "duration": 70,
    "start_time": "2022-10-07T08:55:35.761Z"
   },
   {
    "duration": 185,
    "start_time": "2022-10-07T08:55:48.361Z"
   },
   {
    "duration": 36,
    "start_time": "2022-10-07T08:55:54.570Z"
   },
   {
    "duration": 49,
    "start_time": "2022-10-07T08:56:27.994Z"
   },
   {
    "duration": 90,
    "start_time": "2022-10-07T08:57:59.795Z"
   },
   {
    "duration": 49,
    "start_time": "2022-10-07T08:58:10.600Z"
   },
   {
    "duration": 48,
    "start_time": "2022-10-07T08:58:39.588Z"
   },
   {
    "duration": 11,
    "start_time": "2022-10-07T08:58:41.170Z"
   },
   {
    "duration": 55,
    "start_time": "2022-10-07T08:58:59.241Z"
   },
   {
    "duration": 20,
    "start_time": "2022-10-07T08:59:06.883Z"
   },
   {
    "duration": 67,
    "start_time": "2022-10-07T08:59:24.017Z"
   },
   {
    "duration": 48,
    "start_time": "2022-10-07T08:59:31.400Z"
   },
   {
    "duration": 9,
    "start_time": "2022-10-07T08:59:33.128Z"
   },
   {
    "duration": 71,
    "start_time": "2022-10-07T09:00:11.071Z"
   },
   {
    "duration": 18,
    "start_time": "2022-10-07T09:00:20.269Z"
   },
   {
    "duration": 191,
    "start_time": "2022-10-07T09:00:44.120Z"
   },
   {
    "duration": 217,
    "start_time": "2022-10-07T09:01:43.709Z"
   },
   {
    "duration": 3,
    "start_time": "2022-10-07T09:05:49.750Z"
   },
   {
    "duration": 207,
    "start_time": "2022-10-07T09:06:07.203Z"
   },
   {
    "duration": 285,
    "start_time": "2022-10-07T09:06:13.711Z"
   },
   {
    "duration": 209,
    "start_time": "2022-10-07T09:08:05.346Z"
   },
   {
    "duration": 213,
    "start_time": "2022-10-07T09:11:37.600Z"
   },
   {
    "duration": 242,
    "start_time": "2022-10-07T09:12:13.244Z"
   },
   {
    "duration": 235,
    "start_time": "2022-10-07T09:12:24.365Z"
   },
   {
    "duration": 339,
    "start_time": "2022-10-07T09:14:17.332Z"
   },
   {
    "duration": 1378,
    "start_time": "2022-10-07T09:15:22.409Z"
   },
   {
    "duration": 1119,
    "start_time": "2022-10-07T09:18:05.952Z"
   },
   {
    "duration": 1270,
    "start_time": "2022-10-07T09:18:40.003Z"
   },
   {
    "duration": 1241,
    "start_time": "2022-10-07T09:19:12.588Z"
   },
   {
    "duration": 19,
    "start_time": "2022-10-07T10:56:07.487Z"
   },
   {
    "duration": 1508,
    "start_time": "2022-10-07T10:56:14.200Z"
   },
   {
    "duration": 163,
    "start_time": "2022-10-07T10:57:40.072Z"
   },
   {
    "duration": 9,
    "start_time": "2022-10-07T11:10:43.108Z"
   },
   {
    "duration": 21,
    "start_time": "2022-10-07T11:11:37.613Z"
   },
   {
    "duration": 55,
    "start_time": "2022-10-07T11:11:54.915Z"
   },
   {
    "duration": 156,
    "start_time": "2022-10-07T11:12:14.354Z"
   },
   {
    "duration": 183,
    "start_time": "2022-10-07T11:12:45.219Z"
   },
   {
    "duration": 42,
    "start_time": "2022-10-07T11:12:54.642Z"
   },
   {
    "duration": 824,
    "start_time": "2022-10-07T11:13:12.996Z"
   },
   {
    "duration": 182,
    "start_time": "2022-10-07T11:13:34.150Z"
   },
   {
    "duration": 700,
    "start_time": "2022-10-07T11:41:55.423Z"
   },
   {
    "duration": 53,
    "start_time": "2022-10-07T11:42:16.582Z"
   },
   {
    "duration": 487,
    "start_time": "2022-10-07T11:42:36.797Z"
   },
   {
    "duration": 469,
    "start_time": "2022-10-07T11:43:21.644Z"
   },
   {
    "duration": 605,
    "start_time": "2022-10-07T11:43:58.147Z"
   },
   {
    "duration": 553,
    "start_time": "2022-10-07T11:44:06.379Z"
   },
   {
    "duration": 600,
    "start_time": "2022-10-07T11:44:27.947Z"
   },
   {
    "duration": 703,
    "start_time": "2022-10-07T11:46:02.326Z"
   },
   {
    "duration": 656,
    "start_time": "2022-10-07T11:46:52.729Z"
   },
   {
    "duration": 1221,
    "start_time": "2022-10-07T11:47:06.432Z"
   },
   {
    "duration": 691,
    "start_time": "2022-10-07T11:47:50.400Z"
   },
   {
    "duration": 629,
    "start_time": "2022-10-07T11:48:06.943Z"
   },
   {
    "duration": 644,
    "start_time": "2022-10-07T11:48:16.921Z"
   },
   {
    "duration": 646,
    "start_time": "2022-10-07T11:48:29.487Z"
   },
   {
    "duration": 631,
    "start_time": "2022-10-07T11:48:39.636Z"
   },
   {
    "duration": 970,
    "start_time": "2022-10-07T11:49:02.142Z"
   },
   {
    "duration": 749,
    "start_time": "2022-10-07T11:49:22.958Z"
   },
   {
    "duration": 1145,
    "start_time": "2022-10-07T11:49:40.270Z"
   },
   {
    "duration": 1146,
    "start_time": "2022-10-07T11:49:54.771Z"
   },
   {
    "duration": 7,
    "start_time": "2022-10-07T11:53:17.699Z"
   },
   {
    "duration": 7,
    "start_time": "2022-10-07T11:53:31.247Z"
   },
   {
    "duration": 10,
    "start_time": "2022-10-07T11:57:44.043Z"
   },
   {
    "duration": 16,
    "start_time": "2022-10-07T11:58:16.661Z"
   },
   {
    "duration": 16,
    "start_time": "2022-10-07T12:02:52.443Z"
   },
   {
    "duration": 20,
    "start_time": "2022-10-07T12:03:07.848Z"
   },
   {
    "duration": 1264,
    "start_time": "2022-10-07T12:07:00.723Z"
   },
   {
    "duration": 59,
    "start_time": "2022-10-07T12:35:51.837Z"
   },
   {
    "duration": 49,
    "start_time": "2022-10-07T12:36:04.721Z"
   },
   {
    "duration": 24,
    "start_time": "2022-10-07T12:36:13.848Z"
   },
   {
    "duration": 24,
    "start_time": "2022-10-07T12:36:37.062Z"
   },
   {
    "duration": 1307,
    "start_time": "2022-10-08T12:50:58.288Z"
   },
   {
    "duration": 191,
    "start_time": "2022-10-08T12:50:59.597Z"
   },
   {
    "duration": 34,
    "start_time": "2022-10-08T12:50:59.790Z"
   },
   {
    "duration": 18,
    "start_time": "2022-10-08T12:50:59.826Z"
   },
   {
    "duration": 14,
    "start_time": "2022-10-08T12:50:59.846Z"
   },
   {
    "duration": 14,
    "start_time": "2022-10-08T12:51:00.598Z"
   },
   {
    "duration": 8,
    "start_time": "2022-10-08T12:51:00.773Z"
   },
   {
    "duration": 678,
    "start_time": "2022-10-08T12:51:01.137Z"
   },
   {
    "duration": 923,
    "start_time": "2022-10-08T12:51:05.629Z"
   },
   {
    "duration": 7,
    "start_time": "2022-10-08T12:51:08.918Z"
   },
   {
    "duration": 5,
    "start_time": "2022-10-08T12:51:09.636Z"
   },
   {
    "duration": 4,
    "start_time": "2022-10-08T12:51:10.035Z"
   },
   {
    "duration": 4,
    "start_time": "2022-10-08T12:51:10.277Z"
   },
   {
    "duration": 9,
    "start_time": "2022-10-08T12:51:10.789Z"
   },
   {
    "duration": 9,
    "start_time": "2022-10-08T12:51:11.341Z"
   },
   {
    "duration": 15,
    "start_time": "2022-10-08T12:51:16.986Z"
   },
   {
    "duration": 22,
    "start_time": "2022-10-08T12:51:18.061Z"
   },
   {
    "duration": 5,
    "start_time": "2022-10-08T12:51:18.349Z"
   },
   {
    "duration": 17,
    "start_time": "2022-10-08T12:51:24.528Z"
   },
   {
    "duration": 9,
    "start_time": "2022-10-08T12:51:25.274Z"
   },
   {
    "duration": 27,
    "start_time": "2022-10-08T12:51:26.669Z"
   },
   {
    "duration": 31,
    "start_time": "2022-10-08T12:51:28.591Z"
   },
   {
    "duration": 1286,
    "start_time": "2022-10-08T20:24:24.687Z"
   },
   {
    "duration": 220,
    "start_time": "2022-10-08T20:24:25.976Z"
   },
   {
    "duration": 34,
    "start_time": "2022-10-08T20:24:26.198Z"
   },
   {
    "duration": 17,
    "start_time": "2022-10-08T20:24:26.234Z"
   },
   {
    "duration": 17,
    "start_time": "2022-10-08T20:24:26.812Z"
   },
   {
    "duration": 13,
    "start_time": "2022-10-08T20:24:27.591Z"
   },
   {
    "duration": 7,
    "start_time": "2022-10-08T20:24:27.948Z"
   },
   {
    "duration": 631,
    "start_time": "2022-10-08T20:24:28.966Z"
   },
   {
    "duration": 875,
    "start_time": "2022-10-08T20:24:31.253Z"
   },
   {
    "duration": 6,
    "start_time": "2022-10-08T20:24:37.437Z"
   },
   {
    "duration": 6,
    "start_time": "2022-10-08T20:24:38.845Z"
   },
   {
    "duration": 5,
    "start_time": "2022-10-08T20:24:39.403Z"
   },
   {
    "duration": 4,
    "start_time": "2022-10-08T20:24:40.004Z"
   },
   {
    "duration": 10,
    "start_time": "2022-10-08T20:24:40.486Z"
   },
   {
    "duration": 9,
    "start_time": "2022-10-08T20:24:41.255Z"
   },
   {
    "duration": 14,
    "start_time": "2022-10-08T20:24:42.572Z"
   },
   {
    "duration": 17,
    "start_time": "2022-10-08T20:24:43.035Z"
   },
   {
    "duration": 5,
    "start_time": "2022-10-08T20:24:43.252Z"
   },
   {
    "duration": 15,
    "start_time": "2022-10-08T20:24:44.140Z"
   },
   {
    "duration": 8,
    "start_time": "2022-10-08T20:24:44.572Z"
   },
   {
    "duration": 19,
    "start_time": "2022-10-08T20:24:45.307Z"
   },
   {
    "duration": 22,
    "start_time": "2022-10-08T20:24:45.747Z"
   },
   {
    "duration": 15,
    "start_time": "2022-10-08T20:24:45.970Z"
   },
   {
    "duration": 7,
    "start_time": "2022-10-08T20:25:21.611Z"
   },
   {
    "duration": 376,
    "start_time": "2022-10-08T20:25:24.219Z"
   },
   {
    "duration": 110,
    "start_time": "2022-10-08T21:04:28.032Z"
   },
   {
    "duration": 25,
    "start_time": "2022-10-08T21:08:10.100Z"
   },
   {
    "duration": 25,
    "start_time": "2022-10-08T21:10:16.796Z"
   },
   {
    "duration": 54,
    "start_time": "2022-10-08T21:10:56.878Z"
   },
   {
    "duration": 56,
    "start_time": "2022-10-08T21:14:52.954Z"
   },
   {
    "duration": 77,
    "start_time": "2022-10-08T21:15:16.848Z"
   },
   {
    "duration": 53,
    "start_time": "2022-10-08T21:15:26.976Z"
   },
   {
    "duration": 339,
    "start_time": "2022-10-08T21:17:46.395Z"
   },
   {
    "duration": 303,
    "start_time": "2022-10-08T21:33:48.044Z"
   },
   {
    "duration": 344,
    "start_time": "2022-10-08T21:35:26.741Z"
   },
   {
    "duration": 356,
    "start_time": "2022-10-08T21:35:47.415Z"
   },
   {
    "duration": 307,
    "start_time": "2022-10-08T21:37:02.599Z"
   },
   {
    "duration": 297,
    "start_time": "2022-10-08T21:37:09.834Z"
   },
   {
    "duration": 24,
    "start_time": "2022-10-08T21:37:34.882Z"
   },
   {
    "duration": 9,
    "start_time": "2022-10-08T21:38:33.273Z"
   },
   {
    "duration": 278,
    "start_time": "2022-10-08T21:38:40.476Z"
   },
   {
    "duration": 613,
    "start_time": "2022-10-08T21:40:15.803Z"
   },
   {
    "duration": 184,
    "start_time": "2022-10-08T22:08:42.890Z"
   },
   {
    "duration": 129,
    "start_time": "2022-10-08T22:09:10.346Z"
   },
   {
    "duration": 4,
    "start_time": "2022-10-08T22:12:38.245Z"
   },
   {
    "duration": 19,
    "start_time": "2022-10-08T22:12:47.014Z"
   },
   {
    "duration": 8,
    "start_time": "2022-10-08T22:13:38.642Z"
   },
   {
    "duration": 11,
    "start_time": "2022-10-08T22:13:55.668Z"
   },
   {
    "duration": 7,
    "start_time": "2022-10-08T22:14:02.365Z"
   },
   {
    "duration": 5,
    "start_time": "2022-10-08T22:15:11.435Z"
   },
   {
    "duration": 9,
    "start_time": "2022-10-08T22:15:25.602Z"
   },
   {
    "duration": 5,
    "start_time": "2022-10-08T22:15:56.823Z"
   },
   {
    "duration": 6,
    "start_time": "2022-10-08T22:16:07.238Z"
   },
   {
    "duration": 7,
    "start_time": "2022-10-08T22:17:05.895Z"
   },
   {
    "duration": 99,
    "start_time": "2022-10-08T22:17:20.094Z"
   },
   {
    "duration": 134,
    "start_time": "2022-10-08T22:18:42.032Z"
   },
   {
    "duration": 151,
    "start_time": "2022-10-08T22:22:42.485Z"
   },
   {
    "duration": 124,
    "start_time": "2022-10-08T22:22:57.165Z"
   },
   {
    "duration": 192,
    "start_time": "2022-10-08T22:23:03.004Z"
   },
   {
    "duration": 114,
    "start_time": "2022-10-08T22:23:16.903Z"
   },
   {
    "duration": 107,
    "start_time": "2022-10-08T22:23:25.918Z"
   },
   {
    "duration": 111,
    "start_time": "2022-10-08T22:23:32.998Z"
   },
   {
    "duration": 107,
    "start_time": "2022-10-08T22:23:42.233Z"
   },
   {
    "duration": 1266,
    "start_time": "2022-10-08T22:28:00.046Z"
   },
   {
    "duration": 7,
    "start_time": "2022-10-08T22:28:21.700Z"
   },
   {
    "duration": 13,
    "start_time": "2022-10-08T22:28:35.891Z"
   },
   {
    "duration": 7,
    "start_time": "2022-10-08T22:30:47.659Z"
   },
   {
    "duration": 1357,
    "start_time": "2022-10-09T18:34:44.723Z"
   },
   {
    "duration": 125,
    "start_time": "2022-10-09T18:34:46.083Z"
   },
   {
    "duration": 37,
    "start_time": "2022-10-09T18:34:46.210Z"
   },
   {
    "duration": 41,
    "start_time": "2022-10-09T18:34:46.249Z"
   },
   {
    "duration": 18,
    "start_time": "2022-10-09T18:34:46.293Z"
   },
   {
    "duration": 20,
    "start_time": "2022-10-09T18:34:46.313Z"
   },
   {
    "duration": 11,
    "start_time": "2022-10-09T18:34:46.335Z"
   },
   {
    "duration": 742,
    "start_time": "2022-10-09T18:34:46.347Z"
   },
   {
    "duration": 10,
    "start_time": "2022-10-09T18:34:47.092Z"
   },
   {
    "duration": 31,
    "start_time": "2022-10-09T18:34:47.106Z"
   },
   {
    "duration": 6,
    "start_time": "2022-10-09T18:34:47.139Z"
   },
   {
    "duration": 4,
    "start_time": "2022-10-09T18:34:47.147Z"
   },
   {
    "duration": 9,
    "start_time": "2022-10-09T18:34:47.153Z"
   },
   {
    "duration": 11,
    "start_time": "2022-10-09T18:34:47.176Z"
   },
   {
    "duration": 24,
    "start_time": "2022-10-09T18:34:47.188Z"
   },
   {
    "duration": 19,
    "start_time": "2022-10-09T18:34:47.214Z"
   },
   {
    "duration": 5,
    "start_time": "2022-10-09T18:34:47.235Z"
   },
   {
    "duration": 52,
    "start_time": "2022-10-09T18:34:47.241Z"
   },
   {
    "duration": 15,
    "start_time": "2022-10-09T18:34:47.295Z"
   },
   {
    "duration": 22,
    "start_time": "2022-10-09T18:34:47.312Z"
   },
   {
    "duration": 57,
    "start_time": "2022-10-09T18:34:47.336Z"
   },
   {
    "duration": 15,
    "start_time": "2022-10-09T18:34:47.396Z"
   },
   {
    "duration": 6,
    "start_time": "2022-10-09T18:34:47.413Z"
   },
   {
    "duration": 433,
    "start_time": "2022-10-09T18:34:47.421Z"
   },
   {
    "duration": 64,
    "start_time": "2022-10-09T18:34:47.856Z"
   },
   {
    "duration": 224,
    "start_time": "2022-10-09T18:34:47.922Z"
   },
   {
    "duration": 1330,
    "start_time": "2022-10-09T18:34:48.148Z"
   },
   {
    "duration": 336,
    "start_time": "2022-10-09T18:34:49.483Z"
   },
   {
    "duration": 675,
    "start_time": "2022-10-09T18:34:49.821Z"
   },
   {
    "duration": 29,
    "start_time": "2022-10-09T18:34:50.498Z"
   },
   {
    "duration": 8,
    "start_time": "2022-10-09T18:34:50.529Z"
   },
   {
    "duration": 161,
    "start_time": "2022-10-09T18:34:50.539Z"
   },
   {
    "duration": 8,
    "start_time": "2022-10-09T18:34:50.703Z"
   },
   {
    "duration": 11,
    "start_time": "2022-10-09T18:34:50.713Z"
   },
   {
    "duration": 15,
    "start_time": "2022-10-09T18:34:50.726Z"
   },
   {
    "duration": 127,
    "start_time": "2022-10-09T18:34:50.743Z"
   },
   {
    "duration": 0,
    "start_time": "2022-10-09T18:34:50.871Z"
   },
   {
    "duration": 0,
    "start_time": "2022-10-09T18:34:50.878Z"
   },
   {
    "duration": 0,
    "start_time": "2022-10-09T18:34:50.880Z"
   },
   {
    "duration": 0,
    "start_time": "2022-10-09T18:34:50.882Z"
   },
   {
    "duration": 26,
    "start_time": "2022-10-09T18:35:10.105Z"
   },
   {
    "duration": 6,
    "start_time": "2022-10-09T19:07:49.870Z"
   },
   {
    "duration": 46,
    "start_time": "2022-10-09T19:07:59.065Z"
   },
   {
    "duration": 46,
    "start_time": "2022-10-09T19:08:16.943Z"
   },
   {
    "duration": 7,
    "start_time": "2022-10-09T19:08:29.779Z"
   },
   {
    "duration": 6,
    "start_time": "2022-10-09T19:08:51.165Z"
   },
   {
    "duration": 6,
    "start_time": "2022-10-09T19:12:03.548Z"
   },
   {
    "duration": 51,
    "start_time": "2022-10-09T19:13:05.498Z"
   },
   {
    "duration": 53,
    "start_time": "2022-10-09T19:13:15.390Z"
   },
   {
    "duration": 7,
    "start_time": "2022-10-09T19:13:21.156Z"
   },
   {
    "duration": 48,
    "start_time": "2022-10-09T19:13:31.836Z"
   },
   {
    "duration": 7,
    "start_time": "2022-10-09T19:18:14.982Z"
   },
   {
    "duration": 7,
    "start_time": "2022-10-09T19:18:44.865Z"
   },
   {
    "duration": 7,
    "start_time": "2022-10-09T19:18:51.170Z"
   },
   {
    "duration": 8,
    "start_time": "2022-10-09T19:19:24.105Z"
   },
   {
    "duration": 8,
    "start_time": "2022-10-09T19:19:45.535Z"
   },
   {
    "duration": 6,
    "start_time": "2022-10-09T19:20:43.327Z"
   },
   {
    "duration": 8,
    "start_time": "2022-10-09T19:21:19.557Z"
   },
   {
    "duration": 3,
    "start_time": "2022-10-09T19:22:00.470Z"
   },
   {
    "duration": 6,
    "start_time": "2022-10-09T19:22:26.595Z"
   },
   {
    "duration": 71,
    "start_time": "2022-10-09T20:03:53.343Z"
   },
   {
    "duration": 25,
    "start_time": "2022-10-09T20:05:41.288Z"
   },
   {
    "duration": 54,
    "start_time": "2022-10-09T20:05:50.997Z"
   },
   {
    "duration": 24,
    "start_time": "2022-10-09T20:09:31.992Z"
   },
   {
    "duration": 54,
    "start_time": "2022-10-09T20:10:06.373Z"
   },
   {
    "duration": 16,
    "start_time": "2022-10-09T20:10:25.930Z"
   },
   {
    "duration": 20,
    "start_time": "2022-10-09T20:11:19.484Z"
   },
   {
    "duration": 625,
    "start_time": "2022-10-09T20:11:37.606Z"
   },
   {
    "duration": 866,
    "start_time": "2022-10-09T20:12:38.587Z"
   },
   {
    "duration": 6404,
    "start_time": "2022-10-09T20:13:07.166Z"
   },
   {
    "duration": 736,
    "start_time": "2022-10-09T20:17:12.489Z"
   },
   {
    "duration": 46,
    "start_time": "2022-10-09T20:20:20.854Z"
   },
   {
    "duration": 382,
    "start_time": "2022-10-09T20:20:35.806Z"
   },
   {
    "duration": 738,
    "start_time": "2022-10-09T20:21:50.652Z"
   },
   {
    "duration": 162,
    "start_time": "2022-10-15T08:25:20.255Z"
   },
   {
    "duration": 162,
    "start_time": "2022-10-15T08:25:33.608Z"
   },
   {
    "duration": 165,
    "start_time": "2022-10-15T08:25:49.817Z"
   },
   {
    "duration": 155,
    "start_time": "2022-10-15T08:25:54.667Z"
   },
   {
    "duration": 156,
    "start_time": "2022-10-15T08:26:21.138Z"
   },
   {
    "duration": 13,
    "start_time": "2022-10-15T08:29:18.812Z"
   }
  ],
  "kernelspec": {
   "display_name": "Python 3 (ipykernel)",
   "language": "python",
   "name": "python3"
  },
  "language_info": {
   "codemirror_mode": {
    "name": "ipython",
    "version": 3
   },
   "file_extension": ".py",
   "mimetype": "text/x-python",
   "name": "python",
   "nbconvert_exporter": "python",
   "pygments_lexer": "ipython3",
   "version": "3.9.5"
  },
  "toc": {
   "base_numbering": 1,
   "nav_menu": {},
   "number_sections": true,
   "sideBar": true,
   "skip_h1_title": true,
   "title_cell": "Table of Contents",
   "title_sidebar": "Contents",
   "toc_cell": false,
   "toc_position": {},
   "toc_section_display": true,
   "toc_window_display": false
  }
 },
 "nbformat": 4,
 "nbformat_minor": 2
}

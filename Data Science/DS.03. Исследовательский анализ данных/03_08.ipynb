{
 "cells": [
  {
   "cell_type": "markdown",
   "metadata": {},
   "source": [
    "# Исследование объявлений о продаже квартир\n",
    "\n",
    "В вашем распоряжении данные сервиса Яндекс.Недвижимость — архив объявлений о продаже квартир в Санкт-Петербурге и соседних населённых пунктов за несколько лет. Нужно научиться определять рыночную стоимость объектов недвижимости. Ваша задача — установить параметры. Это позволит построить автоматизированную систему: она отследит аномалии и мошенническую деятельность. \n",
    "\n",
    "По каждой квартире на продажу доступны два вида данных. Первые вписаны пользователем, вторые — получены автоматически на основе картографических данных. Например, расстояние до центра, аэропорта, ближайшего парка и водоёма. "
   ]
  },
  {
   "cell_type": "markdown",
   "metadata": {},
   "source": [
    "### Откройте файл с данными и изучите общую информацию. "
   ]
  },
  {
   "cell_type": "code",
   "execution_count": 1,
   "metadata": {},
   "outputs": [
    {
     "data": {
      "text/plain": [
       "0"
      ]
     },
     "execution_count": 1,
     "metadata": {},
     "output_type": "execute_result"
    }
   ],
   "source": [
    "import pandas as pd\n",
    "try:\n",
    "    data = pd.read_csv('/datasets/real_estate_data.csv', sep='\\t')\n",
    "except:\n",
    "    data = pd.read_csv('https://code.s3.yandex.net/datasets/real_estate_data.csv')\n",
    "\n",
    "# Сразу проверяю количество дубликатов\n",
    "data.duplicated().sum()"
   ]
  },
  {
   "cell_type": "code",
   "execution_count": 2,
   "metadata": {},
   "outputs": [
    {
     "data": {
      "text/html": [
       "<div>\n",
       "<style scoped>\n",
       "    .dataframe tbody tr th:only-of-type {\n",
       "        vertical-align: middle;\n",
       "    }\n",
       "\n",
       "    .dataframe tbody tr th {\n",
       "        vertical-align: top;\n",
       "    }\n",
       "\n",
       "    .dataframe thead th {\n",
       "        text-align: right;\n",
       "    }\n",
       "</style>\n",
       "<table border=\"1\" class=\"dataframe\">\n",
       "  <thead>\n",
       "    <tr style=\"text-align: right;\">\n",
       "      <th></th>\n",
       "      <th>5274</th>\n",
       "      <th>13944</th>\n",
       "      <th>8204</th>\n",
       "      <th>9079</th>\n",
       "      <th>18439</th>\n",
       "      <th>21904</th>\n",
       "      <th>15587</th>\n",
       "      <th>3653</th>\n",
       "    </tr>\n",
       "  </thead>\n",
       "  <tbody>\n",
       "    <tr>\n",
       "      <th>total_images</th>\n",
       "      <td>15</td>\n",
       "      <td>0</td>\n",
       "      <td>16</td>\n",
       "      <td>0</td>\n",
       "      <td>15</td>\n",
       "      <td>0</td>\n",
       "      <td>5</td>\n",
       "      <td>6</td>\n",
       "    </tr>\n",
       "    <tr>\n",
       "      <th>last_price</th>\n",
       "      <td>5450000.0</td>\n",
       "      <td>5250000.0</td>\n",
       "      <td>5550000.0</td>\n",
       "      <td>4650000.0</td>\n",
       "      <td>13500000.0</td>\n",
       "      <td>3500000.0</td>\n",
       "      <td>3100000.0</td>\n",
       "      <td>5100000.0</td>\n",
       "    </tr>\n",
       "    <tr>\n",
       "      <th>total_area</th>\n",
       "      <td>43.0</td>\n",
       "      <td>59.0</td>\n",
       "      <td>66.0</td>\n",
       "      <td>56.0</td>\n",
       "      <td>95.3</td>\n",
       "      <td>42.0</td>\n",
       "      <td>40.0</td>\n",
       "      <td>60.0</td>\n",
       "    </tr>\n",
       "    <tr>\n",
       "      <th>first_day_exposition</th>\n",
       "      <td>2018-11-01T00:00:00</td>\n",
       "      <td>2018-02-13T00:00:00</td>\n",
       "      <td>2016-06-25T00:00:00</td>\n",
       "      <td>2017-07-05T00:00:00</td>\n",
       "      <td>2019-03-18T00:00:00</td>\n",
       "      <td>2019-04-29T00:00:00</td>\n",
       "      <td>2017-11-27T00:00:00</td>\n",
       "      <td>2016-06-06T00:00:00</td>\n",
       "    </tr>\n",
       "    <tr>\n",
       "      <th>rooms</th>\n",
       "      <td>1</td>\n",
       "      <td>3</td>\n",
       "      <td>3</td>\n",
       "      <td>3</td>\n",
       "      <td>3</td>\n",
       "      <td>1</td>\n",
       "      <td>1</td>\n",
       "      <td>3</td>\n",
       "    </tr>\n",
       "    <tr>\n",
       "      <th>ceiling_height</th>\n",
       "      <td>2.8</td>\n",
       "      <td>2.5</td>\n",
       "      <td>2.55</td>\n",
       "      <td>NaN</td>\n",
       "      <td>3.35</td>\n",
       "      <td>2.65</td>\n",
       "      <td>NaN</td>\n",
       "      <td>NaN</td>\n",
       "    </tr>\n",
       "    <tr>\n",
       "      <th>floors_total</th>\n",
       "      <td>8.0</td>\n",
       "      <td>9.0</td>\n",
       "      <td>12.0</td>\n",
       "      <td>5.0</td>\n",
       "      <td>7.0</td>\n",
       "      <td>10.0</td>\n",
       "      <td>24.0</td>\n",
       "      <td>9.0</td>\n",
       "    </tr>\n",
       "    <tr>\n",
       "      <th>living_area</th>\n",
       "      <td>16.0</td>\n",
       "      <td>39.0</td>\n",
       "      <td>42.5</td>\n",
       "      <td>39.0</td>\n",
       "      <td>56.0</td>\n",
       "      <td>19.5</td>\n",
       "      <td>16.4</td>\n",
       "      <td>44.0</td>\n",
       "    </tr>\n",
       "    <tr>\n",
       "      <th>floor</th>\n",
       "      <td>4</td>\n",
       "      <td>3</td>\n",
       "      <td>3</td>\n",
       "      <td>5</td>\n",
       "      <td>4</td>\n",
       "      <td>7</td>\n",
       "      <td>6</td>\n",
       "      <td>7</td>\n",
       "    </tr>\n",
       "    <tr>\n",
       "      <th>is_apartment</th>\n",
       "      <td>NaN</td>\n",
       "      <td>NaN</td>\n",
       "      <td>False</td>\n",
       "      <td>NaN</td>\n",
       "      <td>NaN</td>\n",
       "      <td>NaN</td>\n",
       "      <td>NaN</td>\n",
       "      <td>NaN</td>\n",
       "    </tr>\n",
       "    <tr>\n",
       "      <th>studio</th>\n",
       "      <td>False</td>\n",
       "      <td>False</td>\n",
       "      <td>False</td>\n",
       "      <td>False</td>\n",
       "      <td>False</td>\n",
       "      <td>False</td>\n",
       "      <td>False</td>\n",
       "      <td>False</td>\n",
       "    </tr>\n",
       "    <tr>\n",
       "      <th>open_plan</th>\n",
       "      <td>False</td>\n",
       "      <td>False</td>\n",
       "      <td>False</td>\n",
       "      <td>False</td>\n",
       "      <td>False</td>\n",
       "      <td>False</td>\n",
       "      <td>False</td>\n",
       "      <td>False</td>\n",
       "    </tr>\n",
       "    <tr>\n",
       "      <th>kitchen_area</th>\n",
       "      <td>12.0</td>\n",
       "      <td>6.3</td>\n",
       "      <td>10.3</td>\n",
       "      <td>8.5</td>\n",
       "      <td>15.3</td>\n",
       "      <td>10.8</td>\n",
       "      <td>10.1</td>\n",
       "      <td>8.0</td>\n",
       "    </tr>\n",
       "    <tr>\n",
       "      <th>balcony</th>\n",
       "      <td>2.0</td>\n",
       "      <td>NaN</td>\n",
       "      <td>1.0</td>\n",
       "      <td>0.0</td>\n",
       "      <td>NaN</td>\n",
       "      <td>1.0</td>\n",
       "      <td>2.0</td>\n",
       "      <td>5.0</td>\n",
       "    </tr>\n",
       "    <tr>\n",
       "      <th>locality_name</th>\n",
       "      <td>Сестрорецк</td>\n",
       "      <td>Санкт-Петербург</td>\n",
       "      <td>Санкт-Петербург</td>\n",
       "      <td>Санкт-Петербург</td>\n",
       "      <td>Санкт-Петербург</td>\n",
       "      <td>деревня Старая</td>\n",
       "      <td>Санкт-Петербург</td>\n",
       "      <td>Санкт-Петербург</td>\n",
       "    </tr>\n",
       "    <tr>\n",
       "      <th>airports_nearest</th>\n",
       "      <td>55942.0</td>\n",
       "      <td>17845.0</td>\n",
       "      <td>14005.0</td>\n",
       "      <td>16313.0</td>\n",
       "      <td>20079.0</td>\n",
       "      <td>NaN</td>\n",
       "      <td>41967.0</td>\n",
       "      <td>31169.0</td>\n",
       "    </tr>\n",
       "    <tr>\n",
       "      <th>cityCenters_nearest</th>\n",
       "      <td>32872.0</td>\n",
       "      <td>11171.0</td>\n",
       "      <td>12227.0</td>\n",
       "      <td>9975.0</td>\n",
       "      <td>2357.0</td>\n",
       "      <td>NaN</td>\n",
       "      <td>21283.0</td>\n",
       "      <td>12467.0</td>\n",
       "    </tr>\n",
       "    <tr>\n",
       "      <th>parks_around3000</th>\n",
       "      <td>0.0</td>\n",
       "      <td>0.0</td>\n",
       "      <td>0.0</td>\n",
       "      <td>1.0</td>\n",
       "      <td>2.0</td>\n",
       "      <td>NaN</td>\n",
       "      <td>0.0</td>\n",
       "      <td>0.0</td>\n",
       "    </tr>\n",
       "    <tr>\n",
       "      <th>parks_nearest</th>\n",
       "      <td>NaN</td>\n",
       "      <td>NaN</td>\n",
       "      <td>NaN</td>\n",
       "      <td>489.0</td>\n",
       "      <td>287.0</td>\n",
       "      <td>NaN</td>\n",
       "      <td>NaN</td>\n",
       "      <td>NaN</td>\n",
       "    </tr>\n",
       "    <tr>\n",
       "      <th>ponds_around3000</th>\n",
       "      <td>1.0</td>\n",
       "      <td>0.0</td>\n",
       "      <td>0.0</td>\n",
       "      <td>3.0</td>\n",
       "      <td>3.0</td>\n",
       "      <td>NaN</td>\n",
       "      <td>1.0</td>\n",
       "      <td>0.0</td>\n",
       "    </tr>\n",
       "    <tr>\n",
       "      <th>ponds_nearest</th>\n",
       "      <td>464.0</td>\n",
       "      <td>NaN</td>\n",
       "      <td>NaN</td>\n",
       "      <td>595.0</td>\n",
       "      <td>38.0</td>\n",
       "      <td>NaN</td>\n",
       "      <td>606.0</td>\n",
       "      <td>NaN</td>\n",
       "    </tr>\n",
       "    <tr>\n",
       "      <th>days_exposition</th>\n",
       "      <td>54.0</td>\n",
       "      <td>40.0</td>\n",
       "      <td>114.0</td>\n",
       "      <td>72.0</td>\n",
       "      <td>NaN</td>\n",
       "      <td>NaN</td>\n",
       "      <td>29.0</td>\n",
       "      <td>496.0</td>\n",
       "    </tr>\n",
       "  </tbody>\n",
       "</table>\n",
       "</div>"
      ],
      "text/plain": [
       "                                    5274                 13944  \\\n",
       "total_images                           15                    0   \n",
       "last_price                      5450000.0            5250000.0   \n",
       "total_area                           43.0                 59.0   \n",
       "first_day_exposition  2018-11-01T00:00:00  2018-02-13T00:00:00   \n",
       "rooms                                   1                    3   \n",
       "ceiling_height                        2.8                  2.5   \n",
       "floors_total                          8.0                  9.0   \n",
       "living_area                          16.0                 39.0   \n",
       "floor                                   4                    3   \n",
       "is_apartment                          NaN                  NaN   \n",
       "studio                              False                False   \n",
       "open_plan                           False                False   \n",
       "kitchen_area                         12.0                  6.3   \n",
       "balcony                               2.0                  NaN   \n",
       "locality_name                  Сестрорецк      Санкт-Петербург   \n",
       "airports_nearest                  55942.0              17845.0   \n",
       "cityCenters_nearest               32872.0              11171.0   \n",
       "parks_around3000                      0.0                  0.0   \n",
       "parks_nearest                         NaN                  NaN   \n",
       "ponds_around3000                      1.0                  0.0   \n",
       "ponds_nearest                       464.0                  NaN   \n",
       "days_exposition                      54.0                 40.0   \n",
       "\n",
       "                                    8204                 9079   \\\n",
       "total_images                           16                    0   \n",
       "last_price                      5550000.0            4650000.0   \n",
       "total_area                           66.0                 56.0   \n",
       "first_day_exposition  2016-06-25T00:00:00  2017-07-05T00:00:00   \n",
       "rooms                                   3                    3   \n",
       "ceiling_height                       2.55                  NaN   \n",
       "floors_total                         12.0                  5.0   \n",
       "living_area                          42.5                 39.0   \n",
       "floor                                   3                    5   \n",
       "is_apartment                        False                  NaN   \n",
       "studio                              False                False   \n",
       "open_plan                           False                False   \n",
       "kitchen_area                         10.3                  8.5   \n",
       "balcony                               1.0                  0.0   \n",
       "locality_name             Санкт-Петербург      Санкт-Петербург   \n",
       "airports_nearest                  14005.0              16313.0   \n",
       "cityCenters_nearest               12227.0               9975.0   \n",
       "parks_around3000                      0.0                  1.0   \n",
       "parks_nearest                         NaN                489.0   \n",
       "ponds_around3000                      0.0                  3.0   \n",
       "ponds_nearest                         NaN                595.0   \n",
       "days_exposition                     114.0                 72.0   \n",
       "\n",
       "                                    18439                21904  \\\n",
       "total_images                           15                    0   \n",
       "last_price                     13500000.0            3500000.0   \n",
       "total_area                           95.3                 42.0   \n",
       "first_day_exposition  2019-03-18T00:00:00  2019-04-29T00:00:00   \n",
       "rooms                                   3                    1   \n",
       "ceiling_height                       3.35                 2.65   \n",
       "floors_total                          7.0                 10.0   \n",
       "living_area                          56.0                 19.5   \n",
       "floor                                   4                    7   \n",
       "is_apartment                          NaN                  NaN   \n",
       "studio                              False                False   \n",
       "open_plan                           False                False   \n",
       "kitchen_area                         15.3                 10.8   \n",
       "balcony                               NaN                  1.0   \n",
       "locality_name             Санкт-Петербург       деревня Старая   \n",
       "airports_nearest                  20079.0                  NaN   \n",
       "cityCenters_nearest                2357.0                  NaN   \n",
       "parks_around3000                      2.0                  NaN   \n",
       "parks_nearest                       287.0                  NaN   \n",
       "ponds_around3000                      3.0                  NaN   \n",
       "ponds_nearest                        38.0                  NaN   \n",
       "days_exposition                       NaN                  NaN   \n",
       "\n",
       "                                    15587                3653   \n",
       "total_images                            5                    6  \n",
       "last_price                      3100000.0            5100000.0  \n",
       "total_area                           40.0                 60.0  \n",
       "first_day_exposition  2017-11-27T00:00:00  2016-06-06T00:00:00  \n",
       "rooms                                   1                    3  \n",
       "ceiling_height                        NaN                  NaN  \n",
       "floors_total                         24.0                  9.0  \n",
       "living_area                          16.4                 44.0  \n",
       "floor                                   6                    7  \n",
       "is_apartment                          NaN                  NaN  \n",
       "studio                              False                False  \n",
       "open_plan                           False                False  \n",
       "kitchen_area                         10.1                  8.0  \n",
       "balcony                               2.0                  5.0  \n",
       "locality_name             Санкт-Петербург      Санкт-Петербург  \n",
       "airports_nearest                  41967.0              31169.0  \n",
       "cityCenters_nearest               21283.0              12467.0  \n",
       "parks_around3000                      0.0                  0.0  \n",
       "parks_nearest                         NaN                  NaN  \n",
       "ponds_around3000                      1.0                  0.0  \n",
       "ponds_nearest                       606.0                  NaN  \n",
       "days_exposition                      29.0                496.0  "
      ]
     },
     "execution_count": 2,
     "metadata": {},
     "output_type": "execute_result"
    }
   ],
   "source": [
    "# пример данных в несколько строк\n",
    "data.sample(8).T"
   ]
  },
  {
   "cell_type": "code",
   "execution_count": 68,
   "metadata": {},
   "outputs": [
    {
     "name": "stdout",
     "output_type": "stream",
     "text": [
      "<class 'pandas.core.frame.DataFrame'>\n",
      "Int64Index: 23650 entries, 0 to 23698\n",
      "Data columns (total 23 columns):\n",
      " #   Column                Non-Null Count  Dtype  \n",
      "---  ------                --------------  -----  \n",
      " 0   total_images          23650 non-null  int64  \n",
      " 1   last_price            23650 non-null  float64\n",
      " 2   total_area            23650 non-null  float64\n",
      " 3   first_day_exposition  23650 non-null  object \n",
      " 4   rooms                 23650 non-null  int64  \n",
      " 5   ceiling_height        23650 non-null  float64\n",
      " 6   floors_total          23565 non-null  float64\n",
      " 7   living_area           21752 non-null  float64\n",
      " 8   floor                 23650 non-null  int64  \n",
      " 9   is_apartment          23650 non-null  bool   \n",
      " 10  studio                23650 non-null  bool   \n",
      " 11  open_plan             23650 non-null  bool   \n",
      " 12  kitchen_area          21381 non-null  float64\n",
      " 13  balcony               12137 non-null  float64\n",
      " 14  locality_name         23650 non-null  object \n",
      " 15  airports_nearest      18116 non-null  float64\n",
      " 16  cityCenters_nearest   18139 non-null  float64\n",
      " 17  parks_around3000      18140 non-null  float64\n",
      " 18  parks_nearest         8064 non-null   float64\n",
      " 19  ponds_around3000      18140 non-null  float64\n",
      " 20  ponds_nearest         9085 non-null   float64\n",
      " 21  days_exposition       20470 non-null  float64\n",
      " 22  price_per_meter       23650 non-null  float64\n",
      "dtypes: bool(3), float64(15), int64(3), object(2)\n",
      "memory usage: 4.4+ MB\n"
     ]
    }
   ],
   "source": [
    "# общая инормация о массиве\n",
    "data.info()"
   ]
  },
  {
   "cell_type": "code",
   "execution_count": 69,
   "metadata": {},
   "outputs": [
    {
     "data": {
      "text/html": [
       "<div>\n",
       "<style scoped>\n",
       "    .dataframe tbody tr th:only-of-type {\n",
       "        vertical-align: middle;\n",
       "    }\n",
       "\n",
       "    .dataframe tbody tr th {\n",
       "        vertical-align: top;\n",
       "    }\n",
       "\n",
       "    .dataframe thead th {\n",
       "        text-align: right;\n",
       "    }\n",
       "</style>\n",
       "<table border=\"1\" class=\"dataframe\">\n",
       "  <thead>\n",
       "    <tr style=\"text-align: right;\">\n",
       "      <th></th>\n",
       "      <th>count</th>\n",
       "      <th>mean</th>\n",
       "      <th>std</th>\n",
       "      <th>min</th>\n",
       "      <th>25%</th>\n",
       "      <th>50%</th>\n",
       "      <th>75%</th>\n",
       "      <th>max</th>\n",
       "    </tr>\n",
       "  </thead>\n",
       "  <tbody>\n",
       "    <tr>\n",
       "      <th>total_images</th>\n",
       "      <td>23650.0</td>\n",
       "      <td>9.862326e+00</td>\n",
       "      <td>5.682278e+00</td>\n",
       "      <td>0.000000</td>\n",
       "      <td>6.000000e+00</td>\n",
       "      <td>9.0</td>\n",
       "      <td>1.400000e+01</td>\n",
       "      <td>50.0</td>\n",
       "    </tr>\n",
       "    <tr>\n",
       "      <th>last_price</th>\n",
       "      <td>23650.0</td>\n",
       "      <td>6.541127e+06</td>\n",
       "      <td>1.089640e+07</td>\n",
       "      <td>12190.000000</td>\n",
       "      <td>3.400000e+06</td>\n",
       "      <td>4650000.0</td>\n",
       "      <td>6.799000e+06</td>\n",
       "      <td>763000000.0</td>\n",
       "    </tr>\n",
       "    <tr>\n",
       "      <th>total_area</th>\n",
       "      <td>23650.0</td>\n",
       "      <td>6.032907e+01</td>\n",
       "      <td>3.566181e+01</td>\n",
       "      <td>12.000000</td>\n",
       "      <td>4.000000e+01</td>\n",
       "      <td>52.0</td>\n",
       "      <td>6.970000e+01</td>\n",
       "      <td>900.0</td>\n",
       "    </tr>\n",
       "    <tr>\n",
       "      <th>rooms</th>\n",
       "      <td>23650.0</td>\n",
       "      <td>2.070106e+00</td>\n",
       "      <td>1.078620e+00</td>\n",
       "      <td>0.000000</td>\n",
       "      <td>1.000000e+00</td>\n",
       "      <td>2.0</td>\n",
       "      <td>3.000000e+00</td>\n",
       "      <td>19.0</td>\n",
       "    </tr>\n",
       "    <tr>\n",
       "      <th>ceiling_height</th>\n",
       "      <td>23650.0</td>\n",
       "      <td>2.737416e+00</td>\n",
       "      <td>1.005809e+00</td>\n",
       "      <td>1.000000</td>\n",
       "      <td>2.550000e+00</td>\n",
       "      <td>2.7</td>\n",
       "      <td>2.700000e+00</td>\n",
       "      <td>100.0</td>\n",
       "    </tr>\n",
       "    <tr>\n",
       "      <th>floors_total</th>\n",
       "      <td>23565.0</td>\n",
       "      <td>1.067588e+01</td>\n",
       "      <td>6.594823e+00</td>\n",
       "      <td>1.000000</td>\n",
       "      <td>5.000000e+00</td>\n",
       "      <td>9.0</td>\n",
       "      <td>1.600000e+01</td>\n",
       "      <td>60.0</td>\n",
       "    </tr>\n",
       "    <tr>\n",
       "      <th>living_area</th>\n",
       "      <td>21752.0</td>\n",
       "      <td>3.444836e+01</td>\n",
       "      <td>2.203766e+01</td>\n",
       "      <td>2.000000</td>\n",
       "      <td>1.860000e+01</td>\n",
       "      <td>30.0</td>\n",
       "      <td>4.230000e+01</td>\n",
       "      <td>409.7</td>\n",
       "    </tr>\n",
       "    <tr>\n",
       "      <th>floor</th>\n",
       "      <td>23650.0</td>\n",
       "      <td>5.893277e+00</td>\n",
       "      <td>4.883317e+00</td>\n",
       "      <td>1.000000</td>\n",
       "      <td>2.000000e+00</td>\n",
       "      <td>4.0</td>\n",
       "      <td>8.000000e+00</td>\n",
       "      <td>33.0</td>\n",
       "    </tr>\n",
       "    <tr>\n",
       "      <th>kitchen_area</th>\n",
       "      <td>21381.0</td>\n",
       "      <td>1.056640e+01</td>\n",
       "      <td>5.901753e+00</td>\n",
       "      <td>1.300000</td>\n",
       "      <td>7.000000e+00</td>\n",
       "      <td>9.1</td>\n",
       "      <td>1.200000e+01</td>\n",
       "      <td>112.0</td>\n",
       "    </tr>\n",
       "    <tr>\n",
       "      <th>balcony</th>\n",
       "      <td>12137.0</td>\n",
       "      <td>1.153003e+00</td>\n",
       "      <td>1.071169e+00</td>\n",
       "      <td>0.000000</td>\n",
       "      <td>0.000000e+00</td>\n",
       "      <td>1.0</td>\n",
       "      <td>2.000000e+00</td>\n",
       "      <td>5.0</td>\n",
       "    </tr>\n",
       "    <tr>\n",
       "      <th>airports_nearest</th>\n",
       "      <td>18116.0</td>\n",
       "      <td>2.880323e+04</td>\n",
       "      <td>1.263731e+04</td>\n",
       "      <td>0.000000</td>\n",
       "      <td>1.857575e+04</td>\n",
       "      <td>26756.5</td>\n",
       "      <td>3.729400e+04</td>\n",
       "      <td>84869.0</td>\n",
       "    </tr>\n",
       "    <tr>\n",
       "      <th>cityCenters_nearest</th>\n",
       "      <td>18139.0</td>\n",
       "      <td>1.419786e+04</td>\n",
       "      <td>8.606830e+03</td>\n",
       "      <td>181.000000</td>\n",
       "      <td>9.241000e+03</td>\n",
       "      <td>13105.0</td>\n",
       "      <td>1.629300e+04</td>\n",
       "      <td>65968.0</td>\n",
       "    </tr>\n",
       "    <tr>\n",
       "      <th>parks_around3000</th>\n",
       "      <td>18140.0</td>\n",
       "      <td>6.115766e-01</td>\n",
       "      <td>8.020031e-01</td>\n",
       "      <td>0.000000</td>\n",
       "      <td>0.000000e+00</td>\n",
       "      <td>0.0</td>\n",
       "      <td>1.000000e+00</td>\n",
       "      <td>3.0</td>\n",
       "    </tr>\n",
       "    <tr>\n",
       "      <th>parks_nearest</th>\n",
       "      <td>8064.0</td>\n",
       "      <td>4.908307e+02</td>\n",
       "      <td>3.425544e+02</td>\n",
       "      <td>1.000000</td>\n",
       "      <td>2.880000e+02</td>\n",
       "      <td>454.5</td>\n",
       "      <td>6.120000e+02</td>\n",
       "      <td>3190.0</td>\n",
       "    </tr>\n",
       "    <tr>\n",
       "      <th>ponds_around3000</th>\n",
       "      <td>18140.0</td>\n",
       "      <td>7.696803e-01</td>\n",
       "      <td>9.379481e-01</td>\n",
       "      <td>0.000000</td>\n",
       "      <td>0.000000e+00</td>\n",
       "      <td>1.0</td>\n",
       "      <td>1.000000e+00</td>\n",
       "      <td>3.0</td>\n",
       "    </tr>\n",
       "    <tr>\n",
       "      <th>ponds_nearest</th>\n",
       "      <td>9085.0</td>\n",
       "      <td>5.180599e+02</td>\n",
       "      <td>2.778417e+02</td>\n",
       "      <td>13.000000</td>\n",
       "      <td>2.930000e+02</td>\n",
       "      <td>502.0</td>\n",
       "      <td>7.300000e+02</td>\n",
       "      <td>1344.0</td>\n",
       "    </tr>\n",
       "    <tr>\n",
       "      <th>days_exposition</th>\n",
       "      <td>20470.0</td>\n",
       "      <td>1.807532e+02</td>\n",
       "      <td>2.197779e+02</td>\n",
       "      <td>1.000000</td>\n",
       "      <td>4.500000e+01</td>\n",
       "      <td>95.0</td>\n",
       "      <td>2.310000e+02</td>\n",
       "      <td>1580.0</td>\n",
       "    </tr>\n",
       "    <tr>\n",
       "      <th>price_per_meter</th>\n",
       "      <td>23650.0</td>\n",
       "      <td>9.943225e+04</td>\n",
       "      <td>5.033794e+04</td>\n",
       "      <td>111.834862</td>\n",
       "      <td>7.661497e+04</td>\n",
       "      <td>95000.0</td>\n",
       "      <td>1.142742e+05</td>\n",
       "      <td>1907500.0</td>\n",
       "    </tr>\n",
       "  </tbody>\n",
       "</table>\n",
       "</div>"
      ],
      "text/plain": [
       "                       count          mean           std           min  \\\n",
       "total_images         23650.0  9.862326e+00  5.682278e+00      0.000000   \n",
       "last_price           23650.0  6.541127e+06  1.089640e+07  12190.000000   \n",
       "total_area           23650.0  6.032907e+01  3.566181e+01     12.000000   \n",
       "rooms                23650.0  2.070106e+00  1.078620e+00      0.000000   \n",
       "ceiling_height       23650.0  2.737416e+00  1.005809e+00      1.000000   \n",
       "floors_total         23565.0  1.067588e+01  6.594823e+00      1.000000   \n",
       "living_area          21752.0  3.444836e+01  2.203766e+01      2.000000   \n",
       "floor                23650.0  5.893277e+00  4.883317e+00      1.000000   \n",
       "kitchen_area         21381.0  1.056640e+01  5.901753e+00      1.300000   \n",
       "balcony              12137.0  1.153003e+00  1.071169e+00      0.000000   \n",
       "airports_nearest     18116.0  2.880323e+04  1.263731e+04      0.000000   \n",
       "cityCenters_nearest  18139.0  1.419786e+04  8.606830e+03    181.000000   \n",
       "parks_around3000     18140.0  6.115766e-01  8.020031e-01      0.000000   \n",
       "parks_nearest         8064.0  4.908307e+02  3.425544e+02      1.000000   \n",
       "ponds_around3000     18140.0  7.696803e-01  9.379481e-01      0.000000   \n",
       "ponds_nearest         9085.0  5.180599e+02  2.778417e+02     13.000000   \n",
       "days_exposition      20470.0  1.807532e+02  2.197779e+02      1.000000   \n",
       "price_per_meter      23650.0  9.943225e+04  5.033794e+04    111.834862   \n",
       "\n",
       "                              25%        50%           75%          max  \n",
       "total_images         6.000000e+00        9.0  1.400000e+01         50.0  \n",
       "last_price           3.400000e+06  4650000.0  6.799000e+06  763000000.0  \n",
       "total_area           4.000000e+01       52.0  6.970000e+01        900.0  \n",
       "rooms                1.000000e+00        2.0  3.000000e+00         19.0  \n",
       "ceiling_height       2.550000e+00        2.7  2.700000e+00        100.0  \n",
       "floors_total         5.000000e+00        9.0  1.600000e+01         60.0  \n",
       "living_area          1.860000e+01       30.0  4.230000e+01        409.7  \n",
       "floor                2.000000e+00        4.0  8.000000e+00         33.0  \n",
       "kitchen_area         7.000000e+00        9.1  1.200000e+01        112.0  \n",
       "balcony              0.000000e+00        1.0  2.000000e+00          5.0  \n",
       "airports_nearest     1.857575e+04    26756.5  3.729400e+04      84869.0  \n",
       "cityCenters_nearest  9.241000e+03    13105.0  1.629300e+04      65968.0  \n",
       "parks_around3000     0.000000e+00        0.0  1.000000e+00          3.0  \n",
       "parks_nearest        2.880000e+02      454.5  6.120000e+02       3190.0  \n",
       "ponds_around3000     0.000000e+00        1.0  1.000000e+00          3.0  \n",
       "ponds_nearest        2.930000e+02      502.0  7.300000e+02       1344.0  \n",
       "days_exposition      4.500000e+01       95.0  2.310000e+02       1580.0  \n",
       "price_per_meter      7.661497e+04    95000.0  1.142742e+05    1907500.0  "
      ]
     },
     "execution_count": 69,
     "metadata": {},
     "output_type": "execute_result"
    }
   ],
   "source": [
    "data.describe().T"
   ]
  },
  {
   "cell_type": "code",
   "execution_count": 6,
   "metadata": {},
   "outputs": [
    {
     "data": {
      "text/plain": [
       "array([[<AxesSubplot:title={'center':'total_images'}>,\n",
       "        <AxesSubplot:title={'center':'last_price'}>,\n",
       "        <AxesSubplot:title={'center':'total_area'}>,\n",
       "        <AxesSubplot:title={'center':'rooms'}>],\n",
       "       [<AxesSubplot:title={'center':'ceiling_height'}>,\n",
       "        <AxesSubplot:title={'center':'floors_total'}>,\n",
       "        <AxesSubplot:title={'center':'living_area'}>,\n",
       "        <AxesSubplot:title={'center':'floor'}>],\n",
       "       [<AxesSubplot:title={'center':'kitchen_area'}>,\n",
       "        <AxesSubplot:title={'center':'balcony'}>,\n",
       "        <AxesSubplot:title={'center':'airports_nearest'}>,\n",
       "        <AxesSubplot:title={'center':'cityCenters_nearest'}>],\n",
       "       [<AxesSubplot:title={'center':'parks_around3000'}>,\n",
       "        <AxesSubplot:title={'center':'parks_nearest'}>,\n",
       "        <AxesSubplot:title={'center':'ponds_around3000'}>,\n",
       "        <AxesSubplot:title={'center':'ponds_nearest'}>],\n",
       "       [<AxesSubplot:title={'center':'days_exposition'}>, <AxesSubplot:>,\n",
       "        <AxesSubplot:>, <AxesSubplot:>]], dtype=object)"
      ]
     },
     "execution_count": 6,
     "metadata": {},
     "output_type": "execute_result"
    },
    {
     "data": {
      "image/png": "[encoded data removed]",
      "text/plain": [
       "<Figure size 1080x1440 with 20 Axes>"
      ]
     },
     "metadata": {
      "needs_background": "light"
     },
     "output_type": "display_data"
    }
   ],
   "source": [
    "data.hist(figsize=(15, 20))"
   ]
  },
  {
   "cell_type": "code",
   "execution_count": 7,
   "metadata": {},
   "outputs": [
    {
     "data": {
      "text/html": [
       "<div>\n",
       "<style scoped>\n",
       "    .dataframe tbody tr th:only-of-type {\n",
       "        vertical-align: middle;\n",
       "    }\n",
       "\n",
       "    .dataframe tbody tr th {\n",
       "        vertical-align: top;\n",
       "    }\n",
       "\n",
       "    .dataframe thead th {\n",
       "        text-align: right;\n",
       "    }\n",
       "</style>\n",
       "<table border=\"1\" class=\"dataframe\">\n",
       "  <thead>\n",
       "    <tr style=\"text-align: right;\">\n",
       "      <th></th>\n",
       "      <th>locality_name</th>\n",
       "      <th>days_exposition</th>\n",
       "    </tr>\n",
       "  </thead>\n",
       "  <tbody>\n",
       "    <tr>\n",
       "      <th>21670</th>\n",
       "      <td>посёлок Шушары</td>\n",
       "      <td>740.0</td>\n",
       "    </tr>\n",
       "    <tr>\n",
       "      <th>16935</th>\n",
       "      <td>Гатчина</td>\n",
       "      <td>NaN</td>\n",
       "    </tr>\n",
       "    <tr>\n",
       "      <th>18239</th>\n",
       "      <td>Санкт-Петербург</td>\n",
       "      <td>109.0</td>\n",
       "    </tr>\n",
       "    <tr>\n",
       "      <th>18555</th>\n",
       "      <td>Санкт-Петербург</td>\n",
       "      <td>NaN</td>\n",
       "    </tr>\n",
       "    <tr>\n",
       "      <th>11125</th>\n",
       "      <td>Санкт-Петербург</td>\n",
       "      <td>138.0</td>\n",
       "    </tr>\n",
       "    <tr>\n",
       "      <th>6076</th>\n",
       "      <td>Санкт-Петербург</td>\n",
       "      <td>58.0</td>\n",
       "    </tr>\n",
       "    <tr>\n",
       "      <th>19455</th>\n",
       "      <td>деревня Трубников Бор</td>\n",
       "      <td>276.0</td>\n",
       "    </tr>\n",
       "    <tr>\n",
       "      <th>12175</th>\n",
       "      <td>Сестрорецк</td>\n",
       "      <td>168.0</td>\n",
       "    </tr>\n",
       "    <tr>\n",
       "      <th>13891</th>\n",
       "      <td>Санкт-Петербург</td>\n",
       "      <td>73.0</td>\n",
       "    </tr>\n",
       "    <tr>\n",
       "      <th>20203</th>\n",
       "      <td>Колпино</td>\n",
       "      <td>178.0</td>\n",
       "    </tr>\n",
       "  </tbody>\n",
       "</table>\n",
       "</div>"
      ],
      "text/plain": [
       "               locality_name  days_exposition\n",
       "21670         посёлок Шушары            740.0\n",
       "16935                Гатчина              NaN\n",
       "18239        Санкт-Петербург            109.0\n",
       "18555        Санкт-Петербург              NaN\n",
       "11125        Санкт-Петербург            138.0\n",
       "6076         Санкт-Петербург             58.0\n",
       "19455  деревня Трубников Бор            276.0\n",
       "12175             Сестрорецк            168.0\n",
       "13891        Санкт-Петербург             73.0\n",
       "20203                Колпино            178.0"
      ]
     },
     "execution_count": 7,
     "metadata": {},
     "output_type": "execute_result"
    }
   ],
   "source": [
    "data[['locality_name', 'days_exposition']].sample(10)"
   ]
  },
  {
   "cell_type": "markdown",
   "metadata": {},
   "source": [
    "### Предобработка данных"
   ]
  },
  {
   "cell_type": "code",
   "execution_count": 8,
   "metadata": {},
   "outputs": [
    {
     "name": "stdout",
     "output_type": "stream",
     "text": [
      "49  из  23699 0.0021\n"
     ]
    }
   ],
   "source": [
    "# посмотрим сколько пустых значений в названии населённого пункта\n",
    "print(len(data[data['locality_name'].isna()]), ' из ', data.shape[0], round(len(data[data['locality_name'].isna()]) / data.shape[0],4))"
   ]
  },
  {
   "cell_type": "markdown",
   "metadata": {},
   "source": [
    "Т.к. данных с отсутствующим населенным пунктом очень мало, а населённый пункт очень важен для исследования, считаю, что эти данные лучше отсечь."
   ]
  },
  {
   "cell_type": "code",
   "execution_count": 9,
   "metadata": {},
   "outputs": [
    {
     "data": {
      "text/plain": [
       "23650"
      ]
     },
     "execution_count": 9,
     "metadata": {},
     "output_type": "execute_result"
    }
   ],
   "source": [
    "#удаление строк, в столбцах которых locality_name = NaN\n",
    "data = data.dropna(subset=['locality_name'])\n",
    "data.shape[0]"
   ]
  },
  {
   "cell_type": "code",
   "execution_count": 10,
   "metadata": {
    "scrolled": true
   },
   "outputs": [
    {
     "data": {
      "text/plain": [
       "250"
      ]
     },
     "execution_count": 10,
     "metadata": {},
     "output_type": "execute_result"
    }
   ],
   "source": [
    "#посмотрим сколько данных без пропусков\n",
    "best_data = data.dropna()\n",
    "best_data.shape[0]"
   ]
  },
  {
   "cell_type": "markdown",
   "metadata": {},
   "source": [
    "Предполагаю, что населённых пунктов с одинаковыми именами в пределах области нет. Префикс перед именем лучше убрать"
   ]
  },
  {
   "cell_type": "code",
   "execution_count": 11,
   "metadata": {},
   "outputs": [
    {
     "data": {
      "text/plain": [
       "0"
      ]
     },
     "execution_count": 11,
     "metadata": {},
     "output_type": "execute_result"
    }
   ],
   "source": [
    "\n",
    "data = data.apply(lambda x: x.replace({'ё':'е'}, regex=True))\n",
    "data = data.apply(lambda x: x.replace({'поселок при железнодорожной станции ':''}, regex=True))\n",
    "data = data.apply(lambda x: x.replace({'поселок городского типа ':''}, regex=True))\n",
    "data = data.apply(lambda x: x.replace({'городской поселок ':''}, regex=True))\n",
    "data = data.apply(lambda x: x.replace({'коттеджный поселок ':''}, regex=True))\n",
    "data = data.apply(lambda x: x.replace({'поселок ':''}, regex=True))\n",
    "data = data.apply(lambda x: x.replace({'село ':''}, regex=True))\n",
    "data = data.apply(lambda x: x.replace({'деревня ':''}, regex=True))\n",
    "data = data.apply(lambda x: x.replace({'садовое товарищество ':''}, regex=True))\n",
    "data = data.apply(lambda x: x.replace({'поселок станции ':''}, regex=True))\n",
    "data = data.apply(lambda x: x.replace({'садоводческое некоммерческое товарищество ':''}, regex=True))\n",
    "data = data.apply(lambda x: x.replace({'посёлок при железнодорожной станции ':''}, regex=True))\n",
    "data = data.apply(lambda x: x.replace({'садовое товарищество ':''}, regex=True))\n",
    "data = data.apply(lambda x: x.replace({'Пансионат ':''}, regex=True))\n",
    "# и проверяю дубликаты\n",
    "data.duplicated().sum()"
   ]
  },
  {
   "cell_type": "code",
   "execution_count": 14,
   "metadata": {},
   "outputs": [
    {
     "data": {
      "text/plain": [
       "Санкт-Петербург    15721\n",
       "Мурино               590\n",
       "Кудрово              472\n",
       "Шушары               440\n",
       "Всеволожск           398\n",
       "Пушкин               369\n",
       "Колпино              338\n",
       "Парголово            327\n",
       "Гатчина              307\n",
       "Выборг               237\n",
       "Петергоф             201\n",
       "Сестрорецк           183\n",
       "Красное Село         178\n",
       "Name: locality_name, dtype: int64"
      ]
     },
     "execution_count": 14,
     "metadata": {},
     "output_type": "execute_result"
    }
   ],
   "source": [
    "data['locality_name'].value_counts().head(13)"
   ]
  },
  {
   "cell_type": "markdown",
   "metadata": {},
   "source": [
    "Заполним 'is_apartment' как False, т.к. апартаменты достаточно редкое явление."
   ]
  },
  {
   "cell_type": "code",
   "execution_count": 66,
   "metadata": {},
   "outputs": [],
   "source": [
    "data.groupby('is_apartment')['is_apartment'].count()\n",
    "data['is_apartment'] = data['is_apartment'].fillna(False)\n",
    "\n"
   ]
  },
  {
   "cell_type": "code",
   "execution_count": 67,
   "metadata": {},
   "outputs": [],
   "source": [
    "for t in data['locality_name'].unique():\n",
    "    data.loc[(data['locality_name'] == t) & (data['ceiling_height'].isna()), 'ceiling_height'] = data.loc[(data['locality_name'] == t), 'ceiling_height'].median()\n"
   ]
  },
  {
   "cell_type": "code",
   "execution_count": 78,
   "metadata": {},
   "outputs": [
    {
     "data": {
      "text/html": [
       "<div>\n",
       "<style scoped>\n",
       "    .dataframe tbody tr th:only-of-type {\n",
       "        vertical-align: middle;\n",
       "    }\n",
       "\n",
       "    .dataframe tbody tr th {\n",
       "        vertical-align: top;\n",
       "    }\n",
       "\n",
       "    .dataframe thead th {\n",
       "        text-align: right;\n",
       "    }\n",
       "</style>\n",
       "<table border=\"1\" class=\"dataframe\">\n",
       "  <thead>\n",
       "    <tr style=\"text-align: right;\">\n",
       "      <th></th>\n",
       "      <th>balcony</th>\n",
       "    </tr>\n",
       "    <tr>\n",
       "      <th>is_apartment</th>\n",
       "      <th></th>\n",
       "    </tr>\n",
       "  </thead>\n",
       "  <tbody>\n",
       "    <tr>\n",
       "      <th>False</th>\n",
       "      <td>1.150669</td>\n",
       "    </tr>\n",
       "    <tr>\n",
       "      <th>True</th>\n",
       "      <td>2.064516</td>\n",
       "    </tr>\n",
       "  </tbody>\n",
       "</table>\n",
       "</div>"
      ],
      "text/plain": [
       "               balcony\n",
       "is_apartment          \n",
       "False         1.150669\n",
       "True          2.064516"
      ]
     },
     "execution_count": 78,
     "metadata": {},
     "output_type": "execute_result"
    }
   ],
   "source": [
    "data_pivot = data.pivot_table(index = ['rooms'], values = 'balcony', aggfunc='median')\n",
    "\n",
    "data_pivot = data.pivot_table(index = ['is_apartment'], values = 'balcony', aggfunc='mean')\n",
    "#display(\n",
    "data_pivot"
   ]
  },
  {
   "cell_type": "code",
   "execution_count": null,
   "metadata": {},
   "outputs": [],
   "source": [
    "num_data = data[['total_images', 'last_price', 'total_area', 'rooms', 'ceiling_height', 'floors_total', 'living_area', 'floor', 'kitchen_area', 'balcony', 'airports_nearest', 'cityCenters_nearest', 'parks_around3000', 'parks_nearest', 'ponds_around3000', 'ponds_nearest', 'days_exposition', 'price_per_meter']]\n",
    "num_data"
   ]
  },
  {
   "cell_type": "code",
   "execution_count": null,
   "metadata": {},
   "outputs": [],
   "source": []
  },
  {
   "cell_type": "code",
   "execution_count": null,
   "metadata": {},
   "outputs": [],
   "source": []
  },
  {
   "cell_type": "markdown",
   "metadata": {},
   "source": [
    "### Посчитайте и добавьте в таблицу новые столбцы"
   ]
  },
  {
   "cell_type": "code",
   "execution_count": 22,
   "metadata": {},
   "outputs": [
    {
     "data": {
      "text/html": [
       "<div>\n",
       "<style scoped>\n",
       "    .dataframe tbody tr th:only-of-type {\n",
       "        vertical-align: middle;\n",
       "    }\n",
       "\n",
       "    .dataframe tbody tr th {\n",
       "        vertical-align: top;\n",
       "    }\n",
       "\n",
       "    .dataframe thead th {\n",
       "        text-align: right;\n",
       "    }\n",
       "</style>\n",
       "<table border=\"1\" class=\"dataframe\">\n",
       "  <thead>\n",
       "    <tr style=\"text-align: right;\">\n",
       "      <th></th>\n",
       "      <th>total_images</th>\n",
       "      <th>last_price</th>\n",
       "      <th>total_area</th>\n",
       "      <th>first_day_exposition</th>\n",
       "      <th>rooms</th>\n",
       "      <th>ceiling_height</th>\n",
       "      <th>floors_total</th>\n",
       "      <th>living_area</th>\n",
       "      <th>floor</th>\n",
       "      <th>is_apartment</th>\n",
       "      <th>...</th>\n",
       "      <th>balcony</th>\n",
       "      <th>locality_name</th>\n",
       "      <th>airports_nearest</th>\n",
       "      <th>cityCenters_nearest</th>\n",
       "      <th>parks_around3000</th>\n",
       "      <th>parks_nearest</th>\n",
       "      <th>ponds_around3000</th>\n",
       "      <th>ponds_nearest</th>\n",
       "      <th>days_exposition</th>\n",
       "      <th>price_per_meter</th>\n",
       "    </tr>\n",
       "  </thead>\n",
       "  <tbody>\n",
       "    <tr>\n",
       "      <th>12971</th>\n",
       "      <td>19</td>\n",
       "      <td>763000000.0</td>\n",
       "      <td>400.0</td>\n",
       "      <td>2017-09-30T00:00:00</td>\n",
       "      <td>7</td>\n",
       "      <td>NaN</td>\n",
       "      <td>10.0</td>\n",
       "      <td>250.0</td>\n",
       "      <td>10</td>\n",
       "      <td>NaN</td>\n",
       "      <td>...</td>\n",
       "      <td>2.0</td>\n",
       "      <td>Санкт-Петербург</td>\n",
       "      <td>25108.0</td>\n",
       "      <td>3956.0</td>\n",
       "      <td>1.0</td>\n",
       "      <td>530.0</td>\n",
       "      <td>3.0</td>\n",
       "      <td>756.0</td>\n",
       "      <td>33.0</td>\n",
       "      <td>1.907500e+06</td>\n",
       "    </tr>\n",
       "    <tr>\n",
       "      <th>1436</th>\n",
       "      <td>19</td>\n",
       "      <td>330000000.0</td>\n",
       "      <td>190.0</td>\n",
       "      <td>2018-04-04T00:00:00</td>\n",
       "      <td>3</td>\n",
       "      <td>3.50</td>\n",
       "      <td>7.0</td>\n",
       "      <td>95.0</td>\n",
       "      <td>5</td>\n",
       "      <td>NaN</td>\n",
       "      <td>...</td>\n",
       "      <td>NaN</td>\n",
       "      <td>Санкт-Петербург</td>\n",
       "      <td>23011.0</td>\n",
       "      <td>1197.0</td>\n",
       "      <td>3.0</td>\n",
       "      <td>519.0</td>\n",
       "      <td>3.0</td>\n",
       "      <td>285.0</td>\n",
       "      <td>233.0</td>\n",
       "      <td>1.736842e+06</td>\n",
       "    </tr>\n",
       "    <tr>\n",
       "      <th>22831</th>\n",
       "      <td>18</td>\n",
       "      <td>289238400.0</td>\n",
       "      <td>187.5</td>\n",
       "      <td>2019-03-19T00:00:00</td>\n",
       "      <td>2</td>\n",
       "      <td>3.37</td>\n",
       "      <td>6.0</td>\n",
       "      <td>63.7</td>\n",
       "      <td>6</td>\n",
       "      <td>NaN</td>\n",
       "      <td>...</td>\n",
       "      <td>NaN</td>\n",
       "      <td>Санкт-Петербург</td>\n",
       "      <td>22494.0</td>\n",
       "      <td>1073.0</td>\n",
       "      <td>3.0</td>\n",
       "      <td>386.0</td>\n",
       "      <td>3.0</td>\n",
       "      <td>188.0</td>\n",
       "      <td>NaN</td>\n",
       "      <td>1.542605e+06</td>\n",
       "    </tr>\n",
       "    <tr>\n",
       "      <th>14706</th>\n",
       "      <td>15</td>\n",
       "      <td>401300000.0</td>\n",
       "      <td>401.0</td>\n",
       "      <td>2016-02-20T00:00:00</td>\n",
       "      <td>5</td>\n",
       "      <td>NaN</td>\n",
       "      <td>9.0</td>\n",
       "      <td>204.0</td>\n",
       "      <td>9</td>\n",
       "      <td>False</td>\n",
       "      <td>...</td>\n",
       "      <td>3.0</td>\n",
       "      <td>Санкт-Петербург</td>\n",
       "      <td>21912.0</td>\n",
       "      <td>2389.0</td>\n",
       "      <td>1.0</td>\n",
       "      <td>545.0</td>\n",
       "      <td>1.0</td>\n",
       "      <td>478.0</td>\n",
       "      <td>393.0</td>\n",
       "      <td>1.000748e+06</td>\n",
       "    </tr>\n",
       "    <tr>\n",
       "      <th>4996</th>\n",
       "      <td>20</td>\n",
       "      <td>124000000.0</td>\n",
       "      <td>124.5</td>\n",
       "      <td>2017-10-12T00:00:00</td>\n",
       "      <td>4</td>\n",
       "      <td>3.00</td>\n",
       "      <td>4.0</td>\n",
       "      <td>67.2</td>\n",
       "      <td>2</td>\n",
       "      <td>False</td>\n",
       "      <td>...</td>\n",
       "      <td>NaN</td>\n",
       "      <td>Санкт-Петербург</td>\n",
       "      <td>20399.0</td>\n",
       "      <td>1722.0</td>\n",
       "      <td>3.0</td>\n",
       "      <td>302.0</td>\n",
       "      <td>3.0</td>\n",
       "      <td>172.0</td>\n",
       "      <td>45.0</td>\n",
       "      <td>9.959839e+05</td>\n",
       "    </tr>\n",
       "    <tr>\n",
       "      <th>16461</th>\n",
       "      <td>17</td>\n",
       "      <td>245000000.0</td>\n",
       "      <td>285.7</td>\n",
       "      <td>2017-04-10T00:00:00</td>\n",
       "      <td>6</td>\n",
       "      <td>3.35</td>\n",
       "      <td>7.0</td>\n",
       "      <td>182.8</td>\n",
       "      <td>4</td>\n",
       "      <td>NaN</td>\n",
       "      <td>...</td>\n",
       "      <td>NaN</td>\n",
       "      <td>Санкт-Петербург</td>\n",
       "      <td>33143.0</td>\n",
       "      <td>6235.0</td>\n",
       "      <td>3.0</td>\n",
       "      <td>400.0</td>\n",
       "      <td>3.0</td>\n",
       "      <td>140.0</td>\n",
       "      <td>249.0</td>\n",
       "      <td>8.575429e+05</td>\n",
       "    </tr>\n",
       "    <tr>\n",
       "      <th>17172</th>\n",
       "      <td>14</td>\n",
       "      <td>28000000.0</td>\n",
       "      <td>33.0</td>\n",
       "      <td>2019-04-30T00:00:00</td>\n",
       "      <td>1</td>\n",
       "      <td>3.50</td>\n",
       "      <td>5.0</td>\n",
       "      <td>NaN</td>\n",
       "      <td>2</td>\n",
       "      <td>NaN</td>\n",
       "      <td>...</td>\n",
       "      <td>NaN</td>\n",
       "      <td>Санкт-Петербург</td>\n",
       "      <td>23403.0</td>\n",
       "      <td>1462.0</td>\n",
       "      <td>3.0</td>\n",
       "      <td>342.0</td>\n",
       "      <td>3.0</td>\n",
       "      <td>27.0</td>\n",
       "      <td>NaN</td>\n",
       "      <td>8.484848e+05</td>\n",
       "    </tr>\n",
       "    <tr>\n",
       "      <th>4859</th>\n",
       "      <td>16</td>\n",
       "      <td>28000000.0</td>\n",
       "      <td>33.0</td>\n",
       "      <td>2019-04-29T00:00:00</td>\n",
       "      <td>1</td>\n",
       "      <td>3.50</td>\n",
       "      <td>5.0</td>\n",
       "      <td>NaN</td>\n",
       "      <td>2</td>\n",
       "      <td>NaN</td>\n",
       "      <td>...</td>\n",
       "      <td>NaN</td>\n",
       "      <td>Санкт-Петербург</td>\n",
       "      <td>23447.0</td>\n",
       "      <td>1376.0</td>\n",
       "      <td>3.0</td>\n",
       "      <td>344.0</td>\n",
       "      <td>3.0</td>\n",
       "      <td>119.0</td>\n",
       "      <td>NaN</td>\n",
       "      <td>8.484848e+05</td>\n",
       "    </tr>\n",
       "    <tr>\n",
       "      <th>16647</th>\n",
       "      <td>15</td>\n",
       "      <td>122000000.0</td>\n",
       "      <td>145.0</td>\n",
       "      <td>2017-04-25T00:00:00</td>\n",
       "      <td>3</td>\n",
       "      <td>3.30</td>\n",
       "      <td>6.0</td>\n",
       "      <td>36.0</td>\n",
       "      <td>2</td>\n",
       "      <td>NaN</td>\n",
       "      <td>...</td>\n",
       "      <td>NaN</td>\n",
       "      <td>Санкт-Петербург</td>\n",
       "      <td>33931.0</td>\n",
       "      <td>7023.0</td>\n",
       "      <td>2.0</td>\n",
       "      <td>478.0</td>\n",
       "      <td>3.0</td>\n",
       "      <td>250.0</td>\n",
       "      <td>335.0</td>\n",
       "      <td>8.413793e+05</td>\n",
       "    </tr>\n",
       "    <tr>\n",
       "      <th>17912</th>\n",
       "      <td>17</td>\n",
       "      <td>135000000.0</td>\n",
       "      <td>166.0</td>\n",
       "      <td>2019-02-07T00:00:00</td>\n",
       "      <td>3</td>\n",
       "      <td>3.30</td>\n",
       "      <td>7.0</td>\n",
       "      <td>52.0</td>\n",
       "      <td>1</td>\n",
       "      <td>NaN</td>\n",
       "      <td>...</td>\n",
       "      <td>NaN</td>\n",
       "      <td>Санкт-Петербург</td>\n",
       "      <td>32863.0</td>\n",
       "      <td>5955.0</td>\n",
       "      <td>2.0</td>\n",
       "      <td>230.0</td>\n",
       "      <td>3.0</td>\n",
       "      <td>215.0</td>\n",
       "      <td>NaN</td>\n",
       "      <td>8.132530e+05</td>\n",
       "    </tr>\n",
       "  </tbody>\n",
       "</table>\n",
       "<p>10 rows × 23 columns</p>\n",
       "</div>"
      ],
      "text/plain": [
       "       total_images   last_price  total_area first_day_exposition  rooms  \\\n",
       "12971            19  763000000.0       400.0  2017-09-30T00:00:00      7   \n",
       "1436             19  330000000.0       190.0  2018-04-04T00:00:00      3   \n",
       "22831            18  289238400.0       187.5  2019-03-19T00:00:00      2   \n",
       "14706            15  401300000.0       401.0  2016-02-20T00:00:00      5   \n",
       "4996             20  124000000.0       124.5  2017-10-12T00:00:00      4   \n",
       "16461            17  245000000.0       285.7  2017-04-10T00:00:00      6   \n",
       "17172            14   28000000.0        33.0  2019-04-30T00:00:00      1   \n",
       "4859             16   28000000.0        33.0  2019-04-29T00:00:00      1   \n",
       "16647            15  122000000.0       145.0  2017-04-25T00:00:00      3   \n",
       "17912            17  135000000.0       166.0  2019-02-07T00:00:00      3   \n",
       "\n",
       "       ceiling_height  floors_total  living_area  floor is_apartment  ...  \\\n",
       "12971             NaN          10.0        250.0     10          NaN  ...   \n",
       "1436             3.50           7.0         95.0      5          NaN  ...   \n",
       "22831            3.37           6.0         63.7      6          NaN  ...   \n",
       "14706             NaN           9.0        204.0      9        False  ...   \n",
       "4996             3.00           4.0         67.2      2        False  ...   \n",
       "16461            3.35           7.0        182.8      4          NaN  ...   \n",
       "17172            3.50           5.0          NaN      2          NaN  ...   \n",
       "4859             3.50           5.0          NaN      2          NaN  ...   \n",
       "16647            3.30           6.0         36.0      2          NaN  ...   \n",
       "17912            3.30           7.0         52.0      1          NaN  ...   \n",
       "\n",
       "       balcony    locality_name  airports_nearest  cityCenters_nearest  \\\n",
       "12971      2.0  Санкт-Петербург           25108.0               3956.0   \n",
       "1436       NaN  Санкт-Петербург           23011.0               1197.0   \n",
       "22831      NaN  Санкт-Петербург           22494.0               1073.0   \n",
       "14706      3.0  Санкт-Петербург           21912.0               2389.0   \n",
       "4996       NaN  Санкт-Петербург           20399.0               1722.0   \n",
       "16461      NaN  Санкт-Петербург           33143.0               6235.0   \n",
       "17172      NaN  Санкт-Петербург           23403.0               1462.0   \n",
       "4859       NaN  Санкт-Петербург           23447.0               1376.0   \n",
       "16647      NaN  Санкт-Петербург           33931.0               7023.0   \n",
       "17912      NaN  Санкт-Петербург           32863.0               5955.0   \n",
       "\n",
       "      parks_around3000  parks_nearest  ponds_around3000  ponds_nearest  \\\n",
       "12971              1.0          530.0               3.0          756.0   \n",
       "1436               3.0          519.0               3.0          285.0   \n",
       "22831              3.0          386.0               3.0          188.0   \n",
       "14706              1.0          545.0               1.0          478.0   \n",
       "4996               3.0          302.0               3.0          172.0   \n",
       "16461              3.0          400.0               3.0          140.0   \n",
       "17172              3.0          342.0               3.0           27.0   \n",
       "4859               3.0          344.0               3.0          119.0   \n",
       "16647              2.0          478.0               3.0          250.0   \n",
       "17912              2.0          230.0               3.0          215.0   \n",
       "\n",
       "       days_exposition  price_per_meter  \n",
       "12971             33.0     1.907500e+06  \n",
       "1436             233.0     1.736842e+06  \n",
       "22831              NaN     1.542605e+06  \n",
       "14706            393.0     1.000748e+06  \n",
       "4996              45.0     9.959839e+05  \n",
       "16461            249.0     8.575429e+05  \n",
       "17172              NaN     8.484848e+05  \n",
       "4859               NaN     8.484848e+05  \n",
       "16647            335.0     8.413793e+05  \n",
       "17912              NaN     8.132530e+05  \n",
       "\n",
       "[10 rows x 23 columns]"
      ]
     },
     "execution_count": 22,
     "metadata": {},
     "output_type": "execute_result"
    }
   ],
   "source": [
    "data['price_per_meter'] = data.last_price / data.total_area\n",
    "data.sort_values(by='price_per_meter', ascending=False).head(10)"
   ]
  },
  {
   "cell_type": "markdown",
   "metadata": {},
   "source": [
    "### Проведите исследовательский анализ данных"
   ]
  },
  {
   "cell_type": "code",
   "execution_count": 31,
   "metadata": {},
   "outputs": [
    {
     "name": "stdout",
     "output_type": "stream",
     "text": [
      "                     total_images  last_price  total_area     rooms  \\\n",
      "total_images             1.000000    0.104558    0.115893  0.099660   \n",
      "last_price               0.104558    1.000000    0.653743  0.363421   \n",
      "total_area               0.115893    0.653743    1.000000  0.758745   \n",
      "rooms                    0.099660    0.363421    0.758745  1.000000   \n",
      "ceiling_height          -0.001880    0.085396    0.095417  0.054323   \n",
      "floors_total             0.009822   -0.006745   -0.075252 -0.227913   \n",
      "living_area              0.104952    0.566517    0.939534  0.846088   \n",
      "floor                    0.030832    0.026770   -0.024178 -0.150604   \n",
      "kitchen_area             0.105876    0.520233    0.608879  0.270585   \n",
      "balcony                  0.121256    0.029807    0.048799  0.018950   \n",
      "airports_nearest        -0.002364   -0.026366   -0.031055 -0.060877   \n",
      "cityCenters_nearest     -0.047835   -0.206887   -0.231904 -0.184322   \n",
      "parks_around3000         0.021087    0.150886    0.164579  0.136793   \n",
      "parks_nearest           -0.008158   -0.016310   -0.021370 -0.054236   \n",
      "ponds_around3000        -0.011753    0.160243    0.162909  0.092917   \n",
      "ponds_nearest           -0.003424   -0.085193   -0.098608 -0.058705   \n",
      "days_exposition         -0.027415    0.080937    0.149571  0.126497   \n",
      "price_per_meter          0.132652    0.736562    0.302202  0.055471   \n",
      "\n",
      "                     ceiling_height  floors_total  living_area     floor  \\\n",
      "total_images              -0.001880      0.009822     0.104952  0.030832   \n",
      "last_price                 0.085396     -0.006745     0.566517  0.026770   \n",
      "total_area                 0.095417     -0.075252     0.939534 -0.024178   \n",
      "rooms                      0.054323     -0.227913     0.846088 -0.150604   \n",
      "ceiling_height             1.000000     -0.028586     0.090556 -0.011677   \n",
      "floors_total              -0.028586      1.000000    -0.168940  0.678010   \n",
      "living_area                0.090556     -0.168940     1.000000 -0.096825   \n",
      "floor                     -0.011677      0.678010    -0.096825  1.000000   \n",
      "kitchen_area               0.087646      0.164803     0.428773  0.136610   \n",
      "balcony                    0.040928      0.195018     0.019518  0.169637   \n",
      "airports_nearest          -0.023814      0.108547    -0.057714  0.071826   \n",
      "cityCenters_nearest       -0.091480      0.018743    -0.231170  0.008508   \n",
      "parks_around3000           0.065956     -0.252490     0.184195 -0.163468   \n",
      "parks_nearest             -0.019278      0.097608    -0.050004  0.073157   \n",
      "ponds_around3000           0.078282     -0.122799     0.149553 -0.076504   \n",
      "ponds_nearest             -0.059388      0.040003    -0.082420  0.025923   \n",
      "days_exposition            0.019025     -0.052410     0.142171 -0.039501   \n",
      "price_per_meter            0.122846      0.148423     0.226452  0.129143   \n",
      "\n",
      "                     kitchen_area   balcony  airports_nearest  \\\n",
      "total_images             0.105876  0.121256         -0.002364   \n",
      "last_price               0.520233  0.029807         -0.026366   \n",
      "total_area               0.608879  0.048799         -0.031055   \n",
      "rooms                    0.270585  0.018950         -0.060877   \n",
      "ceiling_height           0.087646  0.040928         -0.023814   \n",
      "floors_total             0.164803  0.195018          0.108547   \n",
      "living_area              0.428773  0.019518         -0.057714   \n",
      "floor                    0.136610  0.169637          0.071826   \n",
      "kitchen_area             1.000000  0.099487          0.007558   \n",
      "balcony                  0.099487  1.000000          0.066088   \n",
      "airports_nearest         0.007558  0.066088          1.000000   \n",
      "cityCenters_nearest     -0.191365  0.048953          0.272031   \n",
      "parks_around3000         0.087789 -0.083241          0.000590   \n",
      "parks_nearest            0.029467  0.053198         -0.070293   \n",
      "ponds_around3000         0.150778 -0.031473         -0.049590   \n",
      "ponds_nearest           -0.105349  0.010793          0.013641   \n",
      "days_exposition          0.101063 -0.031477         -0.017999   \n",
      "price_per_meter          0.398322  0.065639         -0.038852   \n",
      "\n",
      "                     cityCenters_nearest  parks_around3000  parks_nearest  \\\n",
      "total_images                   -0.047835          0.021087      -0.008158   \n",
      "last_price                     -0.206887          0.150886      -0.016310   \n",
      "total_area                     -0.231904          0.164579      -0.021370   \n",
      "rooms                          -0.184322          0.136793      -0.054236   \n",
      "ceiling_height                 -0.091480          0.065956      -0.019278   \n",
      "floors_total                    0.018743         -0.252490       0.097608   \n",
      "living_area                    -0.231170          0.184195      -0.050004   \n",
      "floor                           0.008508         -0.163468       0.073157   \n",
      "kitchen_area                   -0.191365          0.087789       0.029467   \n",
      "balcony                         0.048953         -0.083241       0.053198   \n",
      "airports_nearest                0.272031          0.000590      -0.070293   \n",
      "cityCenters_nearest             1.000000         -0.161071      -0.040676   \n",
      "parks_around3000               -0.161071          1.000000      -0.259420   \n",
      "parks_nearest                  -0.040676         -0.259420       1.000000   \n",
      "ponds_around3000               -0.073970          0.304743       0.077188   \n",
      "ponds_nearest                   0.029704         -0.168088       0.000592   \n",
      "days_exposition                -0.059481          0.059652       0.023674   \n",
      "price_per_meter                -0.318099          0.184915       0.007064   \n",
      "\n",
      "                     ponds_around3000  ponds_nearest  days_exposition  \\\n",
      "total_images                -0.011753      -0.003424        -0.027415   \n",
      "last_price                   0.160243      -0.085193         0.080937   \n",
      "total_area                   0.162909      -0.098608         0.149571   \n",
      "rooms                        0.092917      -0.058705         0.126497   \n",
      "ceiling_height               0.078282      -0.059388         0.019025   \n",
      "floors_total                -0.122799       0.040003        -0.052410   \n",
      "living_area                  0.149553      -0.082420         0.142171   \n",
      "floor                       -0.076504       0.025923        -0.039501   \n",
      "kitchen_area                 0.150778      -0.105349         0.101063   \n",
      "balcony                     -0.031473       0.010793        -0.031477   \n",
      "airports_nearest            -0.049590       0.013641        -0.017999   \n",
      "cityCenters_nearest         -0.073970       0.029704        -0.059481   \n",
      "parks_around3000             0.304743      -0.168088         0.059652   \n",
      "parks_nearest                0.077188       0.000592         0.023674   \n",
      "ponds_around3000             1.000000      -0.342321         0.072556   \n",
      "ponds_nearest               -0.342321       1.000000        -0.078843   \n",
      "days_exposition              0.072556      -0.078843         1.000000   \n",
      "price_per_meter              0.191394      -0.105627         0.047710   \n",
      "\n",
      "                     price_per_meter  \n",
      "total_images                0.132652  \n",
      "last_price                  0.736562  \n",
      "total_area                  0.302202  \n",
      "rooms                       0.055471  \n",
      "ceiling_height              0.122846  \n",
      "floors_total                0.148423  \n",
      "living_area                 0.226452  \n",
      "floor                       0.129143  \n",
      "kitchen_area                0.398322  \n",
      "balcony                     0.065639  \n",
      "airports_nearest           -0.038852  \n",
      "cityCenters_nearest        -0.318099  \n",
      "parks_around3000            0.184915  \n",
      "parks_nearest               0.007064  \n",
      "ponds_around3000            0.191394  \n",
      "ponds_nearest              -0.105627  \n",
      "days_exposition             0.047710  \n",
      "price_per_meter             1.000000  \n"
     ]
    },
    {
     "data": {
      "text/plain": [
       "array([[<AxesSubplot:xlabel='total_images', ylabel='total_images'>,\n",
       "        <AxesSubplot:xlabel='last_price', ylabel='total_images'>,\n",
       "        <AxesSubplot:xlabel='total_area', ylabel='total_images'>,\n",
       "        <AxesSubplot:xlabel='rooms', ylabel='total_images'>,\n",
       "        <AxesSubplot:xlabel='ceiling_height', ylabel='total_images'>,\n",
       "        <AxesSubplot:xlabel='floors_total', ylabel='total_images'>,\n",
       "        <AxesSubplot:xlabel='living_area', ylabel='total_images'>,\n",
       "        <AxesSubplot:xlabel='floor', ylabel='total_images'>,\n",
       "        <AxesSubplot:xlabel='kitchen_area', ylabel='total_images'>,\n",
       "        <AxesSubplot:xlabel='balcony', ylabel='total_images'>,\n",
       "        <AxesSubplot:xlabel='airports_nearest', ylabel='total_images'>,\n",
       "        <AxesSubplot:xlabel='cityCenters_nearest', ylabel='total_images'>,\n",
       "        <AxesSubplot:xlabel='parks_around3000', ylabel='total_images'>,\n",
       "        <AxesSubplot:xlabel='parks_nearest', ylabel='total_images'>,\n",
       "        <AxesSubplot:xlabel='ponds_around3000', ylabel='total_images'>,\n",
       "        <AxesSubplot:xlabel='ponds_nearest', ylabel='total_images'>,\n",
       "        <AxesSubplot:xlabel='days_exposition', ylabel='total_images'>,\n",
       "        <AxesSubplot:xlabel='price_per_meter', ylabel='total_images'>],\n",
       "       [<AxesSubplot:xlabel='total_images', ylabel='last_price'>,\n",
       "        <AxesSubplot:xlabel='last_price', ylabel='last_price'>,\n",
       "        <AxesSubplot:xlabel='total_area', ylabel='last_price'>,\n",
       "        <AxesSubplot:xlabel='rooms', ylabel='last_price'>,\n",
       "        <AxesSubplot:xlabel='ceiling_height', ylabel='last_price'>,\n",
       "        <AxesSubplot:xlabel='floors_total', ylabel='last_price'>,\n",
       "        <AxesSubplot:xlabel='living_area', ylabel='last_price'>,\n",
       "        <AxesSubplot:xlabel='floor', ylabel='last_price'>,\n",
       "        <AxesSubplot:xlabel='kitchen_area', ylabel='last_price'>,\n",
       "        <AxesSubplot:xlabel='balcony', ylabel='last_price'>,\n",
       "        <AxesSubplot:xlabel='airports_nearest', ylabel='last_price'>,\n",
       "        <AxesSubplot:xlabel='cityCenters_nearest', ylabel='last_price'>,\n",
       "        <AxesSubplot:xlabel='parks_around3000', ylabel='last_price'>,\n",
       "        <AxesSubplot:xlabel='parks_nearest', ylabel='last_price'>,\n",
       "        <AxesSubplot:xlabel='ponds_around3000', ylabel='last_price'>,\n",
       "        <AxesSubplot:xlabel='ponds_nearest', ylabel='last_price'>,\n",
       "        <AxesSubplot:xlabel='days_exposition', ylabel='last_price'>,\n",
       "        <AxesSubplot:xlabel='price_per_meter', ylabel='last_price'>],\n",
       "       [<AxesSubplot:xlabel='total_images', ylabel='total_area'>,\n",
       "        <AxesSubplot:xlabel='last_price', ylabel='total_area'>,\n",
       "        <AxesSubplot:xlabel='total_area', ylabel='total_area'>,\n",
       "        <AxesSubplot:xlabel='rooms', ylabel='total_area'>,\n",
       "        <AxesSubplot:xlabel='ceiling_height', ylabel='total_area'>,\n",
       "        <AxesSubplot:xlabel='floors_total', ylabel='total_area'>,\n",
       "        <AxesSubplot:xlabel='living_area', ylabel='total_area'>,\n",
       "        <AxesSubplot:xlabel='floor', ylabel='total_area'>,\n",
       "        <AxesSubplot:xlabel='kitchen_area', ylabel='total_area'>,\n",
       "        <AxesSubplot:xlabel='balcony', ylabel='total_area'>,\n",
       "        <AxesSubplot:xlabel='airports_nearest', ylabel='total_area'>,\n",
       "        <AxesSubplot:xlabel='cityCenters_nearest', ylabel='total_area'>,\n",
       "        <AxesSubplot:xlabel='parks_around3000', ylabel='total_area'>,\n",
       "        <AxesSubplot:xlabel='parks_nearest', ylabel='total_area'>,\n",
       "        <AxesSubplot:xlabel='ponds_around3000', ylabel='total_area'>,\n",
       "        <AxesSubplot:xlabel='ponds_nearest', ylabel='total_area'>,\n",
       "        <AxesSubplot:xlabel='days_exposition', ylabel='total_area'>,\n",
       "        <AxesSubplot:xlabel='price_per_meter', ylabel='total_area'>],\n",
       "       [<AxesSubplot:xlabel='total_images', ylabel='rooms'>,\n",
       "        <AxesSubplot:xlabel='last_price', ylabel='rooms'>,\n",
       "        <AxesSubplot:xlabel='total_area', ylabel='rooms'>,\n",
       "        <AxesSubplot:xlabel='rooms', ylabel='rooms'>,\n",
       "        <AxesSubplot:xlabel='ceiling_height', ylabel='rooms'>,\n",
       "        <AxesSubplot:xlabel='floors_total', ylabel='rooms'>,\n",
       "        <AxesSubplot:xlabel='living_area', ylabel='rooms'>,\n",
       "        <AxesSubplot:xlabel='floor', ylabel='rooms'>,\n",
       "        <AxesSubplot:xlabel='kitchen_area', ylabel='rooms'>,\n",
       "        <AxesSubplot:xlabel='balcony', ylabel='rooms'>,\n",
       "        <AxesSubplot:xlabel='airports_nearest', ylabel='rooms'>,\n",
       "        <AxesSubplot:xlabel='cityCenters_nearest', ylabel='rooms'>,\n",
       "        <AxesSubplot:xlabel='parks_around3000', ylabel='rooms'>,\n",
       "        <AxesSubplot:xlabel='parks_nearest', ylabel='rooms'>,\n",
       "        <AxesSubplot:xlabel='ponds_around3000', ylabel='rooms'>,\n",
       "        <AxesSubplot:xlabel='ponds_nearest', ylabel='rooms'>,\n",
       "        <AxesSubplot:xlabel='days_exposition', ylabel='rooms'>,\n",
       "        <AxesSubplot:xlabel='price_per_meter', ylabel='rooms'>],\n",
       "       [<AxesSubplot:xlabel='total_images', ylabel='ceiling_height'>,\n",
       "        <AxesSubplot:xlabel='last_price', ylabel='ceiling_height'>,\n",
       "        <AxesSubplot:xlabel='total_area', ylabel='ceiling_height'>,\n",
       "        <AxesSubplot:xlabel='rooms', ylabel='ceiling_height'>,\n",
       "        <AxesSubplot:xlabel='ceiling_height', ylabel='ceiling_height'>,\n",
       "        <AxesSubplot:xlabel='floors_total', ylabel='ceiling_height'>,\n",
       "        <AxesSubplot:xlabel='living_area', ylabel='ceiling_height'>,\n",
       "        <AxesSubplot:xlabel='floor', ylabel='ceiling_height'>,\n",
       "        <AxesSubplot:xlabel='kitchen_area', ylabel='ceiling_height'>,\n",
       "        <AxesSubplot:xlabel='balcony', ylabel='ceiling_height'>,\n",
       "        <AxesSubplot:xlabel='airports_nearest', ylabel='ceiling_height'>,\n",
       "        <AxesSubplot:xlabel='cityCenters_nearest', ylabel='ceiling_height'>,\n",
       "        <AxesSubplot:xlabel='parks_around3000', ylabel='ceiling_height'>,\n",
       "        <AxesSubplot:xlabel='parks_nearest', ylabel='ceiling_height'>,\n",
       "        <AxesSubplot:xlabel='ponds_around3000', ylabel='ceiling_height'>,\n",
       "        <AxesSubplot:xlabel='ponds_nearest', ylabel='ceiling_height'>,\n",
       "        <AxesSubplot:xlabel='days_exposition', ylabel='ceiling_height'>,\n",
       "        <AxesSubplot:xlabel='price_per_meter', ylabel='ceiling_height'>],\n",
       "       [<AxesSubplot:xlabel='total_images', ylabel='floors_total'>,\n",
       "        <AxesSubplot:xlabel='last_price', ylabel='floors_total'>,\n",
       "        <AxesSubplot:xlabel='total_area', ylabel='floors_total'>,\n",
       "        <AxesSubplot:xlabel='rooms', ylabel='floors_total'>,\n",
       "        <AxesSubplot:xlabel='ceiling_height', ylabel='floors_total'>,\n",
       "        <AxesSubplot:xlabel='floors_total', ylabel='floors_total'>,\n",
       "        <AxesSubplot:xlabel='living_area', ylabel='floors_total'>,\n",
       "        <AxesSubplot:xlabel='floor', ylabel='floors_total'>,\n",
       "        <AxesSubplot:xlabel='kitchen_area', ylabel='floors_total'>,\n",
       "        <AxesSubplot:xlabel='balcony', ylabel='floors_total'>,\n",
       "        <AxesSubplot:xlabel='airports_nearest', ylabel='floors_total'>,\n",
       "        <AxesSubplot:xlabel='cityCenters_nearest', ylabel='floors_total'>,\n",
       "        <AxesSubplot:xlabel='parks_around3000', ylabel='floors_total'>,\n",
       "        <AxesSubplot:xlabel='parks_nearest', ylabel='floors_total'>,\n",
       "        <AxesSubplot:xlabel='ponds_around3000', ylabel='floors_total'>,\n",
       "        <AxesSubplot:xlabel='ponds_nearest', ylabel='floors_total'>,\n",
       "        <AxesSubplot:xlabel='days_exposition', ylabel='floors_total'>,\n",
       "        <AxesSubplot:xlabel='price_per_meter', ylabel='floors_total'>],\n",
       "       [<AxesSubplot:xlabel='total_images', ylabel='living_area'>,\n",
       "        <AxesSubplot:xlabel='last_price', ylabel='living_area'>,\n",
       "        <AxesSubplot:xlabel='total_area', ylabel='living_area'>,\n",
       "        <AxesSubplot:xlabel='rooms', ylabel='living_area'>,\n",
       "        <AxesSubplot:xlabel='ceiling_height', ylabel='living_area'>,\n",
       "        <AxesSubplot:xlabel='floors_total', ylabel='living_area'>,\n",
       "        <AxesSubplot:xlabel='living_area', ylabel='living_area'>,\n",
       "        <AxesSubplot:xlabel='floor', ylabel='living_area'>,\n",
       "        <AxesSubplot:xlabel='kitchen_area', ylabel='living_area'>,\n",
       "        <AxesSubplot:xlabel='balcony', ylabel='living_area'>,\n",
       "        <AxesSubplot:xlabel='airports_nearest', ylabel='living_area'>,\n",
       "        <AxesSubplot:xlabel='cityCenters_nearest', ylabel='living_area'>,\n",
       "        <AxesSubplot:xlabel='parks_around3000', ylabel='living_area'>,\n",
       "        <AxesSubplot:xlabel='parks_nearest', ylabel='living_area'>,\n",
       "        <AxesSubplot:xlabel='ponds_around3000', ylabel='living_area'>,\n",
       "        <AxesSubplot:xlabel='ponds_nearest', ylabel='living_area'>,\n",
       "        <AxesSubplot:xlabel='days_exposition', ylabel='living_area'>,\n",
       "        <AxesSubplot:xlabel='price_per_meter', ylabel='living_area'>],\n",
       "       [<AxesSubplot:xlabel='total_images', ylabel='floor'>,\n",
       "        <AxesSubplot:xlabel='last_price', ylabel='floor'>,\n",
       "        <AxesSubplot:xlabel='total_area', ylabel='floor'>,\n",
       "        <AxesSubplot:xlabel='rooms', ylabel='floor'>,\n",
       "        <AxesSubplot:xlabel='ceiling_height', ylabel='floor'>,\n",
       "        <AxesSubplot:xlabel='floors_total', ylabel='floor'>,\n",
       "        <AxesSubplot:xlabel='living_area', ylabel='floor'>,\n",
       "        <AxesSubplot:xlabel='floor', ylabel='floor'>,\n",
       "        <AxesSubplot:xlabel='kitchen_area', ylabel='floor'>,\n",
       "        <AxesSubplot:xlabel='balcony', ylabel='floor'>,\n",
       "        <AxesSubplot:xlabel='airports_nearest', ylabel='floor'>,\n",
       "        <AxesSubplot:xlabel='cityCenters_nearest', ylabel='floor'>,\n",
       "        <AxesSubplot:xlabel='parks_around3000', ylabel='floor'>,\n",
       "        <AxesSubplot:xlabel='parks_nearest', ylabel='floor'>,\n",
       "        <AxesSubplot:xlabel='ponds_around3000', ylabel='floor'>,\n",
       "        <AxesSubplot:xlabel='ponds_nearest', ylabel='floor'>,\n",
       "        <AxesSubplot:xlabel='days_exposition', ylabel='floor'>,\n",
       "        <AxesSubplot:xlabel='price_per_meter', ylabel='floor'>],\n",
       "       [<AxesSubplot:xlabel='total_images', ylabel='kitchen_area'>,\n",
       "        <AxesSubplot:xlabel='last_price', ylabel='kitchen_area'>,\n",
       "        <AxesSubplot:xlabel='total_area', ylabel='kitchen_area'>,\n",
       "        <AxesSubplot:xlabel='rooms', ylabel='kitchen_area'>,\n",
       "        <AxesSubplot:xlabel='ceiling_height', ylabel='kitchen_area'>,\n",
       "        <AxesSubplot:xlabel='floors_total', ylabel='kitchen_area'>,\n",
       "        <AxesSubplot:xlabel='living_area', ylabel='kitchen_area'>,\n",
       "        <AxesSubplot:xlabel='floor', ylabel='kitchen_area'>,\n",
       "        <AxesSubplot:xlabel='kitchen_area', ylabel='kitchen_area'>,\n",
       "        <AxesSubplot:xlabel='balcony', ylabel='kitchen_area'>,\n",
       "        <AxesSubplot:xlabel='airports_nearest', ylabel='kitchen_area'>,\n",
       "        <AxesSubplot:xlabel='cityCenters_nearest', ylabel='kitchen_area'>,\n",
       "        <AxesSubplot:xlabel='parks_around3000', ylabel='kitchen_area'>,\n",
       "        <AxesSubplot:xlabel='parks_nearest', ylabel='kitchen_area'>,\n",
       "        <AxesSubplot:xlabel='ponds_around3000', ylabel='kitchen_area'>,\n",
       "        <AxesSubplot:xlabel='ponds_nearest', ylabel='kitchen_area'>,\n",
       "        <AxesSubplot:xlabel='days_exposition', ylabel='kitchen_area'>,\n",
       "        <AxesSubplot:xlabel='price_per_meter', ylabel='kitchen_area'>],\n",
       "       [<AxesSubplot:xlabel='total_images', ylabel='balcony'>,\n",
       "        <AxesSubplot:xlabel='last_price', ylabel='balcony'>,\n",
       "        <AxesSubplot:xlabel='total_area', ylabel='balcony'>,\n",
       "        <AxesSubplot:xlabel='rooms', ylabel='balcony'>,\n",
       "        <AxesSubplot:xlabel='ceiling_height', ylabel='balcony'>,\n",
       "        <AxesSubplot:xlabel='floors_total', ylabel='balcony'>,\n",
       "        <AxesSubplot:xlabel='living_area', ylabel='balcony'>,\n",
       "        <AxesSubplot:xlabel='floor', ylabel='balcony'>,\n",
       "        <AxesSubplot:xlabel='kitchen_area', ylabel='balcony'>,\n",
       "        <AxesSubplot:xlabel='balcony', ylabel='balcony'>,\n",
       "        <AxesSubplot:xlabel='airports_nearest', ylabel='balcony'>,\n",
       "        <AxesSubplot:xlabel='cityCenters_nearest', ylabel='balcony'>,\n",
       "        <AxesSubplot:xlabel='parks_around3000', ylabel='balcony'>,\n",
       "        <AxesSubplot:xlabel='parks_nearest', ylabel='balcony'>,\n",
       "        <AxesSubplot:xlabel='ponds_around3000', ylabel='balcony'>,\n",
       "        <AxesSubplot:xlabel='ponds_nearest', ylabel='balcony'>,\n",
       "        <AxesSubplot:xlabel='days_exposition', ylabel='balcony'>,\n",
       "        <AxesSubplot:xlabel='price_per_meter', ylabel='balcony'>],\n",
       "       [<AxesSubplot:xlabel='total_images', ylabel='airports_nearest'>,\n",
       "        <AxesSubplot:xlabel='last_price', ylabel='airports_nearest'>,\n",
       "        <AxesSubplot:xlabel='total_area', ylabel='airports_nearest'>,\n",
       "        <AxesSubplot:xlabel='rooms', ylabel='airports_nearest'>,\n",
       "        <AxesSubplot:xlabel='ceiling_height', ylabel='airports_nearest'>,\n",
       "        <AxesSubplot:xlabel='floors_total', ylabel='airports_nearest'>,\n",
       "        <AxesSubplot:xlabel='living_area', ylabel='airports_nearest'>,\n",
       "        <AxesSubplot:xlabel='floor', ylabel='airports_nearest'>,\n",
       "        <AxesSubplot:xlabel='kitchen_area', ylabel='airports_nearest'>,\n",
       "        <AxesSubplot:xlabel='balcony', ylabel='airports_nearest'>,\n",
       "        <AxesSubplot:xlabel='airports_nearest', ylabel='airports_nearest'>,\n",
       "        <AxesSubplot:xlabel='cityCenters_nearest', ylabel='airports_nearest'>,\n",
       "        <AxesSubplot:xlabel='parks_around3000', ylabel='airports_nearest'>,\n",
       "        <AxesSubplot:xlabel='parks_nearest', ylabel='airports_nearest'>,\n",
       "        <AxesSubplot:xlabel='ponds_around3000', ylabel='airports_nearest'>,\n",
       "        <AxesSubplot:xlabel='ponds_nearest', ylabel='airports_nearest'>,\n",
       "        <AxesSubplot:xlabel='days_exposition', ylabel='airports_nearest'>,\n",
       "        <AxesSubplot:xlabel='price_per_meter', ylabel='airports_nearest'>],\n",
       "       [<AxesSubplot:xlabel='total_images', ylabel='cityCenters_nearest'>,\n",
       "        <AxesSubplot:xlabel='last_price', ylabel='cityCenters_nearest'>,\n",
       "        <AxesSubplot:xlabel='total_area', ylabel='cityCenters_nearest'>,\n",
       "        <AxesSubplot:xlabel='rooms', ylabel='cityCenters_nearest'>,\n",
       "        <AxesSubplot:xlabel='ceiling_height', ylabel='cityCenters_nearest'>,\n",
       "        <AxesSubplot:xlabel='floors_total', ylabel='cityCenters_nearest'>,\n",
       "        <AxesSubplot:xlabel='living_area', ylabel='cityCenters_nearest'>,\n",
       "        <AxesSubplot:xlabel='floor', ylabel='cityCenters_nearest'>,\n",
       "        <AxesSubplot:xlabel='kitchen_area', ylabel='cityCenters_nearest'>,\n",
       "        <AxesSubplot:xlabel='balcony', ylabel='cityCenters_nearest'>,\n",
       "        <AxesSubplot:xlabel='airports_nearest', ylabel='cityCenters_nearest'>,\n",
       "        <AxesSubplot:xlabel='cityCenters_nearest', ylabel='cityCenters_nearest'>,\n",
       "        <AxesSubplot:xlabel='parks_around3000', ylabel='cityCenters_nearest'>,\n",
       "        <AxesSubplot:xlabel='parks_nearest', ylabel='cityCenters_nearest'>,\n",
       "        <AxesSubplot:xlabel='ponds_around3000', ylabel='cityCenters_nearest'>,\n",
       "        <AxesSubplot:xlabel='ponds_nearest', ylabel='cityCenters_nearest'>,\n",
       "        <AxesSubplot:xlabel='days_exposition', ylabel='cityCenters_nearest'>,\n",
       "        <AxesSubplot:xlabel='price_per_meter', ylabel='cityCenters_nearest'>],\n",
       "       [<AxesSubplot:xlabel='total_images', ylabel='parks_around3000'>,\n",
       "        <AxesSubplot:xlabel='last_price', ylabel='parks_around3000'>,\n",
       "        <AxesSubplot:xlabel='total_area', ylabel='parks_around3000'>,\n",
       "        <AxesSubplot:xlabel='rooms', ylabel='parks_around3000'>,\n",
       "        <AxesSubplot:xlabel='ceiling_height', ylabel='parks_around3000'>,\n",
       "        <AxesSubplot:xlabel='floors_total', ylabel='parks_around3000'>,\n",
       "        <AxesSubplot:xlabel='living_area', ylabel='parks_around3000'>,\n",
       "        <AxesSubplot:xlabel='floor', ylabel='parks_around3000'>,\n",
       "        <AxesSubplot:xlabel='kitchen_area', ylabel='parks_around3000'>,\n",
       "        <AxesSubplot:xlabel='balcony', ylabel='parks_around3000'>,\n",
       "        <AxesSubplot:xlabel='airports_nearest', ylabel='parks_around3000'>,\n",
       "        <AxesSubplot:xlabel='cityCenters_nearest', ylabel='parks_around3000'>,\n",
       "        <AxesSubplot:xlabel='parks_around3000', ylabel='parks_around3000'>,\n",
       "        <AxesSubplot:xlabel='parks_nearest', ylabel='parks_around3000'>,\n",
       "        <AxesSubplot:xlabel='ponds_around3000', ylabel='parks_around3000'>,\n",
       "        <AxesSubplot:xlabel='ponds_nearest', ylabel='parks_around3000'>,\n",
       "        <AxesSubplot:xlabel='days_exposition', ylabel='parks_around3000'>,\n",
       "        <AxesSubplot:xlabel='price_per_meter', ylabel='parks_around3000'>],\n",
       "       [<AxesSubplot:xlabel='total_images', ylabel='parks_nearest'>,\n",
       "        <AxesSubplot:xlabel='last_price', ylabel='parks_nearest'>,\n",
       "        <AxesSubplot:xlabel='total_area', ylabel='parks_nearest'>,\n",
       "        <AxesSubplot:xlabel='rooms', ylabel='parks_nearest'>,\n",
       "        <AxesSubplot:xlabel='ceiling_height', ylabel='parks_nearest'>,\n",
       "        <AxesSubplot:xlabel='floors_total', ylabel='parks_nearest'>,\n",
       "        <AxesSubplot:xlabel='living_area', ylabel='parks_nearest'>,\n",
       "        <AxesSubplot:xlabel='floor', ylabel='parks_nearest'>,\n",
       "        <AxesSubplot:xlabel='kitchen_area', ylabel='parks_nearest'>,\n",
       "        <AxesSubplot:xlabel='balcony', ylabel='parks_nearest'>,\n",
       "        <AxesSubplot:xlabel='airports_nearest', ylabel='parks_nearest'>,\n",
       "        <AxesSubplot:xlabel='cityCenters_nearest', ylabel='parks_nearest'>,\n",
       "        <AxesSubplot:xlabel='parks_around3000', ylabel='parks_nearest'>,\n",
       "        <AxesSubplot:xlabel='parks_nearest', ylabel='parks_nearest'>,\n",
       "        <AxesSubplot:xlabel='ponds_around3000', ylabel='parks_nearest'>,\n",
       "        <AxesSubplot:xlabel='ponds_nearest', ylabel='parks_nearest'>,\n",
       "        <AxesSubplot:xlabel='days_exposition', ylabel='parks_nearest'>,\n",
       "        <AxesSubplot:xlabel='price_per_meter', ylabel='parks_nearest'>],\n",
       "       [<AxesSubplot:xlabel='total_images', ylabel='ponds_around3000'>,\n",
       "        <AxesSubplot:xlabel='last_price', ylabel='ponds_around3000'>,\n",
       "        <AxesSubplot:xlabel='total_area', ylabel='ponds_around3000'>,\n",
       "        <AxesSubplot:xlabel='rooms', ylabel='ponds_around3000'>,\n",
       "        <AxesSubplot:xlabel='ceiling_height', ylabel='ponds_around3000'>,\n",
       "        <AxesSubplot:xlabel='floors_total', ylabel='ponds_around3000'>,\n",
       "        <AxesSubplot:xlabel='living_area', ylabel='ponds_around3000'>,\n",
       "        <AxesSubplot:xlabel='floor', ylabel='ponds_around3000'>,\n",
       "        <AxesSubplot:xlabel='kitchen_area', ylabel='ponds_around3000'>,\n",
       "        <AxesSubplot:xlabel='balcony', ylabel='ponds_around3000'>,\n",
       "        <AxesSubplot:xlabel='airports_nearest', ylabel='ponds_around3000'>,\n",
       "        <AxesSubplot:xlabel='cityCenters_nearest', ylabel='ponds_around3000'>,\n",
       "        <AxesSubplot:xlabel='parks_around3000', ylabel='ponds_around3000'>,\n",
       "        <AxesSubplot:xlabel='parks_nearest', ylabel='ponds_around3000'>,\n",
       "        <AxesSubplot:xlabel='ponds_around3000', ylabel='ponds_around3000'>,\n",
       "        <AxesSubplot:xlabel='ponds_nearest', ylabel='ponds_around3000'>,\n",
       "        <AxesSubplot:xlabel='days_exposition', ylabel='ponds_around3000'>,\n",
       "        <AxesSubplot:xlabel='price_per_meter', ylabel='ponds_around3000'>],\n",
       "       [<AxesSubplot:xlabel='total_images', ylabel='ponds_nearest'>,\n",
       "        <AxesSubplot:xlabel='last_price', ylabel='ponds_nearest'>,\n",
       "        <AxesSubplot:xlabel='total_area', ylabel='ponds_nearest'>,\n",
       "        <AxesSubplot:xlabel='rooms', ylabel='ponds_nearest'>,\n",
       "        <AxesSubplot:xlabel='ceiling_height', ylabel='ponds_nearest'>,\n",
       "        <AxesSubplot:xlabel='floors_total', ylabel='ponds_nearest'>,\n",
       "        <AxesSubplot:xlabel='living_area', ylabel='ponds_nearest'>,\n",
       "        <AxesSubplot:xlabel='floor', ylabel='ponds_nearest'>,\n",
       "        <AxesSubplot:xlabel='kitchen_area', ylabel='ponds_nearest'>,\n",
       "        <AxesSubplot:xlabel='balcony', ylabel='ponds_nearest'>,\n",
       "        <AxesSubplot:xlabel='airports_nearest', ylabel='ponds_nearest'>,\n",
       "        <AxesSubplot:xlabel='cityCenters_nearest', ylabel='ponds_nearest'>,\n",
       "        <AxesSubplot:xlabel='parks_around3000', ylabel='ponds_nearest'>,\n",
       "        <AxesSubplot:xlabel='parks_nearest', ylabel='ponds_nearest'>,\n",
       "        <AxesSubplot:xlabel='ponds_around3000', ylabel='ponds_nearest'>,\n",
       "        <AxesSubplot:xlabel='ponds_nearest', ylabel='ponds_nearest'>,\n",
       "        <AxesSubplot:xlabel='days_exposition', ylabel='ponds_nearest'>,\n",
       "        <AxesSubplot:xlabel='price_per_meter', ylabel='ponds_nearest'>],\n",
       "       [<AxesSubplot:xlabel='total_images', ylabel='days_exposition'>,\n",
       "        <AxesSubplot:xlabel='last_price', ylabel='days_exposition'>,\n",
       "        <AxesSubplot:xlabel='total_area', ylabel='days_exposition'>,\n",
       "        <AxesSubplot:xlabel='rooms', ylabel='days_exposition'>,\n",
       "        <AxesSubplot:xlabel='ceiling_height', ylabel='days_exposition'>,\n",
       "        <AxesSubplot:xlabel='floors_total', ylabel='days_exposition'>,\n",
       "        <AxesSubplot:xlabel='living_area', ylabel='days_exposition'>,\n",
       "        <AxesSubplot:xlabel='floor', ylabel='days_exposition'>,\n",
       "        <AxesSubplot:xlabel='kitchen_area', ylabel='days_exposition'>,\n",
       "        <AxesSubplot:xlabel='balcony', ylabel='days_exposition'>,\n",
       "        <AxesSubplot:xlabel='airports_nearest', ylabel='days_exposition'>,\n",
       "        <AxesSubplot:xlabel='cityCenters_nearest', ylabel='days_exposition'>,\n",
       "        <AxesSubplot:xlabel='parks_around3000', ylabel='days_exposition'>,\n",
       "        <AxesSubplot:xlabel='parks_nearest', ylabel='days_exposition'>,\n",
       "        <AxesSubplot:xlabel='ponds_around3000', ylabel='days_exposition'>,\n",
       "        <AxesSubplot:xlabel='ponds_nearest', ylabel='days_exposition'>,\n",
       "        <AxesSubplot:xlabel='days_exposition', ylabel='days_exposition'>,\n",
       "        <AxesSubplot:xlabel='price_per_meter', ylabel='days_exposition'>],\n",
       "       [<AxesSubplot:xlabel='total_images', ylabel='price_per_meter'>,\n",
       "        <AxesSubplot:xlabel='last_price', ylabel='price_per_meter'>,\n",
       "        <AxesSubplot:xlabel='total_area', ylabel='price_per_meter'>,\n",
       "        <AxesSubplot:xlabel='rooms', ylabel='price_per_meter'>,\n",
       "        <AxesSubplot:xlabel='ceiling_height', ylabel='price_per_meter'>,\n",
       "        <AxesSubplot:xlabel='floors_total', ylabel='price_per_meter'>,\n",
       "        <AxesSubplot:xlabel='living_area', ylabel='price_per_meter'>,\n",
       "        <AxesSubplot:xlabel='floor', ylabel='price_per_meter'>,\n",
       "        <AxesSubplot:xlabel='kitchen_area', ylabel='price_per_meter'>,\n",
       "        <AxesSubplot:xlabel='balcony', ylabel='price_per_meter'>,\n",
       "        <AxesSubplot:xlabel='airports_nearest', ylabel='price_per_meter'>,\n",
       "        <AxesSubplot:xlabel='cityCenters_nearest', ylabel='price_per_meter'>,\n",
       "        <AxesSubplot:xlabel='parks_around3000', ylabel='price_per_meter'>,\n",
       "        <AxesSubplot:xlabel='parks_nearest', ylabel='price_per_meter'>,\n",
       "        <AxesSubplot:xlabel='ponds_around3000', ylabel='price_per_meter'>,\n",
       "        <AxesSubplot:xlabel='ponds_nearest', ylabel='price_per_meter'>,\n",
       "        <AxesSubplot:xlabel='days_exposition', ylabel='price_per_meter'>,\n",
       "        <AxesSubplot:xlabel='price_per_meter', ylabel='price_per_meter'>]],\n",
       "      dtype=object)"
      ]
     },
     "execution_count": 31,
     "metadata": {},
     "output_type": "execute_result"
    },
    {
     "data": {
      "image/png": "[encoded data removed]",
      "text/plain": [
       "<Figure size 864x864 with 324 Axes>"
      ]
     },
     "metadata": {
      "needs_background": "light"
     },
     "output_type": "display_data"
    }
   ],
   "source": [
    "print(num_data.corr()) \n",
    "\n",
    "pd.plotting.scatter_matrix(num_data, figsize=(12, 12))"
   ]
  },
  {
   "cell_type": "markdown",
   "metadata": {},
   "source": [
    "### Общий вывод"
   ]
  },
  {
   "cell_type": "markdown",
   "metadata": {},
   "source": []
  },
  {
   "cell_type": "markdown",
   "metadata": {},
   "source": [
    "**Чек-лист готовности проекта**\n",
    "\n",
    "Поставьте 'x' в выполненных пунктах. Далее нажмите Shift+Enter."
   ]
  },
  {
   "cell_type": "markdown",
   "metadata": {},
   "source": [
    "- [x]  открыт файл\n",
    "- [x]  файлы изучены (выведены первые строки, метод `info()`, гистограммы и т.д.)\n",
    "- [x]  определены пропущенные значения\n",
    "- [ ]  заполнены пропущенные значения там, где это возможно\n",
    "- [ ]  есть пояснение, какие пропущенные значения обнаружены\n",
    "- [ ]  изменены типы данных\n",
    "- [ ]  есть пояснение, в каких столбцах изменены типы и почему\n",
    "- [ ]  устранены неявные дубликаты в названиях населённых пунктов\n",
    "- [ ]  устранены редкие и выбивающиеся значения (аномалии) во всех столбцах\n",
    "- [ ]  посчитано и добавлено в таблицу: цена одного квадратного метра\n",
    "- [ ]  посчитано и добавлено в таблицу: день публикации объявления (0 - понедельник, 1 - вторник и т.д.)\n",
    "- [ ]  посчитано и добавлено в таблицу: месяц публикации объявления\n",
    "- [ ]  посчитано и добавлено в таблицу: год публикации объявления\n",
    "- [ ]  посчитано и добавлено в таблицу: тип этажа квартиры (значения — «первый», «последний», «другой»)\n",
    "- [ ]  посчитано и добавлено в таблицу: расстояние в км до центра города\n",
    "- [ ]  изучены и описаны следующие параметры:\n",
    "        - общая площадь;\n",
    "        - жилая площадь;\n",
    "        - площадь кухни;\n",
    "        - цена объекта;\n",
    "        - количество комнат;\n",
    "        - высота потолков;\n",
    "        - этаж квартиры;\n",
    "        - тип этажа квартиры («первый», «последний», «другой»);\n",
    "        - общее количество этажей в доме;\n",
    "        - расстояние до центра города в метрах;\n",
    "        - расстояние до ближайшего аэропорта;\n",
    "        - расстояние до ближайшего парка;\n",
    "        - день и месяц публикации объявления\n",
    "- [ ]  построены гистограммы для каждого параметра\n",
    "- [ ]  выполнено задание: \"Изучите, как быстро продавались квартиры (столбец days_exposition). Этот параметр показывает, сколько дней «висело» каждое объявление.\n",
    "    - Постройте гистограмму.\n",
    "    - Посчитайте среднее и медиану.\n",
    "    - В ячейке типа markdown опишите, сколько обычно занимает продажа. Какие продажи можно считать быстрыми, а какие — необычно долгими?\"\n",
    "- [ ]  выполнено задание: \"Какие факторы больше всего влияют на общую (полную) стоимость объекта? Постройте графики, которые покажут зависимость цены от указанных ниже параметров. Для подготовки данных перед визуализацией вы можете использовать сводные таблицы.\"\n",
    "        - общей площади;\n",
    "        - жилой площади;\n",
    "        - площади кухни;\n",
    "        - количество комнат;\n",
    "        - типа этажа, на котором расположена квартира (первый, последний, другой);\n",
    "        - даты размещения (день недели, месяц, год);\n",
    "- [ ]  выполнено задание: \"Посчитайте среднюю цену одного квадратного метра в 10 населённых пунктах с наибольшим числом объявлений. Выделите населённые пункты с самой высокой и низкой стоимостью квадратного метра. Эти данные можно найти по имени в столбце `locality_name`.\"\n",
    "- [ ]  выполнено задание: \"Ранее вы посчитали расстояние до центра в километрах. Теперь выделите квартиры в Санкт-Петербурге с помощью столбца `locality_name` и вычислите среднюю цену каждого километра. Опишите, как стоимость объектов зависит от расстояния до центра города.\"\n",
    "- [ ]  в каждом этапе есть промежуточные выводы\n",
    "- [ ]  есть общий вывод"
   ]
  },
  {
   "cell_type": "code",
   "execution_count": null,
   "metadata": {},
   "outputs": [],
   "source": []
  }
 ],
 "metadata": {
  "ExecuteTimeLog": [
   {
    "duration": 83,
    "start_time": "2022-09-21T10:35:46.981Z"
   },
   {
    "duration": 1105,
    "start_time": "2022-09-21T10:35:54.024Z"
   },
   {
    "duration": 82,
    "start_time": "2022-09-21T10:36:05.121Z"
   },
   {
    "duration": 80,
    "start_time": "2022-09-21T10:37:14.181Z"
   },
   {
    "duration": 77,
    "start_time": "2022-09-21T10:37:27.881Z"
   },
   {
    "duration": 15,
    "start_time": "2022-09-21T10:37:42.900Z"
   },
   {
    "duration": 925,
    "start_time": "2022-09-21T10:37:52.805Z"
   },
   {
    "duration": 82,
    "start_time": "2022-09-21T10:39:25.475Z"
   },
   {
    "duration": 561,
    "start_time": "2022-09-21T10:39:39.239Z"
   },
   {
    "duration": 52,
    "start_time": "2022-09-21T10:39:57.701Z"
   },
   {
    "duration": 33,
    "start_time": "2022-09-21T10:40:04.457Z"
   },
   {
    "duration": 93,
    "start_time": "2022-09-21T10:40:11.760Z"
   },
   {
    "duration": 31,
    "start_time": "2022-09-21T10:40:15.001Z"
   },
   {
    "duration": 540,
    "start_time": "2022-09-21T10:40:48.231Z"
   },
   {
    "duration": 95,
    "start_time": "2022-09-21T10:41:16.401Z"
   },
   {
    "duration": 81,
    "start_time": "2022-09-21T10:41:23.361Z"
   },
   {
    "duration": 14,
    "start_time": "2022-09-21T10:41:27.273Z"
   },
   {
    "duration": 8,
    "start_time": "2022-09-21T10:42:54.629Z"
   },
   {
    "duration": 7,
    "start_time": "2022-09-21T10:42:59.025Z"
   },
   {
    "duration": 9,
    "start_time": "2022-09-21T10:43:07.401Z"
   },
   {
    "duration": 116,
    "start_time": "2022-09-21T10:43:23.241Z"
   },
   {
    "duration": 7,
    "start_time": "2022-09-21T10:43:26.931Z"
   },
   {
    "duration": 7,
    "start_time": "2022-09-21T10:43:31.853Z"
   },
   {
    "duration": 5,
    "start_time": "2022-09-21T10:43:43.982Z"
   },
   {
    "duration": 4,
    "start_time": "2022-09-21T10:43:55.581Z"
   },
   {
    "duration": 5,
    "start_time": "2022-09-21T10:44:35.028Z"
   },
   {
    "duration": 70,
    "start_time": "2022-09-21T10:44:45.342Z"
   },
   {
    "duration": 7,
    "start_time": "2022-09-21T10:44:50.827Z"
   },
   {
    "duration": 9,
    "start_time": "2022-09-21T10:45:00.100Z"
   },
   {
    "duration": 108,
    "start_time": "2022-09-21T10:45:22.302Z"
   },
   {
    "duration": 67,
    "start_time": "2022-09-21T10:53:49.992Z"
   },
   {
    "duration": 88,
    "start_time": "2022-09-21T10:54:02.325Z"
   },
   {
    "duration": 8,
    "start_time": "2022-09-21T10:54:14.432Z"
   },
   {
    "duration": 8,
    "start_time": "2022-09-21T10:54:22.180Z"
   },
   {
    "duration": 3,
    "start_time": "2022-09-21T10:54:30.101Z"
   },
   {
    "duration": 7,
    "start_time": "2022-09-21T10:54:38.729Z"
   },
   {
    "duration": 4,
    "start_time": "2022-09-21T10:54:45.980Z"
   },
   {
    "duration": 83,
    "start_time": "2022-09-21T10:54:52.528Z"
   },
   {
    "duration": 3,
    "start_time": "2022-09-21T10:54:58.461Z"
   },
   {
    "duration": 6,
    "start_time": "2022-09-21T10:55:24.804Z"
   },
   {
    "duration": 6,
    "start_time": "2022-09-21T10:56:22.541Z"
   },
   {
    "duration": 13,
    "start_time": "2022-09-21T10:58:15.240Z"
   },
   {
    "duration": 16,
    "start_time": "2022-09-21T11:06:17.461Z"
   },
   {
    "duration": 67,
    "start_time": "2022-09-21T11:06:39.943Z"
   },
   {
    "duration": 60,
    "start_time": "2022-09-21T11:07:17.649Z"
   },
   {
    "duration": 88,
    "start_time": "2022-09-21T11:07:43.044Z"
   },
   {
    "duration": 15,
    "start_time": "2022-09-21T11:07:56.742Z"
   },
   {
    "duration": 13,
    "start_time": "2022-09-21T11:09:11.808Z"
   },
   {
    "duration": 119,
    "start_time": "2022-09-21T11:10:41.213Z"
   },
   {
    "duration": 374,
    "start_time": "2022-09-21T11:12:28.681Z"
   },
   {
    "duration": 86,
    "start_time": "2022-09-21T11:27:03.435Z"
   },
   {
    "duration": 129,
    "start_time": "2022-09-21T11:28:28.403Z"
   },
   {
    "duration": 108,
    "start_time": "2022-09-21T11:32:07.433Z"
   },
   {
    "duration": 92,
    "start_time": "2022-09-21T11:32:22.402Z"
   },
   {
    "duration": 114,
    "start_time": "2022-09-21T11:32:27.841Z"
   },
   {
    "duration": 112,
    "start_time": "2022-09-21T11:32:34.733Z"
   },
   {
    "duration": 98,
    "start_time": "2022-09-21T11:33:03.932Z"
   },
   {
    "duration": 86,
    "start_time": "2022-09-21T11:33:17.942Z"
   },
   {
    "duration": 12,
    "start_time": "2022-09-21T11:33:20.562Z"
   },
   {
    "duration": 86,
    "start_time": "2022-09-21T11:33:38.857Z"
   },
   {
    "duration": 11,
    "start_time": "2022-09-21T11:33:38.945Z"
   },
   {
    "duration": 20,
    "start_time": "2022-09-21T11:33:38.957Z"
   },
   {
    "duration": 72,
    "start_time": "2022-09-21T11:33:38.979Z"
   },
   {
    "duration": 8,
    "start_time": "2022-09-21T11:33:39.053Z"
   },
   {
    "duration": 1254,
    "start_time": "2022-09-21T11:34:09.384Z"
   },
   {
    "duration": 9,
    "start_time": "2022-09-21T11:37:48.945Z"
   },
   {
    "duration": 7,
    "start_time": "2022-09-21T11:37:59.025Z"
   },
   {
    "duration": 8,
    "start_time": "2022-09-21T11:38:11.177Z"
   },
   {
    "duration": 8,
    "start_time": "2022-09-21T11:41:15.554Z"
   },
   {
    "duration": 7,
    "start_time": "2022-09-21T11:41:52.274Z"
   },
   {
    "duration": 10,
    "start_time": "2022-09-21T11:42:13.374Z"
   },
   {
    "duration": 14,
    "start_time": "2022-09-21T11:42:14.922Z"
   },
   {
    "duration": 88,
    "start_time": "2022-09-21T11:42:16.362Z"
   },
   {
    "duration": 7,
    "start_time": "2022-09-21T11:42:17.882Z"
   },
   {
    "duration": 7,
    "start_time": "2022-09-21T11:42:25.141Z"
   },
   {
    "duration": 7,
    "start_time": "2022-09-21T11:42:37.481Z"
   },
   {
    "duration": 5,
    "start_time": "2022-09-21T11:43:30.503Z"
   },
   {
    "duration": 7,
    "start_time": "2022-09-21T11:43:59.346Z"
   },
   {
    "duration": 7,
    "start_time": "2022-09-21T11:44:04.602Z"
   },
   {
    "duration": 157,
    "start_time": "2022-09-21T11:44:09.902Z"
   },
   {
    "duration": 4,
    "start_time": "2022-09-21T11:44:13.982Z"
   },
   {
    "duration": 4,
    "start_time": "2022-09-21T11:44:27.588Z"
   },
   {
    "duration": 1389,
    "start_time": "2022-09-21T11:44:51.082Z"
   },
   {
    "duration": 6,
    "start_time": "2022-09-21T11:45:08.050Z"
   },
   {
    "duration": 2452,
    "start_time": "2022-09-21T11:49:05.582Z"
   },
   {
    "duration": 27,
    "start_time": "2022-09-21T11:49:18.435Z"
   },
   {
    "duration": 31,
    "start_time": "2022-09-21T11:49:30.127Z"
   },
   {
    "duration": 7,
    "start_time": "2022-09-21T11:55:21.002Z"
   },
   {
    "duration": 24,
    "start_time": "2022-09-21T11:55:32.962Z"
   },
   {
    "duration": 1253,
    "start_time": "2022-09-21T11:55:38.463Z"
   },
   {
    "duration": 148,
    "start_time": "2022-09-21T11:56:36.262Z"
   },
   {
    "duration": 124,
    "start_time": "2022-09-21T13:10:43.954Z"
   },
   {
    "duration": 90,
    "start_time": "2022-09-21T13:10:49.207Z"
   },
   {
    "duration": 12,
    "start_time": "2022-09-21T13:10:52.714Z"
   },
   {
    "duration": 16,
    "start_time": "2022-09-21T13:10:57.842Z"
   },
   {
    "duration": 73,
    "start_time": "2022-09-21T13:11:00.682Z"
   },
   {
    "duration": 3,
    "start_time": "2022-09-21T13:11:04.230Z"
   },
   {
    "duration": 142,
    "start_time": "2022-09-21T13:11:20.061Z"
   },
   {
    "duration": 86,
    "start_time": "2022-09-21T13:12:03.781Z"
   },
   {
    "duration": 1821,
    "start_time": "2022-09-21T13:12:10.409Z"
   },
   {
    "duration": 7,
    "start_time": "2022-09-21T13:30:23.934Z"
   },
   {
    "duration": 6,
    "start_time": "2022-09-21T13:30:34.902Z"
   },
   {
    "duration": 47,
    "start_time": "2022-09-22T02:08:08.346Z"
   },
   {
    "duration": 723,
    "start_time": "2022-09-22T02:08:49.348Z"
   },
   {
    "duration": 19,
    "start_time": "2022-09-22T02:08:50.073Z"
   },
   {
    "duration": 14,
    "start_time": "2022-09-22T02:08:50.094Z"
   },
   {
    "duration": 8,
    "start_time": "2022-09-22T02:08:50.110Z"
   },
   {
    "duration": 87,
    "start_time": "2022-09-22T02:08:50.120Z"
   },
   {
    "duration": 2448,
    "start_time": "2022-09-22T02:08:50.209Z"
   },
   {
    "duration": 15981,
    "start_time": "2022-09-22T02:08:58.476Z"
   },
   {
    "duration": 7,
    "start_time": "2022-09-22T02:20:59.563Z"
   },
   {
    "duration": 15,
    "start_time": "2022-09-22T02:21:35.489Z"
   },
   {
    "duration": 9,
    "start_time": "2022-09-22T02:21:46.392Z"
   },
   {
    "duration": 6,
    "start_time": "2022-09-22T02:22:06.763Z"
   },
   {
    "duration": 7,
    "start_time": "2022-09-22T02:22:16.572Z"
   },
   {
    "duration": 7,
    "start_time": "2022-09-22T02:22:26.757Z"
   },
   {
    "duration": 6,
    "start_time": "2022-09-22T02:22:36.046Z"
   },
   {
    "duration": 7,
    "start_time": "2022-09-22T02:22:47.691Z"
   },
   {
    "duration": 63,
    "start_time": "2022-09-22T02:22:55.578Z"
   },
   {
    "duration": 6,
    "start_time": "2022-09-22T02:23:00.671Z"
   },
   {
    "duration": 7,
    "start_time": "2022-09-22T02:23:06.476Z"
   },
   {
    "duration": 7,
    "start_time": "2022-09-22T02:25:26.251Z"
   },
   {
    "duration": 9,
    "start_time": "2022-09-22T02:25:43.585Z"
   },
   {
    "duration": 7486,
    "start_time": "2022-09-22T02:26:04.151Z"
   },
   {
    "duration": 1060,
    "start_time": "2022-09-22T02:26:12.078Z"
   },
   {
    "duration": 14,
    "start_time": "2022-09-22T02:26:27.710Z"
   },
   {
    "duration": 6,
    "start_time": "2022-09-22T02:28:32.203Z"
   },
   {
    "duration": 889,
    "start_time": "2022-09-22T02:28:55.564Z"
   },
   {
    "duration": 15,
    "start_time": "2022-09-22T02:29:07.299Z"
   },
   {
    "duration": 17,
    "start_time": "2022-09-22T02:30:08.610Z"
   },
   {
    "duration": 13,
    "start_time": "2022-09-22T02:31:33.489Z"
   },
   {
    "duration": 12,
    "start_time": "2022-09-22T02:31:55.112Z"
   },
   {
    "duration": 11,
    "start_time": "2022-09-22T02:32:06.921Z"
   },
   {
    "duration": 11,
    "start_time": "2022-09-22T02:32:13.495Z"
   },
   {
    "duration": 12,
    "start_time": "2022-09-22T02:32:19.145Z"
   },
   {
    "duration": 117,
    "start_time": "2022-09-22T03:20:41.506Z"
   },
   {
    "duration": 115,
    "start_time": "2022-09-22T03:20:48.487Z"
   },
   {
    "duration": 73,
    "start_time": "2022-09-22T11:14:31.474Z"
   },
   {
    "duration": 6,
    "start_time": "2022-09-22T11:14:44.100Z"
   },
   {
    "duration": 826,
    "start_time": "2022-09-22T11:14:49.899Z"
   },
   {
    "duration": 15,
    "start_time": "2022-09-22T11:14:50.879Z"
   },
   {
    "duration": 25,
    "start_time": "2022-09-22T11:14:57.247Z"
   },
   {
    "duration": 16,
    "start_time": "2022-09-22T11:15:07.880Z"
   },
   {
    "duration": 14,
    "start_time": "2022-09-22T11:15:38.919Z"
   },
   {
    "duration": 150,
    "start_time": "2022-09-22T11:18:07.068Z"
   },
   {
    "duration": 17,
    "start_time": "2022-09-22T11:18:07.221Z"
   },
   {
    "duration": 40,
    "start_time": "2022-09-22T11:18:07.242Z"
   },
   {
    "duration": 15,
    "start_time": "2022-09-22T11:18:07.285Z"
   },
   {
    "duration": 116,
    "start_time": "2022-09-22T11:18:07.303Z"
   },
   {
    "duration": 2752,
    "start_time": "2022-09-22T11:18:07.421Z"
   },
   {
    "duration": 70,
    "start_time": "2022-09-22T11:35:59.729Z"
   },
   {
    "duration": 7,
    "start_time": "2022-09-22T11:37:38.070Z"
   },
   {
    "duration": 8,
    "start_time": "2022-09-22T11:41:18.472Z"
   },
   {
    "duration": 5,
    "start_time": "2022-09-22T11:43:10.911Z"
   },
   {
    "duration": 7,
    "start_time": "2022-09-22T11:43:48.793Z"
   },
   {
    "duration": 9,
    "start_time": "2022-09-22T11:44:10.531Z"
   },
   {
    "duration": 5,
    "start_time": "2022-09-22T11:44:17.504Z"
   },
   {
    "duration": 19,
    "start_time": "2022-09-22T11:44:52.293Z"
   },
   {
    "duration": 10,
    "start_time": "2022-09-22T11:45:02.553Z"
   },
   {
    "duration": 10,
    "start_time": "2022-09-22T11:45:08.912Z"
   },
   {
    "duration": 39,
    "start_time": "2022-09-22T11:46:44.612Z"
   },
   {
    "duration": 8,
    "start_time": "2022-09-22T13:01:39.511Z"
   },
   {
    "duration": 130,
    "start_time": "2022-09-22T13:01:59.152Z"
   },
   {
    "duration": 19,
    "start_time": "2022-09-22T13:01:59.284Z"
   },
   {
    "duration": 20,
    "start_time": "2022-09-22T13:01:59.304Z"
   },
   {
    "duration": 8,
    "start_time": "2022-09-22T13:01:59.326Z"
   },
   {
    "duration": 103,
    "start_time": "2022-09-22T13:01:59.354Z"
   },
   {
    "duration": 2480,
    "start_time": "2022-09-22T13:01:59.459Z"
   },
   {
    "duration": 24,
    "start_time": "2022-09-22T13:02:01.941Z"
   },
   {
    "duration": 24,
    "start_time": "2022-09-22T13:02:01.967Z"
   },
   {
    "duration": 14,
    "start_time": "2022-09-22T13:02:13.751Z"
   },
   {
    "duration": 13,
    "start_time": "2022-09-22T13:09:10.652Z"
   },
   {
    "duration": 8,
    "start_time": "2022-09-22T13:09:22.134Z"
   },
   {
    "duration": 9,
    "start_time": "2022-09-22T13:09:40.292Z"
   },
   {
    "duration": 8,
    "start_time": "2022-09-22T13:10:15.984Z"
   },
   {
    "duration": 10,
    "start_time": "2022-09-22T13:10:22.192Z"
   },
   {
    "duration": 9,
    "start_time": "2022-09-22T13:12:20.393Z"
   },
   {
    "duration": 9,
    "start_time": "2022-09-22T13:12:41.392Z"
   },
   {
    "duration": 8,
    "start_time": "2022-09-22T13:13:39.112Z"
   },
   {
    "duration": 8,
    "start_time": "2022-09-22T13:13:45.174Z"
   },
   {
    "duration": 140,
    "start_time": "2022-09-22T13:15:42.080Z"
   },
   {
    "duration": 34,
    "start_time": "2022-09-22T13:15:42.224Z"
   },
   {
    "duration": 27,
    "start_time": "2022-09-22T13:15:42.260Z"
   },
   {
    "duration": 12,
    "start_time": "2022-09-22T13:15:42.290Z"
   },
   {
    "duration": 111,
    "start_time": "2022-09-22T13:15:42.305Z"
   },
   {
    "duration": 2339,
    "start_time": "2022-09-22T13:15:42.418Z"
   },
   {
    "duration": 12,
    "start_time": "2022-09-22T13:15:44.760Z"
   },
   {
    "duration": 36,
    "start_time": "2022-09-22T13:15:44.775Z"
   },
   {
    "duration": 38,
    "start_time": "2022-09-22T13:15:44.814Z"
   },
   {
    "duration": 18,
    "start_time": "2022-09-22T13:18:38.933Z"
   },
   {
    "duration": 16,
    "start_time": "2022-09-22T13:18:45.434Z"
   },
   {
    "duration": 12,
    "start_time": "2022-09-22T13:19:56.473Z"
   },
   {
    "duration": 21,
    "start_time": "2022-09-22T14:12:18.181Z"
   },
   {
    "duration": 37,
    "start_time": "2022-09-22T14:12:54.756Z"
   },
   {
    "duration": 125,
    "start_time": "2022-09-22T14:26:15.147Z"
   },
   {
    "duration": 24,
    "start_time": "2022-09-22T14:26:15.275Z"
   },
   {
    "duration": 47,
    "start_time": "2022-09-22T14:26:15.301Z"
   },
   {
    "duration": 48,
    "start_time": "2022-09-22T14:26:15.350Z"
   },
   {
    "duration": 113,
    "start_time": "2022-09-22T14:26:15.402Z"
   },
   {
    "duration": 2325,
    "start_time": "2022-09-22T14:26:15.518Z"
   },
   {
    "duration": 19,
    "start_time": "2022-09-22T14:26:17.845Z"
   },
   {
    "duration": 39,
    "start_time": "2022-09-22T14:26:17.866Z"
   },
   {
    "duration": 48,
    "start_time": "2022-09-22T14:26:17.908Z"
   },
   {
    "duration": 47,
    "start_time": "2022-09-22T14:26:17.958Z"
   },
   {
    "duration": 43,
    "start_time": "2022-09-22T14:26:18.007Z"
   },
   {
    "duration": 599,
    "start_time": "2022-09-22T14:26:21.202Z"
   },
   {
    "duration": 10775,
    "start_time": "2022-09-22T14:27:19.122Z"
   },
   {
    "duration": 11995,
    "start_time": "2022-09-22T14:29:06.744Z"
   },
   {
    "duration": 11351,
    "start_time": "2022-09-22T14:31:18.587Z"
   },
   {
    "duration": 30,
    "start_time": "2022-09-22T14:32:43.955Z"
   },
   {
    "duration": 13,
    "start_time": "2022-09-22T14:33:21.908Z"
   },
   {
    "duration": 11,
    "start_time": "2022-09-22T14:34:46.360Z"
   },
   {
    "duration": 41,
    "start_time": "2022-09-22T14:34:57.656Z"
   },
   {
    "duration": 8,
    "start_time": "2022-09-22T14:35:01.136Z"
   },
   {
    "duration": 104,
    "start_time": "2022-09-22T17:32:50.752Z"
   },
   {
    "duration": 16,
    "start_time": "2022-09-22T17:32:50.858Z"
   },
   {
    "duration": 32,
    "start_time": "2022-09-22T17:32:50.875Z"
   },
   {
    "duration": 29,
    "start_time": "2022-09-22T17:32:50.909Z"
   },
   {
    "duration": 98,
    "start_time": "2022-09-22T17:32:50.941Z"
   },
   {
    "duration": 1959,
    "start_time": "2022-09-22T17:32:51.040Z"
   },
   {
    "duration": 11,
    "start_time": "2022-09-22T17:32:53.001Z"
   },
   {
    "duration": 8,
    "start_time": "2022-09-22T17:32:53.014Z"
   },
   {
    "duration": 34,
    "start_time": "2022-09-22T17:32:53.024Z"
   },
   {
    "duration": 13,
    "start_time": "2022-09-22T17:32:53.059Z"
   },
   {
    "duration": 38,
    "start_time": "2022-09-22T17:32:53.074Z"
   },
   {
    "duration": 8,
    "start_time": "2022-09-22T17:32:57.594Z"
   },
   {
    "duration": 107,
    "start_time": "2022-09-23T05:37:45.304Z"
   },
   {
    "duration": 16,
    "start_time": "2022-09-23T05:37:45.413Z"
   },
   {
    "duration": 31,
    "start_time": "2022-09-23T05:37:45.431Z"
   },
   {
    "duration": 5,
    "start_time": "2022-09-23T05:37:45.464Z"
   },
   {
    "duration": 102,
    "start_time": "2022-09-23T05:37:45.472Z"
   },
   {
    "duration": 1968,
    "start_time": "2022-09-23T05:37:45.576Z"
   },
   {
    "duration": 11,
    "start_time": "2022-09-23T05:37:47.546Z"
   },
   {
    "duration": 10,
    "start_time": "2022-09-23T05:37:47.558Z"
   },
   {
    "duration": 13,
    "start_time": "2022-09-23T05:37:47.570Z"
   },
   {
    "duration": 20,
    "start_time": "2022-09-23T05:37:47.585Z"
   },
   {
    "duration": 60,
    "start_time": "2022-09-23T05:37:47.607Z"
   },
   {
    "duration": 8,
    "start_time": "2022-09-23T05:37:47.669Z"
   },
   {
    "duration": 35,
    "start_time": "2022-09-23T05:37:57.984Z"
   },
   {
    "duration": 9,
    "start_time": "2022-09-23T05:38:01.007Z"
   },
   {
    "duration": 22,
    "start_time": "2022-09-23T05:38:14.265Z"
   },
   {
    "duration": 80,
    "start_time": "2022-09-23T05:43:02.864Z"
   },
   {
    "duration": 8,
    "start_time": "2022-09-23T05:43:06.156Z"
   },
   {
    "duration": 739,
    "start_time": "2022-09-23T05:45:43.804Z"
   },
   {
    "duration": 9,
    "start_time": "2022-09-23T05:45:47.166Z"
   },
   {
    "duration": 81,
    "start_time": "2022-09-23T05:46:27.665Z"
   },
   {
    "duration": 790,
    "start_time": "2022-09-23T05:47:29.885Z"
   },
   {
    "duration": 9,
    "start_time": "2022-09-23T05:47:31.007Z"
   },
   {
    "duration": 109,
    "start_time": "2022-09-23T05:47:46.118Z"
   },
   {
    "duration": 17,
    "start_time": "2022-09-23T05:47:46.230Z"
   },
   {
    "duration": 16,
    "start_time": "2022-09-23T05:47:46.254Z"
   },
   {
    "duration": 6,
    "start_time": "2022-09-23T05:47:46.273Z"
   },
   {
    "duration": 104,
    "start_time": "2022-09-23T05:47:46.281Z"
   },
   {
    "duration": 2399,
    "start_time": "2022-09-23T05:47:46.387Z"
   },
   {
    "duration": 11,
    "start_time": "2022-09-23T05:47:48.788Z"
   },
   {
    "duration": 12,
    "start_time": "2022-09-23T05:47:48.801Z"
   },
   {
    "duration": 17,
    "start_time": "2022-09-23T05:47:48.815Z"
   },
   {
    "duration": 13,
    "start_time": "2022-09-23T05:47:48.853Z"
   },
   {
    "duration": 767,
    "start_time": "2022-09-23T05:47:48.868Z"
   },
   {
    "duration": 10,
    "start_time": "2022-09-23T05:47:52.265Z"
   },
   {
    "duration": 7,
    "start_time": "2022-09-23T05:50:05.524Z"
   },
   {
    "duration": 588,
    "start_time": "2022-09-23T09:24:40.061Z"
   },
   {
    "duration": 19,
    "start_time": "2022-09-23T09:24:40.651Z"
   },
   {
    "duration": 14,
    "start_time": "2022-09-23T09:24:40.672Z"
   },
   {
    "duration": 10,
    "start_time": "2022-09-23T09:24:40.688Z"
   },
   {
    "duration": 77,
    "start_time": "2022-09-23T09:24:40.700Z"
   },
   {
    "duration": 2553,
    "start_time": "2022-09-23T09:24:40.779Z"
   },
   {
    "duration": 11,
    "start_time": "2022-09-23T09:24:43.334Z"
   },
   {
    "duration": 12,
    "start_time": "2022-09-23T09:24:43.347Z"
   },
   {
    "duration": 18,
    "start_time": "2022-09-23T09:24:43.360Z"
   },
   {
    "duration": 11,
    "start_time": "2022-09-23T09:24:43.379Z"
   },
   {
    "duration": 686,
    "start_time": "2022-09-23T09:24:43.391Z"
   },
   {
    "duration": 17,
    "start_time": "2022-09-23T09:24:44.078Z"
   },
   {
    "duration": 16787,
    "start_time": "2022-09-23T09:24:44.096Z"
   },
   {
    "duration": 7,
    "start_time": "2022-09-23T09:44:48.112Z"
   },
   {
    "duration": 9,
    "start_time": "2022-09-23T09:48:15.289Z"
   },
   {
    "duration": 50,
    "start_time": "2022-09-23T09:48:40.060Z"
   },
   {
    "duration": 11,
    "start_time": "2022-09-23T09:53:39.658Z"
   },
   {
    "duration": 42,
    "start_time": "2022-09-23T09:53:58.258Z"
   },
   {
    "duration": 9,
    "start_time": "2022-09-23T09:55:13.883Z"
   },
   {
    "duration": 929,
    "start_time": "2022-09-23T09:55:36.574Z"
   },
   {
    "duration": 43,
    "start_time": "2022-09-23T09:56:03.974Z"
   },
   {
    "duration": 49,
    "start_time": "2022-09-23T09:56:09.953Z"
   },
   {
    "duration": 17,
    "start_time": "2022-09-23T09:57:17.514Z"
   },
   {
    "duration": 0,
    "start_time": "2022-09-23T10:03:10.139Z"
   },
   {
    "duration": 50,
    "start_time": "2022-09-23T10:03:28.353Z"
   },
   {
    "duration": 18,
    "start_time": "2022-09-23T10:03:49.833Z"
   },
   {
    "duration": 14,
    "start_time": "2022-09-23T10:05:37.505Z"
   },
   {
    "duration": 5,
    "start_time": "2022-09-23T10:06:07.422Z"
   },
   {
    "duration": 33,
    "start_time": "2022-09-23T10:06:16.945Z"
   },
   {
    "duration": 27576,
    "start_time": "2022-09-23T10:06:36.393Z"
   },
   {
    "duration": 27803,
    "start_time": "2022-09-23T10:07:10.113Z"
   },
   {
    "duration": 22,
    "start_time": "2022-09-23T11:37:48.991Z"
   },
   {
    "duration": 8,
    "start_time": "2022-09-23T11:38:23.731Z"
   },
   {
    "duration": 8,
    "start_time": "2022-09-23T11:40:08.351Z"
   },
   {
    "duration": 9,
    "start_time": "2022-09-23T11:40:24.071Z"
   },
   {
    "duration": 30,
    "start_time": "2022-09-23T11:42:10.519Z"
   },
   {
    "duration": 18,
    "start_time": "2022-09-23T11:42:56.730Z"
   },
   {
    "duration": 1634,
    "start_time": "2022-09-23T13:18:54.748Z"
   },
   {
    "duration": 1193,
    "start_time": "2022-09-23T14:45:37.557Z"
   },
   {
    "duration": 1165,
    "start_time": "2022-09-23T14:49:21.773Z"
   },
   {
    "duration": 1148,
    "start_time": "2022-09-23T14:49:50.300Z"
   },
   {
    "duration": 85,
    "start_time": "2022-09-23T14:50:06.357Z"
   },
   {
    "duration": 648,
    "start_time": "2022-09-23T14:50:36.289Z"
   },
   {
    "duration": 5,
    "start_time": "2022-09-23T14:51:35.364Z"
   },
   {
    "duration": 5,
    "start_time": "2022-09-23T14:51:48.855Z"
   },
   {
    "duration": 35,
    "start_time": "2022-09-23T14:51:50.325Z"
   },
   {
    "duration": 6,
    "start_time": "2022-09-23T14:51:53.065Z"
   },
   {
    "duration": 4,
    "start_time": "2022-09-23T14:51:56.334Z"
   },
   {
    "duration": 5,
    "start_time": "2022-09-23T14:52:18.216Z"
   },
   {
    "duration": 5,
    "start_time": "2022-09-23T14:52:27.064Z"
   },
   {
    "duration": 5,
    "start_time": "2022-09-23T14:52:37.533Z"
   },
   {
    "duration": 80,
    "start_time": "2022-09-23T14:52:44.898Z"
   },
   {
    "duration": 1225,
    "start_time": "2022-09-23T14:53:05.787Z"
   },
   {
    "duration": 5,
    "start_time": "2022-09-23T14:53:46.268Z"
   },
   {
    "duration": 5,
    "start_time": "2022-09-23T14:53:49.613Z"
   },
   {
    "duration": 4,
    "start_time": "2022-09-23T14:54:03.846Z"
   },
   {
    "duration": 4,
    "start_time": "2022-09-23T14:54:06.066Z"
   },
   {
    "duration": 672,
    "start_time": "2022-09-23T14:54:17.228Z"
   },
   {
    "duration": 1783,
    "start_time": "2022-09-23T14:56:07.255Z"
   },
   {
    "duration": 2312,
    "start_time": "2022-09-23T14:56:34.211Z"
   },
   {
    "duration": 1134,
    "start_time": "2022-09-23T14:58:03.644Z"
   },
   {
    "duration": 1142,
    "start_time": "2022-09-23T14:58:23.243Z"
   },
   {
    "duration": 1029,
    "start_time": "2022-09-24T06:24:09.950Z"
   },
   {
    "duration": 14,
    "start_time": "2022-09-24T06:24:26.366Z"
   },
   {
    "duration": 5,
    "start_time": "2022-09-24T06:34:13.153Z"
   },
   {
    "duration": 5,
    "start_time": "2022-09-24T06:34:26.780Z"
   },
   {
    "duration": 1035,
    "start_time": "2022-09-24T06:34:30.300Z"
   },
   {
    "duration": 15,
    "start_time": "2022-09-24T06:36:46.407Z"
   },
   {
    "duration": 85,
    "start_time": "2022-09-24T09:27:13.660Z"
   },
   {
    "duration": 15,
    "start_time": "2022-09-24T13:07:40.133Z"
   },
   {
    "duration": 15,
    "start_time": "2022-09-24T13:08:04.122Z"
   },
   {
    "duration": 73,
    "start_time": "2022-09-24T13:09:43.475Z"
   },
   {
    "duration": 14,
    "start_time": "2022-09-24T13:09:52.930Z"
   },
   {
    "duration": 14,
    "start_time": "2022-09-24T13:10:33.521Z"
   },
   {
    "duration": 17,
    "start_time": "2022-09-24T13:11:38.223Z"
   },
   {
    "duration": 14,
    "start_time": "2022-09-24T13:11:59.033Z"
   },
   {
    "duration": 21,
    "start_time": "2022-09-24T13:20:42.273Z"
   },
   {
    "duration": 18,
    "start_time": "2022-09-24T13:21:08.501Z"
   }
  ],
  "kernelspec": {
   "display_name": "Python 3 (ipykernel)",
   "language": "python",
   "name": "python3"
  },
  "language_info": {
   "codemirror_mode": {
    "name": "ipython",
    "version": 3
   },
   "file_extension": ".py",
   "mimetype": "text/x-python",
   "name": "python",
   "nbconvert_exporter": "python",
   "pygments_lexer": "ipython3",
   "version": "3.9.5"
  },
  "toc": {
   "base_numbering": 1,
   "nav_menu": {},
   "number_sections": true,
   "sideBar": true,
   "skip_h1_title": true,
   "title_cell": "Table of Contents",
   "title_sidebar": "Contents",
   "toc_cell": false,
   "toc_position": {},
   "toc_section_display": true,
   "toc_window_display": false
  }
 },
 "nbformat": 4,
 "nbformat_minor": 2
}
